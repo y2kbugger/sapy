{
 "cells": [
  {
   "cell_type": "code",
   "execution_count": 1,
   "metadata": {},
   "outputs": [],
   "source": [
    "%load_ext autoreload\n",
    "%autoreload 2\n"
   ]
  },
  {
   "cell_type": "code",
   "execution_count": 2,
   "metadata": {},
   "outputs": [],
   "source": [
    "from sapy import Clock, ProgramCounter, MemoryAddressRegister, \\\n",
    "    RandomAccessMemory, SwitchBoard, RegisterA, RegisterB, RegisterOutput, \\\n",
    "    ArithmeticUnit, RegisterInstruction, Computer\n",
    "import time"
   ]
  },
  {
   "cell_type": "markdown",
   "metadata": {},
   "source": [
    "# Hex and Binary Literals in Python"
   ]
  },
  {
   "cell_type": "code",
   "execution_count": null,
   "metadata": {},
   "outputs": [],
   "source": [
    "0xF"
   ]
  },
  {
   "cell_type": "code",
   "execution_count": null,
   "metadata": {},
   "outputs": [],
   "source": [
    "0xFF"
   ]
  },
  {
   "cell_type": "code",
   "execution_count": null,
   "metadata": {},
   "outputs": [],
   "source": [
    "print(15_000) # underscore as separators are allowed\n",
    "print(0b1111_1111)"
   ]
  },
  {
   "cell_type": "markdown",
   "metadata": {},
   "source": [
    "You can also format integers to HEX using X"
   ]
  },
  {
   "cell_type": "code",
   "execution_count": null,
   "metadata": {},
   "outputs": [],
   "source": [
    "f\"{232:X}\""
   ]
  },
  {
   "cell_type": "markdown",
   "metadata": {},
   "source": [
    "# Clocking Signals"
   ]
  },
  {
   "cell_type": "code",
   "execution_count": null,
   "metadata": {},
   "outputs": [],
   "source": [
    "clk = Clock()\n",
    "class DummyComponent():\n",
    "    def data(self, **kwargs):\n",
    "        print(\"data accessed\")\n",
    "        return 42\n",
    "    def clock(self, **kwargs):\n",
    "        print(\"clock stepped\")\n",
    "\n",
    "dc = DummyComponent()\n",
    "clk.add_component(dc)"
   ]
  },
  {
   "cell_type": "code",
   "execution_count": null,
   "metadata": {},
   "outputs": [],
   "source": [
    "print(\"step 1: ---------\")\n",
    "clk.step()\n",
    "print(\"step 2: ---------\")\n",
    "clk.step()"
   ]
  },
  {
   "cell_type": "markdown",
   "metadata": {},
   "source": [
    "# Program Counter"
   ]
  },
  {
   "cell_type": "markdown",
   "metadata": {},
   "source": [
    "To enable a component to take an action on a clock, you pass in the correct control bit as a keyword argument. To enable the PC to output to the data but, use the \"ep\" control bit."
   ]
  },
  {
   "cell_type": "code",
   "execution_count": null,
   "metadata": {},
   "outputs": [],
   "source": [
    "pc = ProgramCounter()"
   ]
  },
  {
   "cell_type": "code",
   "execution_count": null,
   "metadata": {},
   "outputs": [],
   "source": [
    "pc.clock()\n",
    "pc.data()"
   ]
  },
  {
   "cell_type": "code",
   "execution_count": null,
   "metadata": {},
   "outputs": [],
   "source": [
    "pc.clock()\n",
    "pc.data(ep=True)"
   ]
  },
  {
   "cell_type": "code",
   "execution_count": null,
   "metadata": {},
   "outputs": [],
   "source": [
    "pc.clock()\n",
    "pc.data(ep=True)"
   ]
  },
  {
   "cell_type": "markdown",
   "metadata": {},
   "source": [
    "To increment the program counter, the control bit is \"cp\"."
   ]
  },
  {
   "cell_type": "code",
   "execution_count": null,
   "metadata": {},
   "outputs": [],
   "source": [
    "pc.clock(cp=True)\n",
    "pc.data(ep=True)"
   ]
  },
  {
   "cell_type": "code",
   "execution_count": null,
   "metadata": {},
   "outputs": [],
   "source": [
    "pc.clock(cp=True)\n",
    "pc.data(ep=True)"
   ]
  },
  {
   "cell_type": "code",
   "execution_count": null,
   "metadata": {},
   "outputs": [],
   "source": [
    "pc.clock(cp=True)\n",
    "pc.data(ep=True)"
   ]
  },
  {
   "cell_type": "markdown",
   "metadata": {},
   "source": [
    "For jump instructions you set the program counter directly. This is done with the \"lp\" control bit."
   ]
  },
  {
   "cell_type": "code",
   "execution_count": null,
   "metadata": {
    "scrolled": true
   },
   "outputs": [],
   "source": [
    "pc.clock(data=0xD, lp=True)\n",
    "print(f\"{pc.data(ep=True):X}\")\n",
    "print(f\"{pc.data(ep=True)}\")"
   ]
  },
  {
   "cell_type": "markdown",
   "metadata": {},
   "source": [
    "# Accumulator (Register A)"
   ]
  },
  {
   "cell_type": "code",
   "execution_count": null,
   "metadata": {},
   "outputs": [],
   "source": [
    "reg_a = RegisterA()\n",
    "print(f\"The register value on reset is: {reg_a.data(ea=True):X}\")\n",
    "\n",
    "reg_a.clock(data=0xAB, la=True)\n",
    "reg_a.data(ea=True)\n",
    "print(f\"The register has latched a value: {reg_a.data(ea=True):X}\")\n"
   ]
  },
  {
   "cell_type": "markdown",
   "metadata": {},
   "source": [
    "# Adder"
   ]
  },
  {
   "cell_type": "markdown",
   "metadata": {},
   "source": [
    "Some components have extra attributes that allow it to communicate directly to other components outside of the bus. \n",
    "\n",
    "The adder is not clocked, it doesn't even have state. The data output from the adder is alway the instantaneous sum (or difference) of Reg A + Reg B"
   ]
  },
  {
   "cell_type": "code",
   "execution_count": null,
   "metadata": {},
   "outputs": [],
   "source": [
    "reg_a = RegisterA()\n",
    "reg_a.clock(data=4, la=True)\n",
    "\n",
    "reg_b = RegisterB()\n",
    "reg_b.clock(data=3, lb=True)\n",
    "\n",
    "adder = ArithmeticUnit(reg_a, reg_b)\n",
    "\n",
    "assert adder.data() is None\n",
    "adder.data(eu=True)\n"
   ]
  },
  {
   "cell_type": "code",
   "execution_count": null,
   "metadata": {},
   "outputs": [],
   "source": [
    "reg_b.clock(data=1, lb=True)\n",
    "adder.data(eu=True)"
   ]
  },
  {
   "cell_type": "markdown",
   "metadata": {},
   "source": [
    "Subtraction"
   ]
  },
  {
   "cell_type": "code",
   "execution_count": null,
   "metadata": {},
   "outputs": [],
   "source": [
    "adder.data(eu=True, su=True)"
   ]
  },
  {
   "cell_type": "markdown",
   "metadata": {},
   "source": [
    "# Memory"
   ]
  },
  {
   "cell_type": "markdown",
   "metadata": {},
   "source": [
    "Ram is another example of a system that has communication outside the bus, it always access the RAM value stored at the address latched in the Memory Address Register."
   ]
  },
  {
   "cell_type": "code",
   "execution_count": null,
   "metadata": {},
   "outputs": [],
   "source": [
    "mar = MemoryAddressRegister()\n",
    "ram = RandomAccessMemory(mar)\n",
    "\n",
    "# store address for ram in register\n",
    "mar.clock(data=0xF, lm=True)\n",
    "print(f\"Memory Address: {mar.address():X}\")\n",
    "\n",
    "# clock data into ram at the address set above\n",
    "ram.clock(data=0xAB, lr=True)\n",
    "assert ram.data() == None\n",
    "print(f\"Memory at address: {mar.address():X} is {ram.data(er=True):X}\") # should be 0xAB\n",
    "print(f\"Memory at address: {mar.address()} is {ram.data(er=True)}\") # just to demystfy hex.."
   ]
  },
  {
   "cell_type": "markdown",
   "metadata": {},
   "source": [
    "# Controller: Sequencer + Decoder + Clock"
   ]
  },
  {
   "cell_type": "code",
   "execution_count": null,
   "metadata": {},
   "outputs": [],
   "source": [
    "reg_i = RegisterInstruction()\n",
    "instruction = 0xFF # both opcode and argument, 8bits\n",
    "reg_i.clock(data=instruction, li=True)\n"
   ]
  },
  {
   "cell_type": "code",
   "execution_count": null,
   "metadata": {},
   "outputs": [],
   "source": [
    "print(f\"The opcode is {reg_i.opcode():X}\")"
   ]
  },
  {
   "cell_type": "markdown",
   "metadata": {},
   "source": [
    "# Example Sequencing: LDA"
   ]
  },
  {
   "cell_type": "code",
   "execution_count": null,
   "metadata": {},
   "outputs": [],
   "source": [
    "from sapy import Computer\n",
    "\n",
    "cpu = Computer()\n",
    "rom = [\n",
    "    0x00, 0x09, # 0x0 LDA 09H\n",
    "    ]\n",
    "cpu.switches.load_program(rom)\n",
    "\n",
    "for _ in range(7):\n",
    "    cpu.step(debug=True) "
   ]
  },
  {
   "cell_type": "code",
   "execution_count": null,
   "metadata": {
    "scrolled": true
   },
   "outputs": [],
   "source": [
    "cpu.step(debug=True)"
   ]
  },
  {
   "cell_type": "markdown",
   "metadata": {},
   "source": [
    "# Output (Register O)"
   ]
  },
  {
   "cell_type": "code",
   "execution_count": null,
   "metadata": {},
   "outputs": [],
   "source": [
    "reg_o = RegisterOutput()\n",
    "reg_o.clock(data=0x90, lo=True)\n"
   ]
  },
  {
   "cell_type": "code",
   "execution_count": null,
   "metadata": {},
   "outputs": [],
   "source": [
    "# monkey patch output function for fancy display\n",
    "def display_number(x):\n",
    "    print(f\"***### {x} ###***\")\n",
    "reg_o.output_function = display_number"
   ]
  },
  {
   "cell_type": "code",
   "execution_count": null,
   "metadata": {},
   "outputs": [],
   "source": [
    "reg_o.clock(data=0x90, lo=True)"
   ]
  },
  {
   "cell_type": "markdown",
   "metadata": {},
   "source": [
    "# Full Computer with ROM"
   ]
  },
  {
   "cell_type": "code",
   "execution_count": null,
   "metadata": {},
   "outputs": [],
   "source": [
    "cpu = Computer()\n",
    "rom = [\n",
    "    0x00, 0x07, # 0x00 LDA 07H\n",
    "    0x01, 0x08, # 0x02 ADD 08H\n",
    "    0xF6,       # 0x04 OTA\n",
    "    0x04, 0x02, # 0x05 JMP 02H\n",
    "    0x00,       # 0x07 A1H\n",
    "    0x03,       # 0x08 22H\n",
    "    ]\n",
    "cpu.switches.load_program(rom)"
   ]
  },
  {
   "cell_type": "code",
   "execution_count": null,
   "metadata": {},
   "outputs": [],
   "source": [
    "for _ in range(9):\n",
    "    cpu.step(instructionwise=True)"
   ]
  },
  {
   "cell_type": "code",
   "execution_count": null,
   "metadata": {},
   "outputs": [],
   "source": [
    "for _ in range(3):\n",
    "    cpu.step(instructionwise=True, debug=True)"
   ]
  },
  {
   "cell_type": "code",
   "execution_count": null,
   "metadata": {},
   "outputs": [],
   "source": [
    "import ipywidgets as widgets\n",
    "from IPython.display import display\n",
    "gui_output_display = widgets.FloatText()\n",
    "display(gui_output_display)\n",
    "\n",
    "# monkey patch output function\n",
    "def display_number(x):\n",
    "    gui_output_display.value = x\n",
    "\n",
    "cpu.reg_o.output_function = display_number"
   ]
  },
  {
   "cell_type": "code",
   "execution_count": null,
   "metadata": {},
   "outputs": [],
   "source": [
    "for _ in range(3):\n",
    "    time.sleep(.2)\n",
    "    cpu.step(instructionwise=True, debug=False)"
   ]
  },
  {
   "cell_type": "code",
   "execution_count": null,
   "metadata": {},
   "outputs": [],
   "source": [
    "for _ in range(27):\n",
    "    time.sleep(.03)\n",
    "    cpu.step(instructionwise=True, debug=False)"
   ]
  },
  {
   "cell_type": "code",
   "execution_count": null,
   "metadata": {},
   "outputs": [],
   "source": [
    "while True:\n",
    "    time.sleep(.03)\n",
    "    cpu.step(instructionwise=True, debug=False)"
   ]
  },
  {
   "cell_type": "code",
   "execution_count": null,
   "metadata": {},
   "outputs": [],
   "source": [
    "cpu = Computer()\n",
    "rom = [\n",
    "    0x00, 0x09, # 0x00 LDA   09H\n",
    "    0x01, 0x0A, # 0x20 ADD  0AH\n",
    "    0xF6,       # 0x04 OTA\n",
    "    0x05, 0x0A, # 0x05 STA  0AH\n",
    "    0x04, 0x02, # 0x07 JMP $02H\n",
    "    0x01,       # 0x09 01H\n",
    "    0x02,       # 0x0A 02H\n",
    "    ]\n",
    "\n",
    "cpu.switches.load_program(rom)\n",
    "#cpu.reset()"
   ]
  },
  {
   "cell_type": "code",
   "execution_count": null,
   "metadata": {},
   "outputs": [],
   "source": [
    "import ipywidgets as widgets\n",
    "from IPython.display import display\n",
    "gui_output_display = widgets.FloatText()\n",
    "display(gui_output_display)\n",
    "\n",
    "# monkey patch output function\n",
    "def display_number(x):\n",
    "    gui_output_display.value = x\n",
    "\n",
    "cpu.reg_o.output_function = display_number"
   ]
  },
  {
   "cell_type": "code",
   "execution_count": null,
   "metadata": {},
   "outputs": [],
   "source": [
    "while True:\n",
    "    time.sleep(.2)\n",
    "    cpu.step(instructionwise=True, debug=True)"
   ]
  },
  {
   "cell_type": "code",
   "execution_count": null,
   "metadata": {},
   "outputs": [],
   "source": [
    "cpu.step(instructionwise=True, debug=True)"
   ]
  },
  {
   "cell_type": "code",
   "execution_count": null,
   "metadata": {},
   "outputs": [],
   "source": []
  },
  {
   "cell_type": "markdown",
   "metadata": {},
   "source": [
    "# DMA"
   ]
  },
  {
   "cell_type": "code",
   "execution_count": 20,
   "metadata": {},
   "outputs": [],
   "source": [
    "%matplotlib notebook"
   ]
  },
  {
   "cell_type": "code",
   "execution_count": 21,
   "metadata": {},
   "outputs": [],
   "source": [
    "import matplotlib\n",
    "#matplotlib.use('QT5Agg')\n",
    "import numpy as np\n",
    "import matplotlib.pyplot as plt\n"
   ]
  },
  {
   "cell_type": "code",
   "execution_count": 22,
   "metadata": {},
   "outputs": [],
   "source": [
    "from assembler import assemble"
   ]
  },
  {
   "cell_type": "code",
   "execution_count": 24,
   "metadata": {},
   "outputs": [
    {
     "name": "stdout",
     "output_type": "stream",
     "text": [
      "0x00\t$20\n",
      "0x01\t$10\n",
      "0x02\t$21\n",
      "0x03\t$03\n",
      "0x04\t$FD\n",
      "0x05\t$35\n",
      "0x06\t$0B\n",
      "0x07\t$45\n",
      "0x08\t$0B\n",
      "0x09\t$34\n",
      "0x0A\t$02\n"
     ]
    }
   ],
   "source": [
    "cpu = Computer()\n",
    "countup = [\n",
    "    0x20, 0x99, # 0x00 LDA #$99\n",
    "    0x21, 0x09, # 0x20 ADD #$0A\n",
    "    0xFD,       # 0x04 DMA\n",
    "    0x05, 0x4A, # 0x05 STA  $4A\n",
    "    0x34, 0x02, # 0x07 JMP  $02\n",
    "    ]\n",
    "moveacross = [\n",
    "    0x20, 0x10, # 0x00 LDA #$10\n",
    "    0x21, 0x03, # 0x20 ADD #$03\n",
    "    0xFD,       # 0x04 DMA\n",
    "    0x35, 0x0B, # 0x05 STA  $0B\n",
    "    0x45, 0x0B, # 0x07 STA ($0B)\n",
    "    0x34, 0x02, # 0x09 JMP  $02\n",
    "    ]\n",
    "moveacross = \"\"\"\n",
    "    LDA #$10\n",
    "    ADD #$03\n",
    "    DMA\n",
    "    STA  $0B\n",
    "    STA ($0B)\n",
    "    JMP  $02\n",
    "    \"\"\"\n",
    "instructions = [i.strip() for i in moveacross.split('\\n') if i.strip() != '']\n",
    "moveacross_bytes = assemble(instructions)\n",
    "for address, byte in enumerate(moveacross_bytes):\n",
    "    print(f\"0x{address:02X}\\t${byte:02X}\")\n",
    "cpu.switches.load_program(moveacross_bytes)"
   ]
  },
  {
   "cell_type": "code",
   "execution_count": 25,
   "metadata": {
    "scrolled": false
   },
   "outputs": [
    {
     "data": {
      "application/javascript": [
       "/* Put everything inside the global mpl namespace */\n",
       "window.mpl = {};\n",
       "\n",
       "\n",
       "mpl.get_websocket_type = function() {\n",
       "    if (typeof(WebSocket) !== 'undefined') {\n",
       "        return WebSocket;\n",
       "    } else if (typeof(MozWebSocket) !== 'undefined') {\n",
       "        return MozWebSocket;\n",
       "    } else {\n",
       "        alert('Your browser does not have WebSocket support.' +\n",
       "              'Please try Chrome, Safari or Firefox ≥ 6. ' +\n",
       "              'Firefox 4 and 5 are also supported but you ' +\n",
       "              'have to enable WebSockets in about:config.');\n",
       "    };\n",
       "}\n",
       "\n",
       "mpl.figure = function(figure_id, websocket, ondownload, parent_element) {\n",
       "    this.id = figure_id;\n",
       "\n",
       "    this.ws = websocket;\n",
       "\n",
       "    this.supports_binary = (this.ws.binaryType != undefined);\n",
       "\n",
       "    if (!this.supports_binary) {\n",
       "        var warnings = document.getElementById(\"mpl-warnings\");\n",
       "        if (warnings) {\n",
       "            warnings.style.display = 'block';\n",
       "            warnings.textContent = (\n",
       "                \"This browser does not support binary websocket messages. \" +\n",
       "                    \"Performance may be slow.\");\n",
       "        }\n",
       "    }\n",
       "\n",
       "    this.imageObj = new Image();\n",
       "\n",
       "    this.context = undefined;\n",
       "    this.message = undefined;\n",
       "    this.canvas = undefined;\n",
       "    this.rubberband_canvas = undefined;\n",
       "    this.rubberband_context = undefined;\n",
       "    this.format_dropdown = undefined;\n",
       "\n",
       "    this.image_mode = 'full';\n",
       "\n",
       "    this.root = $('<div/>');\n",
       "    this._root_extra_style(this.root)\n",
       "    this.root.attr('style', 'display: inline-block');\n",
       "\n",
       "    $(parent_element).append(this.root);\n",
       "\n",
       "    this._init_header(this);\n",
       "    this._init_canvas(this);\n",
       "    this._init_toolbar(this);\n",
       "\n",
       "    var fig = this;\n",
       "\n",
       "    this.waiting = false;\n",
       "\n",
       "    this.ws.onopen =  function () {\n",
       "            fig.send_message(\"supports_binary\", {value: fig.supports_binary});\n",
       "            fig.send_message(\"send_image_mode\", {});\n",
       "            if (mpl.ratio != 1) {\n",
       "                fig.send_message(\"set_dpi_ratio\", {'dpi_ratio': mpl.ratio});\n",
       "            }\n",
       "            fig.send_message(\"refresh\", {});\n",
       "        }\n",
       "\n",
       "    this.imageObj.onload = function() {\n",
       "            if (fig.image_mode == 'full') {\n",
       "                // Full images could contain transparency (where diff images\n",
       "                // almost always do), so we need to clear the canvas so that\n",
       "                // there is no ghosting.\n",
       "                fig.context.clearRect(0, 0, fig.canvas.width, fig.canvas.height);\n",
       "            }\n",
       "            fig.context.drawImage(fig.imageObj, 0, 0);\n",
       "        };\n",
       "\n",
       "    this.imageObj.onunload = function() {\n",
       "        fig.ws.close();\n",
       "    }\n",
       "\n",
       "    this.ws.onmessage = this._make_on_message_function(this);\n",
       "\n",
       "    this.ondownload = ondownload;\n",
       "}\n",
       "\n",
       "mpl.figure.prototype._init_header = function() {\n",
       "    var titlebar = $(\n",
       "        '<div class=\"ui-dialog-titlebar ui-widget-header ui-corner-all ' +\n",
       "        'ui-helper-clearfix\"/>');\n",
       "    var titletext = $(\n",
       "        '<div class=\"ui-dialog-title\" style=\"width: 100%; ' +\n",
       "        'text-align: center; padding: 3px;\"/>');\n",
       "    titlebar.append(titletext)\n",
       "    this.root.append(titlebar);\n",
       "    this.header = titletext[0];\n",
       "}\n",
       "\n",
       "\n",
       "\n",
       "mpl.figure.prototype._canvas_extra_style = function(canvas_div) {\n",
       "\n",
       "}\n",
       "\n",
       "\n",
       "mpl.figure.prototype._root_extra_style = function(canvas_div) {\n",
       "\n",
       "}\n",
       "\n",
       "mpl.figure.prototype._init_canvas = function() {\n",
       "    var fig = this;\n",
       "\n",
       "    var canvas_div = $('<div/>');\n",
       "\n",
       "    canvas_div.attr('style', 'position: relative; clear: both; outline: 0');\n",
       "\n",
       "    function canvas_keyboard_event(event) {\n",
       "        return fig.key_event(event, event['data']);\n",
       "    }\n",
       "\n",
       "    canvas_div.keydown('key_press', canvas_keyboard_event);\n",
       "    canvas_div.keyup('key_release', canvas_keyboard_event);\n",
       "    this.canvas_div = canvas_div\n",
       "    this._canvas_extra_style(canvas_div)\n",
       "    this.root.append(canvas_div);\n",
       "\n",
       "    var canvas = $('<canvas/>');\n",
       "    canvas.addClass('mpl-canvas');\n",
       "    canvas.attr('style', \"left: 0; top: 0; z-index: 0; outline: 0\")\n",
       "\n",
       "    this.canvas = canvas[0];\n",
       "    this.context = canvas[0].getContext(\"2d\");\n",
       "\n",
       "    var backingStore = this.context.backingStorePixelRatio ||\n",
       "\tthis.context.webkitBackingStorePixelRatio ||\n",
       "\tthis.context.mozBackingStorePixelRatio ||\n",
       "\tthis.context.msBackingStorePixelRatio ||\n",
       "\tthis.context.oBackingStorePixelRatio ||\n",
       "\tthis.context.backingStorePixelRatio || 1;\n",
       "\n",
       "    mpl.ratio = (window.devicePixelRatio || 1) / backingStore;\n",
       "\n",
       "    var rubberband = $('<canvas/>');\n",
       "    rubberband.attr('style', \"position: absolute; left: 0; top: 0; z-index: 1;\")\n",
       "\n",
       "    var pass_mouse_events = true;\n",
       "\n",
       "    canvas_div.resizable({\n",
       "        start: function(event, ui) {\n",
       "            pass_mouse_events = false;\n",
       "        },\n",
       "        resize: function(event, ui) {\n",
       "            fig.request_resize(ui.size.width, ui.size.height);\n",
       "        },\n",
       "        stop: function(event, ui) {\n",
       "            pass_mouse_events = true;\n",
       "            fig.request_resize(ui.size.width, ui.size.height);\n",
       "        },\n",
       "    });\n",
       "\n",
       "    function mouse_event_fn(event) {\n",
       "        if (pass_mouse_events)\n",
       "            return fig.mouse_event(event, event['data']);\n",
       "    }\n",
       "\n",
       "    rubberband.mousedown('button_press', mouse_event_fn);\n",
       "    rubberband.mouseup('button_release', mouse_event_fn);\n",
       "    // Throttle sequential mouse events to 1 every 20ms.\n",
       "    rubberband.mousemove('motion_notify', mouse_event_fn);\n",
       "\n",
       "    rubberband.mouseenter('figure_enter', mouse_event_fn);\n",
       "    rubberband.mouseleave('figure_leave', mouse_event_fn);\n",
       "\n",
       "    canvas_div.on(\"wheel\", function (event) {\n",
       "        event = event.originalEvent;\n",
       "        event['data'] = 'scroll'\n",
       "        if (event.deltaY < 0) {\n",
       "            event.step = 1;\n",
       "        } else {\n",
       "            event.step = -1;\n",
       "        }\n",
       "        mouse_event_fn(event);\n",
       "    });\n",
       "\n",
       "    canvas_div.append(canvas);\n",
       "    canvas_div.append(rubberband);\n",
       "\n",
       "    this.rubberband = rubberband;\n",
       "    this.rubberband_canvas = rubberband[0];\n",
       "    this.rubberband_context = rubberband[0].getContext(\"2d\");\n",
       "    this.rubberband_context.strokeStyle = \"#000000\";\n",
       "\n",
       "    this._resize_canvas = function(width, height) {\n",
       "        // Keep the size of the canvas, canvas container, and rubber band\n",
       "        // canvas in synch.\n",
       "        canvas_div.css('width', width)\n",
       "        canvas_div.css('height', height)\n",
       "\n",
       "        canvas.attr('width', width * mpl.ratio);\n",
       "        canvas.attr('height', height * mpl.ratio);\n",
       "        canvas.attr('style', 'width: ' + width + 'px; height: ' + height + 'px;');\n",
       "\n",
       "        rubberband.attr('width', width);\n",
       "        rubberband.attr('height', height);\n",
       "    }\n",
       "\n",
       "    // Set the figure to an initial 600x600px, this will subsequently be updated\n",
       "    // upon first draw.\n",
       "    this._resize_canvas(600, 600);\n",
       "\n",
       "    // Disable right mouse context menu.\n",
       "    $(this.rubberband_canvas).bind(\"contextmenu\",function(e){\n",
       "        return false;\n",
       "    });\n",
       "\n",
       "    function set_focus () {\n",
       "        canvas.focus();\n",
       "        canvas_div.focus();\n",
       "    }\n",
       "\n",
       "    window.setTimeout(set_focus, 100);\n",
       "}\n",
       "\n",
       "mpl.figure.prototype._init_toolbar = function() {\n",
       "    var fig = this;\n",
       "\n",
       "    var nav_element = $('<div/>')\n",
       "    nav_element.attr('style', 'width: 100%');\n",
       "    this.root.append(nav_element);\n",
       "\n",
       "    // Define a callback function for later on.\n",
       "    function toolbar_event(event) {\n",
       "        return fig.toolbar_button_onclick(event['data']);\n",
       "    }\n",
       "    function toolbar_mouse_event(event) {\n",
       "        return fig.toolbar_button_onmouseover(event['data']);\n",
       "    }\n",
       "\n",
       "    for(var toolbar_ind in mpl.toolbar_items) {\n",
       "        var name = mpl.toolbar_items[toolbar_ind][0];\n",
       "        var tooltip = mpl.toolbar_items[toolbar_ind][1];\n",
       "        var image = mpl.toolbar_items[toolbar_ind][2];\n",
       "        var method_name = mpl.toolbar_items[toolbar_ind][3];\n",
       "\n",
       "        if (!name) {\n",
       "            // put a spacer in here.\n",
       "            continue;\n",
       "        }\n",
       "        var button = $('<button/>');\n",
       "        button.addClass('ui-button ui-widget ui-state-default ui-corner-all ' +\n",
       "                        'ui-button-icon-only');\n",
       "        button.attr('role', 'button');\n",
       "        button.attr('aria-disabled', 'false');\n",
       "        button.click(method_name, toolbar_event);\n",
       "        button.mouseover(tooltip, toolbar_mouse_event);\n",
       "\n",
       "        var icon_img = $('<span/>');\n",
       "        icon_img.addClass('ui-button-icon-primary ui-icon');\n",
       "        icon_img.addClass(image);\n",
       "        icon_img.addClass('ui-corner-all');\n",
       "\n",
       "        var tooltip_span = $('<span/>');\n",
       "        tooltip_span.addClass('ui-button-text');\n",
       "        tooltip_span.html(tooltip);\n",
       "\n",
       "        button.append(icon_img);\n",
       "        button.append(tooltip_span);\n",
       "\n",
       "        nav_element.append(button);\n",
       "    }\n",
       "\n",
       "    var fmt_picker_span = $('<span/>');\n",
       "\n",
       "    var fmt_picker = $('<select/>');\n",
       "    fmt_picker.addClass('mpl-toolbar-option ui-widget ui-widget-content');\n",
       "    fmt_picker_span.append(fmt_picker);\n",
       "    nav_element.append(fmt_picker_span);\n",
       "    this.format_dropdown = fmt_picker[0];\n",
       "\n",
       "    for (var ind in mpl.extensions) {\n",
       "        var fmt = mpl.extensions[ind];\n",
       "        var option = $(\n",
       "            '<option/>', {selected: fmt === mpl.default_extension}).html(fmt);\n",
       "        fmt_picker.append(option)\n",
       "    }\n",
       "\n",
       "    // Add hover states to the ui-buttons\n",
       "    $( \".ui-button\" ).hover(\n",
       "        function() { $(this).addClass(\"ui-state-hover\");},\n",
       "        function() { $(this).removeClass(\"ui-state-hover\");}\n",
       "    );\n",
       "\n",
       "    var status_bar = $('<span class=\"mpl-message\"/>');\n",
       "    nav_element.append(status_bar);\n",
       "    this.message = status_bar[0];\n",
       "}\n",
       "\n",
       "mpl.figure.prototype.request_resize = function(x_pixels, y_pixels) {\n",
       "    // Request matplotlib to resize the figure. Matplotlib will then trigger a resize in the client,\n",
       "    // which will in turn request a refresh of the image.\n",
       "    this.send_message('resize', {'width': x_pixels, 'height': y_pixels});\n",
       "}\n",
       "\n",
       "mpl.figure.prototype.send_message = function(type, properties) {\n",
       "    properties['type'] = type;\n",
       "    properties['figure_id'] = this.id;\n",
       "    this.ws.send(JSON.stringify(properties));\n",
       "}\n",
       "\n",
       "mpl.figure.prototype.send_draw_message = function() {\n",
       "    if (!this.waiting) {\n",
       "        this.waiting = true;\n",
       "        this.ws.send(JSON.stringify({type: \"draw\", figure_id: this.id}));\n",
       "    }\n",
       "}\n",
       "\n",
       "\n",
       "mpl.figure.prototype.handle_save = function(fig, msg) {\n",
       "    var format_dropdown = fig.format_dropdown;\n",
       "    var format = format_dropdown.options[format_dropdown.selectedIndex].value;\n",
       "    fig.ondownload(fig, format);\n",
       "}\n",
       "\n",
       "\n",
       "mpl.figure.prototype.handle_resize = function(fig, msg) {\n",
       "    var size = msg['size'];\n",
       "    if (size[0] != fig.canvas.width || size[1] != fig.canvas.height) {\n",
       "        fig._resize_canvas(size[0], size[1]);\n",
       "        fig.send_message(\"refresh\", {});\n",
       "    };\n",
       "}\n",
       "\n",
       "mpl.figure.prototype.handle_rubberband = function(fig, msg) {\n",
       "    var x0 = msg['x0'] / mpl.ratio;\n",
       "    var y0 = (fig.canvas.height - msg['y0']) / mpl.ratio;\n",
       "    var x1 = msg['x1'] / mpl.ratio;\n",
       "    var y1 = (fig.canvas.height - msg['y1']) / mpl.ratio;\n",
       "    x0 = Math.floor(x0) + 0.5;\n",
       "    y0 = Math.floor(y0) + 0.5;\n",
       "    x1 = Math.floor(x1) + 0.5;\n",
       "    y1 = Math.floor(y1) + 0.5;\n",
       "    var min_x = Math.min(x0, x1);\n",
       "    var min_y = Math.min(y0, y1);\n",
       "    var width = Math.abs(x1 - x0);\n",
       "    var height = Math.abs(y1 - y0);\n",
       "\n",
       "    fig.rubberband_context.clearRect(\n",
       "        0, 0, fig.canvas.width, fig.canvas.height);\n",
       "\n",
       "    fig.rubberband_context.strokeRect(min_x, min_y, width, height);\n",
       "}\n",
       "\n",
       "mpl.figure.prototype.handle_figure_label = function(fig, msg) {\n",
       "    // Updates the figure title.\n",
       "    fig.header.textContent = msg['label'];\n",
       "}\n",
       "\n",
       "mpl.figure.prototype.handle_cursor = function(fig, msg) {\n",
       "    var cursor = msg['cursor'];\n",
       "    switch(cursor)\n",
       "    {\n",
       "    case 0:\n",
       "        cursor = 'pointer';\n",
       "        break;\n",
       "    case 1:\n",
       "        cursor = 'default';\n",
       "        break;\n",
       "    case 2:\n",
       "        cursor = 'crosshair';\n",
       "        break;\n",
       "    case 3:\n",
       "        cursor = 'move';\n",
       "        break;\n",
       "    }\n",
       "    fig.rubberband_canvas.style.cursor = cursor;\n",
       "}\n",
       "\n",
       "mpl.figure.prototype.handle_message = function(fig, msg) {\n",
       "    fig.message.textContent = msg['message'];\n",
       "}\n",
       "\n",
       "mpl.figure.prototype.handle_draw = function(fig, msg) {\n",
       "    // Request the server to send over a new figure.\n",
       "    fig.send_draw_message();\n",
       "}\n",
       "\n",
       "mpl.figure.prototype.handle_image_mode = function(fig, msg) {\n",
       "    fig.image_mode = msg['mode'];\n",
       "}\n",
       "\n",
       "mpl.figure.prototype.updated_canvas_event = function() {\n",
       "    // Called whenever the canvas gets updated.\n",
       "    this.send_message(\"ack\", {});\n",
       "}\n",
       "\n",
       "// A function to construct a web socket function for onmessage handling.\n",
       "// Called in the figure constructor.\n",
       "mpl.figure.prototype._make_on_message_function = function(fig) {\n",
       "    return function socket_on_message(evt) {\n",
       "        if (evt.data instanceof Blob) {\n",
       "            /* FIXME: We get \"Resource interpreted as Image but\n",
       "             * transferred with MIME type text/plain:\" errors on\n",
       "             * Chrome.  But how to set the MIME type?  It doesn't seem\n",
       "             * to be part of the websocket stream */\n",
       "            evt.data.type = \"image/png\";\n",
       "\n",
       "            /* Free the memory for the previous frames */\n",
       "            if (fig.imageObj.src) {\n",
       "                (window.URL || window.webkitURL).revokeObjectURL(\n",
       "                    fig.imageObj.src);\n",
       "            }\n",
       "\n",
       "            fig.imageObj.src = (window.URL || window.webkitURL).createObjectURL(\n",
       "                evt.data);\n",
       "            fig.updated_canvas_event();\n",
       "            fig.waiting = false;\n",
       "            return;\n",
       "        }\n",
       "        else if (typeof evt.data === 'string' && evt.data.slice(0, 21) == \"data:image/png;base64\") {\n",
       "            fig.imageObj.src = evt.data;\n",
       "            fig.updated_canvas_event();\n",
       "            fig.waiting = false;\n",
       "            return;\n",
       "        }\n",
       "\n",
       "        var msg = JSON.parse(evt.data);\n",
       "        var msg_type = msg['type'];\n",
       "\n",
       "        // Call the  \"handle_{type}\" callback, which takes\n",
       "        // the figure and JSON message as its only arguments.\n",
       "        try {\n",
       "            var callback = fig[\"handle_\" + msg_type];\n",
       "        } catch (e) {\n",
       "            console.log(\"No handler for the '\" + msg_type + \"' message type: \", msg);\n",
       "            return;\n",
       "        }\n",
       "\n",
       "        if (callback) {\n",
       "            try {\n",
       "                // console.log(\"Handling '\" + msg_type + \"' message: \", msg);\n",
       "                callback(fig, msg);\n",
       "            } catch (e) {\n",
       "                console.log(\"Exception inside the 'handler_\" + msg_type + \"' callback:\", e, e.stack, msg);\n",
       "            }\n",
       "        }\n",
       "    };\n",
       "}\n",
       "\n",
       "// from http://stackoverflow.com/questions/1114465/getting-mouse-location-in-canvas\n",
       "mpl.findpos = function(e) {\n",
       "    //this section is from http://www.quirksmode.org/js/events_properties.html\n",
       "    var targ;\n",
       "    if (!e)\n",
       "        e = window.event;\n",
       "    if (e.target)\n",
       "        targ = e.target;\n",
       "    else if (e.srcElement)\n",
       "        targ = e.srcElement;\n",
       "    if (targ.nodeType == 3) // defeat Safari bug\n",
       "        targ = targ.parentNode;\n",
       "\n",
       "    // jQuery normalizes the pageX and pageY\n",
       "    // pageX,Y are the mouse positions relative to the document\n",
       "    // offset() returns the position of the element relative to the document\n",
       "    var x = e.pageX - $(targ).offset().left;\n",
       "    var y = e.pageY - $(targ).offset().top;\n",
       "\n",
       "    return {\"x\": x, \"y\": y};\n",
       "};\n",
       "\n",
       "/*\n",
       " * return a copy of an object with only non-object keys\n",
       " * we need this to avoid circular references\n",
       " * http://stackoverflow.com/a/24161582/3208463\n",
       " */\n",
       "function simpleKeys (original) {\n",
       "  return Object.keys(original).reduce(function (obj, key) {\n",
       "    if (typeof original[key] !== 'object')\n",
       "        obj[key] = original[key]\n",
       "    return obj;\n",
       "  }, {});\n",
       "}\n",
       "\n",
       "mpl.figure.prototype.mouse_event = function(event, name) {\n",
       "    var canvas_pos = mpl.findpos(event)\n",
       "\n",
       "    if (name === 'button_press')\n",
       "    {\n",
       "        this.canvas.focus();\n",
       "        this.canvas_div.focus();\n",
       "    }\n",
       "\n",
       "    var x = canvas_pos.x * mpl.ratio;\n",
       "    var y = canvas_pos.y * mpl.ratio;\n",
       "\n",
       "    this.send_message(name, {x: x, y: y, button: event.button,\n",
       "                             step: event.step,\n",
       "                             guiEvent: simpleKeys(event)});\n",
       "\n",
       "    /* This prevents the web browser from automatically changing to\n",
       "     * the text insertion cursor when the button is pressed.  We want\n",
       "     * to control all of the cursor setting manually through the\n",
       "     * 'cursor' event from matplotlib */\n",
       "    event.preventDefault();\n",
       "    return false;\n",
       "}\n",
       "\n",
       "mpl.figure.prototype._key_event_extra = function(event, name) {\n",
       "    // Handle any extra behaviour associated with a key event\n",
       "}\n",
       "\n",
       "mpl.figure.prototype.key_event = function(event, name) {\n",
       "\n",
       "    // Prevent repeat events\n",
       "    if (name == 'key_press')\n",
       "    {\n",
       "        if (event.which === this._key)\n",
       "            return;\n",
       "        else\n",
       "            this._key = event.which;\n",
       "    }\n",
       "    if (name == 'key_release')\n",
       "        this._key = null;\n",
       "\n",
       "    var value = '';\n",
       "    if (event.ctrlKey && event.which != 17)\n",
       "        value += \"ctrl+\";\n",
       "    if (event.altKey && event.which != 18)\n",
       "        value += \"alt+\";\n",
       "    if (event.shiftKey && event.which != 16)\n",
       "        value += \"shift+\";\n",
       "\n",
       "    value += 'k';\n",
       "    value += event.which.toString();\n",
       "\n",
       "    this._key_event_extra(event, name);\n",
       "\n",
       "    this.send_message(name, {key: value,\n",
       "                             guiEvent: simpleKeys(event)});\n",
       "    return false;\n",
       "}\n",
       "\n",
       "mpl.figure.prototype.toolbar_button_onclick = function(name) {\n",
       "    if (name == 'download') {\n",
       "        this.handle_save(this, null);\n",
       "    } else {\n",
       "        this.send_message(\"toolbar_button\", {name: name});\n",
       "    }\n",
       "};\n",
       "\n",
       "mpl.figure.prototype.toolbar_button_onmouseover = function(tooltip) {\n",
       "    this.message.textContent = tooltip;\n",
       "};\n",
       "mpl.toolbar_items = [[\"Home\", \"Reset original view\", \"fa fa-home icon-home\", \"home\"], [\"Back\", \"Back to previous view\", \"fa fa-arrow-left icon-arrow-left\", \"back\"], [\"Forward\", \"Forward to next view\", \"fa fa-arrow-right icon-arrow-right\", \"forward\"], [\"\", \"\", \"\", \"\"], [\"Pan\", \"Pan axes with left mouse, zoom with right\", \"fa fa-arrows icon-move\", \"pan\"], [\"Zoom\", \"Zoom to rectangle\", \"fa fa-square-o icon-check-empty\", \"zoom\"], [\"\", \"\", \"\", \"\"], [\"Download\", \"Download plot\", \"fa fa-floppy-o icon-save\", \"download\"]];\n",
       "\n",
       "mpl.extensions = [\"eps\", \"pdf\", \"png\", \"ps\", \"raw\", \"svg\"];\n",
       "\n",
       "mpl.default_extension = \"png\";var comm_websocket_adapter = function(comm) {\n",
       "    // Create a \"websocket\"-like object which calls the given IPython comm\n",
       "    // object with the appropriate methods. Currently this is a non binary\n",
       "    // socket, so there is still some room for performance tuning.\n",
       "    var ws = {};\n",
       "\n",
       "    ws.close = function() {\n",
       "        comm.close()\n",
       "    };\n",
       "    ws.send = function(m) {\n",
       "        //console.log('sending', m);\n",
       "        comm.send(m);\n",
       "    };\n",
       "    // Register the callback with on_msg.\n",
       "    comm.on_msg(function(msg) {\n",
       "        //console.log('receiving', msg['content']['data'], msg);\n",
       "        // Pass the mpl event to the overridden (by mpl) onmessage function.\n",
       "        ws.onmessage(msg['content']['data'])\n",
       "    });\n",
       "    return ws;\n",
       "}\n",
       "\n",
       "mpl.mpl_figure_comm = function(comm, msg) {\n",
       "    // This is the function which gets called when the mpl process\n",
       "    // starts-up an IPython Comm through the \"matplotlib\" channel.\n",
       "\n",
       "    var id = msg.content.data.id;\n",
       "    // Get hold of the div created by the display call when the Comm\n",
       "    // socket was opened in Python.\n",
       "    var element = $(\"#\" + id);\n",
       "    var ws_proxy = comm_websocket_adapter(comm)\n",
       "\n",
       "    function ondownload(figure, format) {\n",
       "        window.open(figure.imageObj.src);\n",
       "    }\n",
       "\n",
       "    var fig = new mpl.figure(id, ws_proxy,\n",
       "                           ondownload,\n",
       "                           element.get(0));\n",
       "\n",
       "    // Call onopen now - mpl needs it, as it is assuming we've passed it a real\n",
       "    // web socket which is closed, not our websocket->open comm proxy.\n",
       "    ws_proxy.onopen();\n",
       "\n",
       "    fig.parent_element = element.get(0);\n",
       "    fig.cell_info = mpl.find_output_cell(\"<div id='\" + id + \"'></div>\");\n",
       "    if (!fig.cell_info) {\n",
       "        console.error(\"Failed to find cell for figure\", id, fig);\n",
       "        return;\n",
       "    }\n",
       "\n",
       "    var output_index = fig.cell_info[2]\n",
       "    var cell = fig.cell_info[0];\n",
       "\n",
       "};\n",
       "\n",
       "mpl.figure.prototype.handle_close = function(fig, msg) {\n",
       "    var width = fig.canvas.width/mpl.ratio\n",
       "    fig.root.unbind('remove')\n",
       "\n",
       "    // Update the output cell to use the data from the current canvas.\n",
       "    fig.push_to_output();\n",
       "    var dataURL = fig.canvas.toDataURL();\n",
       "    // Re-enable the keyboard manager in IPython - without this line, in FF,\n",
       "    // the notebook keyboard shortcuts fail.\n",
       "    IPython.keyboard_manager.enable()\n",
       "    $(fig.parent_element).html('<img src=\"' + dataURL + '\" width=\"' + width + '\">');\n",
       "    fig.close_ws(fig, msg);\n",
       "}\n",
       "\n",
       "mpl.figure.prototype.close_ws = function(fig, msg){\n",
       "    fig.send_message('closing', msg);\n",
       "    // fig.ws.close()\n",
       "}\n",
       "\n",
       "mpl.figure.prototype.push_to_output = function(remove_interactive) {\n",
       "    // Turn the data on the canvas into data in the output cell.\n",
       "    var width = this.canvas.width/mpl.ratio\n",
       "    var dataURL = this.canvas.toDataURL();\n",
       "    this.cell_info[1]['text/html'] = '<img src=\"' + dataURL + '\" width=\"' + width + '\">';\n",
       "}\n",
       "\n",
       "mpl.figure.prototype.updated_canvas_event = function() {\n",
       "    // Tell IPython that the notebook contents must change.\n",
       "    IPython.notebook.set_dirty(true);\n",
       "    this.send_message(\"ack\", {});\n",
       "    var fig = this;\n",
       "    // Wait a second, then push the new image to the DOM so\n",
       "    // that it is saved nicely (might be nice to debounce this).\n",
       "    setTimeout(function () { fig.push_to_output() }, 1000);\n",
       "}\n",
       "\n",
       "mpl.figure.prototype._init_toolbar = function() {\n",
       "    var fig = this;\n",
       "\n",
       "    var nav_element = $('<div/>')\n",
       "    nav_element.attr('style', 'width: 100%');\n",
       "    this.root.append(nav_element);\n",
       "\n",
       "    // Define a callback function for later on.\n",
       "    function toolbar_event(event) {\n",
       "        return fig.toolbar_button_onclick(event['data']);\n",
       "    }\n",
       "    function toolbar_mouse_event(event) {\n",
       "        return fig.toolbar_button_onmouseover(event['data']);\n",
       "    }\n",
       "\n",
       "    for(var toolbar_ind in mpl.toolbar_items){\n",
       "        var name = mpl.toolbar_items[toolbar_ind][0];\n",
       "        var tooltip = mpl.toolbar_items[toolbar_ind][1];\n",
       "        var image = mpl.toolbar_items[toolbar_ind][2];\n",
       "        var method_name = mpl.toolbar_items[toolbar_ind][3];\n",
       "\n",
       "        if (!name) { continue; };\n",
       "\n",
       "        var button = $('<button class=\"btn btn-default\" href=\"#\" title=\"' + name + '\"><i class=\"fa ' + image + ' fa-lg\"></i></button>');\n",
       "        button.click(method_name, toolbar_event);\n",
       "        button.mouseover(tooltip, toolbar_mouse_event);\n",
       "        nav_element.append(button);\n",
       "    }\n",
       "\n",
       "    // Add the status bar.\n",
       "    var status_bar = $('<span class=\"mpl-message\" style=\"text-align:right; float: right;\"/>');\n",
       "    nav_element.append(status_bar);\n",
       "    this.message = status_bar[0];\n",
       "\n",
       "    // Add the close button to the window.\n",
       "    var buttongrp = $('<div class=\"btn-group inline pull-right\"></div>');\n",
       "    var button = $('<button class=\"btn btn-mini btn-primary\" href=\"#\" title=\"Stop Interaction\"><i class=\"fa fa-power-off icon-remove icon-large\"></i></button>');\n",
       "    button.click(function (evt) { fig.handle_close(fig, {}); } );\n",
       "    button.mouseover('Stop Interaction', toolbar_mouse_event);\n",
       "    buttongrp.append(button);\n",
       "    var titlebar = this.root.find($('.ui-dialog-titlebar'));\n",
       "    titlebar.prepend(buttongrp);\n",
       "}\n",
       "\n",
       "mpl.figure.prototype._root_extra_style = function(el){\n",
       "    var fig = this\n",
       "    el.on(\"remove\", function(){\n",
       "\tfig.close_ws(fig, {});\n",
       "    });\n",
       "}\n",
       "\n",
       "mpl.figure.prototype._canvas_extra_style = function(el){\n",
       "    // this is important to make the div 'focusable\n",
       "    el.attr('tabindex', 0)\n",
       "    // reach out to IPython and tell the keyboard manager to turn it's self\n",
       "    // off when our div gets focus\n",
       "\n",
       "    // location in version 3\n",
       "    if (IPython.notebook.keyboard_manager) {\n",
       "        IPython.notebook.keyboard_manager.register_events(el);\n",
       "    }\n",
       "    else {\n",
       "        // location in version 2\n",
       "        IPython.keyboard_manager.register_events(el);\n",
       "    }\n",
       "\n",
       "}\n",
       "\n",
       "mpl.figure.prototype._key_event_extra = function(event, name) {\n",
       "    var manager = IPython.notebook.keyboard_manager;\n",
       "    if (!manager)\n",
       "        manager = IPython.keyboard_manager;\n",
       "\n",
       "    // Check for shift+enter\n",
       "    if (event.shiftKey && event.which == 13) {\n",
       "        this.canvas_div.blur();\n",
       "        event.shiftKey = false;\n",
       "        // Send a \"J\" for go to next cell\n",
       "        event.which = 74;\n",
       "        event.keyCode = 74;\n",
       "        manager.command_mode();\n",
       "        manager.handle_keydown(event);\n",
       "    }\n",
       "}\n",
       "\n",
       "mpl.figure.prototype.handle_save = function(fig, msg) {\n",
       "    fig.ondownload(fig, null);\n",
       "}\n",
       "\n",
       "\n",
       "mpl.find_output_cell = function(html_output) {\n",
       "    // Return the cell and output element which can be found *uniquely* in the notebook.\n",
       "    // Note - this is a bit hacky, but it is done because the \"notebook_saving.Notebook\"\n",
       "    // IPython event is triggered only after the cells have been serialised, which for\n",
       "    // our purposes (turning an active figure into a static one), is too late.\n",
       "    var cells = IPython.notebook.get_cells();\n",
       "    var ncells = cells.length;\n",
       "    for (var i=0; i<ncells; i++) {\n",
       "        var cell = cells[i];\n",
       "        if (cell.cell_type === 'code'){\n",
       "            for (var j=0; j<cell.output_area.outputs.length; j++) {\n",
       "                var data = cell.output_area.outputs[j];\n",
       "                if (data.data) {\n",
       "                    // IPython >= 3 moved mimebundle to data attribute of output\n",
       "                    data = data.data;\n",
       "                }\n",
       "                if (data['text/html'] == html_output) {\n",
       "                    return [cell, data, j];\n",
       "                }\n",
       "            }\n",
       "        }\n",
       "    }\n",
       "}\n",
       "\n",
       "// Register the function which deals with the matplotlib target/channel.\n",
       "// The kernel may be null if the page has been refreshed.\n",
       "if (IPython.notebook.kernel != null) {\n",
       "    IPython.notebook.kernel.comm_manager.register_target('matplotlib', mpl.mpl_figure_comm);\n",
       "}\n"
      ],
      "text/plain": [
       "<IPython.core.display.Javascript object>"
      ]
     },
     "metadata": {},
     "output_type": "display_data"
    },
    {
     "data": {
      "text/html": [
       "<img src=\"data:image/png;base64,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\" width=\"640\">"
      ],
      "text/plain": [
       "<IPython.core.display.HTML object>"
      ]
     },
     "metadata": {},
     "output_type": "display_data"
    }
   ],
   "source": [
    "plt.ion()\n",
    "fig, ax = plt.subplots(1,1)\n",
    "initial_bitmap = np.zeros((0xF + 1, 0xF + 1))\n",
    "initial_bitmap[0,0] = 0xFF # get the color map set\n",
    "heatmap = ax.imshow(initial_bitmap)\n",
    "plt.show()\n",
    "\n",
    "def plt_memory(bitmap):\n",
    "    heatmap.set_data(bitmap)\n",
    "    #fig.canvas.draw()\n",
    "    \n",
    "cpu.dma.connect_dma_handler(plt_memory)"
   ]
  },
  {
   "cell_type": "code",
   "execution_count": 19,
   "metadata": {
    "scrolled": true
   },
   "outputs": [
    {
     "name": "stdout",
     "output_type": "stream",
     "text": [
      "------------------------------------------\n",
      "PCADDRESS: $00\n",
      "T0: Data: $00, Control Word: ('ep', 'lm', 'cp')\n",
      "T1: Data: $20, Control Word: ('er', 'li')\n",
      "OPCODE: $20, MNE: LDA\n",
      "T2: Data: $01, Control Word: ('ep', 'lm', 'cp')\n",
      "T3: Data: $10, Control Word: ('er', 'la')\n"
     ]
    }
   ],
   "source": [
    "cpu.step(instructionwise=True, debug=True)"
   ]
  },
  {
   "cell_type": "code",
   "execution_count": 26,
   "metadata": {
    "scrolled": true
   },
   "outputs": [
    {
     "name": "stdout",
     "output_type": "stream",
     "text": [
      "50\n",
      "100\n",
      "150\n",
      "200\n",
      "250\n",
      "300\n",
      "350\n"
     ]
    }
   ],
   "source": [
    "n = 0\n",
    "for i in range(363):\n",
    "#while True:\n",
    "    #time.sleep(0.001)\n",
    "    n += 1\n",
    "    if n % 50 == 0:\n",
    "        print(n)\n",
    "    cpu.step(instructionwise=True, debug=False)"
   ]
  },
  {
   "cell_type": "code",
   "execution_count": null,
   "metadata": {},
   "outputs": [],
   "source": [
    "plt.show()"
   ]
  },
  {
   "cell_type": "code",
   "execution_count": null,
   "metadata": {},
   "outputs": [],
   "source": [
    "while True:\n",
    "    time.sleep(0.001)\n",
    "    n += 1\n",
    "    if n % 100 == 0:\n",
    "        print(n)\n",
    "    cpu.step(instructionwise=True, debug=False)"
   ]
  },
  {
   "cell_type": "code",
   "execution_count": null,
   "metadata": {},
   "outputs": [],
   "source": []
  },
  {
   "cell_type": "code",
   "execution_count": null,
   "metadata": {},
   "outputs": [],
   "source": []
  },
  {
   "cell_type": "code",
   "execution_count": null,
   "metadata": {},
   "outputs": [],
   "source": []
  },
  {
   "cell_type": "code",
   "execution_count": null,
   "metadata": {},
   "outputs": [],
   "source": [
    "#var name test\n",
    "LDA"
   ]
  },
  {
   "cell_type": "code",
   "execution_count": null,
   "metadata": {},
   "outputs": [],
   "source": [
    "0xF3 >> 4"
   ]
  },
  {
   "cell_type": "code",
   "execution_count": null,
   "metadata": {},
   "outputs": [],
   "source": []
  },
  {
   "cell_type": "code",
   "execution_count": null,
   "metadata": {},
   "outputs": [],
   "source": []
  }
 ],
 "metadata": {
  "kernelspec": {
   "display_name": "Python 3",
   "language": "python",
   "name": "python3"
  },
  "language_info": {
   "codemirror_mode": {
    "name": "ipython",
    "version": 3
   },
   "file_extension": ".py",
   "mimetype": "text/x-python",
   "name": "python",
   "nbconvert_exporter": "python",
   "pygments_lexer": "ipython3",
   "version": "3.7.1"
  }
 },
 "nbformat": 4,
 "nbformat_minor": 2
}
