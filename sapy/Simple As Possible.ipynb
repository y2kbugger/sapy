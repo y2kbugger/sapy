{
 "cells": [
  {
   "cell_type": "code",
   "execution_count": 2,
   "metadata": {},
   "outputs": [
    {
     "name": "stdout",
     "output_type": "stream",
     "text": [
      "The autoreload extension is already loaded. To reload it, use:\n",
      "  %reload_ext autoreload\n"
     ]
    }
   ],
   "source": [
    "%load_ext autoreload\n",
    "%autoreload 2"
   ]
  },
  {
   "cell_type": "code",
   "execution_count": 3,
   "metadata": {},
   "outputs": [],
   "source": [
    "from sapy import Clock, ProgramCounter, MemoryAddressRegister, \\\n",
    "    RandomAccessMemory, SwitchBoard, RegisterA, RegisterB, RegisterOutput, \\\n",
    "    ArithmeticUnit, RegisterInstruction, Computer\n"
   ]
  },
  {
   "cell_type": "markdown",
   "metadata": {},
   "source": [
    "# Hex and Binary Literals in Python"
   ]
  },
  {
   "cell_type": "code",
   "execution_count": 4,
   "metadata": {},
   "outputs": [
    {
     "data": {
      "text/plain": [
       "15"
      ]
     },
     "execution_count": 4,
     "metadata": {},
     "output_type": "execute_result"
    }
   ],
   "source": [
    "0xF"
   ]
  },
  {
   "cell_type": "code",
   "execution_count": 5,
   "metadata": {},
   "outputs": [
    {
     "data": {
      "text/plain": [
       "255"
      ]
     },
     "execution_count": 5,
     "metadata": {},
     "output_type": "execute_result"
    }
   ],
   "source": [
    "0xFF"
   ]
  },
  {
   "cell_type": "code",
   "execution_count": 6,
   "metadata": {},
   "outputs": [
    {
     "name": "stdout",
     "output_type": "stream",
     "text": [
      "15000\n",
      "255\n"
     ]
    }
   ],
   "source": [
    "print(15_000) # underscore as separators are allowed\n",
    "print(0b1111_1111)"
   ]
  },
  {
   "cell_type": "markdown",
   "metadata": {},
   "source": [
    "You can also format integers to HEX using X"
   ]
  },
  {
   "cell_type": "code",
   "execution_count": 7,
   "metadata": {},
   "outputs": [
    {
     "data": {
      "text/plain": [
       "'84'"
      ]
     },
     "execution_count": 7,
     "metadata": {},
     "output_type": "execute_result"
    }
   ],
   "source": [
    "f\"{132:X}\""
   ]
  },
  {
   "cell_type": "markdown",
   "metadata": {},
   "source": [
    "# Clocking Signals"
   ]
  },
  {
   "cell_type": "code",
   "execution_count": 8,
   "metadata": {},
   "outputs": [],
   "source": [
    "clk = Clock()\n",
    "class DummyComponent():\n",
    "    def data(self, **kwargs):\n",
    "        print(\"data accessed\")\n",
    "        return 42\n",
    "    def clock(self, **kwargs):\n",
    "        print(\"clock stepped\")\n",
    "\n",
    "dc = DummyComponent()\n",
    "clk.add_component(dc)"
   ]
  },
  {
   "cell_type": "code",
   "execution_count": 9,
   "metadata": {},
   "outputs": [
    {
     "name": "stdout",
     "output_type": "stream",
     "text": [
      "step 1: ---------\n",
      "data accessed\n",
      "clock stepped\n",
      "step 2: ---------\n",
      "data accessed\n",
      "clock stepped\n"
     ]
    }
   ],
   "source": [
    "print(\"step 1: ---------\")\n",
    "clk.step()\n",
    "print(\"step 2: ---------\")\n",
    "clk.step()"
   ]
  },
  {
   "cell_type": "markdown",
   "metadata": {},
   "source": [
    "# Program Counter"
   ]
  },
  {
   "cell_type": "markdown",
   "metadata": {},
   "source": [
    "To enable a component to take an action on a clock, you pass in the correct control bit as a keyword argument. To enable the PC to output to the data but, use the \"ep\" control bit."
   ]
  },
  {
   "cell_type": "code",
   "execution_count": 10,
   "metadata": {},
   "outputs": [],
   "source": [
    "pc = ProgramCounter()"
   ]
  },
  {
   "cell_type": "code",
   "execution_count": 11,
   "metadata": {},
   "outputs": [],
   "source": [
    "pc.clock()\n",
    "pc.data()"
   ]
  },
  {
   "cell_type": "code",
   "execution_count": 12,
   "metadata": {},
   "outputs": [
    {
     "data": {
      "text/plain": [
       "0"
      ]
     },
     "execution_count": 12,
     "metadata": {},
     "output_type": "execute_result"
    }
   ],
   "source": [
    "pc.clock()\n",
    "pc.data(ep=True)"
   ]
  },
  {
   "cell_type": "code",
   "execution_count": 13,
   "metadata": {},
   "outputs": [
    {
     "data": {
      "text/plain": [
       "0"
      ]
     },
     "execution_count": 13,
     "metadata": {},
     "output_type": "execute_result"
    }
   ],
   "source": [
    "pc.clock()\n",
    "pc.data(ep=True)"
   ]
  },
  {
   "cell_type": "markdown",
   "metadata": {},
   "source": [
    "To increment the program counter, the control bit is \"cp\"."
   ]
  },
  {
   "cell_type": "code",
   "execution_count": 14,
   "metadata": {},
   "outputs": [
    {
     "data": {
      "text/plain": [
       "1"
      ]
     },
     "execution_count": 14,
     "metadata": {},
     "output_type": "execute_result"
    }
   ],
   "source": [
    "pc.clock(cp=True)\n",
    "pc.data(ep=True)"
   ]
  },
  {
   "cell_type": "code",
   "execution_count": 15,
   "metadata": {},
   "outputs": [
    {
     "data": {
      "text/plain": [
       "2"
      ]
     },
     "execution_count": 15,
     "metadata": {},
     "output_type": "execute_result"
    }
   ],
   "source": [
    "pc.clock(cp=True)\n",
    "pc.data(ep=True)"
   ]
  },
  {
   "cell_type": "code",
   "execution_count": 16,
   "metadata": {},
   "outputs": [
    {
     "data": {
      "text/plain": [
       "3"
      ]
     },
     "execution_count": 16,
     "metadata": {},
     "output_type": "execute_result"
    }
   ],
   "source": [
    "pc.clock(cp=True)\n",
    "pc.data(ep=True)"
   ]
  },
  {
   "cell_type": "markdown",
   "metadata": {},
   "source": [
    "For jump instructions you set the program counter directly. This is done with the \"lp\" control bit."
   ]
  },
  {
   "cell_type": "code",
   "execution_count": 17,
   "metadata": {
    "scrolled": true
   },
   "outputs": [
    {
     "name": "stdout",
     "output_type": "stream",
     "text": [
      "D\n",
      "13\n"
     ]
    }
   ],
   "source": [
    "pc.clock(data=0xD, lp=True)\n",
    "print(f\"{pc.data(ep=True):X}\")\n",
    "print(f\"{pc.data(ep=True)}\")"
   ]
  },
  {
   "cell_type": "markdown",
   "metadata": {},
   "source": [
    "# Accumulator (Register A)"
   ]
  },
  {
   "cell_type": "code",
   "execution_count": null,
   "metadata": {},
   "outputs": [],
   "source": [
    "reg_a = RegisterA()\n",
    "\n",
    "print(f\"The register value on reset is: {reg_a.data(ea=True):X}\")\n",
    "reg_a.clock(data=0xAB, la=True)\n",
    "reg_a.data(ea=True)\n",
    "print(f\"The register has latched a value: {reg_a.data(ea=True):X}\")\n"
   ]
  },
  {
   "cell_type": "markdown",
   "metadata": {},
   "source": [
    "# Adder"
   ]
  },
  {
   "cell_type": "markdown",
   "metadata": {},
   "source": [
    "Some components have extra attributes that allow it to communicate directly to other components outside of the bus. \n",
    "\n",
    "The adder is not clocked, it doesn't even have state. The data output from the adder is alway the instantaneous sum (or difference) of Reg A + Reg B"
   ]
  },
  {
   "cell_type": "code",
   "execution_count": null,
   "metadata": {},
   "outputs": [],
   "source": [
    "reg_a = RegisterA()\n",
    "reg_a.clock(data=4, la=True)\n",
    "\n",
    "reg_b = RegisterB()\n",
    "reg_b.clock(data=3, lb=True)\n",
    "\n",
    "adder = ArithmeticUnit(reg_a, reg_b)\n",
    "\n",
    "assert adder.data() is None\n",
    "adder.data(eu=True)\n"
   ]
  },
  {
   "cell_type": "code",
   "execution_count": null,
   "metadata": {},
   "outputs": [],
   "source": [
    "reg_b.clock(data=1, lb=True)\n",
    "adder.data(eu=True)"
   ]
  },
  {
   "cell_type": "markdown",
   "metadata": {},
   "source": [
    "Subtraction"
   ]
  },
  {
   "cell_type": "code",
   "execution_count": null,
   "metadata": {},
   "outputs": [],
   "source": [
    "adder.data(eu=True, su=True)"
   ]
  },
  {
   "cell_type": "markdown",
   "metadata": {},
   "source": [
    "# Memory"
   ]
  },
  {
   "cell_type": "markdown",
   "metadata": {},
   "source": [
    "Ram is another example of a system that has communication outside the bus, it always access the RAM value stored at the address latched in the Memory Address Register."
   ]
  },
  {
   "cell_type": "code",
   "execution_count": null,
   "metadata": {},
   "outputs": [],
   "source": [
    "mar = MemoryAddressRegister()\n",
    "ram = RandomAccessMemory(mar)\n",
    "\n",
    "# store address for ram in register\n",
    "mar.clock(data=0xF, lm=True)\n",
    "print(f\"Memory Address: {mar.address():X}\")\n",
    "\n",
    "# clock data into ram at the address set above\n",
    "ram.clock(data=0xAB, lr=True)\n",
    "assert ram.data() == None\n",
    "print(f\"Memory at address: {mar.address():X} is {ram.data(er=True):X}\") # should be 0xAB\n",
    "print(f\"Memory at address: {mar.address()} is {ram.data(er=True)}\") # just to demystfy hex.."
   ]
  },
  {
   "cell_type": "markdown",
   "metadata": {},
   "source": [
    "# Controller: Sequencer + Decoder + Clock"
   ]
  },
  {
   "cell_type": "code",
   "execution_count": null,
   "metadata": {},
   "outputs": [],
   "source": [
    "reg_i = RegisterInstruction()\n",
    "instruction = 0xCD # both opcode and argument, 8bits\n",
    "reg_i.clock(data=instruction, li=True)\n"
   ]
  },
  {
   "cell_type": "code",
   "execution_count": null,
   "metadata": {},
   "outputs": [],
   "source": [
    "print(f\"The full store instruction is {reg_i.value:X}\")\n",
    "print(f\"The full store instruction is {reg_i.opcode():X}\")\n",
    "print(f\"The memory address to be put on the data bus is {reg_i.data(ei=True):X}\")"
   ]
  },
  {
   "cell_type": "markdown",
   "metadata": {},
   "source": [
    "# Example Sequencing: LDA"
   ]
  },
  {
   "cell_type": "code",
   "execution_count": null,
   "metadata": {},
   "outputs": [],
   "source": [
    "from sapy import Computer\n",
    "\n",
    "cpu = Computer()\n",
    "ram.clock(data=0x09, lr=True) # 0x0 LDA 9H\n",
    "\n",
    "for _ in range(6):\n",
    "    cpu.step(debug=True) "
   ]
  },
  {
   "cell_type": "code",
   "execution_count": null,
   "metadata": {
    "scrolled": true
   },
   "outputs": [],
   "source": [
    "cpu.step(debug=True)"
   ]
  },
  {
   "cell_type": "markdown",
   "metadata": {},
   "source": [
    "# Output (Register O)"
   ]
  },
  {
   "cell_type": "code",
   "execution_count": null,
   "metadata": {},
   "outputs": [],
   "source": [
    "reg_o = RegisterOutput()\n",
    "reg_o.clock(data=0x90, lo=True)\n"
   ]
  },
  {
   "cell_type": "code",
   "execution_count": null,
   "metadata": {},
   "outputs": [],
   "source": [
    "# monkey patch output function for fancy display\n",
    "def display_number(x):\n",
    "    print(f\"***### {x} ###***\")\n",
    "reg_o.output_function = display_number"
   ]
  },
  {
   "cell_type": "code",
   "execution_count": null,
   "metadata": {},
   "outputs": [],
   "source": [
    "reg_o.clock(data=0x90, lo=True)"
   ]
  },
  {
   "cell_type": "markdown",
   "metadata": {},
   "source": [
    "# Full Computer with ROM"
   ]
  },
  {
   "cell_type": "code",
   "execution_count": null,
   "metadata": {},
   "outputs": [],
   "source": [
    "import time"
   ]
  },
  {
   "cell_type": "code",
   "execution_count": null,
   "metadata": {},
   "outputs": [],
   "source": [
    "cpu = Computer()\n",
    "rom = [\n",
    "    0x04, # 0x0 LDA 4H\n",
    "    0x15, # 0x1 ADD 5H\n",
    "    0x30, # 0x2 OUT X\n",
    "    0x41, # 0x3 JMP 1H\n",
    "    0x00, # 0x4 A1H\n",
    "    0x03, # 0x5 22H\n",
    "    ]\n",
    "cpu.switches.load_program(rom)"
   ]
  },
  {
   "cell_type": "code",
   "execution_count": null,
   "metadata": {},
   "outputs": [],
   "source": [
    "for _ in range(9):\n",
    "    cpu.step(instructionwise=True)"
   ]
  },
  {
   "cell_type": "code",
   "execution_count": null,
   "metadata": {},
   "outputs": [],
   "source": [
    "for _ in range(3):\n",
    "    cpu.step(instructionwise=True, debug=True)"
   ]
  },
  {
   "cell_type": "code",
   "execution_count": null,
   "metadata": {},
   "outputs": [],
   "source": [
    "import ipywidgets as widgets\n",
    "from IPython.display import display\n",
    "gui_output_display = widgets.FloatText()\n",
    "display(gui_output_display)\n",
    "\n",
    "# monkey patch output function\n",
    "def display_number(x):\n",
    "    gui_output_display.value = x\n",
    "\n",
    "cpu.reg_o.output_function = display_number"
   ]
  },
  {
   "cell_type": "code",
   "execution_count": null,
   "metadata": {},
   "outputs": [],
   "source": [
    "for _ in range(3):\n",
    "    time.sleep(.2)\n",
    "    cpu.step(instructionwise=True, debug=False)"
   ]
  },
  {
   "cell_type": "code",
   "execution_count": null,
   "metadata": {},
   "outputs": [],
   "source": [
    "for _ in range(27):\n",
    "    time.sleep(.03)\n",
    "    cpu.step(instructionwise=True, debug=False)"
   ]
  },
  {
   "cell_type": "code",
   "execution_count": null,
   "metadata": {},
   "outputs": [],
   "source": [
    "while True:\n",
    "    time.sleep(.03)\n",
    "    cpu.step(instructionwise=True, debug=False)"
   ]
  },
  {
   "cell_type": "code",
   "execution_count": null,
   "metadata": {},
   "outputs": [],
   "source": []
  },
  {
   "cell_type": "code",
   "execution_count": null,
   "metadata": {},
   "outputs": [],
   "source": []
  },
  {
   "cell_type": "code",
   "execution_count": null,
   "metadata": {},
   "outputs": [],
   "source": []
  },
  {
   "cell_type": "code",
   "execution_count": null,
   "metadata": {},
   "outputs": [],
   "source": []
  },
  {
   "cell_type": "code",
   "execution_count": null,
   "metadata": {},
   "outputs": [],
   "source": []
  }
 ],
 "metadata": {
  "kernelspec": {
   "display_name": "Python 3",
   "language": "python",
   "name": "python3"
  },
  "language_info": {
   "codemirror_mode": {
    "name": "ipython",
    "version": 3
   },
   "file_extension": ".py",
   "mimetype": "text/x-python",
   "name": "python",
   "nbconvert_exporter": "python",
   "pygments_lexer": "ipython3",
   "version": "3.7.0"
  }
 },
 "nbformat": 4,
 "nbformat_minor": 2
}
