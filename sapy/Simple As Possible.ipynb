{
 "cells": [
  {
   "cell_type": "code",
   "execution_count": 5,
   "metadata": {},
   "outputs": [],
   "source": [
    "%load_ext autoreload\n",
    "%autoreload 2\n"
   ]
  },
  {
   "cell_type": "code",
   "execution_count": 6,
   "metadata": {},
   "outputs": [],
   "source": [
    "from sapy import Clock, ProgramCounter, MemoryAddressRegister, \\\n",
    "    RandomAccessMemory, SwitchBoard, RegisterA, RegisterB, RegisterOutput, \\\n",
    "    ArithmeticUnit, RegisterInstruction, Computer\n",
    "import time"
   ]
  },
  {
   "cell_type": "markdown",
   "metadata": {},
   "source": [
    "# Hex and Binary Literals in Python"
   ]
  },
  {
   "cell_type": "code",
   "execution_count": null,
   "metadata": {},
   "outputs": [],
   "source": [
    "0xF"
   ]
  },
  {
   "cell_type": "code",
   "execution_count": null,
   "metadata": {},
   "outputs": [],
   "source": [
    "0xFF"
   ]
  },
  {
   "cell_type": "code",
   "execution_count": null,
   "metadata": {},
   "outputs": [],
   "source": [
    "print(15_000) # underscore as separators are allowed\n",
    "print(0b1111_1111)"
   ]
  },
  {
   "cell_type": "markdown",
   "metadata": {},
   "source": [
    "You can also format integers to HEX using X"
   ]
  },
  {
   "cell_type": "code",
   "execution_count": null,
   "metadata": {},
   "outputs": [],
   "source": [
    "f\"{232:X}\""
   ]
  },
  {
   "cell_type": "markdown",
   "metadata": {},
   "source": [
    "# Clocking Signals"
   ]
  },
  {
   "cell_type": "code",
   "execution_count": null,
   "metadata": {},
   "outputs": [],
   "source": [
    "clk = Clock()\n",
    "class DummyComponent():\n",
    "    def data(self, **kwargs):\n",
    "        print(\"data accessed\")\n",
    "        return 42\n",
    "    def clock(self, **kwargs):\n",
    "        print(\"clock stepped\")\n",
    "\n",
    "dc = DummyComponent()\n",
    "clk.add_component(dc)"
   ]
  },
  {
   "cell_type": "code",
   "execution_count": null,
   "metadata": {},
   "outputs": [],
   "source": [
    "print(\"step 1: ---------\")\n",
    "clk.step()\n",
    "print(\"step 2: ---------\")\n",
    "clk.step()"
   ]
  },
  {
   "cell_type": "markdown",
   "metadata": {},
   "source": [
    "# Program Counter"
   ]
  },
  {
   "cell_type": "markdown",
   "metadata": {},
   "source": [
    "To enable a component to take an action on a clock, you pass in the correct control bit as a keyword argument. To enable the PC to output to the data but, use the \"ep\" control bit."
   ]
  },
  {
   "cell_type": "code",
   "execution_count": null,
   "metadata": {},
   "outputs": [],
   "source": [
    "pc = ProgramCounter()"
   ]
  },
  {
   "cell_type": "code",
   "execution_count": null,
   "metadata": {},
   "outputs": [],
   "source": [
    "pc.clock()\n",
    "pc.data()"
   ]
  },
  {
   "cell_type": "code",
   "execution_count": null,
   "metadata": {},
   "outputs": [],
   "source": [
    "pc.clock()\n",
    "pc.data(ep=True)"
   ]
  },
  {
   "cell_type": "code",
   "execution_count": null,
   "metadata": {},
   "outputs": [],
   "source": [
    "pc.clock()\n",
    "pc.data(ep=True)"
   ]
  },
  {
   "cell_type": "markdown",
   "metadata": {},
   "source": [
    "To increment the program counter, the control bit is \"cp\"."
   ]
  },
  {
   "cell_type": "code",
   "execution_count": null,
   "metadata": {},
   "outputs": [],
   "source": [
    "pc.clock(cp=True)\n",
    "pc.data(ep=True)"
   ]
  },
  {
   "cell_type": "code",
   "execution_count": null,
   "metadata": {},
   "outputs": [],
   "source": [
    "pc.clock(cp=True)\n",
    "pc.data(ep=True)"
   ]
  },
  {
   "cell_type": "code",
   "execution_count": null,
   "metadata": {},
   "outputs": [],
   "source": [
    "pc.clock(cp=True)\n",
    "pc.data(ep=True)"
   ]
  },
  {
   "cell_type": "markdown",
   "metadata": {},
   "source": [
    "For jump instructions you set the program counter directly. This is done with the \"lp\" control bit."
   ]
  },
  {
   "cell_type": "code",
   "execution_count": null,
   "metadata": {
    "scrolled": true
   },
   "outputs": [],
   "source": [
    "pc.clock(data=0xD, lp=True)\n",
    "print(f\"{pc.data(ep=True):X}\")\n",
    "print(f\"{pc.data(ep=True)}\")"
   ]
  },
  {
   "cell_type": "markdown",
   "metadata": {},
   "source": [
    "# Accumulator (Register A)"
   ]
  },
  {
   "cell_type": "code",
   "execution_count": null,
   "metadata": {},
   "outputs": [],
   "source": [
    "reg_a = RegisterA()\n",
    "print(f\"The register value on reset is: {reg_a.data(ea=True):X}\")\n",
    "\n",
    "reg_a.clock(data=0xAB, la=True)\n",
    "reg_a.data(ea=True)\n",
    "print(f\"The register has latched a value: {reg_a.data(ea=True):X}\")\n"
   ]
  },
  {
   "cell_type": "markdown",
   "metadata": {},
   "source": [
    "# Adder"
   ]
  },
  {
   "cell_type": "markdown",
   "metadata": {},
   "source": [
    "Some components have extra attributes that allow it to communicate directly to other components outside of the bus. \n",
    "\n",
    "The adder is not clocked, it doesn't even have state. The data output from the adder is alway the instantaneous sum (or difference) of Reg A + Reg B"
   ]
  },
  {
   "cell_type": "code",
   "execution_count": null,
   "metadata": {},
   "outputs": [],
   "source": [
    "reg_a = RegisterA()\n",
    "reg_a.clock(data=4, la=True)\n",
    "\n",
    "reg_b = RegisterB()\n",
    "reg_b.clock(data=3, lb=True)\n",
    "\n",
    "adder = ArithmeticUnit(reg_a, reg_b)\n",
    "\n",
    "assert adder.data() is None\n",
    "adder.data(eu=True)\n"
   ]
  },
  {
   "cell_type": "code",
   "execution_count": null,
   "metadata": {},
   "outputs": [],
   "source": [
    "reg_b.clock(data=1, lb=True)\n",
    "adder.data(eu=True)"
   ]
  },
  {
   "cell_type": "markdown",
   "metadata": {},
   "source": [
    "Subtraction"
   ]
  },
  {
   "cell_type": "code",
   "execution_count": null,
   "metadata": {},
   "outputs": [],
   "source": [
    "adder.data(eu=True, su=True)"
   ]
  },
  {
   "cell_type": "markdown",
   "metadata": {},
   "source": [
    "# Memory"
   ]
  },
  {
   "cell_type": "markdown",
   "metadata": {},
   "source": [
    "Ram is another example of a system that has communication outside the bus, it always access the RAM value stored at the address latched in the Memory Address Register."
   ]
  },
  {
   "cell_type": "code",
   "execution_count": null,
   "metadata": {},
   "outputs": [],
   "source": [
    "mar = MemoryAddressRegister()\n",
    "ram = RandomAccessMemory(mar)\n",
    "\n",
    "# store address for ram in register\n",
    "mar.clock(data=0xF, lm=True)\n",
    "print(f\"Memory Address: {mar.address():X}\")\n",
    "\n",
    "# clock data into ram at the address set above\n",
    "ram.clock(data=0xAB, lr=True)\n",
    "assert ram.data() == None\n",
    "print(f\"Memory at address: {mar.address():X} is {ram.data(er=True):X}\") # should be 0xAB\n",
    "print(f\"Memory at address: {mar.address()} is {ram.data(er=True)}\") # just to demystfy hex.."
   ]
  },
  {
   "cell_type": "markdown",
   "metadata": {},
   "source": [
    "# Controller: Sequencer + Decoder + Clock"
   ]
  },
  {
   "cell_type": "code",
   "execution_count": null,
   "metadata": {},
   "outputs": [],
   "source": [
    "reg_i = RegisterInstruction()\n",
    "instruction = 0xFF # both opcode and argument, 8bits\n",
    "reg_i.clock(data=instruction, li=True)\n"
   ]
  },
  {
   "cell_type": "code",
   "execution_count": null,
   "metadata": {},
   "outputs": [],
   "source": [
    "print(f\"The opcode is {reg_i.opcode():X}\")"
   ]
  },
  {
   "cell_type": "markdown",
   "metadata": {},
   "source": [
    "# Example Sequencing: LDA"
   ]
  },
  {
   "cell_type": "code",
   "execution_count": null,
   "metadata": {},
   "outputs": [],
   "source": [
    "from sapy import Computer\n",
    "\n",
    "cpu = Computer()\n",
    "rom = [\n",
    "    0x00, 0x09, # 0x0 LDA 09H\n",
    "    ]\n",
    "cpu.switches.load_program(rom)\n",
    "\n",
    "for _ in range(7):\n",
    "    cpu.step(debug=True) "
   ]
  },
  {
   "cell_type": "code",
   "execution_count": null,
   "metadata": {
    "scrolled": true
   },
   "outputs": [],
   "source": [
    "cpu.step(debug=True)"
   ]
  },
  {
   "cell_type": "markdown",
   "metadata": {},
   "source": [
    "# Output (Register O)"
   ]
  },
  {
   "cell_type": "code",
   "execution_count": null,
   "metadata": {},
   "outputs": [],
   "source": [
    "reg_o = RegisterOutput()\n",
    "reg_o.clock(data=0x90, lo=True)\n"
   ]
  },
  {
   "cell_type": "code",
   "execution_count": null,
   "metadata": {},
   "outputs": [],
   "source": [
    "# monkey patch output function for fancy display\n",
    "def display_number(x):\n",
    "    print(f\"***### {x} ###***\")\n",
    "reg_o.output_function = display_number"
   ]
  },
  {
   "cell_type": "code",
   "execution_count": null,
   "metadata": {},
   "outputs": [],
   "source": [
    "reg_o.clock(data=0x90, lo=True)"
   ]
  },
  {
   "cell_type": "markdown",
   "metadata": {},
   "source": [
    "# Full Computer with ROM"
   ]
  },
  {
   "cell_type": "code",
   "execution_count": null,
   "metadata": {},
   "outputs": [],
   "source": [
    "cpu = Computer()\n",
    "rom = [\n",
    "    0x00, 0x07, # 0x00 LDA 07H\n",
    "    0x01, 0x08, # 0x02 ADD 08H\n",
    "    0xF6,       # 0x04 OTA\n",
    "    0x04, 0x02, # 0x05 JMP 02H\n",
    "    0x00,       # 0x07 A1H\n",
    "    0x03,       # 0x08 22H\n",
    "    ]\n",
    "cpu.switches.load_program(rom)"
   ]
  },
  {
   "cell_type": "code",
   "execution_count": null,
   "metadata": {},
   "outputs": [],
   "source": [
    "for _ in range(9):\n",
    "    cpu.step(instructionwise=True)"
   ]
  },
  {
   "cell_type": "code",
   "execution_count": null,
   "metadata": {},
   "outputs": [],
   "source": [
    "for _ in range(3):\n",
    "    cpu.step(instructionwise=True, debug=True)"
   ]
  },
  {
   "cell_type": "code",
   "execution_count": null,
   "metadata": {},
   "outputs": [],
   "source": [
    "import ipywidgets as widgets\n",
    "from IPython.display import display\n",
    "gui_output_display = widgets.FloatText()\n",
    "display(gui_output_display)\n",
    "\n",
    "# monkey patch output function\n",
    "def display_number(x):\n",
    "    gui_output_display.value = x\n",
    "\n",
    "cpu.reg_o.output_function = display_number"
   ]
  },
  {
   "cell_type": "code",
   "execution_count": null,
   "metadata": {},
   "outputs": [],
   "source": [
    "for _ in range(3):\n",
    "    time.sleep(.2)\n",
    "    cpu.step(instructionwise=True, debug=False)"
   ]
  },
  {
   "cell_type": "code",
   "execution_count": null,
   "metadata": {},
   "outputs": [],
   "source": [
    "for _ in range(27):\n",
    "    time.sleep(.03)\n",
    "    cpu.step(instructionwise=True, debug=False)"
   ]
  },
  {
   "cell_type": "code",
   "execution_count": null,
   "metadata": {},
   "outputs": [],
   "source": [
    "while True:\n",
    "    time.sleep(.03)\n",
    "    cpu.step(instructionwise=True, debug=False)"
   ]
  },
  {
   "cell_type": "code",
   "execution_count": null,
   "metadata": {},
   "outputs": [],
   "source": [
    "cpu = Computer()\n",
    "rom = [\n",
    "    0x00, 0x09, # 0x00 LDA   09H\n",
    "    0x01, 0x0A, # 0x20 ADD  0AH\n",
    "    0xF6,       # 0x04 OTA\n",
    "    0x05, 0x0A, # 0x05 STA  0AH\n",
    "    0x04, 0x02, # 0x07 JMP $02H\n",
    "    0x01,       # 0x09 01H\n",
    "    0x02,       # 0x0A 02H\n",
    "    ]\n",
    "\n",
    "cpu.switches.load_program(rom)\n",
    "#cpu.reset()"
   ]
  },
  {
   "cell_type": "code",
   "execution_count": null,
   "metadata": {},
   "outputs": [],
   "source": [
    "import ipywidgets as widgets\n",
    "from IPython.display import display\n",
    "gui_output_display = widgets.FloatText()\n",
    "display(gui_output_display)\n",
    "\n",
    "# monkey patch output function\n",
    "def display_number(x):\n",
    "    gui_output_display.value = x\n",
    "\n",
    "cpu.reg_o.output_function = display_number"
   ]
  },
  {
   "cell_type": "code",
   "execution_count": null,
   "metadata": {},
   "outputs": [],
   "source": [
    "while True:\n",
    "    time.sleep(.2)\n",
    "    cpu.step(instructionwise=True, debug=True)"
   ]
  },
  {
   "cell_type": "code",
   "execution_count": null,
   "metadata": {},
   "outputs": [],
   "source": [
    "cpu.step(instructionwise=True, debug=True)"
   ]
  },
  {
   "cell_type": "code",
   "execution_count": null,
   "metadata": {},
   "outputs": [],
   "source": []
  },
  {
   "cell_type": "markdown",
   "metadata": {},
   "source": [
    "# DMA"
   ]
  },
  {
   "cell_type": "code",
   "execution_count": 7,
   "metadata": {},
   "outputs": [],
   "source": [
    "%matplotlib notebook"
   ]
  },
  {
   "cell_type": "code",
   "execution_count": 8,
   "metadata": {},
   "outputs": [],
   "source": [
    "import matplotlib\n",
    "#matplotlib.use('QT5Agg')\n",
    "import numpy as np\n",
    "import matplotlib.pyplot as plt\n"
   ]
  },
  {
   "cell_type": "code",
   "execution_count": 49,
   "metadata": {},
   "outputs": [],
   "source": [
    "cpu = Computer()\n",
    "countup = [\n",
    "    0x20, 0x99, # 0x00 LDA #$99\n",
    "    0x21, 0x09, # 0x20 ADD #$0A\n",
    "    0xFD,       # 0x04 DMA\n",
    "    0x05, 0x4A, # 0x05 STA  $4A\n",
    "    0x34, 0x02, # 0x07 JMP  $02\n",
    "    ]\n",
    "moveacross = [\n",
    "    0x20, 0x10, # 0x00 LDA #$20\n",
    "    0x21, 0x03, # 0x20 ADD #$03\n",
    "    0xFD,       # 0x04 DMA\n",
    "    0x35, 0x0B, # 0x05 STA  $0B\n",
    "    0x45, 0x0B, # 0x07 STA ($0B)\n",
    "    0x34, 0x02, # 0x09 JMP  $02\n",
    "    ]\n",
    "cpu.switches.load_program(moveacross)"
   ]
  },
  {
   "cell_type": "code",
   "execution_count": 50,
   "metadata": {
    "scrolled": false
   },
   "outputs": [
    {
     "data": {
      "application/javascript": [
       "/* Put everything inside the global mpl namespace */\n",
       "window.mpl = {};\n",
       "\n",
       "\n",
       "mpl.get_websocket_type = function() {\n",
       "    if (typeof(WebSocket) !== 'undefined') {\n",
       "        return WebSocket;\n",
       "    } else if (typeof(MozWebSocket) !== 'undefined') {\n",
       "        return MozWebSocket;\n",
       "    } else {\n",
       "        alert('Your browser does not have WebSocket support.' +\n",
       "              'Please try Chrome, Safari or Firefox ≥ 6. ' +\n",
       "              'Firefox 4 and 5 are also supported but you ' +\n",
       "              'have to enable WebSockets in about:config.');\n",
       "    };\n",
       "}\n",
       "\n",
       "mpl.figure = function(figure_id, websocket, ondownload, parent_element) {\n",
       "    this.id = figure_id;\n",
       "\n",
       "    this.ws = websocket;\n",
       "\n",
       "    this.supports_binary = (this.ws.binaryType != undefined);\n",
       "\n",
       "    if (!this.supports_binary) {\n",
       "        var warnings = document.getElementById(\"mpl-warnings\");\n",
       "        if (warnings) {\n",
       "            warnings.style.display = 'block';\n",
       "            warnings.textContent = (\n",
       "                \"This browser does not support binary websocket messages. \" +\n",
       "                    \"Performance may be slow.\");\n",
       "        }\n",
       "    }\n",
       "\n",
       "    this.imageObj = new Image();\n",
       "\n",
       "    this.context = undefined;\n",
       "    this.message = undefined;\n",
       "    this.canvas = undefined;\n",
       "    this.rubberband_canvas = undefined;\n",
       "    this.rubberband_context = undefined;\n",
       "    this.format_dropdown = undefined;\n",
       "\n",
       "    this.image_mode = 'full';\n",
       "\n",
       "    this.root = $('<div/>');\n",
       "    this._root_extra_style(this.root)\n",
       "    this.root.attr('style', 'display: inline-block');\n",
       "\n",
       "    $(parent_element).append(this.root);\n",
       "\n",
       "    this._init_header(this);\n",
       "    this._init_canvas(this);\n",
       "    this._init_toolbar(this);\n",
       "\n",
       "    var fig = this;\n",
       "\n",
       "    this.waiting = false;\n",
       "\n",
       "    this.ws.onopen =  function () {\n",
       "            fig.send_message(\"supports_binary\", {value: fig.supports_binary});\n",
       "            fig.send_message(\"send_image_mode\", {});\n",
       "            if (mpl.ratio != 1) {\n",
       "                fig.send_message(\"set_dpi_ratio\", {'dpi_ratio': mpl.ratio});\n",
       "            }\n",
       "            fig.send_message(\"refresh\", {});\n",
       "        }\n",
       "\n",
       "    this.imageObj.onload = function() {\n",
       "            if (fig.image_mode == 'full') {\n",
       "                // Full images could contain transparency (where diff images\n",
       "                // almost always do), so we need to clear the canvas so that\n",
       "                // there is no ghosting.\n",
       "                fig.context.clearRect(0, 0, fig.canvas.width, fig.canvas.height);\n",
       "            }\n",
       "            fig.context.drawImage(fig.imageObj, 0, 0);\n",
       "        };\n",
       "\n",
       "    this.imageObj.onunload = function() {\n",
       "        fig.ws.close();\n",
       "    }\n",
       "\n",
       "    this.ws.onmessage = this._make_on_message_function(this);\n",
       "\n",
       "    this.ondownload = ondownload;\n",
       "}\n",
       "\n",
       "mpl.figure.prototype._init_header = function() {\n",
       "    var titlebar = $(\n",
       "        '<div class=\"ui-dialog-titlebar ui-widget-header ui-corner-all ' +\n",
       "        'ui-helper-clearfix\"/>');\n",
       "    var titletext = $(\n",
       "        '<div class=\"ui-dialog-title\" style=\"width: 100%; ' +\n",
       "        'text-align: center; padding: 3px;\"/>');\n",
       "    titlebar.append(titletext)\n",
       "    this.root.append(titlebar);\n",
       "    this.header = titletext[0];\n",
       "}\n",
       "\n",
       "\n",
       "\n",
       "mpl.figure.prototype._canvas_extra_style = function(canvas_div) {\n",
       "\n",
       "}\n",
       "\n",
       "\n",
       "mpl.figure.prototype._root_extra_style = function(canvas_div) {\n",
       "\n",
       "}\n",
       "\n",
       "mpl.figure.prototype._init_canvas = function() {\n",
       "    var fig = this;\n",
       "\n",
       "    var canvas_div = $('<div/>');\n",
       "\n",
       "    canvas_div.attr('style', 'position: relative; clear: both; outline: 0');\n",
       "\n",
       "    function canvas_keyboard_event(event) {\n",
       "        return fig.key_event(event, event['data']);\n",
       "    }\n",
       "\n",
       "    canvas_div.keydown('key_press', canvas_keyboard_event);\n",
       "    canvas_div.keyup('key_release', canvas_keyboard_event);\n",
       "    this.canvas_div = canvas_div\n",
       "    this._canvas_extra_style(canvas_div)\n",
       "    this.root.append(canvas_div);\n",
       "\n",
       "    var canvas = $('<canvas/>');\n",
       "    canvas.addClass('mpl-canvas');\n",
       "    canvas.attr('style', \"left: 0; top: 0; z-index: 0; outline: 0\")\n",
       "\n",
       "    this.canvas = canvas[0];\n",
       "    this.context = canvas[0].getContext(\"2d\");\n",
       "\n",
       "    var backingStore = this.context.backingStorePixelRatio ||\n",
       "\tthis.context.webkitBackingStorePixelRatio ||\n",
       "\tthis.context.mozBackingStorePixelRatio ||\n",
       "\tthis.context.msBackingStorePixelRatio ||\n",
       "\tthis.context.oBackingStorePixelRatio ||\n",
       "\tthis.context.backingStorePixelRatio || 1;\n",
       "\n",
       "    mpl.ratio = (window.devicePixelRatio || 1) / backingStore;\n",
       "\n",
       "    var rubberband = $('<canvas/>');\n",
       "    rubberband.attr('style', \"position: absolute; left: 0; top: 0; z-index: 1;\")\n",
       "\n",
       "    var pass_mouse_events = true;\n",
       "\n",
       "    canvas_div.resizable({\n",
       "        start: function(event, ui) {\n",
       "            pass_mouse_events = false;\n",
       "        },\n",
       "        resize: function(event, ui) {\n",
       "            fig.request_resize(ui.size.width, ui.size.height);\n",
       "        },\n",
       "        stop: function(event, ui) {\n",
       "            pass_mouse_events = true;\n",
       "            fig.request_resize(ui.size.width, ui.size.height);\n",
       "        },\n",
       "    });\n",
       "\n",
       "    function mouse_event_fn(event) {\n",
       "        if (pass_mouse_events)\n",
       "            return fig.mouse_event(event, event['data']);\n",
       "    }\n",
       "\n",
       "    rubberband.mousedown('button_press', mouse_event_fn);\n",
       "    rubberband.mouseup('button_release', mouse_event_fn);\n",
       "    // Throttle sequential mouse events to 1 every 20ms.\n",
       "    rubberband.mousemove('motion_notify', mouse_event_fn);\n",
       "\n",
       "    rubberband.mouseenter('figure_enter', mouse_event_fn);\n",
       "    rubberband.mouseleave('figure_leave', mouse_event_fn);\n",
       "\n",
       "    canvas_div.on(\"wheel\", function (event) {\n",
       "        event = event.originalEvent;\n",
       "        event['data'] = 'scroll'\n",
       "        if (event.deltaY < 0) {\n",
       "            event.step = 1;\n",
       "        } else {\n",
       "            event.step = -1;\n",
       "        }\n",
       "        mouse_event_fn(event);\n",
       "    });\n",
       "\n",
       "    canvas_div.append(canvas);\n",
       "    canvas_div.append(rubberband);\n",
       "\n",
       "    this.rubberband = rubberband;\n",
       "    this.rubberband_canvas = rubberband[0];\n",
       "    this.rubberband_context = rubberband[0].getContext(\"2d\");\n",
       "    this.rubberband_context.strokeStyle = \"#000000\";\n",
       "\n",
       "    this._resize_canvas = function(width, height) {\n",
       "        // Keep the size of the canvas, canvas container, and rubber band\n",
       "        // canvas in synch.\n",
       "        canvas_div.css('width', width)\n",
       "        canvas_div.css('height', height)\n",
       "\n",
       "        canvas.attr('width', width * mpl.ratio);\n",
       "        canvas.attr('height', height * mpl.ratio);\n",
       "        canvas.attr('style', 'width: ' + width + 'px; height: ' + height + 'px;');\n",
       "\n",
       "        rubberband.attr('width', width);\n",
       "        rubberband.attr('height', height);\n",
       "    }\n",
       "\n",
       "    // Set the figure to an initial 600x600px, this will subsequently be updated\n",
       "    // upon first draw.\n",
       "    this._resize_canvas(600, 600);\n",
       "\n",
       "    // Disable right mouse context menu.\n",
       "    $(this.rubberband_canvas).bind(\"contextmenu\",function(e){\n",
       "        return false;\n",
       "    });\n",
       "\n",
       "    function set_focus () {\n",
       "        canvas.focus();\n",
       "        canvas_div.focus();\n",
       "    }\n",
       "\n",
       "    window.setTimeout(set_focus, 100);\n",
       "}\n",
       "\n",
       "mpl.figure.prototype._init_toolbar = function() {\n",
       "    var fig = this;\n",
       "\n",
       "    var nav_element = $('<div/>')\n",
       "    nav_element.attr('style', 'width: 100%');\n",
       "    this.root.append(nav_element);\n",
       "\n",
       "    // Define a callback function for later on.\n",
       "    function toolbar_event(event) {\n",
       "        return fig.toolbar_button_onclick(event['data']);\n",
       "    }\n",
       "    function toolbar_mouse_event(event) {\n",
       "        return fig.toolbar_button_onmouseover(event['data']);\n",
       "    }\n",
       "\n",
       "    for(var toolbar_ind in mpl.toolbar_items) {\n",
       "        var name = mpl.toolbar_items[toolbar_ind][0];\n",
       "        var tooltip = mpl.toolbar_items[toolbar_ind][1];\n",
       "        var image = mpl.toolbar_items[toolbar_ind][2];\n",
       "        var method_name = mpl.toolbar_items[toolbar_ind][3];\n",
       "\n",
       "        if (!name) {\n",
       "            // put a spacer in here.\n",
       "            continue;\n",
       "        }\n",
       "        var button = $('<button/>');\n",
       "        button.addClass('ui-button ui-widget ui-state-default ui-corner-all ' +\n",
       "                        'ui-button-icon-only');\n",
       "        button.attr('role', 'button');\n",
       "        button.attr('aria-disabled', 'false');\n",
       "        button.click(method_name, toolbar_event);\n",
       "        button.mouseover(tooltip, toolbar_mouse_event);\n",
       "\n",
       "        var icon_img = $('<span/>');\n",
       "        icon_img.addClass('ui-button-icon-primary ui-icon');\n",
       "        icon_img.addClass(image);\n",
       "        icon_img.addClass('ui-corner-all');\n",
       "\n",
       "        var tooltip_span = $('<span/>');\n",
       "        tooltip_span.addClass('ui-button-text');\n",
       "        tooltip_span.html(tooltip);\n",
       "\n",
       "        button.append(icon_img);\n",
       "        button.append(tooltip_span);\n",
       "\n",
       "        nav_element.append(button);\n",
       "    }\n",
       "\n",
       "    var fmt_picker_span = $('<span/>');\n",
       "\n",
       "    var fmt_picker = $('<select/>');\n",
       "    fmt_picker.addClass('mpl-toolbar-option ui-widget ui-widget-content');\n",
       "    fmt_picker_span.append(fmt_picker);\n",
       "    nav_element.append(fmt_picker_span);\n",
       "    this.format_dropdown = fmt_picker[0];\n",
       "\n",
       "    for (var ind in mpl.extensions) {\n",
       "        var fmt = mpl.extensions[ind];\n",
       "        var option = $(\n",
       "            '<option/>', {selected: fmt === mpl.default_extension}).html(fmt);\n",
       "        fmt_picker.append(option)\n",
       "    }\n",
       "\n",
       "    // Add hover states to the ui-buttons\n",
       "    $( \".ui-button\" ).hover(\n",
       "        function() { $(this).addClass(\"ui-state-hover\");},\n",
       "        function() { $(this).removeClass(\"ui-state-hover\");}\n",
       "    );\n",
       "\n",
       "    var status_bar = $('<span class=\"mpl-message\"/>');\n",
       "    nav_element.append(status_bar);\n",
       "    this.message = status_bar[0];\n",
       "}\n",
       "\n",
       "mpl.figure.prototype.request_resize = function(x_pixels, y_pixels) {\n",
       "    // Request matplotlib to resize the figure. Matplotlib will then trigger a resize in the client,\n",
       "    // which will in turn request a refresh of the image.\n",
       "    this.send_message('resize', {'width': x_pixels, 'height': y_pixels});\n",
       "}\n",
       "\n",
       "mpl.figure.prototype.send_message = function(type, properties) {\n",
       "    properties['type'] = type;\n",
       "    properties['figure_id'] = this.id;\n",
       "    this.ws.send(JSON.stringify(properties));\n",
       "}\n",
       "\n",
       "mpl.figure.prototype.send_draw_message = function() {\n",
       "    if (!this.waiting) {\n",
       "        this.waiting = true;\n",
       "        this.ws.send(JSON.stringify({type: \"draw\", figure_id: this.id}));\n",
       "    }\n",
       "}\n",
       "\n",
       "\n",
       "mpl.figure.prototype.handle_save = function(fig, msg) {\n",
       "    var format_dropdown = fig.format_dropdown;\n",
       "    var format = format_dropdown.options[format_dropdown.selectedIndex].value;\n",
       "    fig.ondownload(fig, format);\n",
       "}\n",
       "\n",
       "\n",
       "mpl.figure.prototype.handle_resize = function(fig, msg) {\n",
       "    var size = msg['size'];\n",
       "    if (size[0] != fig.canvas.width || size[1] != fig.canvas.height) {\n",
       "        fig._resize_canvas(size[0], size[1]);\n",
       "        fig.send_message(\"refresh\", {});\n",
       "    };\n",
       "}\n",
       "\n",
       "mpl.figure.prototype.handle_rubberband = function(fig, msg) {\n",
       "    var x0 = msg['x0'] / mpl.ratio;\n",
       "    var y0 = (fig.canvas.height - msg['y0']) / mpl.ratio;\n",
       "    var x1 = msg['x1'] / mpl.ratio;\n",
       "    var y1 = (fig.canvas.height - msg['y1']) / mpl.ratio;\n",
       "    x0 = Math.floor(x0) + 0.5;\n",
       "    y0 = Math.floor(y0) + 0.5;\n",
       "    x1 = Math.floor(x1) + 0.5;\n",
       "    y1 = Math.floor(y1) + 0.5;\n",
       "    var min_x = Math.min(x0, x1);\n",
       "    var min_y = Math.min(y0, y1);\n",
       "    var width = Math.abs(x1 - x0);\n",
       "    var height = Math.abs(y1 - y0);\n",
       "\n",
       "    fig.rubberband_context.clearRect(\n",
       "        0, 0, fig.canvas.width, fig.canvas.height);\n",
       "\n",
       "    fig.rubberband_context.strokeRect(min_x, min_y, width, height);\n",
       "}\n",
       "\n",
       "mpl.figure.prototype.handle_figure_label = function(fig, msg) {\n",
       "    // Updates the figure title.\n",
       "    fig.header.textContent = msg['label'];\n",
       "}\n",
       "\n",
       "mpl.figure.prototype.handle_cursor = function(fig, msg) {\n",
       "    var cursor = msg['cursor'];\n",
       "    switch(cursor)\n",
       "    {\n",
       "    case 0:\n",
       "        cursor = 'pointer';\n",
       "        break;\n",
       "    case 1:\n",
       "        cursor = 'default';\n",
       "        break;\n",
       "    case 2:\n",
       "        cursor = 'crosshair';\n",
       "        break;\n",
       "    case 3:\n",
       "        cursor = 'move';\n",
       "        break;\n",
       "    }\n",
       "    fig.rubberband_canvas.style.cursor = cursor;\n",
       "}\n",
       "\n",
       "mpl.figure.prototype.handle_message = function(fig, msg) {\n",
       "    fig.message.textContent = msg['message'];\n",
       "}\n",
       "\n",
       "mpl.figure.prototype.handle_draw = function(fig, msg) {\n",
       "    // Request the server to send over a new figure.\n",
       "    fig.send_draw_message();\n",
       "}\n",
       "\n",
       "mpl.figure.prototype.handle_image_mode = function(fig, msg) {\n",
       "    fig.image_mode = msg['mode'];\n",
       "}\n",
       "\n",
       "mpl.figure.prototype.updated_canvas_event = function() {\n",
       "    // Called whenever the canvas gets updated.\n",
       "    this.send_message(\"ack\", {});\n",
       "}\n",
       "\n",
       "// A function to construct a web socket function for onmessage handling.\n",
       "// Called in the figure constructor.\n",
       "mpl.figure.prototype._make_on_message_function = function(fig) {\n",
       "    return function socket_on_message(evt) {\n",
       "        if (evt.data instanceof Blob) {\n",
       "            /* FIXME: We get \"Resource interpreted as Image but\n",
       "             * transferred with MIME type text/plain:\" errors on\n",
       "             * Chrome.  But how to set the MIME type?  It doesn't seem\n",
       "             * to be part of the websocket stream */\n",
       "            evt.data.type = \"image/png\";\n",
       "\n",
       "            /* Free the memory for the previous frames */\n",
       "            if (fig.imageObj.src) {\n",
       "                (window.URL || window.webkitURL).revokeObjectURL(\n",
       "                    fig.imageObj.src);\n",
       "            }\n",
       "\n",
       "            fig.imageObj.src = (window.URL || window.webkitURL).createObjectURL(\n",
       "                evt.data);\n",
       "            fig.updated_canvas_event();\n",
       "            fig.waiting = false;\n",
       "            return;\n",
       "        }\n",
       "        else if (typeof evt.data === 'string' && evt.data.slice(0, 21) == \"data:image/png;base64\") {\n",
       "            fig.imageObj.src = evt.data;\n",
       "            fig.updated_canvas_event();\n",
       "            fig.waiting = false;\n",
       "            return;\n",
       "        }\n",
       "\n",
       "        var msg = JSON.parse(evt.data);\n",
       "        var msg_type = msg['type'];\n",
       "\n",
       "        // Call the  \"handle_{type}\" callback, which takes\n",
       "        // the figure and JSON message as its only arguments.\n",
       "        try {\n",
       "            var callback = fig[\"handle_\" + msg_type];\n",
       "        } catch (e) {\n",
       "            console.log(\"No handler for the '\" + msg_type + \"' message type: \", msg);\n",
       "            return;\n",
       "        }\n",
       "\n",
       "        if (callback) {\n",
       "            try {\n",
       "                // console.log(\"Handling '\" + msg_type + \"' message: \", msg);\n",
       "                callback(fig, msg);\n",
       "            } catch (e) {\n",
       "                console.log(\"Exception inside the 'handler_\" + msg_type + \"' callback:\", e, e.stack, msg);\n",
       "            }\n",
       "        }\n",
       "    };\n",
       "}\n",
       "\n",
       "// from http://stackoverflow.com/questions/1114465/getting-mouse-location-in-canvas\n",
       "mpl.findpos = function(e) {\n",
       "    //this section is from http://www.quirksmode.org/js/events_properties.html\n",
       "    var targ;\n",
       "    if (!e)\n",
       "        e = window.event;\n",
       "    if (e.target)\n",
       "        targ = e.target;\n",
       "    else if (e.srcElement)\n",
       "        targ = e.srcElement;\n",
       "    if (targ.nodeType == 3) // defeat Safari bug\n",
       "        targ = targ.parentNode;\n",
       "\n",
       "    // jQuery normalizes the pageX and pageY\n",
       "    // pageX,Y are the mouse positions relative to the document\n",
       "    // offset() returns the position of the element relative to the document\n",
       "    var x = e.pageX - $(targ).offset().left;\n",
       "    var y = e.pageY - $(targ).offset().top;\n",
       "\n",
       "    return {\"x\": x, \"y\": y};\n",
       "};\n",
       "\n",
       "/*\n",
       " * return a copy of an object with only non-object keys\n",
       " * we need this to avoid circular references\n",
       " * http://stackoverflow.com/a/24161582/3208463\n",
       " */\n",
       "function simpleKeys (original) {\n",
       "  return Object.keys(original).reduce(function (obj, key) {\n",
       "    if (typeof original[key] !== 'object')\n",
       "        obj[key] = original[key]\n",
       "    return obj;\n",
       "  }, {});\n",
       "}\n",
       "\n",
       "mpl.figure.prototype.mouse_event = function(event, name) {\n",
       "    var canvas_pos = mpl.findpos(event)\n",
       "\n",
       "    if (name === 'button_press')\n",
       "    {\n",
       "        this.canvas.focus();\n",
       "        this.canvas_div.focus();\n",
       "    }\n",
       "\n",
       "    var x = canvas_pos.x * mpl.ratio;\n",
       "    var y = canvas_pos.y * mpl.ratio;\n",
       "\n",
       "    this.send_message(name, {x: x, y: y, button: event.button,\n",
       "                             step: event.step,\n",
       "                             guiEvent: simpleKeys(event)});\n",
       "\n",
       "    /* This prevents the web browser from automatically changing to\n",
       "     * the text insertion cursor when the button is pressed.  We want\n",
       "     * to control all of the cursor setting manually through the\n",
       "     * 'cursor' event from matplotlib */\n",
       "    event.preventDefault();\n",
       "    return false;\n",
       "}\n",
       "\n",
       "mpl.figure.prototype._key_event_extra = function(event, name) {\n",
       "    // Handle any extra behaviour associated with a key event\n",
       "}\n",
       "\n",
       "mpl.figure.prototype.key_event = function(event, name) {\n",
       "\n",
       "    // Prevent repeat events\n",
       "    if (name == 'key_press')\n",
       "    {\n",
       "        if (event.which === this._key)\n",
       "            return;\n",
       "        else\n",
       "            this._key = event.which;\n",
       "    }\n",
       "    if (name == 'key_release')\n",
       "        this._key = null;\n",
       "\n",
       "    var value = '';\n",
       "    if (event.ctrlKey && event.which != 17)\n",
       "        value += \"ctrl+\";\n",
       "    if (event.altKey && event.which != 18)\n",
       "        value += \"alt+\";\n",
       "    if (event.shiftKey && event.which != 16)\n",
       "        value += \"shift+\";\n",
       "\n",
       "    value += 'k';\n",
       "    value += event.which.toString();\n",
       "\n",
       "    this._key_event_extra(event, name);\n",
       "\n",
       "    this.send_message(name, {key: value,\n",
       "                             guiEvent: simpleKeys(event)});\n",
       "    return false;\n",
       "}\n",
       "\n",
       "mpl.figure.prototype.toolbar_button_onclick = function(name) {\n",
       "    if (name == 'download') {\n",
       "        this.handle_save(this, null);\n",
       "    } else {\n",
       "        this.send_message(\"toolbar_button\", {name: name});\n",
       "    }\n",
       "};\n",
       "\n",
       "mpl.figure.prototype.toolbar_button_onmouseover = function(tooltip) {\n",
       "    this.message.textContent = tooltip;\n",
       "};\n",
       "mpl.toolbar_items = [[\"Home\", \"Reset original view\", \"fa fa-home icon-home\", \"home\"], [\"Back\", \"Back to previous view\", \"fa fa-arrow-left icon-arrow-left\", \"back\"], [\"Forward\", \"Forward to next view\", \"fa fa-arrow-right icon-arrow-right\", \"forward\"], [\"\", \"\", \"\", \"\"], [\"Pan\", \"Pan axes with left mouse, zoom with right\", \"fa fa-arrows icon-move\", \"pan\"], [\"Zoom\", \"Zoom to rectangle\", \"fa fa-square-o icon-check-empty\", \"zoom\"], [\"\", \"\", \"\", \"\"], [\"Download\", \"Download plot\", \"fa fa-floppy-o icon-save\", \"download\"]];\n",
       "\n",
       "mpl.extensions = [\"eps\", \"pdf\", \"png\", \"ps\", \"raw\", \"svg\"];\n",
       "\n",
       "mpl.default_extension = \"png\";var comm_websocket_adapter = function(comm) {\n",
       "    // Create a \"websocket\"-like object which calls the given IPython comm\n",
       "    // object with the appropriate methods. Currently this is a non binary\n",
       "    // socket, so there is still some room for performance tuning.\n",
       "    var ws = {};\n",
       "\n",
       "    ws.close = function() {\n",
       "        comm.close()\n",
       "    };\n",
       "    ws.send = function(m) {\n",
       "        //console.log('sending', m);\n",
       "        comm.send(m);\n",
       "    };\n",
       "    // Register the callback with on_msg.\n",
       "    comm.on_msg(function(msg) {\n",
       "        //console.log('receiving', msg['content']['data'], msg);\n",
       "        // Pass the mpl event to the overridden (by mpl) onmessage function.\n",
       "        ws.onmessage(msg['content']['data'])\n",
       "    });\n",
       "    return ws;\n",
       "}\n",
       "\n",
       "mpl.mpl_figure_comm = function(comm, msg) {\n",
       "    // This is the function which gets called when the mpl process\n",
       "    // starts-up an IPython Comm through the \"matplotlib\" channel.\n",
       "\n",
       "    var id = msg.content.data.id;\n",
       "    // Get hold of the div created by the display call when the Comm\n",
       "    // socket was opened in Python.\n",
       "    var element = $(\"#\" + id);\n",
       "    var ws_proxy = comm_websocket_adapter(comm)\n",
       "\n",
       "    function ondownload(figure, format) {\n",
       "        window.open(figure.imageObj.src);\n",
       "    }\n",
       "\n",
       "    var fig = new mpl.figure(id, ws_proxy,\n",
       "                           ondownload,\n",
       "                           element.get(0));\n",
       "\n",
       "    // Call onopen now - mpl needs it, as it is assuming we've passed it a real\n",
       "    // web socket which is closed, not our websocket->open comm proxy.\n",
       "    ws_proxy.onopen();\n",
       "\n",
       "    fig.parent_element = element.get(0);\n",
       "    fig.cell_info = mpl.find_output_cell(\"<div id='\" + id + \"'></div>\");\n",
       "    if (!fig.cell_info) {\n",
       "        console.error(\"Failed to find cell for figure\", id, fig);\n",
       "        return;\n",
       "    }\n",
       "\n",
       "    var output_index = fig.cell_info[2]\n",
       "    var cell = fig.cell_info[0];\n",
       "\n",
       "};\n",
       "\n",
       "mpl.figure.prototype.handle_close = function(fig, msg) {\n",
       "    var width = fig.canvas.width/mpl.ratio\n",
       "    fig.root.unbind('remove')\n",
       "\n",
       "    // Update the output cell to use the data from the current canvas.\n",
       "    fig.push_to_output();\n",
       "    var dataURL = fig.canvas.toDataURL();\n",
       "    // Re-enable the keyboard manager in IPython - without this line, in FF,\n",
       "    // the notebook keyboard shortcuts fail.\n",
       "    IPython.keyboard_manager.enable()\n",
       "    $(fig.parent_element).html('<img src=\"' + dataURL + '\" width=\"' + width + '\">');\n",
       "    fig.close_ws(fig, msg);\n",
       "}\n",
       "\n",
       "mpl.figure.prototype.close_ws = function(fig, msg){\n",
       "    fig.send_message('closing', msg);\n",
       "    // fig.ws.close()\n",
       "}\n",
       "\n",
       "mpl.figure.prototype.push_to_output = function(remove_interactive) {\n",
       "    // Turn the data on the canvas into data in the output cell.\n",
       "    var width = this.canvas.width/mpl.ratio\n",
       "    var dataURL = this.canvas.toDataURL();\n",
       "    this.cell_info[1]['text/html'] = '<img src=\"' + dataURL + '\" width=\"' + width + '\">';\n",
       "}\n",
       "\n",
       "mpl.figure.prototype.updated_canvas_event = function() {\n",
       "    // Tell IPython that the notebook contents must change.\n",
       "    IPython.notebook.set_dirty(true);\n",
       "    this.send_message(\"ack\", {});\n",
       "    var fig = this;\n",
       "    // Wait a second, then push the new image to the DOM so\n",
       "    // that it is saved nicely (might be nice to debounce this).\n",
       "    setTimeout(function () { fig.push_to_output() }, 1000);\n",
       "}\n",
       "\n",
       "mpl.figure.prototype._init_toolbar = function() {\n",
       "    var fig = this;\n",
       "\n",
       "    var nav_element = $('<div/>')\n",
       "    nav_element.attr('style', 'width: 100%');\n",
       "    this.root.append(nav_element);\n",
       "\n",
       "    // Define a callback function for later on.\n",
       "    function toolbar_event(event) {\n",
       "        return fig.toolbar_button_onclick(event['data']);\n",
       "    }\n",
       "    function toolbar_mouse_event(event) {\n",
       "        return fig.toolbar_button_onmouseover(event['data']);\n",
       "    }\n",
       "\n",
       "    for(var toolbar_ind in mpl.toolbar_items){\n",
       "        var name = mpl.toolbar_items[toolbar_ind][0];\n",
       "        var tooltip = mpl.toolbar_items[toolbar_ind][1];\n",
       "        var image = mpl.toolbar_items[toolbar_ind][2];\n",
       "        var method_name = mpl.toolbar_items[toolbar_ind][3];\n",
       "\n",
       "        if (!name) { continue; };\n",
       "\n",
       "        var button = $('<button class=\"btn btn-default\" href=\"#\" title=\"' + name + '\"><i class=\"fa ' + image + ' fa-lg\"></i></button>');\n",
       "        button.click(method_name, toolbar_event);\n",
       "        button.mouseover(tooltip, toolbar_mouse_event);\n",
       "        nav_element.append(button);\n",
       "    }\n",
       "\n",
       "    // Add the status bar.\n",
       "    var status_bar = $('<span class=\"mpl-message\" style=\"text-align:right; float: right;\"/>');\n",
       "    nav_element.append(status_bar);\n",
       "    this.message = status_bar[0];\n",
       "\n",
       "    // Add the close button to the window.\n",
       "    var buttongrp = $('<div class=\"btn-group inline pull-right\"></div>');\n",
       "    var button = $('<button class=\"btn btn-mini btn-primary\" href=\"#\" title=\"Stop Interaction\"><i class=\"fa fa-power-off icon-remove icon-large\"></i></button>');\n",
       "    button.click(function (evt) { fig.handle_close(fig, {}); } );\n",
       "    button.mouseover('Stop Interaction', toolbar_mouse_event);\n",
       "    buttongrp.append(button);\n",
       "    var titlebar = this.root.find($('.ui-dialog-titlebar'));\n",
       "    titlebar.prepend(buttongrp);\n",
       "}\n",
       "\n",
       "mpl.figure.prototype._root_extra_style = function(el){\n",
       "    var fig = this\n",
       "    el.on(\"remove\", function(){\n",
       "\tfig.close_ws(fig, {});\n",
       "    });\n",
       "}\n",
       "\n",
       "mpl.figure.prototype._canvas_extra_style = function(el){\n",
       "    // this is important to make the div 'focusable\n",
       "    el.attr('tabindex', 0)\n",
       "    // reach out to IPython and tell the keyboard manager to turn it's self\n",
       "    // off when our div gets focus\n",
       "\n",
       "    // location in version 3\n",
       "    if (IPython.notebook.keyboard_manager) {\n",
       "        IPython.notebook.keyboard_manager.register_events(el);\n",
       "    }\n",
       "    else {\n",
       "        // location in version 2\n",
       "        IPython.keyboard_manager.register_events(el);\n",
       "    }\n",
       "\n",
       "}\n",
       "\n",
       "mpl.figure.prototype._key_event_extra = function(event, name) {\n",
       "    var manager = IPython.notebook.keyboard_manager;\n",
       "    if (!manager)\n",
       "        manager = IPython.keyboard_manager;\n",
       "\n",
       "    // Check for shift+enter\n",
       "    if (event.shiftKey && event.which == 13) {\n",
       "        this.canvas_div.blur();\n",
       "        event.shiftKey = false;\n",
       "        // Send a \"J\" for go to next cell\n",
       "        event.which = 74;\n",
       "        event.keyCode = 74;\n",
       "        manager.command_mode();\n",
       "        manager.handle_keydown(event);\n",
       "    }\n",
       "}\n",
       "\n",
       "mpl.figure.prototype.handle_save = function(fig, msg) {\n",
       "    fig.ondownload(fig, null);\n",
       "}\n",
       "\n",
       "\n",
       "mpl.find_output_cell = function(html_output) {\n",
       "    // Return the cell and output element which can be found *uniquely* in the notebook.\n",
       "    // Note - this is a bit hacky, but it is done because the \"notebook_saving.Notebook\"\n",
       "    // IPython event is triggered only after the cells have been serialised, which for\n",
       "    // our purposes (turning an active figure into a static one), is too late.\n",
       "    var cells = IPython.notebook.get_cells();\n",
       "    var ncells = cells.length;\n",
       "    for (var i=0; i<ncells; i++) {\n",
       "        var cell = cells[i];\n",
       "        if (cell.cell_type === 'code'){\n",
       "            for (var j=0; j<cell.output_area.outputs.length; j++) {\n",
       "                var data = cell.output_area.outputs[j];\n",
       "                if (data.data) {\n",
       "                    // IPython >= 3 moved mimebundle to data attribute of output\n",
       "                    data = data.data;\n",
       "                }\n",
       "                if (data['text/html'] == html_output) {\n",
       "                    return [cell, data, j];\n",
       "                }\n",
       "            }\n",
       "        }\n",
       "    }\n",
       "}\n",
       "\n",
       "// Register the function which deals with the matplotlib target/channel.\n",
       "// The kernel may be null if the page has been refreshed.\n",
       "if (IPython.notebook.kernel != null) {\n",
       "    IPython.notebook.kernel.comm_manager.register_target('matplotlib', mpl.mpl_figure_comm);\n",
       "}\n"
      ],
      "text/plain": [
       "<IPython.core.display.Javascript object>"
      ]
     },
     "metadata": {},
     "output_type": "display_data"
    },
    {
     "data": {
      "text/html": [
       "<img src=\"data:image/png;base64,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\" width=\"639.999990463257\">"
      ],
      "text/plain": [
       "<IPython.core.display.HTML object>"
      ]
     },
     "metadata": {},
     "output_type": "display_data"
    }
   ],
   "source": [
    "plt.ion()\n",
    "fig, ax = plt.subplots(1,1)\n",
    "initial_bitmap = np.zeros((0xF + 1, 0xF + 1))\n",
    "initial_bitmap[0,0] = 0xFF # get the color map set\n",
    "heatmap = ax.imshow(initial_bitmap)\n",
    "plt.show()\n",
    "\n",
    "def plt_memory(bitmap):\n",
    "    heatmap.set_data(bitmap)\n",
    "    #fig.canvas.draw()\n",
    "    \n",
    "cpu.dma.connect_dma_handler(plt_memory)"
   ]
  },
  {
   "cell_type": "code",
   "execution_count": null,
   "metadata": {
    "scrolled": true
   },
   "outputs": [],
   "source": [
    "cpu.step(instructionwise=True, debug=True)"
   ]
  },
  {
   "cell_type": "code",
   "execution_count": 51,
   "metadata": {
    "scrolled": true
   },
   "outputs": [
    {
     "name": "stdout",
     "output_type": "stream",
     "text": [
      "50\n",
      "100\n",
      "150\n",
      "200\n",
      "250\n",
      "300\n",
      "350\n"
     ]
    }
   ],
   "source": [
    "n = 0\n",
    "for i in range(363):\n",
    "#while True:\n",
    "    #time.sleep(0.001)\n",
    "    n += 1\n",
    "    if n % 50 == 0:\n",
    "        print(n)\n",
    "    cpu.step(instructionwise=True, debug=False)"
   ]
  },
  {
   "cell_type": "code",
   "execution_count": null,
   "metadata": {},
   "outputs": [],
   "source": [
    "plt.show()"
   ]
  },
  {
   "cell_type": "code",
   "execution_count": null,
   "metadata": {},
   "outputs": [],
   "source": [
    "while True:\n",
    "    time.sleep(0.001)\n",
    "    n += 1\n",
    "    if n % 100 == 0:\n",
    "        print(n)\n",
    "    cpu.step(instructionwise=True, debug=False)"
   ]
  },
  {
   "cell_type": "code",
   "execution_count": null,
   "metadata": {},
   "outputs": [],
   "source": []
  },
  {
   "cell_type": "code",
   "execution_count": null,
   "metadata": {},
   "outputs": [],
   "source": []
  },
  {
   "cell_type": "code",
   "execution_count": null,
   "metadata": {},
   "outputs": [],
   "source": []
  },
  {
   "cell_type": "code",
   "execution_count": null,
   "metadata": {},
   "outputs": [],
   "source": [
    "#var name test\n",
    "LDA"
   ]
  },
  {
   "cell_type": "code",
   "execution_count": null,
   "metadata": {},
   "outputs": [],
   "source": [
    "0xF3 >> 4"
   ]
  },
  {
   "cell_type": "code",
   "execution_count": null,
   "metadata": {},
   "outputs": [],
   "source": []
  },
  {
   "cell_type": "code",
   "execution_count": null,
   "metadata": {},
   "outputs": [],
   "source": []
  }
 ],
 "metadata": {
  "kernelspec": {
   "display_name": "Python 3",
   "language": "python",
   "name": "python3"
  },
  "language_info": {
   "codemirror_mode": {
    "name": "ipython",
    "version": 3
   },
   "file_extension": ".py",
   "mimetype": "text/x-python",
   "name": "python",
   "nbconvert_exporter": "python",
   "pygments_lexer": "ipython3",
   "version": "3.7.1"
  }
 },
 "nbformat": 4,
 "nbformat_minor": 2
}
