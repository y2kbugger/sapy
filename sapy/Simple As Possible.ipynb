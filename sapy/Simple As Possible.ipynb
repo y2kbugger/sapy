{
 "cells": [
  {
   "cell_type": "code",
   "execution_count": null,
   "metadata": {},
   "outputs": [],
   "source": [
    "%load_ext autoreload\n",
    "%autoreload 2"
   ]
  },
  {
   "cell_type": "code",
   "execution_count": 1,
   "metadata": {},
   "outputs": [],
   "source": [
    "from sapy import Clock, ProgramCounter, MemoryAddressRegister, \\\n",
    "    RandomAccessMemory, SwitchBoard, RegisterA, RegisterB, RegisterOutput, \\\n",
    "    ArithmeticUnit, RegisterInstruction, Computer\n",
    "import time"
   ]
  },
  {
   "cell_type": "markdown",
   "metadata": {},
   "source": [
    "# Hex and Binary Literals in Python"
   ]
  },
  {
   "cell_type": "code",
   "execution_count": null,
   "metadata": {},
   "outputs": [],
   "source": [
    "0xF"
   ]
  },
  {
   "cell_type": "code",
   "execution_count": null,
   "metadata": {},
   "outputs": [],
   "source": [
    "0xFF"
   ]
  },
  {
   "cell_type": "code",
   "execution_count": null,
   "metadata": {},
   "outputs": [],
   "source": [
    "print(15_000) # underscore as separators are allowed\n",
    "print(0b1111_1111)"
   ]
  },
  {
   "cell_type": "markdown",
   "metadata": {},
   "source": [
    "You can also format integers to HEX using X"
   ]
  },
  {
   "cell_type": "code",
   "execution_count": null,
   "metadata": {},
   "outputs": [],
   "source": [
    "f\"{132:X}\""
   ]
  },
  {
   "cell_type": "markdown",
   "metadata": {},
   "source": [
    "# Clocking Signals"
   ]
  },
  {
   "cell_type": "code",
   "execution_count": null,
   "metadata": {},
   "outputs": [],
   "source": [
    "clk = Clock()\n",
    "class DummyComponent():\n",
    "    def data(self, **kwargs):\n",
    "        print(\"data accessed\")\n",
    "        return 42\n",
    "    def clock(self, **kwargs):\n",
    "        print(\"clock stepped\")\n",
    "\n",
    "dc = DummyComponent()\n",
    "clk.add_component(dc)"
   ]
  },
  {
   "cell_type": "code",
   "execution_count": null,
   "metadata": {},
   "outputs": [],
   "source": [
    "print(\"step 1: ---------\")\n",
    "clk.step()\n",
    "print(\"step 2: ---------\")\n",
    "clk.step()"
   ]
  },
  {
   "cell_type": "markdown",
   "metadata": {},
   "source": [
    "# Program Counter"
   ]
  },
  {
   "cell_type": "markdown",
   "metadata": {},
   "source": [
    "To enable a component to take an action on a clock, you pass in the correct control bit as a keyword argument. To enable the PC to output to the data but, use the \"ep\" control bit."
   ]
  },
  {
   "cell_type": "code",
   "execution_count": null,
   "metadata": {},
   "outputs": [],
   "source": [
    "pc = ProgramCounter()"
   ]
  },
  {
   "cell_type": "code",
   "execution_count": null,
   "metadata": {},
   "outputs": [],
   "source": [
    "pc.clock()\n",
    "pc.data()"
   ]
  },
  {
   "cell_type": "code",
   "execution_count": null,
   "metadata": {},
   "outputs": [],
   "source": [
    "pc.clock()\n",
    "pc.data(ep=True)"
   ]
  },
  {
   "cell_type": "code",
   "execution_count": null,
   "metadata": {},
   "outputs": [],
   "source": [
    "pc.clock()\n",
    "pc.data(ep=True)"
   ]
  },
  {
   "cell_type": "markdown",
   "metadata": {},
   "source": [
    "To increment the program counter, the control bit is \"cp\"."
   ]
  },
  {
   "cell_type": "code",
   "execution_count": null,
   "metadata": {},
   "outputs": [],
   "source": [
    "pc.clock(cp=True)\n",
    "pc.data(ep=True)"
   ]
  },
  {
   "cell_type": "code",
   "execution_count": null,
   "metadata": {},
   "outputs": [],
   "source": [
    "pc.clock(cp=True)\n",
    "pc.data(ep=True)"
   ]
  },
  {
   "cell_type": "code",
   "execution_count": null,
   "metadata": {},
   "outputs": [],
   "source": [
    "pc.clock(cp=True)\n",
    "pc.data(ep=True)"
   ]
  },
  {
   "cell_type": "markdown",
   "metadata": {},
   "source": [
    "For jump instructions you set the program counter directly. This is done with the \"lp\" control bit."
   ]
  },
  {
   "cell_type": "code",
   "execution_count": null,
   "metadata": {
    "scrolled": true
   },
   "outputs": [],
   "source": [
    "pc.clock(data=0xD, lp=True)\n",
    "print(f\"{pc.data(ep=True):X}\")\n",
    "print(f\"{pc.data(ep=True)}\")"
   ]
  },
  {
   "cell_type": "markdown",
   "metadata": {},
   "source": [
    "# Accumulator (Register A)"
   ]
  },
  {
   "cell_type": "code",
   "execution_count": null,
   "metadata": {},
   "outputs": [],
   "source": [
    "reg_a = RegisterA()\n",
    "print(f\"The register value on reset is: {reg_a.data(ea=True):X}\")\n",
    "\n",
    "reg_a.clock(data=0xAB, la=True)\n",
    "reg_a.data(ea=True)\n",
    "print(f\"The register has latched a value: {reg_a.data(ea=True):X}\")\n"
   ]
  },
  {
   "cell_type": "markdown",
   "metadata": {},
   "source": [
    "# Adder"
   ]
  },
  {
   "cell_type": "markdown",
   "metadata": {},
   "source": [
    "Some components have extra attributes that allow it to communicate directly to other components outside of the bus. \n",
    "\n",
    "The adder is not clocked, it doesn't even have state. The data output from the adder is alway the instantaneous sum (or difference) of Reg A + Reg B"
   ]
  },
  {
   "cell_type": "code",
   "execution_count": null,
   "metadata": {},
   "outputs": [],
   "source": [
    "reg_a = RegisterA()\n",
    "reg_a.clock(data=4, la=True)\n",
    "\n",
    "reg_b = RegisterB()\n",
    "reg_b.clock(data=3, lb=True)\n",
    "\n",
    "adder = ArithmeticUnit(reg_a, reg_b)\n",
    "\n",
    "assert adder.data() is None\n",
    "adder.data(eu=True)\n"
   ]
  },
  {
   "cell_type": "code",
   "execution_count": null,
   "metadata": {},
   "outputs": [],
   "source": [
    "reg_b.clock(data=1, lb=True)\n",
    "adder.data(eu=True)"
   ]
  },
  {
   "cell_type": "markdown",
   "metadata": {},
   "source": [
    "Subtraction"
   ]
  },
  {
   "cell_type": "code",
   "execution_count": null,
   "metadata": {},
   "outputs": [],
   "source": [
    "adder.data(eu=True, su=True)"
   ]
  },
  {
   "cell_type": "markdown",
   "metadata": {},
   "source": [
    "# Memory"
   ]
  },
  {
   "cell_type": "markdown",
   "metadata": {},
   "source": [
    "Ram is another example of a system that has communication outside the bus, it always access the RAM value stored at the address latched in the Memory Address Register."
   ]
  },
  {
   "cell_type": "code",
   "execution_count": null,
   "metadata": {},
   "outputs": [],
   "source": [
    "mar = MemoryAddressRegister()\n",
    "ram = RandomAccessMemory(mar)\n",
    "\n",
    "# store address for ram in register\n",
    "mar.clock(data=0xF, lm=True)\n",
    "print(f\"Memory Address: {mar.address():X}\")\n",
    "\n",
    "# clock data into ram at the address set above\n",
    "ram.clock(data=0xAB, lr=True)\n",
    "assert ram.data() == None\n",
    "print(f\"Memory at address: {mar.address():X} is {ram.data(er=True):X}\") # should be 0xAB\n",
    "print(f\"Memory at address: {mar.address()} is {ram.data(er=True)}\") # just to demystfy hex.."
   ]
  },
  {
   "cell_type": "markdown",
   "metadata": {},
   "source": [
    "# Controller: Sequencer + Decoder + Clock"
   ]
  },
  {
   "cell_type": "code",
   "execution_count": null,
   "metadata": {},
   "outputs": [],
   "source": [
    "reg_i = RegisterInstruction()\n",
    "instruction = 0xFF # both opcode and argument, 8bits\n",
    "reg_i.clock(data=instruction, li=True)\n"
   ]
  },
  {
   "cell_type": "code",
   "execution_count": null,
   "metadata": {},
   "outputs": [],
   "source": [
    "print(f\"The opcode is {reg_i.opcode():X}\")"
   ]
  },
  {
   "cell_type": "markdown",
   "metadata": {},
   "source": [
    "# Example Sequencing: LDA"
   ]
  },
  {
   "cell_type": "code",
   "execution_count": null,
   "metadata": {},
   "outputs": [],
   "source": [
    "from sapy import Computer\n",
    "\n",
    "cpu = Computer()\n",
    "rom = [\n",
    "    0x00, 0x09, # 0x0 LDA 09H\n",
    "    ]\n",
    "cpu.switches.load_program(rom)\n",
    "\n",
    "for _ in range(7):\n",
    "    cpu.step(debug=True) "
   ]
  },
  {
   "cell_type": "code",
   "execution_count": null,
   "metadata": {
    "scrolled": true
   },
   "outputs": [],
   "source": [
    "cpu.step(debug=True)"
   ]
  },
  {
   "cell_type": "markdown",
   "metadata": {},
   "source": [
    "# Output (Register O)"
   ]
  },
  {
   "cell_type": "code",
   "execution_count": null,
   "metadata": {},
   "outputs": [],
   "source": [
    "reg_o = RegisterOutput()\n",
    "reg_o.clock(data=0x90, lo=True)\n"
   ]
  },
  {
   "cell_type": "code",
   "execution_count": null,
   "metadata": {},
   "outputs": [],
   "source": [
    "# monkey patch output function for fancy display\n",
    "def display_number(x):\n",
    "    print(f\"***### {x} ###***\")\n",
    "reg_o.output_function = display_number"
   ]
  },
  {
   "cell_type": "code",
   "execution_count": null,
   "metadata": {},
   "outputs": [],
   "source": [
    "reg_o.clock(data=0x90, lo=True)"
   ]
  },
  {
   "cell_type": "markdown",
   "metadata": {},
   "source": [
    "# Full Computer with ROM"
   ]
  },
  {
   "cell_type": "code",
   "execution_count": null,
   "metadata": {},
   "outputs": [],
   "source": [
    "cpu = Computer()\n",
    "rom = [\n",
    "    0x00, 0x07, # 0x00 LDA 07H\n",
    "    0x01, 0x08, # 0x02 ADD 08H\n",
    "    0x03,       # 0x04 OUT\n",
    "    0x04, 0x02, # 0x05 JMP 02H\n",
    "    0x00,       # 0x07 A1H\n",
    "    0x03,       # 0x08 22H\n",
    "    ]\n",
    "cpu.switches.load_program(rom)"
   ]
  },
  {
   "cell_type": "code",
   "execution_count": null,
   "metadata": {},
   "outputs": [],
   "source": [
    "for _ in range(9):\n",
    "    cpu.step(instructionwise=True)"
   ]
  },
  {
   "cell_type": "code",
   "execution_count": null,
   "metadata": {},
   "outputs": [],
   "source": [
    "for _ in range(3):\n",
    "    cpu.step(instructionwise=True, debug=True)"
   ]
  },
  {
   "cell_type": "code",
   "execution_count": null,
   "metadata": {},
   "outputs": [],
   "source": [
    "import ipywidgets as widgets\n",
    "from IPython.display import display\n",
    "gui_output_display = widgets.FloatText()\n",
    "display(gui_output_display)\n",
    "\n",
    "# monkey patch output function\n",
    "def display_number(x):\n",
    "    gui_output_display.value = x\n",
    "\n",
    "cpu.reg_o.output_function = display_number"
   ]
  },
  {
   "cell_type": "code",
   "execution_count": null,
   "metadata": {},
   "outputs": [],
   "source": [
    "for _ in range(3):\n",
    "    time.sleep(.2)\n",
    "    cpu.step(instructionwise=True, debug=False)"
   ]
  },
  {
   "cell_type": "code",
   "execution_count": null,
   "metadata": {},
   "outputs": [],
   "source": [
    "for _ in range(27):\n",
    "    time.sleep(.03)\n",
    "    cpu.step(instructionwise=True, debug=False)"
   ]
  },
  {
   "cell_type": "code",
   "execution_count": null,
   "metadata": {},
   "outputs": [],
   "source": [
    "while True:\n",
    "    time.sleep(.03)\n",
    "    cpu.step(instructionwise=True, debug=False)"
   ]
  },
  {
   "cell_type": "code",
   "execution_count": 75,
   "metadata": {},
   "outputs": [],
   "source": [
    "cpu = Computer()\n",
    "rom = [\n",
    "    0x00, 0x09, # 0x00 LDA 09H\n",
    "    0x01, 0x0A, # 0x20 ADD 0AH\n",
    "    0x03,       # 0x04 OUT\n",
    "    0x05, 0x0A, # 0x05 STA 0AH\n",
    "    0x04, 0x02, # 0x07 JMP 02H\n",
    "    0x01,       # 0x09 01H\n",
    "    0x02,       # 0x0A 02H\n",
    "    ]\n",
    "\n",
    "cpu.switches.load_program(rom)\n",
    "#cpu.reset()"
   ]
  },
  {
   "cell_type": "code",
   "execution_count": 76,
   "metadata": {},
   "outputs": [
    {
     "data": {
      "application/vnd.jupyter.widget-view+json": {
       "model_id": "f948082ae66a47a18a4b06cc5b6492e0",
       "version_major": 2,
       "version_minor": 0
      },
      "text/plain": [
       "FloatText(value=0.0)"
      ]
     },
     "metadata": {},
     "output_type": "display_data"
    }
   ],
   "source": [
    "import ipywidgets as widgets\n",
    "from IPython.display import display\n",
    "gui_output_display = widgets.FloatText()\n",
    "display(gui_output_display)\n",
    "\n",
    "# monkey patch output function\n",
    "def display_number(x):\n",
    "    gui_output_display.value = x\n",
    "\n",
    "cpu.reg_o.output_function = display_number"
   ]
  },
  {
   "cell_type": "code",
   "execution_count": 74,
   "metadata": {},
   "outputs": [
    {
     "name": "stdout",
     "output_type": "stream",
     "text": [
      "------------------------------------------\n",
      "T1: Data: 0, Control Word: ['ep', 'lm']\n",
      "T2: Data: None, Control Word: ['cp']\n",
      "T3: Data: 0, Control Word: ['er', 'li']\n",
      "T4: Data: 1, Control Word: ['ep', 'lm', 'cp']\n",
      "T5: Data: 9, Control Word: ['er', 'lm']\n",
      "T6: Data: 1, Control Word: ['er', 'la']\n",
      "T7: Data: None, Control Word: []\n",
      "------------------------------------------\n",
      "T1: Data: 2, Control Word: ['ep', 'lm']\n",
      "T2: Data: None, Control Word: ['cp']\n",
      "T3: Data: 1, Control Word: ['er', 'li']\n",
      "T4: Data: 3, Control Word: ['ep', 'lm', 'cp']\n",
      "T5: Data: 10, Control Word: ['er', 'lm']\n",
      "T6: Data: 2, Control Word: ['er', 'lb']\n",
      "T7: Data: 3, Control Word: ['eu', 'la']\n",
      "------------------------------------------\n",
      "T1: Data: 4, Control Word: ['ep', 'lm']\n",
      "T2: Data: None, Control Word: ['cp']\n",
      "T3: Data: 3, Control Word: ['er', 'li']\n",
      "T4: Data: 3, Control Word: ['ea', 'lo']\n",
      "T5: Data: None, Control Word: []\n",
      "T6: Data: None, Control Word: []\n",
      "T7: Data: None, Control Word: []\n",
      "------------------------------------------\n",
      "T1: Data: 5, Control Word: ['ep', 'lm']\n",
      "T2: Data: None, Control Word: ['cp']\n",
      "T3: Data: 5, Control Word: ['er', 'li']\n",
      "T4: Data: 6, Control Word: ['ep', 'lm', 'cp']\n",
      "T5: Data: 10, Control Word: ['er', 'lm']\n",
      "T6: Data: 3, Control Word: ['ea', 'lr']\n",
      "T7: Data: None, Control Word: []\n",
      "------------------------------------------\n",
      "T1: Data: 7, Control Word: ['ep', 'lm']\n",
      "T2: Data: None, Control Word: ['cp']\n",
      "T3: Data: 4, Control Word: ['er', 'li']\n",
      "T4: Data: 8, Control Word: ['ep', 'lm', 'cp']\n",
      "T5: Data: 2, Control Word: ['er', 'lp']\n",
      "T6: Data: None, Control Word: []\n",
      "T7: Data: None, Control Word: []\n",
      "------------------------------------------\n",
      "T1: Data: 2, Control Word: ['ep', 'lm']\n",
      "T2: Data: None, Control Word: ['cp']\n",
      "T3: Data: 1, Control Word: ['er', 'li']\n",
      "T4: Data: 3, Control Word: ['ep', 'lm', 'cp']\n",
      "T5: Data: 10, Control Word: ['er', 'lm']\n",
      "T6: Data: 3, Control Word: ['er', 'lb']\n",
      "T7: Data: 6, Control Word: ['eu', 'la']\n",
      "------------------------------------------\n",
      "T1: Data: 4, Control Word: ['ep', 'lm']\n",
      "T2: Data: None, Control Word: ['cp']\n",
      "T3: Data: 3, Control Word: ['er', 'li']\n",
      "T4: Data: 6, Control Word: ['ea', 'lo']\n",
      "T5: Data: None, Control Word: []\n",
      "T6: Data: None, Control Word: []\n",
      "T7: Data: None, Control Word: []\n",
      "------------------------------------------\n",
      "T1: Data: 5, Control Word: ['ep', 'lm']\n",
      "T2: Data: None, Control Word: ['cp']\n",
      "T3: Data: 5, Control Word: ['er', 'li']\n",
      "T4: Data: 6, Control Word: ['ep', 'lm', 'cp']\n",
      "T5: Data: 10, Control Word: ['er', 'lm']\n",
      "T6: Data: 6, Control Word: ['ea', 'lr']\n",
      "T7: Data: None, Control Word: []\n",
      "------------------------------------------\n",
      "T1: Data: 7, Control Word: ['ep', 'lm']\n",
      "T2: Data: None, Control Word: ['cp']\n",
      "T3: Data: 4, Control Word: ['er', 'li']\n",
      "T4: Data: 8, Control Word: ['ep', 'lm', 'cp']\n",
      "T5: Data: 2, Control Word: ['er', 'lp']\n",
      "T6: Data: None, Control Word: []\n",
      "T7: Data: None, Control Word: []\n",
      "------------------------------------------\n",
      "T1: Data: 2, Control Word: ['ep', 'lm']\n",
      "T2: Data: None, Control Word: ['cp']\n",
      "T3: Data: 1, Control Word: ['er', 'li']\n",
      "T4: Data: 3, Control Word: ['ep', 'lm', 'cp']\n",
      "T5: Data: 10, Control Word: ['er', 'lm']\n",
      "T6: Data: 6, Control Word: ['er', 'lb']\n",
      "T7: Data: 12, Control Word: ['eu', 'la']\n",
      "------------------------------------------\n",
      "T1: Data: 4, Control Word: ['ep', 'lm']\n",
      "T2: Data: None, Control Word: ['cp']\n",
      "T3: Data: 3, Control Word: ['er', 'li']\n",
      "T4: Data: 12, Control Word: ['ea', 'lo']\n",
      "T5: Data: None, Control Word: []\n",
      "T6: Data: None, Control Word: []\n",
      "T7: Data: None, Control Word: []\n",
      "------------------------------------------\n",
      "T1: Data: 5, Control Word: ['ep', 'lm']\n",
      "T2: Data: None, Control Word: ['cp']\n",
      "T3: Data: 5, Control Word: ['er', 'li']\n",
      "T4: Data: 6, Control Word: ['ep', 'lm', 'cp']\n",
      "T5: Data: 10, Control Word: ['er', 'lm']\n",
      "T6: Data: 12, Control Word: ['ea', 'lr']\n",
      "T7: Data: None, Control Word: []\n",
      "------------------------------------------\n",
      "T1: Data: 7, Control Word: ['ep', 'lm']\n",
      "T2: Data: None, Control Word: ['cp']\n",
      "T3: Data: 4, Control Word: ['er', 'li']\n",
      "T4: Data: 8, Control Word: ['ep', 'lm', 'cp']\n",
      "T5: Data: 2, Control Word: ['er', 'lp']\n",
      "T6: Data: None, Control Word: []\n",
      "T7: Data: None, Control Word: []\n",
      "------------------------------------------\n",
      "T1: Data: 2, Control Word: ['ep', 'lm']\n",
      "T2: Data: None, Control Word: ['cp']\n",
      "T3: Data: 1, Control Word: ['er', 'li']\n",
      "T4: Data: 3, Control Word: ['ep', 'lm', 'cp']\n",
      "T5: Data: 10, Control Word: ['er', 'lm']\n",
      "T6: Data: 12, Control Word: ['er', 'lb']\n",
      "T7: Data: 24, Control Word: ['eu', 'la']\n",
      "------------------------------------------\n",
      "T1: Data: 4, Control Word: ['ep', 'lm']\n",
      "T2: Data: None, Control Word: ['cp']\n",
      "T3: Data: 3, Control Word: ['er', 'li']\n",
      "T4: Data: 24, Control Word: ['ea', 'lo']\n",
      "T5: Data: None, Control Word: []\n",
      "T6: Data: None, Control Word: []\n",
      "T7: Data: None, Control Word: []\n",
      "------------------------------------------\n",
      "T1: Data: 5, Control Word: ['ep', 'lm']\n",
      "T2: Data: None, Control Word: ['cp']\n",
      "T3: Data: 5, Control Word: ['er', 'li']\n",
      "T4: Data: 6, Control Word: ['ep', 'lm', 'cp']\n",
      "T5: Data: 10, Control Word: ['er', 'lm']\n",
      "T6: Data: 24, Control Word: ['ea', 'lr']\n",
      "T7: Data: None, Control Word: []\n",
      "------------------------------------------\n",
      "T1: Data: 7, Control Word: ['ep', 'lm']\n",
      "T2: Data: None, Control Word: ['cp']\n",
      "T3: Data: 4, Control Word: ['er', 'li']\n",
      "T4: Data: 8, Control Word: ['ep', 'lm', 'cp']\n",
      "T5: Data: 2, Control Word: ['er', 'lp']\n",
      "T6: Data: None, Control Word: []\n",
      "T7: Data: None, Control Word: []\n",
      "------------------------------------------\n",
      "T1: Data: 2, Control Word: ['ep', 'lm']\n",
      "T2: Data: None, Control Word: ['cp']\n",
      "T3: Data: 1, Control Word: ['er', 'li']\n",
      "T4: Data: 3, Control Word: ['ep', 'lm', 'cp']\n",
      "T5: Data: 10, Control Word: ['er', 'lm']\n",
      "T6: Data: 24, Control Word: ['er', 'lb']\n",
      "T7: Data: 48, Control Word: ['eu', 'la']\n",
      "------------------------------------------\n",
      "T1: Data: 4, Control Word: ['ep', 'lm']\n",
      "T2: Data: None, Control Word: ['cp']\n",
      "T3: Data: 3, Control Word: ['er', 'li']\n",
      "T4: Data: 48, Control Word: ['ea', 'lo']\n",
      "T5: Data: None, Control Word: []\n",
      "T6: Data: None, Control Word: []\n",
      "T7: Data: None, Control Word: []\n",
      "------------------------------------------\n",
      "T1: Data: 5, Control Word: ['ep', 'lm']\n",
      "T2: Data: None, Control Word: ['cp']\n",
      "T3: Data: 5, Control Word: ['er', 'li']\n",
      "T4: Data: 6, Control Word: ['ep', 'lm', 'cp']\n",
      "T5: Data: 10, Control Word: ['er', 'lm']\n",
      "T6: Data: 48, Control Word: ['ea', 'lr']\n",
      "T7: Data: None, Control Word: []\n",
      "------------------------------------------\n",
      "T1: Data: 7, Control Word: ['ep', 'lm']\n",
      "T2: Data: None, Control Word: ['cp']\n",
      "T3: Data: 4, Control Word: ['er', 'li']\n",
      "T4: Data: 8, Control Word: ['ep', 'lm', 'cp']\n",
      "T5: Data: 2, Control Word: ['er', 'lp']\n",
      "T6: Data: None, Control Word: []\n",
      "T7: Data: None, Control Word: []\n",
      "------------------------------------------\n",
      "T1: Data: 2, Control Word: ['ep', 'lm']\n",
      "T2: Data: None, Control Word: ['cp']\n",
      "T3: Data: 1, Control Word: ['er', 'li']\n",
      "T4: Data: 3, Control Word: ['ep', 'lm', 'cp']\n",
      "T5: Data: 10, Control Word: ['er', 'lm']\n",
      "T6: Data: 48, Control Word: ['er', 'lb']\n",
      "T7: Data: 96, Control Word: ['eu', 'la']\n",
      "------------------------------------------\n",
      "T1: Data: 4, Control Word: ['ep', 'lm']\n",
      "T2: Data: None, Control Word: ['cp']\n",
      "T3: Data: 3, Control Word: ['er', 'li']\n",
      "T4: Data: 96, Control Word: ['ea', 'lo']\n",
      "T5: Data: None, Control Word: []\n",
      "T6: Data: None, Control Word: []\n",
      "T7: Data: None, Control Word: []\n",
      "------------------------------------------\n",
      "T1: Data: 5, Control Word: ['ep', 'lm']\n",
      "T2: Data: None, Control Word: ['cp']\n",
      "T3: Data: 5, Control Word: ['er', 'li']\n",
      "T4: Data: 6, Control Word: ['ep', 'lm', 'cp']\n",
      "T5: Data: 10, Control Word: ['er', 'lm']\n",
      "T6: Data: 96, Control Word: ['ea', 'lr']\n",
      "T7: Data: None, Control Word: []\n",
      "------------------------------------------\n",
      "T1: Data: 7, Control Word: ['ep', 'lm']\n",
      "T2: Data: None, Control Word: ['cp']\n",
      "T3: Data: 4, Control Word: ['er', 'li']\n",
      "T4: Data: 8, Control Word: ['ep', 'lm', 'cp']\n",
      "T5: Data: 2, Control Word: ['er', 'lp']\n",
      "T6: Data: None, Control Word: []\n",
      "T7: Data: None, Control Word: []\n",
      "------------------------------------------\n",
      "T1: Data: 2, Control Word: ['ep', 'lm']\n",
      "T2: Data: None, Control Word: ['cp']\n",
      "T3: Data: 1, Control Word: ['er', 'li']\n",
      "T4: Data: 3, Control Word: ['ep', 'lm', 'cp']\n",
      "T5: Data: 10, Control Word: ['er', 'lm']\n",
      "T6: Data: 96, Control Word: ['er', 'lb']\n",
      "T7: Data: 192, Control Word: ['eu', 'la']\n",
      "------------------------------------------\n",
      "T1: Data: 4, Control Word: ['ep', 'lm']\n",
      "T2: Data: None, Control Word: ['cp']\n",
      "T3: Data: 3, Control Word: ['er', 'li']\n",
      "T4: Data: 192, Control Word: ['ea', 'lo']\n",
      "T5: Data: None, Control Word: []\n",
      "T6: Data: None, Control Word: []\n",
      "T7: Data: None, Control Word: []\n"
     ]
    },
    {
     "name": "stdout",
     "output_type": "stream",
     "text": [
      "------------------------------------------\n",
      "T1: Data: 5, Control Word: ['ep', 'lm']\n",
      "T2: Data: None, Control Word: ['cp']\n",
      "T3: Data: 5, Control Word: ['er', 'li']\n",
      "T4: Data: 6, Control Word: ['ep', 'lm', 'cp']\n",
      "T5: Data: 10, Control Word: ['er', 'lm']\n",
      "T6: Data: 192, Control Word: ['ea', 'lr']\n",
      "T7: Data: None, Control Word: []\n",
      "------------------------------------------\n",
      "T1: Data: 7, Control Word: ['ep', 'lm']\n",
      "T2: Data: None, Control Word: ['cp']\n",
      "T3: Data: 4, Control Word: ['er', 'li']\n",
      "T4: Data: 8, Control Word: ['ep', 'lm', 'cp']\n",
      "T5: Data: 2, Control Word: ['er', 'lp']\n",
      "T6: Data: None, Control Word: []\n",
      "T7: Data: None, Control Word: []\n",
      "------------------------------------------\n",
      "T1: Data: 2, Control Word: ['ep', 'lm']\n",
      "T2: Data: None, Control Word: ['cp']\n",
      "T3: Data: 1, Control Word: ['er', 'li']\n",
      "T4: Data: 3, Control Word: ['ep', 'lm', 'cp']\n",
      "T5: Data: 10, Control Word: ['er', 'lm']\n",
      "T6: Data: 192, Control Word: ['er', 'lb']\n",
      "T7: Data: 128, Control Word: ['eu', 'la']\n",
      "------------------------------------------\n",
      "T1: Data: 4, Control Word: ['ep', 'lm']\n",
      "T2: Data: None, Control Word: ['cp']\n",
      "T3: Data: 3, Control Word: ['er', 'li']\n",
      "T4: Data: 128, Control Word: ['ea', 'lo']\n",
      "T5: Data: None, Control Word: []\n",
      "T6: Data: None, Control Word: []\n",
      "T7: Data: None, Control Word: []\n",
      "------------------------------------------\n",
      "T1: Data: 5, Control Word: ['ep', 'lm']\n",
      "T2: Data: None, Control Word: ['cp']\n",
      "T3: Data: 5, Control Word: ['er', 'li']\n",
      "T4: Data: 6, Control Word: ['ep', 'lm', 'cp']\n",
      "T5: Data: 10, Control Word: ['er', 'lm']\n",
      "T6: Data: 128, Control Word: ['ea', 'lr']\n",
      "T7: Data: None, Control Word: []\n",
      "------------------------------------------\n",
      "T1: Data: 7, Control Word: ['ep', 'lm']\n",
      "T2: Data: None, Control Word: ['cp']\n",
      "T3: Data: 4, Control Word: ['er', 'li']\n",
      "T4: Data: 8, Control Word: ['ep', 'lm', 'cp']\n",
      "T5: Data: 2, Control Word: ['er', 'lp']\n",
      "T6: Data: None, Control Word: []\n",
      "T7: Data: None, Control Word: []\n",
      "------------------------------------------\n",
      "T1: Data: 2, Control Word: ['ep', 'lm']\n",
      "T2: Data: None, Control Word: ['cp']\n",
      "T3: Data: 1, Control Word: ['er', 'li']\n",
      "T4: Data: 3, Control Word: ['ep', 'lm', 'cp']\n",
      "T5: Data: 10, Control Word: ['er', 'lm']\n",
      "T6: Data: 128, Control Word: ['er', 'lb']\n",
      "T7: Data: 0, Control Word: ['eu', 'la']\n",
      "------------------------------------------\n",
      "T1: Data: 4, Control Word: ['ep', 'lm']\n",
      "T2: Data: None, Control Word: ['cp']\n",
      "T3: Data: 3, Control Word: ['er', 'li']\n",
      "T4: Data: 0, Control Word: ['ea', 'lo']\n",
      "T5: Data: None, Control Word: []\n",
      "T6: Data: None, Control Word: []\n",
      "T7: Data: None, Control Word: []\n",
      "------------------------------------------\n",
      "T1: Data: 5, Control Word: ['ep', 'lm']\n",
      "T2: Data: None, Control Word: ['cp']\n",
      "T3: Data: 5, Control Word: ['er', 'li']\n",
      "T4: Data: 6, Control Word: ['ep', 'lm', 'cp']\n",
      "T5: Data: 10, Control Word: ['er', 'lm']\n",
      "T6: Data: 0, Control Word: ['ea', 'lr']\n",
      "T7: Data: None, Control Word: []\n",
      "------------------------------------------\n",
      "T1: Data: 7, Control Word: ['ep', 'lm']\n",
      "T2: Data: None, Control Word: ['cp']\n",
      "T3: Data: 4, Control Word: ['er', 'li']\n",
      "T4: Data: 8, Control Word: ['ep', 'lm', 'cp']\n",
      "T5: Data: 2, Control Word: ['er', 'lp']\n",
      "T6: Data: None, Control Word: []\n",
      "T7: Data: None, Control Word: []\n",
      "------------------------------------------\n",
      "T1: Data: 2, Control Word: ['ep', 'lm']\n",
      "T2: Data: None, Control Word: ['cp']\n",
      "T3: Data: 1, Control Word: ['er', 'li']\n",
      "T4: Data: 3, Control Word: ['ep', 'lm', 'cp']\n",
      "T5: Data: 10, Control Word: ['er', 'lm']\n",
      "T6: Data: 0, Control Word: ['er', 'lb']\n",
      "T7: Data: 0, Control Word: ['eu', 'la']\n",
      "------------------------------------------\n",
      "T1: Data: 4, Control Word: ['ep', 'lm']\n",
      "T2: Data: None, Control Word: ['cp']\n",
      "T3: Data: 3, Control Word: ['er', 'li']\n",
      "T4: Data: 0, Control Word: ['ea', 'lo']\n",
      "T5: Data: None, Control Word: []\n",
      "T6: Data: None, Control Word: []\n",
      "T7: Data: None, Control Word: []\n",
      "------------------------------------------\n",
      "T1: Data: 5, Control Word: ['ep', 'lm']\n",
      "T2: Data: None, Control Word: ['cp']\n",
      "T3: Data: 5, Control Word: ['er', 'li']\n",
      "T4: Data: 6, Control Word: ['ep', 'lm', 'cp']\n",
      "T5: Data: 10, Control Word: ['er', 'lm']\n",
      "T6: Data: 0, Control Word: ['ea', 'lr']\n",
      "T7: Data: None, Control Word: []\n",
      "------------------------------------------\n",
      "T1: Data: 7, Control Word: ['ep', 'lm']\n",
      "T2: Data: None, Control Word: ['cp']\n",
      "T3: Data: 4, Control Word: ['er', 'li']\n",
      "T4: Data: 8, Control Word: ['ep', 'lm', 'cp']\n",
      "T5: Data: 2, Control Word: ['er', 'lp']\n",
      "T6: Data: None, Control Word: []\n",
      "T7: Data: None, Control Word: []\n",
      "------------------------------------------\n",
      "T1: Data: 2, Control Word: ['ep', 'lm']\n",
      "T2: Data: None, Control Word: ['cp']\n",
      "T3: Data: 1, Control Word: ['er', 'li']\n",
      "T4: Data: 3, Control Word: ['ep', 'lm', 'cp']\n",
      "T5: Data: 10, Control Word: ['er', 'lm']\n",
      "T6: Data: 0, Control Word: ['er', 'lb']\n",
      "T7: Data: 0, Control Word: ['eu', 'la']\n",
      "------------------------------------------\n",
      "T1: Data: 4, Control Word: ['ep', 'lm']\n",
      "T2: Data: None, Control Word: ['cp']\n",
      "T3: Data: 3, Control Word: ['er', 'li']\n",
      "T4: Data: 0, Control Word: ['ea', 'lo']\n",
      "T5: Data: None, Control Word: []\n",
      "T6: Data: None, Control Word: []\n",
      "T7: Data: None, Control Word: []\n",
      "------------------------------------------\n",
      "T1: Data: 5, Control Word: ['ep', 'lm']\n",
      "T2: Data: None, Control Word: ['cp']\n",
      "T3: Data: 5, Control Word: ['er', 'li']\n",
      "T4: Data: 6, Control Word: ['ep', 'lm', 'cp']\n",
      "T5: Data: 10, Control Word: ['er', 'lm']\n",
      "T6: Data: 0, Control Word: ['ea', 'lr']\n",
      "T7: Data: None, Control Word: []\n",
      "------------------------------------------\n",
      "T1: Data: 7, Control Word: ['ep', 'lm']\n",
      "T2: Data: None, Control Word: ['cp']\n",
      "T3: Data: 4, Control Word: ['er', 'li']\n",
      "T4: Data: 8, Control Word: ['ep', 'lm', 'cp']\n",
      "T5: Data: 2, Control Word: ['er', 'lp']\n",
      "T6: Data: None, Control Word: []\n",
      "T7: Data: None, Control Word: []\n",
      "------------------------------------------\n",
      "T1: Data: 2, Control Word: ['ep', 'lm']\n",
      "T2: Data: None, Control Word: ['cp']\n",
      "T3: Data: 1, Control Word: ['er', 'li']\n",
      "T4: Data: 3, Control Word: ['ep', 'lm', 'cp']\n",
      "T5: Data: 10, Control Word: ['er', 'lm']\n",
      "T6: Data: 0, Control Word: ['er', 'lb']\n",
      "T7: Data: 0, Control Word: ['eu', 'la']\n",
      "------------------------------------------\n",
      "T1: Data: 4, Control Word: ['ep', 'lm']\n",
      "T2: Data: None, Control Word: ['cp']\n",
      "T3: Data: 3, Control Word: ['er', 'li']\n",
      "T4: Data: 0, Control Word: ['ea', 'lo']\n",
      "T5: Data: None, Control Word: []\n",
      "T6: Data: None, Control Word: []\n",
      "T7: Data: None, Control Word: []\n",
      "------------------------------------------\n",
      "T1: Data: 5, Control Word: ['ep', 'lm']\n",
      "T2: Data: None, Control Word: ['cp']\n",
      "T3: Data: 5, Control Word: ['er', 'li']\n",
      "T4: Data: 6, Control Word: ['ep', 'lm', 'cp']\n",
      "T5: Data: 10, Control Word: ['er', 'lm']\n",
      "T6: Data: 0, Control Word: ['ea', 'lr']\n",
      "T7: Data: None, Control Word: []\n",
      "------------------------------------------\n",
      "T1: Data: 7, Control Word: ['ep', 'lm']\n",
      "T2: Data: None, Control Word: ['cp']\n",
      "T3: Data: 4, Control Word: ['er', 'li']\n",
      "T4: Data: 8, Control Word: ['ep', 'lm', 'cp']\n",
      "T5: Data: 2, Control Word: ['er', 'lp']\n",
      "T6: Data: None, Control Word: []\n",
      "T7: Data: None, Control Word: []\n",
      "------------------------------------------\n",
      "T1: Data: 2, Control Word: ['ep', 'lm']\n",
      "T2: Data: None, Control Word: ['cp']\n",
      "T3: Data: 1, Control Word: ['er', 'li']\n",
      "T4: Data: 3, Control Word: ['ep', 'lm', 'cp']\n",
      "T5: Data: 10, Control Word: ['er', 'lm']\n",
      "T6: Data: 0, Control Word: ['er', 'lb']\n",
      "T7: Data: 0, Control Word: ['eu', 'la']\n",
      "------------------------------------------\n",
      "T1: Data: 4, Control Word: ['ep', 'lm']\n",
      "T2: Data: None, Control Word: ['cp']\n",
      "T3: Data: 3, Control Word: ['er', 'li']\n",
      "T4: Data: 0, Control Word: ['ea', 'lo']\n",
      "T5: Data: None, Control Word: []\n",
      "T6: Data: None, Control Word: []\n",
      "T7: Data: None, Control Word: []\n",
      "------------------------------------------\n",
      "T1: Data: 5, Control Word: ['ep', 'lm']\n",
      "T2: Data: None, Control Word: ['cp']\n",
      "T3: Data: 5, Control Word: ['er', 'li']\n",
      "T4: Data: 6, Control Word: ['ep', 'lm', 'cp']\n",
      "T5: Data: 10, Control Word: ['er', 'lm']\n",
      "T6: Data: 0, Control Word: ['ea', 'lr']\n",
      "T7: Data: None, Control Word: []\n",
      "------------------------------------------\n",
      "T1: Data: 7, Control Word: ['ep', 'lm']\n",
      "T2: Data: None, Control Word: ['cp']\n",
      "T3: Data: 4, Control Word: ['er', 'li']\n",
      "T4: Data: 8, Control Word: ['ep', 'lm', 'cp']\n",
      "T5: Data: 2, Control Word: ['er', 'lp']\n",
      "T6: Data: None, Control Word: []\n",
      "T7: Data: None, Control Word: []\n",
      "------------------------------------------\n"
     ]
    },
    {
     "name": "stdout",
     "output_type": "stream",
     "text": [
      "T1: Data: 2, Control Word: ['ep', 'lm']\n",
      "T2: Data: None, Control Word: ['cp']\n",
      "T3: Data: 1, Control Word: ['er', 'li']\n",
      "T4: Data: 3, Control Word: ['ep', 'lm', 'cp']\n",
      "T5: Data: 10, Control Word: ['er', 'lm']\n",
      "T6: Data: 0, Control Word: ['er', 'lb']\n",
      "T7: Data: 0, Control Word: ['eu', 'la']\n",
      "------------------------------------------\n",
      "T1: Data: 4, Control Word: ['ep', 'lm']\n",
      "T2: Data: None, Control Word: ['cp']\n",
      "T3: Data: 3, Control Word: ['er', 'li']\n",
      "T4: Data: 0, Control Word: ['ea', 'lo']\n",
      "T5: Data: None, Control Word: []\n",
      "T6: Data: None, Control Word: []\n",
      "T7: Data: None, Control Word: []\n",
      "------------------------------------------\n",
      "T1: Data: 5, Control Word: ['ep', 'lm']\n",
      "T2: Data: None, Control Word: ['cp']\n",
      "T3: Data: 5, Control Word: ['er', 'li']\n",
      "T4: Data: 6, Control Word: ['ep', 'lm', 'cp']\n",
      "T5: Data: 10, Control Word: ['er', 'lm']\n",
      "T6: Data: 0, Control Word: ['ea', 'lr']\n",
      "T7: Data: None, Control Word: []\n",
      "------------------------------------------\n",
      "T1: Data: 7, Control Word: ['ep', 'lm']\n",
      "T2: Data: None, Control Word: ['cp']\n",
      "T3: Data: 4, Control Word: ['er', 'li']\n",
      "T4: Data: 8, Control Word: ['ep', 'lm', 'cp']\n",
      "T5: Data: 2, Control Word: ['er', 'lp']\n",
      "T6: Data: None, Control Word: []\n",
      "T7: Data: None, Control Word: []\n",
      "------------------------------------------\n",
      "T1: Data: 2, Control Word: ['ep', 'lm']\n",
      "T2: Data: None, Control Word: ['cp']\n",
      "T3: Data: 1, Control Word: ['er', 'li']\n",
      "T4: Data: 3, Control Word: ['ep', 'lm', 'cp']\n",
      "T5: Data: 10, Control Word: ['er', 'lm']\n",
      "T6: Data: 0, Control Word: ['er', 'lb']\n",
      "T7: Data: 0, Control Word: ['eu', 'la']\n",
      "------------------------------------------\n",
      "T1: Data: 4, Control Word: ['ep', 'lm']\n",
      "T2: Data: None, Control Word: ['cp']\n",
      "T3: Data: 3, Control Word: ['er', 'li']\n",
      "T4: Data: 0, Control Word: ['ea', 'lo']\n",
      "T5: Data: None, Control Word: []\n",
      "T6: Data: None, Control Word: []\n",
      "T7: Data: None, Control Word: []\n",
      "------------------------------------------\n",
      "T1: Data: 5, Control Word: ['ep', 'lm']\n",
      "T2: Data: None, Control Word: ['cp']\n",
      "T3: Data: 5, Control Word: ['er', 'li']\n",
      "T4: Data: 6, Control Word: ['ep', 'lm', 'cp']\n",
      "T5: Data: 10, Control Word: ['er', 'lm']\n",
      "T6: Data: 0, Control Word: ['ea', 'lr']\n",
      "T7: Data: None, Control Word: []\n",
      "------------------------------------------\n",
      "T1: Data: 7, Control Word: ['ep', 'lm']\n",
      "T2: Data: None, Control Word: ['cp']\n",
      "T3: Data: 4, Control Word: ['er', 'li']\n",
      "T4: Data: 8, Control Word: ['ep', 'lm', 'cp']\n",
      "T5: Data: 2, Control Word: ['er', 'lp']\n",
      "T6: Data: None, Control Word: []\n",
      "T7: Data: None, Control Word: []\n",
      "------------------------------------------\n",
      "T1: Data: 2, Control Word: ['ep', 'lm']\n",
      "T2: Data: None, Control Word: ['cp']\n",
      "T3: Data: 1, Control Word: ['er', 'li']\n",
      "T4: Data: 3, Control Word: ['ep', 'lm', 'cp']\n",
      "T5: Data: 10, Control Word: ['er', 'lm']\n",
      "T6: Data: 0, Control Word: ['er', 'lb']\n",
      "T7: Data: 0, Control Word: ['eu', 'la']\n",
      "------------------------------------------\n",
      "T1: Data: 4, Control Word: ['ep', 'lm']\n",
      "T2: Data: None, Control Word: ['cp']\n",
      "T3: Data: 3, Control Word: ['er', 'li']\n",
      "T4: Data: 0, Control Word: ['ea', 'lo']\n",
      "T5: Data: None, Control Word: []\n",
      "T6: Data: None, Control Word: []\n",
      "T7: Data: None, Control Word: []\n",
      "------------------------------------------\n",
      "T1: Data: 5, Control Word: ['ep', 'lm']\n",
      "T2: Data: None, Control Word: ['cp']\n",
      "T3: Data: 5, Control Word: ['er', 'li']\n",
      "T4: Data: 6, Control Word: ['ep', 'lm', 'cp']\n",
      "T5: Data: 10, Control Word: ['er', 'lm']\n",
      "T6: Data: 0, Control Word: ['ea', 'lr']\n",
      "T7: Data: None, Control Word: []\n",
      "------------------------------------------\n",
      "T1: Data: 7, Control Word: ['ep', 'lm']\n",
      "T2: Data: None, Control Word: ['cp']\n",
      "T3: Data: 4, Control Word: ['er', 'li']\n",
      "T4: Data: 8, Control Word: ['ep', 'lm', 'cp']\n",
      "T5: Data: 2, Control Word: ['er', 'lp']\n",
      "T6: Data: None, Control Word: []\n",
      "T7: Data: None, Control Word: []\n",
      "------------------------------------------\n",
      "T1: Data: 2, Control Word: ['ep', 'lm']\n",
      "T2: Data: None, Control Word: ['cp']\n",
      "T3: Data: 1, Control Word: ['er', 'li']\n",
      "T4: Data: 3, Control Word: ['ep', 'lm', 'cp']\n",
      "T5: Data: 10, Control Word: ['er', 'lm']\n",
      "T6: Data: 0, Control Word: ['er', 'lb']\n",
      "T7: Data: 0, Control Word: ['eu', 'la']\n",
      "------------------------------------------\n",
      "T1: Data: 4, Control Word: ['ep', 'lm']\n",
      "T2: Data: None, Control Word: ['cp']\n",
      "T3: Data: 3, Control Word: ['er', 'li']\n",
      "T4: Data: 0, Control Word: ['ea', 'lo']\n",
      "T5: Data: None, Control Word: []\n",
      "T6: Data: None, Control Word: []\n",
      "T7: Data: None, Control Word: []\n",
      "------------------------------------------\n",
      "T1: Data: 5, Control Word: ['ep', 'lm']\n",
      "T2: Data: None, Control Word: ['cp']\n",
      "T3: Data: 5, Control Word: ['er', 'li']\n",
      "T4: Data: 6, Control Word: ['ep', 'lm', 'cp']\n",
      "T5: Data: 10, Control Word: ['er', 'lm']\n",
      "T6: Data: 0, Control Word: ['ea', 'lr']\n",
      "T7: Data: None, Control Word: []\n",
      "------------------------------------------\n",
      "T1: Data: 7, Control Word: ['ep', 'lm']\n",
      "T2: Data: None, Control Word: ['cp']\n",
      "T3: Data: 4, Control Word: ['er', 'li']\n",
      "T4: Data: 8, Control Word: ['ep', 'lm', 'cp']\n",
      "T5: Data: 2, Control Word: ['er', 'lp']\n",
      "T6: Data: None, Control Word: []\n",
      "T7: Data: None, Control Word: []\n",
      "------------------------------------------\n",
      "T1: Data: 2, Control Word: ['ep', 'lm']\n",
      "T2: Data: None, Control Word: ['cp']\n",
      "T3: Data: 1, Control Word: ['er', 'li']\n",
      "T4: Data: 3, Control Word: ['ep', 'lm', 'cp']\n",
      "T5: Data: 10, Control Word: ['er', 'lm']\n",
      "T6: Data: 0, Control Word: ['er', 'lb']\n",
      "T7: Data: 0, Control Word: ['eu', 'la']\n",
      "------------------------------------------\n",
      "T1: Data: 4, Control Word: ['ep', 'lm']\n",
      "T2: Data: None, Control Word: ['cp']\n",
      "T3: Data: 3, Control Word: ['er', 'li']\n",
      "T4: Data: 0, Control Word: ['ea', 'lo']\n",
      "T5: Data: None, Control Word: []\n",
      "T6: Data: None, Control Word: []\n",
      "T7: Data: None, Control Word: []\n",
      "------------------------------------------\n",
      "T1: Data: 5, Control Word: ['ep', 'lm']\n",
      "T2: Data: None, Control Word: ['cp']\n",
      "T3: Data: 5, Control Word: ['er', 'li']\n",
      "T4: Data: 6, Control Word: ['ep', 'lm', 'cp']\n",
      "T5: Data: 10, Control Word: ['er', 'lm']\n",
      "T6: Data: 0, Control Word: ['ea', 'lr']\n",
      "T7: Data: None, Control Word: []\n",
      "------------------------------------------\n",
      "T1: Data: 7, Control Word: ['ep', 'lm']\n",
      "T2: Data: None, Control Word: ['cp']\n",
      "T3: Data: 4, Control Word: ['er', 'li']\n",
      "T4: Data: 8, Control Word: ['ep', 'lm', 'cp']\n",
      "T5: Data: 2, Control Word: ['er', 'lp']\n",
      "T6: Data: None, Control Word: []\n",
      "T7: Data: None, Control Word: []\n",
      "------------------------------------------\n",
      "T1: Data: 2, Control Word: ['ep', 'lm']\n",
      "T2: Data: None, Control Word: ['cp']\n",
      "T3: Data: 1, Control Word: ['er', 'li']\n",
      "T4: Data: 3, Control Word: ['ep', 'lm', 'cp']\n",
      "T5: Data: 10, Control Word: ['er', 'lm']\n",
      "T6: Data: 0, Control Word: ['er', 'lb']\n",
      "T7: Data: 0, Control Word: ['eu', 'la']\n",
      "------------------------------------------\n",
      "T1: Data: 4, Control Word: ['ep', 'lm']\n",
      "T2: Data: None, Control Word: ['cp']\n",
      "T3: Data: 3, Control Word: ['er', 'li']\n",
      "T4: Data: 0, Control Word: ['ea', 'lo']\n",
      "T5: Data: None, Control Word: []\n",
      "T6: Data: None, Control Word: []\n",
      "T7: Data: None, Control Word: []\n",
      "------------------------------------------\n",
      "T1: Data: 5, Control Word: ['ep', 'lm']\n",
      "T2: Data: None, Control Word: ['cp']\n",
      "T3: Data: 5, Control Word: ['er', 'li']\n",
      "T4: Data: 6, Control Word: ['ep', 'lm', 'cp']\n",
      "T5: Data: 10, Control Word: ['er', 'lm']\n",
      "T6: Data: 0, Control Word: ['ea', 'lr']\n",
      "T7: Data: None, Control Word: []\n",
      "------------------------------------------\n",
      "T1: Data: 7, Control Word: ['ep', 'lm']\n",
      "T2: Data: None, Control Word: ['cp']\n",
      "T3: Data: 4, Control Word: ['er', 'li']\n",
      "T4: Data: 8, Control Word: ['ep', 'lm', 'cp']\n",
      "T5: Data: 2, Control Word: ['er', 'lp']\n",
      "T6: Data: None, Control Word: []\n",
      "T7: Data: None, Control Word: []\n",
      "------------------------------------------\n",
      "T1: Data: 2, Control Word: ['ep', 'lm']\n",
      "T2: Data: None, Control Word: ['cp']\n",
      "T3: Data: 1, Control Word: ['er', 'li']\n",
      "T4: Data: 3, Control Word: ['ep', 'lm', 'cp']\n",
      "T5: Data: 10, Control Word: ['er', 'lm']\n",
      "T6: Data: 0, Control Word: ['er', 'lb']\n",
      "T7: Data: 0, Control Word: ['eu', 'la']\n",
      "------------------------------------------\n",
      "T1: Data: 4, Control Word: ['ep', 'lm']\n",
      "T2: Data: None, Control Word: ['cp']\n",
      "T3: Data: 3, Control Word: ['er', 'li']\n",
      "T4: Data: 0, Control Word: ['ea', 'lo']\n",
      "T5: Data: None, Control Word: []\n",
      "T6: Data: None, Control Word: []\n",
      "T7: Data: None, Control Word: []\n",
      "------------------------------------------\n",
      "T1: Data: 5, Control Word: ['ep', 'lm']\n",
      "T2: Data: None, Control Word: ['cp']\n",
      "T3: Data: 5, Control Word: ['er', 'li']\n",
      "T4: Data: 6, Control Word: ['ep', 'lm', 'cp']\n",
      "T5: Data: 10, Control Word: ['er', 'lm']\n",
      "T6: Data: 0, Control Word: ['ea', 'lr']\n",
      "T7: Data: None, Control Word: []\n",
      "------------------------------------------\n",
      "T1: Data: 7, Control Word: ['ep', 'lm']\n",
      "T2: Data: None, Control Word: ['cp']\n",
      "T3: Data: 4, Control Word: ['er', 'li']\n",
      "T4: Data: 8, Control Word: ['ep', 'lm', 'cp']\n",
      "T5: Data: 2, Control Word: ['er', 'lp']\n",
      "T6: Data: None, Control Word: []\n",
      "T7: Data: None, Control Word: []\n"
     ]
    },
    {
     "name": "stdout",
     "output_type": "stream",
     "text": [
      "------------------------------------------\n",
      "T1: Data: 2, Control Word: ['ep', 'lm']\n",
      "T2: Data: None, Control Word: ['cp']\n",
      "T3: Data: 1, Control Word: ['er', 'li']\n",
      "T4: Data: 3, Control Word: ['ep', 'lm', 'cp']\n",
      "T5: Data: 10, Control Word: ['er', 'lm']\n",
      "T6: Data: 0, Control Word: ['er', 'lb']\n",
      "T7: Data: 0, Control Word: ['eu', 'la']\n",
      "------------------------------------------\n",
      "T1: Data: 4, Control Word: ['ep', 'lm']\n",
      "T2: Data: None, Control Word: ['cp']\n",
      "T3: Data: 3, Control Word: ['er', 'li']\n",
      "T4: Data: 0, Control Word: ['ea', 'lo']\n",
      "T5: Data: None, Control Word: []\n",
      "T6: Data: None, Control Word: []\n",
      "T7: Data: None, Control Word: []\n",
      "------------------------------------------\n",
      "T1: Data: 5, Control Word: ['ep', 'lm']\n",
      "T2: Data: None, Control Word: ['cp']\n",
      "T3: Data: 5, Control Word: ['er', 'li']\n",
      "T4: Data: 6, Control Word: ['ep', 'lm', 'cp']\n",
      "T5: Data: 10, Control Word: ['er', 'lm']\n",
      "T6: Data: 0, Control Word: ['ea', 'lr']\n",
      "T7: Data: None, Control Word: []\n",
      "------------------------------------------\n",
      "T1: Data: 7, Control Word: ['ep', 'lm']\n",
      "T2: Data: None, Control Word: ['cp']\n",
      "T3: Data: 4, Control Word: ['er', 'li']\n",
      "T4: Data: 8, Control Word: ['ep', 'lm', 'cp']\n",
      "T5: Data: 2, Control Word: ['er', 'lp']\n",
      "T6: Data: None, Control Word: []\n",
      "T7: Data: None, Control Word: []\n",
      "------------------------------------------\n",
      "T1: Data: 2, Control Word: ['ep', 'lm']\n",
      "T2: Data: None, Control Word: ['cp']\n",
      "T3: Data: 1, Control Word: ['er', 'li']\n",
      "T4: Data: 3, Control Word: ['ep', 'lm', 'cp']\n",
      "T5: Data: 10, Control Word: ['er', 'lm']\n",
      "T6: Data: 0, Control Word: ['er', 'lb']\n",
      "T7: Data: 0, Control Word: ['eu', 'la']\n"
     ]
    },
    {
     "ename": "KeyboardInterrupt",
     "evalue": "",
     "output_type": "error",
     "traceback": [
      "\u001b[0;31m---------------------------------------------------------------------------\u001b[0m",
      "\u001b[0;31mKeyboardInterrupt\u001b[0m                         Traceback (most recent call last)",
      "\u001b[0;32m<ipython-input-74-b54f2268439b>\u001b[0m in \u001b[0;36m<module>\u001b[0;34m\u001b[0m\n\u001b[1;32m      1\u001b[0m \u001b[0;32mwhile\u001b[0m \u001b[0;32mTrue\u001b[0m\u001b[0;34m:\u001b[0m\u001b[0;34m\u001b[0m\u001b[0;34m\u001b[0m\u001b[0m\n\u001b[0;32m----> 2\u001b[0;31m     \u001b[0mtime\u001b[0m\u001b[0;34m.\u001b[0m\u001b[0msleep\u001b[0m\u001b[0;34m(\u001b[0m\u001b[0;36m.2\u001b[0m\u001b[0;34m)\u001b[0m\u001b[0;34m\u001b[0m\u001b[0;34m\u001b[0m\u001b[0m\n\u001b[0m\u001b[1;32m      3\u001b[0m     \u001b[0mcpu\u001b[0m\u001b[0;34m.\u001b[0m\u001b[0mstep\u001b[0m\u001b[0;34m(\u001b[0m\u001b[0minstructionwise\u001b[0m\u001b[0;34m=\u001b[0m\u001b[0;32mTrue\u001b[0m\u001b[0;34m,\u001b[0m \u001b[0mdebug\u001b[0m\u001b[0;34m=\u001b[0m\u001b[0;32mTrue\u001b[0m\u001b[0;34m)\u001b[0m\u001b[0;34m\u001b[0m\u001b[0;34m\u001b[0m\u001b[0m\n",
      "\u001b[0;31mKeyboardInterrupt\u001b[0m: "
     ]
    }
   ],
   "source": [
    "while True:\n",
    "    time.sleep(.2)\n",
    "    cpu.step(instructionwise=True, debug=True)"
   ]
  },
  {
   "cell_type": "code",
   "execution_count": 111,
   "metadata": {},
   "outputs": [
    {
     "name": "stdout",
     "output_type": "stream",
     "text": [
      "------------------------------------------\n",
      "T1: Data: 4, Control Word: ['ep', 'lm']\n",
      "T2: Data: None, Control Word: ['cp']\n",
      "T3: Data: 3, Control Word: ['er', 'li']\n",
      "T4: Data: 0, Control Word: ['ea', 'lo']\n",
      "T5: Data: None, Control Word: []\n",
      "T6: Data: None, Control Word: []\n",
      "T7: Data: None, Control Word: []\n"
     ]
    }
   ],
   "source": [
    "cpu.step(instructionwise=True, debug=True)"
   ]
  },
  {
   "cell_type": "code",
   "execution_count": null,
   "metadata": {},
   "outputs": [],
   "source": []
  },
  {
   "cell_type": "code",
   "execution_count": null,
   "metadata": {},
   "outputs": [],
   "source": []
  },
  {
   "cell_type": "code",
   "execution_count": null,
   "metadata": {},
   "outputs": [],
   "source": []
  },
  {
   "cell_type": "code",
   "execution_count": null,
   "metadata": {},
   "outputs": [],
   "source": []
  },
  {
   "cell_type": "code",
   "execution_count": null,
   "metadata": {},
   "outputs": [],
   "source": []
  },
  {
   "cell_type": "code",
   "execution_count": null,
   "metadata": {},
   "outputs": [],
   "source": []
  },
  {
   "cell_type": "code",
   "execution_count": null,
   "metadata": {},
   "outputs": [],
   "source": []
  },
  {
   "cell_type": "code",
   "execution_count": null,
   "metadata": {},
   "outputs": [],
   "source": []
  },
  {
   "cell_type": "code",
   "execution_count": null,
   "metadata": {},
   "outputs": [],
   "source": []
  },
  {
   "cell_type": "code",
   "execution_count": null,
   "metadata": {},
   "outputs": [],
   "source": []
  },
  {
   "cell_type": "code",
   "execution_count": null,
   "metadata": {},
   "outputs": [],
   "source": []
  },
  {
   "cell_type": "code",
   "execution_count": null,
   "metadata": {},
   "outputs": [],
   "source": []
  }
 ],
 "metadata": {
  "kernelspec": {
   "display_name": "Python 3",
   "language": "python",
   "name": "python3"
  },
  "language_info": {
   "codemirror_mode": {
    "name": "ipython",
    "version": 3
   },
   "file_extension": ".py",
   "mimetype": "text/x-python",
   "name": "python",
   "nbconvert_exporter": "python",
   "pygments_lexer": "ipython3",
   "version": "3.7.1"
  }
 },
 "nbformat": 4,
 "nbformat_minor": 2
}
