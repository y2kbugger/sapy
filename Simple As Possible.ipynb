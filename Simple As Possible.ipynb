{
 "cells": [
  {
   "cell_type": "code",
   "execution_count": 1,
   "metadata": {},
   "outputs": [],
   "source": [
    "%load_ext autoreload\n",
    "%autoreload 2\n"
   ]
  },
  {
   "cell_type": "code",
   "execution_count": 2,
   "metadata": {},
   "outputs": [],
   "source": [
    "import time\n",
    "from sapy.components import Clock, ProgramCounter, MemoryAddressRegister, \\\n",
    "    RandomAccessMemory, SwitchBoard, RegisterA, RegisterB, \\\n",
    "    RegisterOutput, ArithmeticUnit, RegisterInstruction, Computer\n"
   ]
  },
  {
   "cell_type": "markdown",
   "metadata": {},
   "source": [
    "# Hex and Binary Literals in Python"
   ]
  },
  {
   "cell_type": "code",
   "execution_count": 3,
   "metadata": {},
   "outputs": [
    {
     "data": {
      "text/plain": [
       "15"
      ]
     },
     "execution_count": 3,
     "metadata": {},
     "output_type": "execute_result"
    }
   ],
   "source": [
    "0xF"
   ]
  },
  {
   "cell_type": "code",
   "execution_count": 4,
   "metadata": {},
   "outputs": [
    {
     "data": {
      "text/plain": [
       "255"
      ]
     },
     "execution_count": 4,
     "metadata": {},
     "output_type": "execute_result"
    }
   ],
   "source": [
    "0xFF"
   ]
  },
  {
   "cell_type": "code",
   "execution_count": 5,
   "metadata": {},
   "outputs": [
    {
     "name": "stdout",
     "output_type": "stream",
     "text": [
      "15000\n",
      "255\n"
     ]
    }
   ],
   "source": [
    "print(15_000) # underscore as separators are allowed\n",
    "print(0b1111_1111)"
   ]
  },
  {
   "cell_type": "markdown",
   "metadata": {},
   "source": [
    "You can also format integers to HEX using X"
   ]
  },
  {
   "cell_type": "code",
   "execution_count": 6,
   "metadata": {},
   "outputs": [
    {
     "data": {
      "text/plain": [
       "'0xE8'"
      ]
     },
     "execution_count": 6,
     "metadata": {},
     "output_type": "execute_result"
    }
   ],
   "source": [
    "f\"0x{232:02X}\""
   ]
  },
  {
   "cell_type": "markdown",
   "metadata": {},
   "source": [
    "# Clocking Signals"
   ]
  },
  {
   "cell_type": "code",
   "execution_count": 7,
   "metadata": {},
   "outputs": [],
   "source": [
    "clk = Clock()\n",
    "class DummyComponent():\n",
    "    def data(self, con=tuple()):\n",
    "        print(\"data accessed\")\n",
    "        return 42\n",
    "    def clock(self, data, con=tuple()):\n",
    "        print(\"clock stepped\")\n",
    "\n",
    "dc = DummyComponent()\n",
    "clk.add_component(dc)"
   ]
  },
  {
   "cell_type": "code",
   "execution_count": 8,
   "metadata": {},
   "outputs": [
    {
     "name": "stdout",
     "output_type": "stream",
     "text": [
      "step 1: ---------\n",
      "data accessed\n",
      "------------------------------------------\n",
      "PCADDRESS: $2A\n",
      "T0: Data: $2A, Control Word: ('ep', 'lm', 'cp')\n",
      "clock stepped\n",
      "step 2: ---------\n",
      "data accessed\n",
      "T1: Data: $2A, Control Word: ('er', 'li')\n",
      "clock stepped\n"
     ]
    }
   ],
   "source": [
    "print(\"step 1: ---------\")\n",
    "clk.step()\n",
    "print(\"step 2: ---------\")\n",
    "clk.step()"
   ]
  },
  {
   "cell_type": "markdown",
   "metadata": {},
   "source": [
    "# Program Counter"
   ]
  },
  {
   "cell_type": "markdown",
   "metadata": {},
   "source": [
    "To enable a component to take an action on a clock, you pass in the correct control bit as a keyword argument. To enable the PC to output to the data but, use the \"ep\" control bit."
   ]
  },
  {
   "cell_type": "code",
   "execution_count": 9,
   "metadata": {},
   "outputs": [],
   "source": [
    "pc = ProgramCounter()"
   ]
  },
  {
   "cell_type": "code",
   "execution_count": 10,
   "metadata": {},
   "outputs": [],
   "source": [
    "pc.clock()\n",
    "pc.data()"
   ]
  },
  {
   "cell_type": "code",
   "execution_count": 11,
   "metadata": {},
   "outputs": [
    {
     "data": {
      "text/plain": [
       "0"
      ]
     },
     "execution_count": 11,
     "metadata": {},
     "output_type": "execute_result"
    }
   ],
   "source": [
    "pc.clock()\n",
    "pc.data(con=['ep'])"
   ]
  },
  {
   "cell_type": "code",
   "execution_count": 12,
   "metadata": {},
   "outputs": [
    {
     "data": {
      "text/plain": [
       "0"
      ]
     },
     "execution_count": 12,
     "metadata": {},
     "output_type": "execute_result"
    }
   ],
   "source": [
    "pc.clock()\n",
    "pc.data(con=['ep'])"
   ]
  },
  {
   "cell_type": "markdown",
   "metadata": {},
   "source": [
    "To increment the program counter, the control bit is \"cp\"."
   ]
  },
  {
   "cell_type": "code",
   "execution_count": 13,
   "metadata": {},
   "outputs": [
    {
     "data": {
      "text/plain": [
       "1"
      ]
     },
     "execution_count": 13,
     "metadata": {},
     "output_type": "execute_result"
    }
   ],
   "source": [
    "pc.clock(con=['cp'])\n",
    "pc.data(con=['ep'])"
   ]
  },
  {
   "cell_type": "code",
   "execution_count": 14,
   "metadata": {},
   "outputs": [
    {
     "data": {
      "text/plain": [
       "2"
      ]
     },
     "execution_count": 14,
     "metadata": {},
     "output_type": "execute_result"
    }
   ],
   "source": [
    "pc.clock(con=['cp'])\n",
    "pc.data(con=['ep'])"
   ]
  },
  {
   "cell_type": "code",
   "execution_count": 15,
   "metadata": {},
   "outputs": [
    {
     "data": {
      "text/plain": [
       "3"
      ]
     },
     "execution_count": 15,
     "metadata": {},
     "output_type": "execute_result"
    }
   ],
   "source": [
    "pc.clock(con=['cp'])\n",
    "pc.data(con=['ep'])"
   ]
  },
  {
   "cell_type": "markdown",
   "metadata": {},
   "source": [
    "For jump instructions you set the program counter directly. This is done with the \"lp\" control bit."
   ]
  },
  {
   "cell_type": "code",
   "execution_count": 16,
   "metadata": {
    "scrolled": true
   },
   "outputs": [
    {
     "name": "stdout",
     "output_type": "stream",
     "text": [
      "0x0D\n",
      "13\n"
     ]
    }
   ],
   "source": [
    "pc.clock(data=0xD, con=['lp'])\n",
    "print(f\"0x{pc.data(con=['ep']):02X}\")\n",
    "print(f\"{pc.data(con=['ep'])}\")"
   ]
  },
  {
   "cell_type": "markdown",
   "metadata": {},
   "source": [
    "# Accumulator (Register A)"
   ]
  },
  {
   "cell_type": "code",
   "execution_count": 17,
   "metadata": {},
   "outputs": [
    {
     "name": "stdout",
     "output_type": "stream",
     "text": [
      "The register value on reset is: 0x0\n",
      "The register has latched a value: 0xAB\n"
     ]
    }
   ],
   "source": [
    "reg_a = RegisterA()\n",
    "print(f\"The register value on reset is: 0x{reg_a.data(con=['ea']):0X}\")\n",
    "\n",
    "reg_a.clock(data=0xAB, con=['la'])\n",
    "reg_a.data(con=['ea'])\n",
    "print(f\"The register has latched a value: 0x{reg_a.data(con=['ea']):0X}\")\n"
   ]
  },
  {
   "cell_type": "markdown",
   "metadata": {},
   "source": [
    "# ALU\n",
    "## Arithmatic Logic Unit"
   ]
  },
  {
   "cell_type": "markdown",
   "metadata": {},
   "source": [
    "Some components have extra attributes that allow it to communicate directly to other components outside of the bus. \n",
    "\n",
    "The ALU is not clocked, it doesn't even have state. The data output from the ALU is alway the instantaneous sum (or difference) of Reg A + Reg B"
   ]
  },
  {
   "cell_type": "code",
   "execution_count": 18,
   "metadata": {},
   "outputs": [
    {
     "name": "stdout",
     "output_type": "stream",
     "text": [
      "\t0x04\n",
      "+\t0x03\n",
      "------------\n",
      "\t0x07\n"
     ]
    }
   ],
   "source": [
    "reg_a = RegisterA()\n",
    "reg_a.clock(data=4, con=['la'])\n",
    "\n",
    "reg_b = RegisterB()\n",
    "reg_b.clock(data=3, con=['lb'])\n",
    "\n",
    "alu = ArithmeticUnit(reg_a, reg_b)\n",
    "\n",
    "alu.data(con=['eu'])\n",
    "\n",
    "print(f\"\\t0x{reg_a.value:02X}\")\n",
    "print(f\"+\\t0x{reg_b.value:02X}\")\n",
    "print('-' * 12)\n",
    "print(f\"\\t0x{alu.data(con=['eu']):02X}\")"
   ]
  },
  {
   "cell_type": "code",
   "execution_count": 19,
   "metadata": {},
   "outputs": [
    {
     "name": "stdout",
     "output_type": "stream",
     "text": [
      "\t0x04\n",
      "+\t0x01\n",
      "------------\n",
      "\t0x05\n"
     ]
    }
   ],
   "source": [
    "# change the value of the register feeding the alu\n",
    "reg_b.clock(data=1, con=['lb'])\n",
    "alu.data(con=['eu'])\n",
    "\n",
    "print(f\"\\t0x{reg_a.value:02X}\")\n",
    "print(f\"+\\t0x{reg_b.value:02X}\")\n",
    "print('-' * 12)\n",
    "print(f\"\\t0x{alu.data(con=['eu']):02X}\")"
   ]
  },
  {
   "cell_type": "markdown",
   "metadata": {},
   "source": [
    "Subtraction"
   ]
  },
  {
   "cell_type": "code",
   "execution_count": 20,
   "metadata": {},
   "outputs": [
    {
     "name": "stdout",
     "output_type": "stream",
     "text": [
      "\t0x04\n",
      "-\t0x01\n",
      "------------\n",
      "\t0x03\n"
     ]
    }
   ],
   "source": [
    "\n",
    "print(f\"\\t0x{reg_a.value:02X}\")\n",
    "print(f\"-\\t0x{reg_b.value:02X}\")\n",
    "print('-' * 12)\n",
    "print(f\"\\t0x{alu.data(con=['eu', 'su']):02X}\")"
   ]
  },
  {
   "cell_type": "markdown",
   "metadata": {},
   "source": [
    "# Memory"
   ]
  },
  {
   "cell_type": "markdown",
   "metadata": {},
   "source": [
    "Ram is another example of a system that has communication outside the bus, it always access the RAM value stored at the address latched in the Memory Address Register."
   ]
  },
  {
   "cell_type": "code",
   "execution_count": 21,
   "metadata": {},
   "outputs": [
    {
     "name": "stdout",
     "output_type": "stream",
     "text": [
      "Memory Address: 0x0F\n",
      "Memory at address: 0x0F is 0xAB\n",
      "Memory at address: 15 is 171\n"
     ]
    }
   ],
   "source": [
    "mar = MemoryAddressRegister()\n",
    "ram = RandomAccessMemory(mar)\n",
    "\n",
    "# store address for ram in register\n",
    "mar.clock(data=0x0F, con=['lm'])\n",
    "print(f\"Memory Address: 0x{mar.value:02X}\")\n",
    "\n",
    "\n",
    "# clock data into ram at the address set above\n",
    "ram.clock(data=0xAB, con=['lr'])\n",
    "assert ram.data() == None\n",
    "print(f\"Memory at address: 0x{mar.value:02X} is 0x{ram.data(con=['er']):02X}\") # should be 0xAB\n",
    "print(f\"Memory at address: {mar.value} is {ram.data(con=['er'])}\") # just to demystify hex.."
   ]
  },
  {
   "cell_type": "markdown",
   "metadata": {},
   "source": [
    "# Controller: Sequencer + Decoder + Clock"
   ]
  },
  {
   "cell_type": "code",
   "execution_count": 22,
   "metadata": {},
   "outputs": [],
   "source": [
    "reg_i = RegisterInstruction()\n",
    "instruction = 0xFF # both opcode and argument, 8bits\n",
    "reg_i.clock(data=instruction, con=['li'])\n"
   ]
  },
  {
   "cell_type": "code",
   "execution_count": 23,
   "metadata": {},
   "outputs": [
    {
     "name": "stdout",
     "output_type": "stream",
     "text": [
      "The opcode is FF\n"
     ]
    }
   ],
   "source": [
    "print(f\"The opcode is {reg_i.value:X}\")"
   ]
  },
  {
   "cell_type": "markdown",
   "metadata": {},
   "source": [
    "# Example Sequencing: LDA"
   ]
  },
  {
   "cell_type": "code",
   "execution_count": 24,
   "metadata": {},
   "outputs": [
    {
     "name": "stdout",
     "output_type": "stream",
     "text": [
      "------------------------------------------\n",
      "PCADDRESS: $00\n",
      "T0: Data: $00, Control Word: ('ep', 'lm', 'cp')\n",
      "T1: Data: $00, Control Word: ('er', 'li')\n",
      "OPCODE: $00, MNE: LDA\n",
      "T2: Data: $01, Control Word: ('ep', 'lm', 'cp')\n",
      "T3: Data: $09, Control Word: ('er', 'lm')\n",
      "T4: Data: $00, Control Word: ('er', 'la')\n",
      "------------------------------------------\n",
      "PCADDRESS: $02\n",
      "T0: Data: $02, Control Word: ('ep', 'lm', 'cp')\n",
      "T1: Data: $00, Control Word: ('er', 'li')\n",
      "OPCODE: $00, MNE: LDA\n"
     ]
    }
   ],
   "source": [
    "from sapy.components import Computer\n",
    "\n",
    "cpu = Computer()\n",
    "rom = [\n",
    "    0x00, 0x09, # 0x0 LDA 09H\n",
    "    ]\n",
    "cpu.switches.load_program(rom)\n",
    "\n",
    "for _ in range(7):\n",
    "    cpu.step(debug=True) "
   ]
  },
  {
   "cell_type": "code",
   "execution_count": 25,
   "metadata": {
    "scrolled": true
   },
   "outputs": [
    {
     "name": "stdout",
     "output_type": "stream",
     "text": [
      "T2: Data: $03, Control Word: ('ep', 'lm', 'cp')\n"
     ]
    }
   ],
   "source": [
    "cpu.step(debug=True)"
   ]
  },
  {
   "cell_type": "markdown",
   "metadata": {},
   "source": [
    "# Output (Register O)"
   ]
  },
  {
   "cell_type": "code",
   "execution_count": 26,
   "metadata": {},
   "outputs": [
    {
     "name": "stdout",
     "output_type": "stream",
     "text": [
      "Output Display: 90\n"
     ]
    }
   ],
   "source": [
    "reg_o = RegisterOutput()\n",
    "reg_o.clock(data=0x90, con=['lo'])"
   ]
  },
  {
   "cell_type": "code",
   "execution_count": 27,
   "metadata": {},
   "outputs": [],
   "source": [
    "# monkey patch output function for fancy display\n",
    "def display_number(x):\n",
    "    print(f\"***### {x} ###***\")\n",
    "reg_o.output_function = display_number"
   ]
  },
  {
   "cell_type": "code",
   "execution_count": 29,
   "metadata": {},
   "outputs": [
    {
     "name": "stdout",
     "output_type": "stream",
     "text": [
      "***### 144 ###***\n"
     ]
    }
   ],
   "source": [
    "reg_o.clock(data=0x90, con=['lo'])"
   ]
  },
  {
   "cell_type": "markdown",
   "metadata": {},
   "source": [
    "# Full Computer with ROM"
   ]
  },
  {
   "cell_type": "code",
   "execution_count": 30,
   "metadata": {},
   "outputs": [],
   "source": [
    "cpu = Computer()\n",
    "rom = [\n",
    "    0x00, 0x07, # 0x00 LDA 07H\n",
    "    0x01, 0x08, # 0x02 ADD 08H\n",
    "    0xF6,       # 0x04 OTA\n",
    "    0x34, 0x02, # 0x05 JMP 02H\n",
    "    0x00,       # 0x07 A1H\n",
    "    0x03,       # 0x08 22H\n",
    "    ]\n",
    "cpu.switches.load_program(rom)"
   ]
  },
  {
   "cell_type": "code",
   "execution_count": 32,
   "metadata": {},
   "outputs": [
    {
     "name": "stdout",
     "output_type": "stream",
     "text": [
      "------------------------------------------\n",
      "PCADDRESS: $05\n",
      "T0: Data: $05, Control Word: ('ep', 'lm', 'cp')\n",
      "T1: Data: $34, Control Word: ('er', 'li')\n",
      "OPCODE: $34, MNE: JMP\n",
      "T2: Data: $06, Control Word: ('ep', 'lm', 'cp')\n",
      "T3: Data: $02, Control Word: ('er', 'lp')\n",
      "------------------------------------------\n",
      "PCADDRESS: $02\n",
      "T0: Data: $02, Control Word: ('ep', 'lm', 'cp')\n",
      "T1: Data: $01, Control Word: ('er', 'li')\n",
      "OPCODE: $01, MNE: ADD\n",
      "T2: Data: $03, Control Word: ('ep', 'lm', 'cp')\n",
      "T3: Data: $08, Control Word: ('er', 'lm')\n",
      "T4: Data: $03, Control Word: ('er', 'lb')\n",
      "T5: Data: $0C, Control Word: ('eu', 'la')\n",
      "------------------------------------------\n",
      "PCADDRESS: $04\n",
      "T0: Data: $04, Control Word: ('ep', 'lm', 'cp')\n",
      "T1: Data: $F6, Control Word: ('er', 'li')\n",
      "OPCODE: $F6, MNE: OTA\n",
      "T2: Data: $0C, Control Word: ('ea', 'lo')\n",
      "Output Display: C\n",
      "------------------------------------------\n",
      "PCADDRESS: $05\n",
      "T0: Data: $05, Control Word: ('ep', 'lm', 'cp')\n",
      "T1: Data: $34, Control Word: ('er', 'li')\n",
      "OPCODE: $34, MNE: JMP\n",
      "T2: Data: $06, Control Word: ('ep', 'lm', 'cp')\n",
      "T3: Data: $02, Control Word: ('er', 'lp')\n",
      "------------------------------------------\n",
      "PCADDRESS: $02\n",
      "T0: Data: $02, Control Word: ('ep', 'lm', 'cp')\n",
      "T1: Data: $01, Control Word: ('er', 'li')\n",
      "OPCODE: $01, MNE: ADD\n",
      "T2: Data: $03, Control Word: ('ep', 'lm', 'cp')\n",
      "T3: Data: $08, Control Word: ('er', 'lm')\n",
      "T4: Data: $03, Control Word: ('er', 'lb')\n",
      "T5: Data: $0F, Control Word: ('eu', 'la')\n"
     ]
    }
   ],
   "source": [
    "for _ in range(5):\n",
    "    cpu.step(instructionwise=True)"
   ]
  },
  {
   "cell_type": "code",
   "execution_count": 33,
   "metadata": {},
   "outputs": [
    {
     "name": "stdout",
     "output_type": "stream",
     "text": [
      "------------------------------------------\n",
      "PCADDRESS: $04\n",
      "T0: Data: $04, Control Word: ('ep', 'lm', 'cp')\n",
      "T1: Data: $F6, Control Word: ('er', 'li')\n",
      "OPCODE: $F6, MNE: OTA\n",
      "T2: Data: $0F, Control Word: ('ea', 'lo')\n",
      "Output Display: F\n",
      "------------------------------------------\n",
      "PCADDRESS: $05\n",
      "T0: Data: $05, Control Word: ('ep', 'lm', 'cp')\n",
      "T1: Data: $34, Control Word: ('er', 'li')\n",
      "OPCODE: $34, MNE: JMP\n",
      "T2: Data: $06, Control Word: ('ep', 'lm', 'cp')\n",
      "T3: Data: $02, Control Word: ('er', 'lp')\n",
      "------------------------------------------\n",
      "PCADDRESS: $02\n",
      "T0: Data: $02, Control Word: ('ep', 'lm', 'cp')\n",
      "T1: Data: $01, Control Word: ('er', 'li')\n",
      "OPCODE: $01, MNE: ADD\n",
      "T2: Data: $03, Control Word: ('ep', 'lm', 'cp')\n",
      "T3: Data: $08, Control Word: ('er', 'lm')\n",
      "T4: Data: $03, Control Word: ('er', 'lb')\n",
      "T5: Data: $12, Control Word: ('eu', 'la')\n"
     ]
    }
   ],
   "source": [
    "for _ in range(3):\n",
    "    cpu.step(instructionwise=True, debug=True)"
   ]
  },
  {
   "cell_type": "code",
   "execution_count": 34,
   "metadata": {},
   "outputs": [
    {
     "data": {
      "application/vnd.jupyter.widget-view+json": {
       "model_id": "5c298848c9fb4b2fbff272d7a2cabe32",
       "version_major": 2,
       "version_minor": 0
      },
      "text/plain": [
       "FloatText(value=0.0)"
      ]
     },
     "metadata": {},
     "output_type": "display_data"
    }
   ],
   "source": [
    "import ipywidgets as widgets\n",
    "from IPython.display import display\n",
    "gui_output_display = widgets.FloatText()\n",
    "display(gui_output_display)\n",
    "\n",
    "# monkey patch output function\n",
    "def display_number(x):\n",
    "    gui_output_display.value = x\n",
    "\n",
    "cpu.reg_o.output_function = display_number"
   ]
  },
  {
   "cell_type": "code",
   "execution_count": 35,
   "metadata": {},
   "outputs": [],
   "source": [
    "for _ in range(3):\n",
    "    time.sleep(.2)\n",
    "    cpu.step(instructionwise=True, debug=False)"
   ]
  },
  {
   "cell_type": "code",
   "execution_count": 37,
   "metadata": {},
   "outputs": [],
   "source": [
    "for _ in range(27):\n",
    "    time.sleep(.03)\n",
    "    cpu.step(instructionwise=True, debug=False)"
   ]
  },
  {
   "cell_type": "code",
   "execution_count": null,
   "metadata": {},
   "outputs": [],
   "source": [
    "while True:\n",
    "    time.sleep(.03)\n",
    "    cpu.step(instructionwise=True, debug=False)"
   ]
  },
  {
   "cell_type": "code",
   "execution_count": null,
   "metadata": {},
   "outputs": [],
   "source": [
    "cpu = Computer()\n",
    "rom = [\n",
    "    0x00, 0x09, # 0x00 LDA   09H\n",
    "    0x01, 0x0A, # 0x20 ADD  0AH\n",
    "    0xF6,       # 0x04 OTA\n",
    "    0x05, 0x0A, # 0x05 STA  0AH\n",
    "    0x04, 0x02, # 0x07 JMP $02H\n",
    "    0x01,       # 0x09 01H\n",
    "    0x02,       # 0x0A 02H\n",
    "    ]\n",
    "\n",
    "cpu.switches.load_program(rom)\n",
    "#cpu.reset()"
   ]
  },
  {
   "cell_type": "code",
   "execution_count": null,
   "metadata": {},
   "outputs": [],
   "source": [
    "import ipywidgets as widgets\n",
    "from IPython.display import display\n",
    "gui_output_display = widgets.FloatText()\n",
    "display(gui_output_display)\n",
    "\n",
    "# monkey patch output function\n",
    "def display_number(x):\n",
    "    gui_output_display.value = x\n",
    "\n",
    "cpu.reg_o.output_function = display_number"
   ]
  },
  {
   "cell_type": "code",
   "execution_count": null,
   "metadata": {},
   "outputs": [],
   "source": [
    "while True:\n",
    "    time.sleep(.2)\n",
    "    cpu.step(instructionwise=True, debug=True)"
   ]
  },
  {
   "cell_type": "code",
   "execution_count": null,
   "metadata": {},
   "outputs": [],
   "source": [
    "cpu.step(instructionwise=True, debug=True)"
   ]
  },
  {
   "cell_type": "code",
   "execution_count": null,
   "metadata": {},
   "outputs": [],
   "source": []
  },
  {
   "cell_type": "markdown",
   "metadata": {},
   "source": [
    "# DMA"
   ]
  },
  {
   "cell_type": "code",
   "execution_count": null,
   "metadata": {},
   "outputs": [],
   "source": [
    "%matplotlib notebook"
   ]
  },
  {
   "cell_type": "code",
   "execution_count": null,
   "metadata": {},
   "outputs": [],
   "source": [
    "import matplotlib\n",
    "import numpy as np\n",
    "import matplotlib.pyplot as plt"
   ]
  },
  {
   "cell_type": "code",
   "execution_count": null,
   "metadata": {},
   "outputs": [],
   "source": [
    "from sapy.assembler import assemble"
   ]
  },
  {
   "cell_type": "code",
   "execution_count": null,
   "metadata": {},
   "outputs": [],
   "source": [
    "cpu = Computer()\n",
    "countup = [\n",
    "    0x20, 0x99, # 0x00 LDA #$99\n",
    "    0x21, 0x09, # 0x20 ADD #$0A\n",
    "    0xFD,       # 0x04 DMA\n",
    "    0x05, 0x4A, # 0x05 STA  $4A\n",
    "    0x34, 0x02, # 0x07 JMP  $02\n",
    "    ]\n",
    "moveacross = [\n",
    "    0x20, 0x10, # 0x00 LDA #$10\n",
    "    0x21, 0x03, # 0x20 ADD #$03\n",
    "    0xFD,       # 0x04 DMA\n",
    "    0x35, 0x0B, # 0x05 STA  $0B\n",
    "    0x45, 0x0B, # 0x07 STA ($0B)\n",
    "    0x34, 0x02, # 0x09 JMP  $02\n",
    "    ]\n",
    "moveacross = \"\"\"\n",
    "    LDA #$10\n",
    "    loopback:\n",
    "    ADD #$03\n",
    "    DMA\n",
    "    STA  $0B\n",
    "    STA ($0B)\n",
    "    JMP  loop\n",
    "    \"\"\"\n",
    "\n",
    "moveacross_bytes = assemble(instructions)\n",
    "for address, byte in enumerate(moveacross_bytes):\n",
    "    print(f\"0x{address:02X}\\t${byte:02X}\")\n",
    "cpu.switches.load_program(moveacross_bytes)"
   ]
  },
  {
   "cell_type": "code",
   "execution_count": null,
   "metadata": {
    "scrolled": false
   },
   "outputs": [],
   "source": [
    "plt.ion()\n",
    "fig, ax = plt.subplots(1,1)\n",
    "initial_bitmap = np.zeros((0xF + 1, 0xF + 1))\n",
    "initial_bitmap[0,0] = 0xFF # get the color map set\n",
    "heatmap = ax.imshow(initial_bitmap)\n",
    "plt.show()\n",
    "\n",
    "def plt_memory(bitmap):\n",
    "    heatmap.set_data(bitmap)\n",
    "    fig.canvas.draw()\n",
    "    \n",
    "cpu.dma.connect_dma_handler(plt_memory)"
   ]
  },
  {
   "cell_type": "code",
   "execution_count": null,
   "metadata": {
    "scrolled": true
   },
   "outputs": [],
   "source": [
    "cpu.step(instructionwise=True, debug=True)"
   ]
  },
  {
   "cell_type": "code",
   "execution_count": null,
   "metadata": {
    "scrolled": true
   },
   "outputs": [],
   "source": [
    "n = 0\n",
    "for i in range(363):\n",
    "#while True:\n",
    "    #time.sleep(0.001)\n",
    "    n += 1\n",
    "    if n % 50 == 0:\n",
    "        print(n)\n",
    "    cpu.step(instructionwise=True, debug=False)"
   ]
  },
  {
   "cell_type": "code",
   "execution_count": null,
   "metadata": {},
   "outputs": [],
   "source": [
    "plt.show()"
   ]
  },
  {
   "cell_type": "code",
   "execution_count": null,
   "metadata": {},
   "outputs": [],
   "source": [
    "while True:\n",
    "    time.sleep(0.001)\n",
    "    n += 1\n",
    "    if n % 100 == 0:\n",
    "        print(n)\n",
    "    cpu.step(instructionwise=True, debug=False)"
   ]
  },
  {
   "cell_type": "code",
   "execution_count": null,
   "metadata": {},
   "outputs": [],
   "source": []
  },
  {
   "cell_type": "code",
   "execution_count": null,
   "metadata": {},
   "outputs": [],
   "source": []
  },
  {
   "cell_type": "code",
   "execution_count": null,
   "metadata": {},
   "outputs": [],
   "source": []
  },
  {
   "cell_type": "code",
   "execution_count": null,
   "metadata": {},
   "outputs": [],
   "source": [
    "#var name test\n",
    "LDA"
   ]
  },
  {
   "cell_type": "code",
   "execution_count": null,
   "metadata": {},
   "outputs": [],
   "source": [
    "0xF3 >> 4"
   ]
  },
  {
   "cell_type": "code",
   "execution_count": null,
   "metadata": {},
   "outputs": [],
   "source": []
  },
  {
   "cell_type": "code",
   "execution_count": null,
   "metadata": {},
   "outputs": [],
   "source": []
  }
 ],
 "metadata": {
  "kernelspec": {
   "display_name": "Python 3",
   "language": "python",
   "name": "python3"
  },
  "language_info": {
   "codemirror_mode": {
    "name": "ipython",
    "version": 3
   },
   "file_extension": ".py",
   "mimetype": "text/x-python",
   "name": "python",
   "nbconvert_exporter": "python",
   "pygments_lexer": "ipython3",
   "version": "3.7.1"
  }
 },
 "nbformat": 4,
 "nbformat_minor": 2
}
