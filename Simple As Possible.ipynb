{
 "cells": [
  {
   "cell_type": "code",
   "execution_count": 1,
   "metadata": {},
   "outputs": [],
   "source": [
    "%load_ext autoreload\n",
    "%autoreload 2"
   ]
  },
  {
   "cell_type": "code",
   "execution_count": 2,
   "metadata": {},
   "outputs": [],
   "source": [
    "import time\n",
    "from sapy.components import Clock, ProgramCounter, MemoryAddressRegister, \\\n",
    "    RandomAccessMemory, SwitchBoard, RegisterA, RegisterB, \\\n",
    "    RegisterOutput, ArithmeticUnit, RegisterInstruction, Computer, opcode_map\n",
    "from sapy.assembler import assemble"
   ]
  },
  {
   "cell_type": "markdown",
   "metadata": {},
   "source": [
    "# Hex and Binary Literals in Python"
   ]
  },
  {
   "cell_type": "code",
   "execution_count": 3,
   "metadata": {},
   "outputs": [
    {
     "data": {
      "text/plain": [
       "15"
      ]
     },
     "execution_count": 3,
     "metadata": {},
     "output_type": "execute_result"
    }
   ],
   "source": [
    "0xF"
   ]
  },
  {
   "cell_type": "code",
   "execution_count": 4,
   "metadata": {},
   "outputs": [
    {
     "data": {
      "text/plain": [
       "255"
      ]
     },
     "execution_count": 4,
     "metadata": {},
     "output_type": "execute_result"
    }
   ],
   "source": [
    "0xFF"
   ]
  },
  {
   "cell_type": "code",
   "execution_count": 5,
   "metadata": {},
   "outputs": [
    {
     "name": "stdout",
     "output_type": "stream",
     "text": [
      "15000\n",
      "255\n"
     ]
    }
   ],
   "source": [
    "print(15_000) # underscore as separators are allowed\n",
    "print(0b1111_1111)"
   ]
  },
  {
   "cell_type": "markdown",
   "metadata": {},
   "source": [
    "You can also format integers to HEX using X"
   ]
  },
  {
   "cell_type": "code",
   "execution_count": 6,
   "metadata": {},
   "outputs": [
    {
     "data": {
      "text/plain": [
       "'0xE8'"
      ]
     },
     "execution_count": 6,
     "metadata": {},
     "output_type": "execute_result"
    }
   ],
   "source": [
    "f\"0x{232:02X}\""
   ]
  },
  {
   "cell_type": "markdown",
   "metadata": {},
   "source": [
    "# Assembly Language"
   ]
  },
  {
   "cell_type": "code",
   "execution_count": 7,
   "metadata": {},
   "outputs": [
    {
     "name": "stdout",
     "output_type": "stream",
     "text": [
      "0x00  20 07   # LDA #$07  \n"
     ]
    },
    {
     "data": {
      "text/plain": [
       "[32, 7]"
      ]
     },
     "execution_count": 7,
     "metadata": {},
     "output_type": "execute_result"
    }
   ],
   "source": [
    "assemble(\"LDA #$07\")"
   ]
  },
  {
   "cell_type": "markdown",
   "metadata": {},
   "source": [
    "# Clocking Signals"
   ]
  },
  {
   "cell_type": "code",
   "execution_count": 8,
   "metadata": {},
   "outputs": [],
   "source": [
    "clk = Clock()\n",
    "class DummyComponent():\n",
    "    def data(self, con=tuple()):\n",
    "        print(\"data accessed\")\n",
    "        return 42\n",
    "    def clock(self, data, con=tuple()):\n",
    "        print(\"clock stepped\")\n",
    "\n",
    "dc = DummyComponent()\n",
    "clk.add_component(dc)"
   ]
  },
  {
   "cell_type": "code",
   "execution_count": 9,
   "metadata": {},
   "outputs": [
    {
     "name": "stdout",
     "output_type": "stream",
     "text": [
      "step 1: ---------\n",
      "data accessed\n",
      "------------------------------------------\n",
      "PCADDRESS: $2A\n",
      "T0: Data: $2A, Control Word: ('ep', 'lm', 'cp')\n",
      "clock stepped\n",
      "step 2: ---------\n",
      "data accessed\n",
      "T1: Data: $2A, Control Word: ('er', 'li')\n",
      "clock stepped\n"
     ]
    }
   ],
   "source": [
    "print(\"step 1: ---------\")\n",
    "clk.step()\n",
    "print(\"step 2: ---------\")\n",
    "clk.step()"
   ]
  },
  {
   "cell_type": "markdown",
   "metadata": {},
   "source": [
    "# Program Counter"
   ]
  },
  {
   "cell_type": "markdown",
   "metadata": {},
   "source": [
    "To enable a component to take an action on a clock, you pass in the correct control bit as a keyword argument. To enable the PC to output to the data but, use the \"ep\" control bit."
   ]
  },
  {
   "cell_type": "code",
   "execution_count": 10,
   "metadata": {},
   "outputs": [],
   "source": [
    "pc = ProgramCounter()"
   ]
  },
  {
   "cell_type": "code",
   "execution_count": 11,
   "metadata": {},
   "outputs": [],
   "source": [
    "pc.clock()\n",
    "pc.data()"
   ]
  },
  {
   "cell_type": "code",
   "execution_count": 12,
   "metadata": {},
   "outputs": [
    {
     "data": {
      "text/plain": [
       "0"
      ]
     },
     "execution_count": 12,
     "metadata": {},
     "output_type": "execute_result"
    }
   ],
   "source": [
    "pc.clock()\n",
    "pc.data(con=['ep'])"
   ]
  },
  {
   "cell_type": "code",
   "execution_count": 13,
   "metadata": {},
   "outputs": [
    {
     "data": {
      "text/plain": [
       "0"
      ]
     },
     "execution_count": 13,
     "metadata": {},
     "output_type": "execute_result"
    }
   ],
   "source": [
    "pc.clock()\n",
    "pc.data(con=['ep'])"
   ]
  },
  {
   "cell_type": "markdown",
   "metadata": {},
   "source": [
    "To increment the program counter, the control bit is \"cp\"."
   ]
  },
  {
   "cell_type": "code",
   "execution_count": 14,
   "metadata": {},
   "outputs": [
    {
     "data": {
      "text/plain": [
       "1"
      ]
     },
     "execution_count": 14,
     "metadata": {},
     "output_type": "execute_result"
    }
   ],
   "source": [
    "pc.clock(con=['cp'])\n",
    "pc.data(con=['ep'])"
   ]
  },
  {
   "cell_type": "code",
   "execution_count": 15,
   "metadata": {},
   "outputs": [
    {
     "data": {
      "text/plain": [
       "2"
      ]
     },
     "execution_count": 15,
     "metadata": {},
     "output_type": "execute_result"
    }
   ],
   "source": [
    "pc.clock(con=['cp'])\n",
    "pc.data(con=['ep'])"
   ]
  },
  {
   "cell_type": "code",
   "execution_count": 16,
   "metadata": {},
   "outputs": [
    {
     "data": {
      "text/plain": [
       "3"
      ]
     },
     "execution_count": 16,
     "metadata": {},
     "output_type": "execute_result"
    }
   ],
   "source": [
    "pc.clock(con=['cp'])\n",
    "pc.data(con=['ep'])"
   ]
  },
  {
   "cell_type": "markdown",
   "metadata": {},
   "source": [
    "For jump instructions you set the program counter directly. This is done with the \"lp\" control bit."
   ]
  },
  {
   "cell_type": "code",
   "execution_count": 17,
   "metadata": {
    "scrolled": true
   },
   "outputs": [
    {
     "name": "stdout",
     "output_type": "stream",
     "text": [
      "0x0D\n",
      "13\n"
     ]
    }
   ],
   "source": [
    "pc.clock(data=0xD, con=['lp'])\n",
    "print(f\"0x{pc.data(con=['ep']):02X}\")\n",
    "print(f\"{pc.data(con=['ep'])}\")"
   ]
  },
  {
   "cell_type": "markdown",
   "metadata": {},
   "source": [
    "# Accumulator (Register A)"
   ]
  },
  {
   "cell_type": "code",
   "execution_count": 18,
   "metadata": {},
   "outputs": [
    {
     "name": "stdout",
     "output_type": "stream",
     "text": [
      "The register value on reset is: 0x0\n",
      "The register has latched a value: 0xAB\n"
     ]
    }
   ],
   "source": [
    "reg_a = RegisterA()\n",
    "print(f\"The register value on reset is: 0x{reg_a.data(con=['ea']):0X}\")\n",
    "\n",
    "reg_a.clock(data=0xAB, con=['la'])\n",
    "reg_a.data(con=['ea'])\n",
    "print(f\"The register has latched a value: 0x{reg_a.data(con=['ea']):0X}\")\n"
   ]
  },
  {
   "cell_type": "markdown",
   "metadata": {},
   "source": [
    "# ALU\n",
    "## Arithmatic Logic Unit"
   ]
  },
  {
   "cell_type": "markdown",
   "metadata": {},
   "source": [
    "Some components have extra attributes that allow it to communicate directly to other components outside of the bus. \n",
    "\n",
    "The ALU is not clocked, it doesn't even have state. The data output from the ALU is alway the instantaneous sum (or difference) of Reg A + Reg B"
   ]
  },
  {
   "cell_type": "code",
   "execution_count": 19,
   "metadata": {},
   "outputs": [
    {
     "name": "stdout",
     "output_type": "stream",
     "text": [
      "\t0x04\n",
      "+\t0x03\n",
      "------------\n",
      "\t0x07\n"
     ]
    }
   ],
   "source": [
    "reg_a = RegisterA()\n",
    "reg_a.clock(data=4, con=['la'])\n",
    "\n",
    "reg_b = RegisterB()\n",
    "reg_b.clock(data=3, con=['lb'])\n",
    "\n",
    "alu = ArithmeticUnit(reg_a, reg_b)\n",
    "\n",
    "alu.data(con=['eu'])\n",
    "\n",
    "print(f\"\\t0x{reg_a.value:02X}\")\n",
    "print(f\"+\\t0x{reg_b.value:02X}\")\n",
    "print('-' * 12)\n",
    "print(f\"\\t0x{alu.data(con=['eu']):02X}\")"
   ]
  },
  {
   "cell_type": "code",
   "execution_count": 20,
   "metadata": {},
   "outputs": [
    {
     "name": "stdout",
     "output_type": "stream",
     "text": [
      "\t0x04\n",
      "+\t0x01\n",
      "------------\n",
      "\t0x05\n"
     ]
    }
   ],
   "source": [
    "# change the value of the register feeding the alu\n",
    "reg_b.clock(data=1, con=['lb'])\n",
    "alu.data(con=['eu'])\n",
    "\n",
    "print(f\"\\t0x{reg_a.value:02X}\")\n",
    "print(f\"+\\t0x{reg_b.value:02X}\")\n",
    "print('-' * 12)\n",
    "print(f\"\\t0x{alu.data(con=['eu']):02X}\")"
   ]
  },
  {
   "cell_type": "markdown",
   "metadata": {},
   "source": [
    "Subtraction"
   ]
  },
  {
   "cell_type": "code",
   "execution_count": 21,
   "metadata": {},
   "outputs": [
    {
     "name": "stdout",
     "output_type": "stream",
     "text": [
      "\t0x04\n",
      "-\t0x01\n",
      "------------\n",
      "\t0x03\n"
     ]
    }
   ],
   "source": [
    "\n",
    "print(f\"\\t0x{reg_a.value:02X}\")\n",
    "print(f\"-\\t0x{reg_b.value:02X}\")\n",
    "print('-' * 12)\n",
    "print(f\"\\t0x{alu.data(con=['eu', 'su']):02X}\")"
   ]
  },
  {
   "cell_type": "markdown",
   "metadata": {},
   "source": [
    "# Memory"
   ]
  },
  {
   "cell_type": "markdown",
   "metadata": {},
   "source": [
    "Ram is another example of a system that has communication outside the bus, it always access the RAM value stored at the address latched in the Memory Address Register."
   ]
  },
  {
   "cell_type": "code",
   "execution_count": 22,
   "metadata": {},
   "outputs": [
    {
     "name": "stdout",
     "output_type": "stream",
     "text": [
      "Memory Address: 0x0F\n",
      "Memory at address: 0x0F is 0xAB\n",
      "Memory at address: 15 is 171\n"
     ]
    }
   ],
   "source": [
    "mar = MemoryAddressRegister()\n",
    "ram = RandomAccessMemory(mar)\n",
    "\n",
    "# store address for ram in register\n",
    "mar.clock(data=0x0F, con=['lm'])\n",
    "print(f\"Memory Address: 0x{mar.value:02X}\")\n",
    "\n",
    "\n",
    "# clock data into ram at the address set above\n",
    "ram.clock(data=0xAB, con=['lr'])\n",
    "assert ram.data() == None\n",
    "print(f\"Memory at address: 0x{mar.value:02X} is 0x{ram.data(con=['er']):02X}\") # should be 0xAB\n",
    "print(f\"Memory at address: {mar.value} is {ram.data(con=['er'])}\") # just to demystify hex.."
   ]
  },
  {
   "cell_type": "markdown",
   "metadata": {},
   "source": [
    "# Controller: Sequencer + Decoder + Clock"
   ]
  },
  {
   "cell_type": "code",
   "execution_count": 23,
   "metadata": {},
   "outputs": [],
   "source": [
    "reg_i = RegisterInstruction()\n",
    "instruction = 0xFF # both opcode and argument, 8bits\n",
    "reg_i.clock(data=instruction, con=['li'])\n"
   ]
  },
  {
   "cell_type": "code",
   "execution_count": 24,
   "metadata": {},
   "outputs": [
    {
     "name": "stdout",
     "output_type": "stream",
     "text": [
      "The opcode is FF\n"
     ]
    }
   ],
   "source": [
    "print(f\"The opcode is {reg_i.value:X}\")"
   ]
  },
  {
   "cell_type": "markdown",
   "metadata": {},
   "source": [
    "# Example Sequencing: LDA"
   ]
  },
  {
   "cell_type": "code",
   "execution_count": 25,
   "metadata": {},
   "outputs": [
    {
     "name": "stdout",
     "output_type": "stream",
     "text": [
      "------------------------------------------\n",
      "PCADDRESS: $00\n",
      "T0: Data: $00, Control Word: ('ep', 'lm', 'cp')\n",
      "T1: Data: $00, Control Word: ('er', 'li')\n",
      "OPCODE: $00, MNE: LDA\n",
      "T2: Data: $01, Control Word: ('ep', 'lm', 'cp')\n",
      "T3: Data: $09, Control Word: ('er', 'lm')\n",
      "T4: Data: $00, Control Word: ('er', 'la')\n",
      "------------------------------------------\n",
      "PCADDRESS: $02\n",
      "T0: Data: $02, Control Word: ('ep', 'lm', 'cp')\n",
      "T1: Data: $00, Control Word: ('er', 'li')\n",
      "OPCODE: $00, MNE: LDA\n"
     ]
    }
   ],
   "source": [
    "from sapy.components import Computer\n",
    "\n",
    "cpu = Computer()\n",
    "rom = [\n",
    "    0x00, 0x09, # 0x0 LDA 09H\n",
    "    ]\n",
    "cpu.switches.load_program(rom)\n",
    "\n",
    "for _ in range(7):\n",
    "    cpu.step(debug=True) "
   ]
  },
  {
   "cell_type": "code",
   "execution_count": 26,
   "metadata": {
    "scrolled": true
   },
   "outputs": [
    {
     "name": "stdout",
     "output_type": "stream",
     "text": [
      "T2: Data: $03, Control Word: ('ep', 'lm', 'cp')\n"
     ]
    }
   ],
   "source": [
    "cpu.step(debug=True)"
   ]
  },
  {
   "cell_type": "markdown",
   "metadata": {},
   "source": [
    "# Output (Register O)"
   ]
  },
  {
   "cell_type": "code",
   "execution_count": 27,
   "metadata": {},
   "outputs": [
    {
     "name": "stdout",
     "output_type": "stream",
     "text": [
      "Output Display: 90\n"
     ]
    }
   ],
   "source": [
    "reg_o = RegisterOutput()\n",
    "reg_o.clock(data=0x90, con=['lo'])"
   ]
  },
  {
   "cell_type": "code",
   "execution_count": 28,
   "metadata": {},
   "outputs": [],
   "source": [
    "# monkey patch output function for fancy display\n",
    "def display_number(x):\n",
    "    print(f\"***### {x} ###***\")\n",
    "reg_o.output_function = display_number"
   ]
  },
  {
   "cell_type": "code",
   "execution_count": 29,
   "metadata": {},
   "outputs": [
    {
     "name": "stdout",
     "output_type": "stream",
     "text": [
      "***### 144 ###***\n"
     ]
    }
   ],
   "source": [
    "reg_o.clock(data=0x90, con=['lo'])"
   ]
  },
  {
   "cell_type": "markdown",
   "metadata": {},
   "source": [
    "# Full Computer with ROM"
   ]
  },
  {
   "cell_type": "code",
   "execution_count": 30,
   "metadata": {},
   "outputs": [],
   "source": [
    "cpu = Computer()\n",
    "rom = [\n",
    "    0x00, 0x07, # 0x00 LDA 07H\n",
    "    0x01, 0x08, # 0x02 ADD 08H\n",
    "    0xF6,       # 0x04 OTA\n",
    "    0x34, 0x02, # 0x05 JMP 02H\n",
    "    0x00,       # 0x07 A1H\n",
    "    0x03,       # 0x08 22H\n",
    "    ]\n",
    "cpu.switches.load_program(rom)"
   ]
  },
  {
   "cell_type": "code",
   "execution_count": 31,
   "metadata": {},
   "outputs": [
    {
     "name": "stdout",
     "output_type": "stream",
     "text": [
      "------------------------------------------\n",
      "PCADDRESS: $00\n",
      "T0: Data: $00, Control Word: ('ep', 'lm', 'cp')\n",
      "T1: Data: $00, Control Word: ('er', 'li')\n",
      "OPCODE: $00, MNE: LDA\n",
      "T2: Data: $01, Control Word: ('ep', 'lm', 'cp')\n",
      "T3: Data: $07, Control Word: ('er', 'lm')\n",
      "T4: Data: $00, Control Word: ('er', 'la')\n",
      "------------------------------------------\n",
      "PCADDRESS: $02\n",
      "T0: Data: $02, Control Word: ('ep', 'lm', 'cp')\n",
      "T1: Data: $01, Control Word: ('er', 'li')\n",
      "OPCODE: $01, MNE: ADD\n",
      "T2: Data: $03, Control Word: ('ep', 'lm', 'cp')\n",
      "T3: Data: $08, Control Word: ('er', 'lm')\n",
      "T4: Data: $03, Control Word: ('er', 'lb')\n",
      "T5: Data: $03, Control Word: ('eu', 'la')\n",
      "------------------------------------------\n",
      "PCADDRESS: $04\n",
      "T0: Data: $04, Control Word: ('ep', 'lm', 'cp')\n",
      "T1: Data: $F6, Control Word: ('er', 'li')\n",
      "OPCODE: $F6, MNE: OTA\n",
      "T2: Data: $03, Control Word: ('ea', 'lo')\n",
      "Output Display: 3\n",
      "------------------------------------------\n",
      "PCADDRESS: $05\n",
      "T0: Data: $05, Control Word: ('ep', 'lm', 'cp')\n",
      "T1: Data: $34, Control Word: ('er', 'li')\n",
      "OPCODE: $34, MNE: JMP\n",
      "T2: Data: $06, Control Word: ('ep', 'lm', 'cp')\n",
      "T3: Data: $02, Control Word: ('er', 'lp')\n",
      "------------------------------------------\n",
      "PCADDRESS: $02\n",
      "T0: Data: $02, Control Word: ('ep', 'lm', 'cp')\n",
      "T1: Data: $01, Control Word: ('er', 'li')\n",
      "OPCODE: $01, MNE: ADD\n",
      "T2: Data: $03, Control Word: ('ep', 'lm', 'cp')\n",
      "T3: Data: $08, Control Word: ('er', 'lm')\n",
      "T4: Data: $03, Control Word: ('er', 'lb')\n",
      "T5: Data: $06, Control Word: ('eu', 'la')\n"
     ]
    }
   ],
   "source": [
    "for _ in range(5):\n",
    "    cpu.step(instructionwise=True)"
   ]
  },
  {
   "cell_type": "code",
   "execution_count": 32,
   "metadata": {},
   "outputs": [
    {
     "name": "stdout",
     "output_type": "stream",
     "text": [
      "------------------------------------------\n",
      "PCADDRESS: $04\n",
      "T0: Data: $04, Control Word: ('ep', 'lm', 'cp')\n",
      "T1: Data: $F6, Control Word: ('er', 'li')\n",
      "OPCODE: $F6, MNE: OTA\n",
      "T2: Data: $06, Control Word: ('ea', 'lo')\n",
      "Output Display: 6\n",
      "------------------------------------------\n",
      "PCADDRESS: $05\n",
      "T0: Data: $05, Control Word: ('ep', 'lm', 'cp')\n",
      "T1: Data: $34, Control Word: ('er', 'li')\n",
      "OPCODE: $34, MNE: JMP\n",
      "T2: Data: $06, Control Word: ('ep', 'lm', 'cp')\n",
      "T3: Data: $02, Control Word: ('er', 'lp')\n",
      "------------------------------------------\n",
      "PCADDRESS: $02\n",
      "T0: Data: $02, Control Word: ('ep', 'lm', 'cp')\n",
      "T1: Data: $01, Control Word: ('er', 'li')\n",
      "OPCODE: $01, MNE: ADD\n",
      "T2: Data: $03, Control Word: ('ep', 'lm', 'cp')\n",
      "T3: Data: $08, Control Word: ('er', 'lm')\n",
      "T4: Data: $03, Control Word: ('er', 'lb')\n",
      "T5: Data: $09, Control Word: ('eu', 'la')\n"
     ]
    }
   ],
   "source": [
    "for _ in range(3):\n",
    "    cpu.step(instructionwise=True, debug=True)"
   ]
  },
  {
   "cell_type": "code",
   "execution_count": 33,
   "metadata": {},
   "outputs": [
    {
     "data": {
      "application/vnd.jupyter.widget-view+json": {
       "model_id": "5b6308cd5285466bbccebd33985b1405",
       "version_major": 2,
       "version_minor": 0
      },
      "text/plain": [
       "FloatText(value=0.0)"
      ]
     },
     "metadata": {},
     "output_type": "display_data"
    }
   ],
   "source": [
    "import ipywidgets as widgets\n",
    "from IPython.display import display\n",
    "gui_output_display = widgets.FloatText()\n",
    "display(gui_output_display)\n",
    "\n",
    "# monkey patch output function\n",
    "def display_number(x):\n",
    "    gui_output_display.value = x\n",
    "\n",
    "cpu.reg_o.output_function = display_number"
   ]
  },
  {
   "cell_type": "code",
   "execution_count": 34,
   "metadata": {},
   "outputs": [],
   "source": [
    "for _ in range(3):\n",
    "    time.sleep(.2)\n",
    "    cpu.step(instructionwise=True, debug=False)"
   ]
  },
  {
   "cell_type": "code",
   "execution_count": 35,
   "metadata": {},
   "outputs": [],
   "source": [
    "for _ in range(27):\n",
    "    time.sleep(.03)\n",
    "    cpu.step(instructionwise=True, debug=False)"
   ]
  },
  {
   "cell_type": "code",
   "execution_count": 36,
   "metadata": {},
   "outputs": [],
   "source": [
    "for _ in range(133):\n",
    "    time.sleep(.03)\n",
    "    cpu.step(instructionwise=True, debug=False)"
   ]
  },
  {
   "cell_type": "markdown",
   "metadata": {},
   "source": [
    "# DMA"
   ]
  },
  {
   "cell_type": "code",
   "execution_count": 62,
   "metadata": {},
   "outputs": [
    {
     "data": {
      "text/html": [
       "\n",
       "    <div class=\"bk-root\">\n",
       "        <a href=\"https://bokeh.pydata.org\" target=\"_blank\" class=\"bk-logo bk-logo-small bk-logo-notebook\"></a>\n",
       "        <span id=\"6007\">Loading BokehJS ...</span>\n",
       "    </div>"
      ]
     },
     "metadata": {},
     "output_type": "display_data"
    },
    {
     "data": {
      "application/javascript": [
       "\n",
       "(function(root) {\n",
       "  function now() {\n",
       "    return new Date();\n",
       "  }\n",
       "\n",
       "  var force = true;\n",
       "\n",
       "  if (typeof root._bokeh_onload_callbacks === \"undefined\" || force === true) {\n",
       "    root._bokeh_onload_callbacks = [];\n",
       "    root._bokeh_is_loading = undefined;\n",
       "  }\n",
       "\n",
       "  var JS_MIME_TYPE = 'application/javascript';\n",
       "  var HTML_MIME_TYPE = 'text/html';\n",
       "  var EXEC_MIME_TYPE = 'application/vnd.bokehjs_exec.v0+json';\n",
       "  var CLASS_NAME = 'output_bokeh rendered_html';\n",
       "\n",
       "  /**\n",
       "   * Render data to the DOM node\n",
       "   */\n",
       "  function render(props, node) {\n",
       "    var script = document.createElement(\"script\");\n",
       "    node.appendChild(script);\n",
       "  }\n",
       "\n",
       "  /**\n",
       "   * Handle when an output is cleared or removed\n",
       "   */\n",
       "  function handleClearOutput(event, handle) {\n",
       "    var cell = handle.cell;\n",
       "\n",
       "    var id = cell.output_area._bokeh_element_id;\n",
       "    var server_id = cell.output_area._bokeh_server_id;\n",
       "    // Clean up Bokeh references\n",
       "    if (id != null && id in Bokeh.index) {\n",
       "      Bokeh.index[id].model.document.clear();\n",
       "      delete Bokeh.index[id];\n",
       "    }\n",
       "\n",
       "    if (server_id !== undefined) {\n",
       "      // Clean up Bokeh references\n",
       "      var cmd = \"from bokeh.io.state import curstate; print(curstate().uuid_to_server['\" + server_id + \"'].get_sessions()[0].document.roots[0]._id)\";\n",
       "      cell.notebook.kernel.execute(cmd, {\n",
       "        iopub: {\n",
       "          output: function(msg) {\n",
       "            var id = msg.content.text.trim();\n",
       "            if (id in Bokeh.index) {\n",
       "              Bokeh.index[id].model.document.clear();\n",
       "              delete Bokeh.index[id];\n",
       "            }\n",
       "          }\n",
       "        }\n",
       "      });\n",
       "      // Destroy server and session\n",
       "      var cmd = \"import bokeh.io.notebook as ion; ion.destroy_server('\" + server_id + \"')\";\n",
       "      cell.notebook.kernel.execute(cmd);\n",
       "    }\n",
       "  }\n",
       "\n",
       "  /**\n",
       "   * Handle when a new output is added\n",
       "   */\n",
       "  function handleAddOutput(event, handle) {\n",
       "    var output_area = handle.output_area;\n",
       "    var output = handle.output;\n",
       "\n",
       "    // limit handleAddOutput to display_data with EXEC_MIME_TYPE content only\n",
       "    if ((output.output_type != \"display_data\") || (!output.data.hasOwnProperty(EXEC_MIME_TYPE))) {\n",
       "      return\n",
       "    }\n",
       "\n",
       "    var toinsert = output_area.element.find(\".\" + CLASS_NAME.split(' ')[0]);\n",
       "\n",
       "    if (output.metadata[EXEC_MIME_TYPE][\"id\"] !== undefined) {\n",
       "      toinsert[toinsert.length - 1].firstChild.textContent = output.data[JS_MIME_TYPE];\n",
       "      // store reference to embed id on output_area\n",
       "      output_area._bokeh_element_id = output.metadata[EXEC_MIME_TYPE][\"id\"];\n",
       "    }\n",
       "    if (output.metadata[EXEC_MIME_TYPE][\"server_id\"] !== undefined) {\n",
       "      var bk_div = document.createElement(\"div\");\n",
       "      bk_div.innerHTML = output.data[HTML_MIME_TYPE];\n",
       "      var script_attrs = bk_div.children[0].attributes;\n",
       "      for (var i = 0; i < script_attrs.length; i++) {\n",
       "        toinsert[toinsert.length - 1].firstChild.setAttribute(script_attrs[i].name, script_attrs[i].value);\n",
       "      }\n",
       "      // store reference to server id on output_area\n",
       "      output_area._bokeh_server_id = output.metadata[EXEC_MIME_TYPE][\"server_id\"];\n",
       "    }\n",
       "  }\n",
       "\n",
       "  function register_renderer(events, OutputArea) {\n",
       "\n",
       "    function append_mime(data, metadata, element) {\n",
       "      // create a DOM node to render to\n",
       "      var toinsert = this.create_output_subarea(\n",
       "        metadata,\n",
       "        CLASS_NAME,\n",
       "        EXEC_MIME_TYPE\n",
       "      );\n",
       "      this.keyboard_manager.register_events(toinsert);\n",
       "      // Render to node\n",
       "      var props = {data: data, metadata: metadata[EXEC_MIME_TYPE]};\n",
       "      render(props, toinsert[toinsert.length - 1]);\n",
       "      element.append(toinsert);\n",
       "      return toinsert\n",
       "    }\n",
       "\n",
       "    /* Handle when an output is cleared or removed */\n",
       "    events.on('clear_output.CodeCell', handleClearOutput);\n",
       "    events.on('delete.Cell', handleClearOutput);\n",
       "\n",
       "    /* Handle when a new output is added */\n",
       "    events.on('output_added.OutputArea', handleAddOutput);\n",
       "\n",
       "    /**\n",
       "     * Register the mime type and append_mime function with output_area\n",
       "     */\n",
       "    OutputArea.prototype.register_mime_type(EXEC_MIME_TYPE, append_mime, {\n",
       "      /* Is output safe? */\n",
       "      safe: true,\n",
       "      /* Index of renderer in `output_area.display_order` */\n",
       "      index: 0\n",
       "    });\n",
       "  }\n",
       "\n",
       "  // register the mime type if in Jupyter Notebook environment and previously unregistered\n",
       "  if (root.Jupyter !== undefined) {\n",
       "    var events = require('base/js/events');\n",
       "    var OutputArea = require('notebook/js/outputarea').OutputArea;\n",
       "\n",
       "    if (OutputArea.prototype.mime_types().indexOf(EXEC_MIME_TYPE) == -1) {\n",
       "      register_renderer(events, OutputArea);\n",
       "    }\n",
       "  }\n",
       "\n",
       "  \n",
       "  if (typeof (root._bokeh_timeout) === \"undefined\" || force === true) {\n",
       "    root._bokeh_timeout = Date.now() + 5000;\n",
       "    root._bokeh_failed_load = false;\n",
       "  }\n",
       "\n",
       "  var NB_LOAD_WARNING = {'data': {'text/html':\n",
       "     \"<div style='background-color: #fdd'>\\n\"+\n",
       "     \"<p>\\n\"+\n",
       "     \"BokehJS does not appear to have successfully loaded. If loading BokehJS from CDN, this \\n\"+\n",
       "     \"may be due to a slow or bad network connection. Possible fixes:\\n\"+\n",
       "     \"</p>\\n\"+\n",
       "     \"<ul>\\n\"+\n",
       "     \"<li>re-rerun `output_notebook()` to attempt to load from CDN again, or</li>\\n\"+\n",
       "     \"<li>use INLINE resources instead, as so:</li>\\n\"+\n",
       "     \"</ul>\\n\"+\n",
       "     \"<code>\\n\"+\n",
       "     \"from bokeh.resources import INLINE\\n\"+\n",
       "     \"output_notebook(resources=INLINE)\\n\"+\n",
       "     \"</code>\\n\"+\n",
       "     \"</div>\"}};\n",
       "\n",
       "  function display_loaded() {\n",
       "    var el = document.getElementById(\"6007\");\n",
       "    if (el != null) {\n",
       "      el.textContent = \"BokehJS is loading...\";\n",
       "    }\n",
       "    if (root.Bokeh !== undefined) {\n",
       "      if (el != null) {\n",
       "        el.textContent = \"BokehJS \" + root.Bokeh.version + \" successfully loaded.\";\n",
       "      }\n",
       "    } else if (Date.now() < root._bokeh_timeout) {\n",
       "      setTimeout(display_loaded, 100)\n",
       "    }\n",
       "  }\n",
       "\n",
       "\n",
       "  function run_callbacks() {\n",
       "    try {\n",
       "      root._bokeh_onload_callbacks.forEach(function(callback) {\n",
       "        if (callback != null)\n",
       "          callback();\n",
       "      });\n",
       "    } finally {\n",
       "      delete root._bokeh_onload_callbacks\n",
       "    }\n",
       "    console.debug(\"Bokeh: all callbacks have finished\");\n",
       "  }\n",
       "\n",
       "  function load_libs(css_urls, js_urls, callback) {\n",
       "    if (css_urls == null) css_urls = [];\n",
       "    if (js_urls == null) js_urls = [];\n",
       "\n",
       "    root._bokeh_onload_callbacks.push(callback);\n",
       "    if (root._bokeh_is_loading > 0) {\n",
       "      console.debug(\"Bokeh: BokehJS is being loaded, scheduling callback at\", now());\n",
       "      return null;\n",
       "    }\n",
       "    if (js_urls == null || js_urls.length === 0) {\n",
       "      run_callbacks();\n",
       "      return null;\n",
       "    }\n",
       "    console.debug(\"Bokeh: BokehJS not loaded, scheduling load and callback at\", now());\n",
       "    root._bokeh_is_loading = css_urls.length + js_urls.length;\n",
       "\n",
       "    function on_load() {\n",
       "      root._bokeh_is_loading--;\n",
       "      if (root._bokeh_is_loading === 0) {\n",
       "        console.debug(\"Bokeh: all BokehJS libraries/stylesheets loaded\");\n",
       "        run_callbacks()\n",
       "      }\n",
       "    }\n",
       "\n",
       "    function on_error() {\n",
       "      console.error(\"failed to load \" + url);\n",
       "    }\n",
       "\n",
       "    for (var i = 0; i < css_urls.length; i++) {\n",
       "      var url = css_urls[i];\n",
       "      const element = document.createElement(\"link\");\n",
       "      element.onload = on_load;\n",
       "      element.onerror = on_error;\n",
       "      element.rel = \"stylesheet\";\n",
       "      element.type = \"text/css\";\n",
       "      element.href = url;\n",
       "      console.debug(\"Bokeh: injecting link tag for BokehJS stylesheet: \", url);\n",
       "      document.body.appendChild(element);\n",
       "    }\n",
       "\n",
       "    for (var i = 0; i < js_urls.length; i++) {\n",
       "      var url = js_urls[i];\n",
       "      var element = document.createElement('script');\n",
       "      element.onload = on_load;\n",
       "      element.onerror = on_error;\n",
       "      element.async = false;\n",
       "      element.src = url;\n",
       "      console.debug(\"Bokeh: injecting script tag for BokehJS library: \", url);\n",
       "      document.head.appendChild(element);\n",
       "    }\n",
       "  };var element = document.getElementById(\"6007\");\n",
       "  if (element == null) {\n",
       "    console.error(\"Bokeh: ERROR: autoload.js configured with elementid '6007' but no matching script tag was found. \")\n",
       "    return false;\n",
       "  }\n",
       "\n",
       "  function inject_raw_css(css) {\n",
       "    const element = document.createElement(\"style\");\n",
       "    element.appendChild(document.createTextNode(css));\n",
       "    document.body.appendChild(element);\n",
       "  }\n",
       "\n",
       "  var js_urls = [\"https://cdn.pydata.org/bokeh/release/bokeh-1.3.0.min.js\", \"https://cdn.pydata.org/bokeh/release/bokeh-widgets-1.3.0.min.js\", \"https://cdn.pydata.org/bokeh/release/bokeh-tables-1.3.0.min.js\", \"https://cdn.pydata.org/bokeh/release/bokeh-gl-1.3.0.min.js\"];\n",
       "  var css_urls = [];\n",
       "\n",
       "  var inline_js = [\n",
       "    function(Bokeh) {\n",
       "      Bokeh.set_log_level(\"info\");\n",
       "    },\n",
       "    \n",
       "    function(Bokeh) {\n",
       "      \n",
       "    },\n",
       "    function(Bokeh) {} // ensure no trailing comma for IE\n",
       "  ];\n",
       "\n",
       "  function run_inline_js() {\n",
       "    \n",
       "    if ((root.Bokeh !== undefined) || (force === true)) {\n",
       "      for (var i = 0; i < inline_js.length; i++) {\n",
       "        inline_js[i].call(root, root.Bokeh);\n",
       "      }if (force === true) {\n",
       "        display_loaded();\n",
       "      }} else if (Date.now() < root._bokeh_timeout) {\n",
       "      setTimeout(run_inline_js, 100);\n",
       "    } else if (!root._bokeh_failed_load) {\n",
       "      console.log(\"Bokeh: BokehJS failed to load within specified timeout.\");\n",
       "      root._bokeh_failed_load = true;\n",
       "    } else if (force !== true) {\n",
       "      var cell = $(document.getElementById(\"6007\")).parents('.cell').data().cell;\n",
       "      cell.output_area.append_execute_result(NB_LOAD_WARNING)\n",
       "    }\n",
       "\n",
       "  }\n",
       "\n",
       "  if (root._bokeh_is_loading === 0) {\n",
       "    console.debug(\"Bokeh: BokehJS loaded, going straight to plotting\");\n",
       "    run_inline_js();\n",
       "  } else {\n",
       "    load_libs(css_urls, js_urls, function() {\n",
       "      console.debug(\"Bokeh: BokehJS plotting callback run at\", now());\n",
       "      run_inline_js();\n",
       "    });\n",
       "  }\n",
       "}(window));"
      ],
      "application/vnd.bokehjs_load.v0+json": "\n(function(root) {\n  function now() {\n    return new Date();\n  }\n\n  var force = true;\n\n  if (typeof root._bokeh_onload_callbacks === \"undefined\" || force === true) {\n    root._bokeh_onload_callbacks = [];\n    root._bokeh_is_loading = undefined;\n  }\n\n  \n\n  \n  if (typeof (root._bokeh_timeout) === \"undefined\" || force === true) {\n    root._bokeh_timeout = Date.now() + 5000;\n    root._bokeh_failed_load = false;\n  }\n\n  var NB_LOAD_WARNING = {'data': {'text/html':\n     \"<div style='background-color: #fdd'>\\n\"+\n     \"<p>\\n\"+\n     \"BokehJS does not appear to have successfully loaded. If loading BokehJS from CDN, this \\n\"+\n     \"may be due to a slow or bad network connection. Possible fixes:\\n\"+\n     \"</p>\\n\"+\n     \"<ul>\\n\"+\n     \"<li>re-rerun `output_notebook()` to attempt to load from CDN again, or</li>\\n\"+\n     \"<li>use INLINE resources instead, as so:</li>\\n\"+\n     \"</ul>\\n\"+\n     \"<code>\\n\"+\n     \"from bokeh.resources import INLINE\\n\"+\n     \"output_notebook(resources=INLINE)\\n\"+\n     \"</code>\\n\"+\n     \"</div>\"}};\n\n  function display_loaded() {\n    var el = document.getElementById(\"6007\");\n    if (el != null) {\n      el.textContent = \"BokehJS is loading...\";\n    }\n    if (root.Bokeh !== undefined) {\n      if (el != null) {\n        el.textContent = \"BokehJS \" + root.Bokeh.version + \" successfully loaded.\";\n      }\n    } else if (Date.now() < root._bokeh_timeout) {\n      setTimeout(display_loaded, 100)\n    }\n  }\n\n\n  function run_callbacks() {\n    try {\n      root._bokeh_onload_callbacks.forEach(function(callback) {\n        if (callback != null)\n          callback();\n      });\n    } finally {\n      delete root._bokeh_onload_callbacks\n    }\n    console.debug(\"Bokeh: all callbacks have finished\");\n  }\n\n  function load_libs(css_urls, js_urls, callback) {\n    if (css_urls == null) css_urls = [];\n    if (js_urls == null) js_urls = [];\n\n    root._bokeh_onload_callbacks.push(callback);\n    if (root._bokeh_is_loading > 0) {\n      console.debug(\"Bokeh: BokehJS is being loaded, scheduling callback at\", now());\n      return null;\n    }\n    if (js_urls == null || js_urls.length === 0) {\n      run_callbacks();\n      return null;\n    }\n    console.debug(\"Bokeh: BokehJS not loaded, scheduling load and callback at\", now());\n    root._bokeh_is_loading = css_urls.length + js_urls.length;\n\n    function on_load() {\n      root._bokeh_is_loading--;\n      if (root._bokeh_is_loading === 0) {\n        console.debug(\"Bokeh: all BokehJS libraries/stylesheets loaded\");\n        run_callbacks()\n      }\n    }\n\n    function on_error() {\n      console.error(\"failed to load \" + url);\n    }\n\n    for (var i = 0; i < css_urls.length; i++) {\n      var url = css_urls[i];\n      const element = document.createElement(\"link\");\n      element.onload = on_load;\n      element.onerror = on_error;\n      element.rel = \"stylesheet\";\n      element.type = \"text/css\";\n      element.href = url;\n      console.debug(\"Bokeh: injecting link tag for BokehJS stylesheet: \", url);\n      document.body.appendChild(element);\n    }\n\n    for (var i = 0; i < js_urls.length; i++) {\n      var url = js_urls[i];\n      var element = document.createElement('script');\n      element.onload = on_load;\n      element.onerror = on_error;\n      element.async = false;\n      element.src = url;\n      console.debug(\"Bokeh: injecting script tag for BokehJS library: \", url);\n      document.head.appendChild(element);\n    }\n  };var element = document.getElementById(\"6007\");\n  if (element == null) {\n    console.error(\"Bokeh: ERROR: autoload.js configured with elementid '6007' but no matching script tag was found. \")\n    return false;\n  }\n\n  function inject_raw_css(css) {\n    const element = document.createElement(\"style\");\n    element.appendChild(document.createTextNode(css));\n    document.body.appendChild(element);\n  }\n\n  var js_urls = [\"https://cdn.pydata.org/bokeh/release/bokeh-1.3.0.min.js\", \"https://cdn.pydata.org/bokeh/release/bokeh-widgets-1.3.0.min.js\", \"https://cdn.pydata.org/bokeh/release/bokeh-tables-1.3.0.min.js\", \"https://cdn.pydata.org/bokeh/release/bokeh-gl-1.3.0.min.js\"];\n  var css_urls = [];\n\n  var inline_js = [\n    function(Bokeh) {\n      Bokeh.set_log_level(\"info\");\n    },\n    \n    function(Bokeh) {\n      \n    },\n    function(Bokeh) {} // ensure no trailing comma for IE\n  ];\n\n  function run_inline_js() {\n    \n    if ((root.Bokeh !== undefined) || (force === true)) {\n      for (var i = 0; i < inline_js.length; i++) {\n        inline_js[i].call(root, root.Bokeh);\n      }if (force === true) {\n        display_loaded();\n      }} else if (Date.now() < root._bokeh_timeout) {\n      setTimeout(run_inline_js, 100);\n    } else if (!root._bokeh_failed_load) {\n      console.log(\"Bokeh: BokehJS failed to load within specified timeout.\");\n      root._bokeh_failed_load = true;\n    } else if (force !== true) {\n      var cell = $(document.getElementById(\"6007\")).parents('.cell').data().cell;\n      cell.output_area.append_execute_result(NB_LOAD_WARNING)\n    }\n\n  }\n\n  if (root._bokeh_is_loading === 0) {\n    console.debug(\"Bokeh: BokehJS loaded, going straight to plotting\");\n    run_inline_js();\n  } else {\n    load_libs(css_urls, js_urls, function() {\n      console.debug(\"Bokeh: BokehJS plotting callback run at\", now());\n      run_inline_js();\n    });\n  }\n}(window));"
     },
     "metadata": {},
     "output_type": "display_data"
    }
   ],
   "source": [
    "import numpy as np\n",
    "import ipywidgets as widgets\n",
    "from bokeh.io import push_notebook, show, output_notebook\n",
    "from bokeh.models import HoverTool\n",
    "from bokeh.plotting import figure\n",
    "output_notebook()"
   ]
  },
  {
   "cell_type": "code",
   "execution_count": 38,
   "metadata": {},
   "outputs": [],
   "source": [
    "def setup_bokeh_gui(cpu):\n",
    "    # Zeroed-out memory map for initializing the display\n",
    "    initial_bitmap = np.zeros((0x10, 0x10))\n",
    "    \n",
    "    # store the actual address for use in hovertool\n",
    "    address_bitmap = np.ndarray((0x10, 0x10), dtype='int')\n",
    "    for i in range(initial_bitmap.shape[0]):\n",
    "        for j in range(initial_bitmap.shape[1]):\n",
    "            address_bitmap[i, j] = i * 0x10 + j\n",
    "            \n",
    "    hover = HoverTool(\n",
    "        tooltips=[(\"Address\", \"@address{$%02X}\"),\n",
    "                  (\"value\", \"@image{$%02X}\"),\n",
    "                 ],\n",
    "        formatters={\n",
    "            'address' : 'printf',\n",
    "            'image' : 'printf',\n",
    "            },\n",
    "    )\n",
    "\n",
    "    p = figure(\n",
    "        title=\"Bitmap of Memory\",\n",
    "        plot_height=512,\n",
    "        plot_width=512,\n",
    "        tools=\"\",\n",
    "        background_fill_color='#efefef',\n",
    "        )\n",
    "    \n",
    "\n",
    "    p.add_tools(hover)\n",
    "    p.toolbar_location = None\n",
    "\n",
    "    i = p.image(image=[initial_bitmap],\n",
    "                x=-0.5, y=-0.5, dw=0xF+1, dh=0xF+1, \n",
    "                palette=\"Spectral11\",\n",
    "               )\n",
    "    i.data_source.data['address'] = [address_bitmap]\n",
    "    show(p, notebook_handle=True)\n",
    "    \n",
    "    \n",
    "    def plt_memory(bitmap):\n",
    "        \"\"\"Refresh the bokeh plot with new bitmap\"\"\"\n",
    "        i.data_source.data['image'] = [bitmap]\n",
    "        push_notebook()\n",
    "        \n",
    "    cpu.dma.connect_dma_handler(plt_memory)"
   ]
  },
  {
   "cell_type": "code",
   "execution_count": 39,
   "metadata": {},
   "outputs": [],
   "source": [
    "cpu = Computer()"
   ]
  },
  {
   "cell_type": "code",
   "execution_count": 40,
   "metadata": {},
   "outputs": [
    {
     "name": "stdout",
     "output_type": "stream",
     "text": [
      "0x00  20 99   # LDA #$99  \n",
      "0x02  21 0E   # ADD #$0E  \n",
      "0x04  FD      # DMA       \n",
      "0x05  35 4A   # STA  $4A  \n",
      "0x07  34 02   # JMP  $02  \n"
     ]
    }
   ],
   "source": [
    "countup = \"\"\"\n",
    "    LDA #$99\n",
    "    ADD #$0E\n",
    "    DMA\n",
    "    STA  $4A\n",
    "    JMP  $02\n",
    "    \"\"\"\n",
    "\n",
    "countup_bytes = assemble(countup)"
   ]
  },
  {
   "cell_type": "code",
   "execution_count": 41,
   "metadata": {},
   "outputs": [
    {
     "name": "stdout",
     "output_type": "stream",
     "text": [
      "0x00  20 10   # LDA #$10  \n",
      "0x02  21 03   # ADD #$03  :loop\n",
      "0x04  FD      # DMA       \n",
      "0x05  35 0B   # STA  $0B  \n",
      "0x07  45 0B   # STA ($0B) \n",
      "0x09  34 02   # JMP  $02  \n"
     ]
    }
   ],
   "source": [
    "moveacross = \"\"\"\n",
    "    LDA #$10\n",
    "    loop:\n",
    "    ADD #$03\n",
    "    DMA\n",
    "    STA  colorbuffer\n",
    "    STA (colorbuffer)\n",
    "    JMP  loop\n",
    "    colorbuffer:\n",
    "    \"\"\"\n",
    "moveacross_bytes = assemble(moveacross)"
   ]
  },
  {
   "cell_type": "code",
   "execution_count": 42,
   "metadata": {
    "scrolled": false
   },
   "outputs": [
    {
     "data": {
      "text/html": [
       "\n",
       "\n",
       "\n",
       "\n",
       "\n",
       "\n",
       "  <div class=\"bk-root\" id=\"b4a5ac0d-4a10-4007-b9d8-8213938c8f30\" data-root-id=\"1003\"></div>\n"
      ]
     },
     "metadata": {},
     "output_type": "display_data"
    },
    {
     "data": {
      "application/javascript": [
       "(function(root) {\n",
       "  function embed_document(root) {\n",
       "    \n",
       "  var docs_json = {\"c5d260b4-2164-44a9-9e31-a694a2ea9cfa\":{\"roots\":{\"references\":[{\"attributes\":{\"background_fill_color\":{\"value\":\"#efefef\"},\"below\":[{\"id\":\"1014\",\"type\":\"LinearAxis\"}],\"center\":[{\"id\":\"1018\",\"type\":\"Grid\"},{\"id\":\"1023\",\"type\":\"Grid\"}],\"left\":[{\"id\":\"1019\",\"type\":\"LinearAxis\"}],\"plot_height\":512,\"plot_width\":512,\"renderers\":[{\"id\":\"1031\",\"type\":\"GlyphRenderer\"}],\"title\":{\"id\":\"1004\",\"type\":\"Title\"},\"toolbar\":{\"id\":\"1024\",\"type\":\"Toolbar\"},\"toolbar_location\":null,\"x_range\":{\"id\":\"1006\",\"type\":\"DataRange1d\"},\"x_scale\":{\"id\":\"1010\",\"type\":\"LinearScale\"},\"y_range\":{\"id\":\"1008\",\"type\":\"DataRange1d\"},\"y_scale\":{\"id\":\"1012\",\"type\":\"LinearScale\"}},\"id\":\"1003\",\"subtype\":\"Figure\",\"type\":\"Plot\"},{\"attributes\":{\"callback\":null,\"data\":{\"address\":[[[0,1,2,3,4,5,6,7,8,9,10,11,12,13,14,15],[16,17,18,19,20,21,22,23,24,25,26,27,28,29,30,31],[32,33,34,35,36,37,38,39,40,41,42,43,44,45,46,47],[48,49,50,51,52,53,54,55,56,57,58,59,60,61,62,63],[64,65,66,67,68,69,70,71,72,73,74,75,76,77,78,79],[80,81,82,83,84,85,86,87,88,89,90,91,92,93,94,95],[96,97,98,99,100,101,102,103,104,105,106,107,108,109,110,111],[112,113,114,115,116,117,118,119,120,121,122,123,124,125,126,127],[128,129,130,131,132,133,134,135,136,137,138,139,140,141,142,143],[144,145,146,147,148,149,150,151,152,153,154,155,156,157,158,159],[160,161,162,163,164,165,166,167,168,169,170,171,172,173,174,175],[176,177,178,179,180,181,182,183,184,185,186,187,188,189,190,191],[192,193,194,195,196,197,198,199,200,201,202,203,204,205,206,207],[208,209,210,211,212,213,214,215,216,217,218,219,220,221,222,223],[224,225,226,227,228,229,230,231,232,233,234,235,236,237,238,239],[240,241,242,243,244,245,246,247,248,249,250,251,252,253,254,255]]],\"image\":[{\"__ndarray__\":\"AAAAAAAAAAAAAAAAAAAAAAAAAAAAAAAAAAAAAAAAAAAAAAAAAAAAAAAAAAAAAAAAAAAAAAAAAAAAAAAAAAAAAAAAAAAAAAAAAAAAAAAAAAAAAAAAAAAAAAAAAAAAAAAAAAAAAAAAAAAAAAAAAAAAAAAAAAAAAAAAAAAAAAAAAAAAAAAAAAAAAAAAAAAAAAAAAAAAAAAAAAAAAAAAAAAAAAAAAAAAAAAAAAAAAAAAAAAAAAAAAAAAAAAAAAAAAAAAAAAAAAAAAAAAAAAAAAAAAAAAAAAAAAAAAAAAAAAAAAAAAAAAAAAAAAAAAAAAAAAAAAAAAAAAAAAAAAAAAAAAAAAAAAAAAAAAAAAAAAAAAAAAAAAAAAAAAAAAAAAAAAAAAAAAAAAAAAAAAAAAAAAAAAAAAAAAAAAAAAAAAAAAAAAAAAAAAAAAAAAAAAAAAAAAAAAAAAAAAAAAAAAAAAAAAAAAAAAAAAAAAAAAAAAAAAAAAAAAAAAAAAAAAAAAAAAAAAAAAAAAAAAAAAAAAAAAAAAAAAAAAAAAAAAAAAAAAAAAAAAAAAAAAAAAAAAAAAAAAAAAAAAAAAAAAAAAAAAAAAAAAAAAAAAAAAAAAAAAAAAAAAAAAAAAAAAAAAAAAAAAAAAAAAAAAAAAAAAAAAAAAAAAAAAAAAAAAAAAAAAAAAAAAAAAAAAAAAAAAAAAAAAAAAAAAAAAAAAAAAAAAAAAAAAAAAAAAAAAAAAAAAAAAAAAAAAAAAAAAAAAAAAAAAAAAAAAAAAAAAAAAAAAAAAAAAAAAAAAAAAAAAAAAAAAAAAAAAAAAAAAAAAAAAAAAAAAAAAAAAAAAAAAAAAAAAAAAAAAAAAAAAAAAAAAAAAAAAAAAAAAAAAAAAAAAAAAAAAAAAAAAAAAAAAAAAAAAAAAAAAAAAAAAAAAAAAAAAAAAAAAAAAAAAAAAAAAAAAAAAAAAAAAAAAAAAAAAAAAAAAAAAAAAAAAAAAAAAAAAAAAAAAAAAAAAAAAAAAAAAAAAAAAAAAAAAAAAAAAAAAAAAAAAAAAAAAAAAAAAAAAAAAAAAAAAAAAAAAAAAAAAAAAAAAAAAAAAAAAAAAAAAAAAAAAAAAAAAAAAAAAAAAAAAAAAAAAAAAAAAAAAAAAAAAAAAAAAAAAAAAAAAAAAAAAAAAAAAAAAAAAAAAAAAAAAAAAAAAAAAAAAAAAAAAAAAAAAAAAAAAAAAAAAAAAAAAAAAAAAAAAAAAAAAAAAAAAAAAAAAAAAAAAAAAAAAAAAAAAAAAAAAAAAAAAAAAAAAAAAAAAAAAAAAAAAAAAAAAAAAAAAAAAAAAAAAAAAAAAAAAAAAAAAAAAAAAAAAAAAAAAAAAAAAAAAAAAAAAAAAAAAAAAAAAAAAAAAAAAAAAAAAAAAAAAAAAAAAAAAAAAAAAAAAAAAAAAAAAAAAAAAAAAAAAAAAAAAAAAAAAAAAAAAAAAAAAAAAAAAAAAAAAAAAAAAAAAAAAAAAAAAAAAAAAAAAAAAAAAAAAAAAAAAAAAAAAAAAAAAAAAAAAAAAAAAAAAAAAAAAAAAAAAAAAAAAAAAAAAAAAAAAAAAAAAAAAAAAAAAAAAAAAAAAAAAAAAAAAAAAAAAAAAAAAAAAAAAAAAAAAAAAAAAAAAAAAAAAAAAAAAAAAAAAAAAAAAAAAAAAAAAAAAAAAAAAAAAAAAAAAAAAAAAAAAAAAAAAAAAAAAAAAAAAAAAAAAAAAAAAAAAAAAAAAAAAAAAAAAAAAAAAAAAAAAAAAAAAAAAAAAAAAAAAAAAAAAAAAAAAAAAAAAAAAAAAAAAAAAAAAAAAAAAAAAAAAAAAAAAAAAAAAAAAAAAAAAAAAAAAAAAAAAAAAAAAAAAAAAAAAAAAAAAAAAAAAAAAAAAAAAAAAAAAAAAAAAAAAAAAAAAAAAAAAAAAAAAAAAAAAAAAAAAAAAAAAAAAAAAAAAAAAAAAAAAAAAAAAAAAAAAAAAAAAAAAAAAAAAAAAAAAAAAAAAAAAAAAAAAAAAAAAAAAAAAAAAAAAAAAAAAAAAAAAAAAAAAAAAAAAAAAAAAAAAAAAAAAAAAAAAAAAAAAAAAAAAAAAAAAAAAAAAAAAAAAAAAAAAAAAAAAAAAAAAAAAAAAAAAAAAAAAAAAAAAAAAAAAAAAAAAAAAAAAAAAAAAAAAAAAAAAAAAAAAAAAAAAAAAAAAAAAAAAAAAAAAAAAAAAAAAAAAAAAAAAAAAAAAAAAAAAAAAAAAAAAAAAAAAAAAAAAAAAAAAAAAAAAAAAAAAAAAAAAAAAAAAAAAAAAAAAAAAAAAAAAAAAAAAAAAAAAAAAAAAAAAAAAAAAAAAAAAAAAAAAAAAAAAAAAAAAAAAAAAAAAAAAAAAAAAAAAAAAAAAAAAAAAAAAAAAAAAAAAAAAAAAAAAAAAAAAAAAAAAAAAAAAAAAAAAAAAAAAAAAAAAAAAAAAAAAAAAAAAAAAAAAAAAAAAAAAAAAAAAAAAAAAAAAAAAAAAAAAAAAAAAAAAAAAAAAAAAAAAAAAAAAAAAAAAAAAAAAAAAAAAAAAAAAAAAAAAAAAAAAAAAAAAAAAAAAAAAAAAAAAAAAAAAAAAAAAAAAAAAAAAAAAAAAAAAAAAAAAAAAAAAAAAAAAAAAAAAAAAAAAAAAAAAAAAAAAAAAAAAAAAAAAAAAAAAAAAAAAAAAAAAAAAAAAAAAAAAAAAAAAAAAAAAAAAAAAAAAAAAAAA=\",\"dtype\":\"float64\",\"shape\":[16,16]}]},\"selected\":{\"id\":\"1038\",\"type\":\"Selection\"},\"selection_policy\":{\"id\":\"1039\",\"type\":\"UnionRenderers\"}},\"id\":\"1026\",\"type\":\"ColumnDataSource\"},{\"attributes\":{\"text\":\"Bitmap of Memory\"},\"id\":\"1004\",\"type\":\"Title\"},{\"attributes\":{\"callback\":null},\"id\":\"1006\",\"type\":\"DataRange1d\"},{\"attributes\":{\"callback\":null},\"id\":\"1008\",\"type\":\"DataRange1d\"},{\"attributes\":{},\"id\":\"1010\",\"type\":\"LinearScale\"},{\"attributes\":{},\"id\":\"1012\",\"type\":\"LinearScale\"},{\"attributes\":{\"formatter\":{\"id\":\"1036\",\"type\":\"BasicTickFormatter\"},\"ticker\":{\"id\":\"1015\",\"type\":\"BasicTicker\"}},\"id\":\"1014\",\"type\":\"LinearAxis\"},{\"attributes\":{},\"id\":\"1015\",\"type\":\"BasicTicker\"},{\"attributes\":{},\"id\":\"1039\",\"type\":\"UnionRenderers\"},{\"attributes\":{\"data_source\":{\"id\":\"1026\",\"type\":\"ColumnDataSource\"},\"glyph\":{\"id\":\"1027\",\"type\":\"Image\"},\"hover_glyph\":null,\"muted_glyph\":null,\"nonselection_glyph\":{\"id\":\"1029\",\"type\":\"Image\"},\"selection_glyph\":null,\"view\":{\"id\":\"1032\",\"type\":\"CDSView\"}},\"id\":\"1031\",\"type\":\"GlyphRenderer\"},{\"attributes\":{\"ticker\":{\"id\":\"1015\",\"type\":\"BasicTicker\"}},\"id\":\"1018\",\"type\":\"Grid\"},{\"attributes\":{\"formatter\":{\"id\":\"1034\",\"type\":\"BasicTickFormatter\"},\"ticker\":{\"id\":\"1020\",\"type\":\"BasicTicker\"}},\"id\":\"1019\",\"type\":\"LinearAxis\"},{\"attributes\":{},\"id\":\"1038\",\"type\":\"Selection\"},{\"attributes\":{},\"id\":\"1020\",\"type\":\"BasicTicker\"},{\"attributes\":{},\"id\":\"1036\",\"type\":\"BasicTickFormatter\"},{\"attributes\":{\"dimension\":1,\"ticker\":{\"id\":\"1020\",\"type\":\"BasicTicker\"}},\"id\":\"1023\",\"type\":\"Grid\"},{\"attributes\":{},\"id\":\"1034\",\"type\":\"BasicTickFormatter\"},{\"attributes\":{\"active_drag\":\"auto\",\"active_inspect\":\"auto\",\"active_multi\":null,\"active_scroll\":\"auto\",\"active_tap\":\"auto\",\"tools\":[{\"id\":\"1002\",\"type\":\"HoverTool\"}]},\"id\":\"1024\",\"type\":\"Toolbar\"},{\"attributes\":{\"color_mapper\":{\"id\":\"1028\",\"type\":\"LinearColorMapper\"},\"dh\":{\"units\":\"data\",\"value\":16},\"dw\":{\"units\":\"data\",\"value\":16},\"image\":{\"field\":\"image\"},\"x\":{\"value\":-0.5},\"y\":{\"value\":-0.5}},\"id\":\"1027\",\"type\":\"Image\"},{\"attributes\":{\"source\":{\"id\":\"1026\",\"type\":\"ColumnDataSource\"}},\"id\":\"1032\",\"type\":\"CDSView\"},{\"attributes\":{\"palette\":[\"#5e4fa2\",\"#3288bd\",\"#66c2a5\",\"#abdda4\",\"#e6f598\",\"#ffffbf\",\"#fee08b\",\"#fdae61\",\"#f46d43\",\"#d53e4f\",\"#9e0142\"]},\"id\":\"1030\",\"type\":\"LinearColorMapper\"},{\"attributes\":{\"palette\":[\"#5e4fa2\",\"#3288bd\",\"#66c2a5\",\"#abdda4\",\"#e6f598\",\"#ffffbf\",\"#fee08b\",\"#fdae61\",\"#f46d43\",\"#d53e4f\",\"#9e0142\"]},\"id\":\"1028\",\"type\":\"LinearColorMapper\"},{\"attributes\":{\"color_mapper\":{\"id\":\"1030\",\"type\":\"LinearColorMapper\"},\"dh\":{\"units\":\"data\",\"value\":16},\"dw\":{\"units\":\"data\",\"value\":16},\"image\":{\"field\":\"image\"},\"x\":{\"value\":-0.5},\"y\":{\"value\":-0.5}},\"id\":\"1029\",\"type\":\"Image\"},{\"attributes\":{\"callback\":null,\"formatters\":{\"address\":\"printf\",\"image\":\"printf\"},\"tooltips\":[[\"Address\",\"@address{$%02X}\"],[\"value\",\"@image{$%02X}\"]]},\"id\":\"1002\",\"type\":\"HoverTool\"}],\"root_ids\":[\"1003\"]},\"title\":\"Bokeh Application\",\"version\":\"1.3.0\"}};\n",
       "  var render_items = [{\"docid\":\"c5d260b4-2164-44a9-9e31-a694a2ea9cfa\",\"notebook_comms_target\":\"1040\",\"roots\":{\"1003\":\"b4a5ac0d-4a10-4007-b9d8-8213938c8f30\"}}];\n",
       "  root.Bokeh.embed.embed_items_notebook(docs_json, render_items);\n",
       "\n",
       "  }\n",
       "  if (root.Bokeh !== undefined) {\n",
       "    embed_document(root);\n",
       "  } else {\n",
       "    var attempts = 0;\n",
       "    var timer = setInterval(function(root) {\n",
       "      if (root.Bokeh !== undefined) {\n",
       "        embed_document(root);\n",
       "        clearInterval(timer);\n",
       "      }\n",
       "      attempts++;\n",
       "      if (attempts > 100) {\n",
       "        console.log(\"Bokeh: ERROR: Unable to run BokehJS code because BokehJS library is missing\");\n",
       "        clearInterval(timer);\n",
       "      }\n",
       "    }, 10, root)\n",
       "  }\n",
       "})(window);"
      ],
      "application/vnd.bokehjs_exec.v0+json": ""
     },
     "metadata": {
      "application/vnd.bokehjs_exec.v0+json": {
       "id": "1003"
      }
     },
     "output_type": "display_data"
    },
    {
     "name": "stdout",
     "output_type": "stream",
     "text": [
      "0\n",
      "50\n",
      "100\n",
      "150\n",
      "200\n",
      "250\n",
      "300\n",
      "350\n"
     ]
    }
   ],
   "source": [
    "cpu.reset()\n",
    "cpu.switches.load_program(countup_bytes)\n",
    "setup_bokeh_gui(cpu)\n",
    "\n",
    "for i in range(400):\n",
    "    time.sleep(.01)\n",
    "    if i % 50 == 0:\n",
    "        print(i)\n",
    "    cpu.step(instructionwise=True, debug=False)"
   ]
  },
  {
   "cell_type": "code",
   "execution_count": 43,
   "metadata": {
    "scrolled": false
   },
   "outputs": [
    {
     "data": {
      "text/html": [
       "\n",
       "\n",
       "\n",
       "\n",
       "\n",
       "\n",
       "  <div class=\"bk-root\" id=\"b3ac8d71-e468-4439-9d49-38d81904e012\" data-root-id=\"1284\"></div>\n"
      ]
     },
     "metadata": {},
     "output_type": "display_data"
    },
    {
     "data": {
      "application/javascript": [
       "(function(root) {\n",
       "  function embed_document(root) {\n",
       "    \n",
       "  var docs_json = {\"27e287c1-f7af-4ef9-afc7-08f37855525b\":{\"roots\":{\"references\":[{\"attributes\":{\"background_fill_color\":{\"value\":\"#efefef\"},\"below\":[{\"id\":\"1295\",\"type\":\"LinearAxis\"}],\"center\":[{\"id\":\"1299\",\"type\":\"Grid\"},{\"id\":\"1304\",\"type\":\"Grid\"}],\"left\":[{\"id\":\"1300\",\"type\":\"LinearAxis\"}],\"plot_height\":512,\"plot_width\":512,\"renderers\":[{\"id\":\"1312\",\"type\":\"GlyphRenderer\"}],\"title\":{\"id\":\"1285\",\"type\":\"Title\"},\"toolbar\":{\"id\":\"1305\",\"type\":\"Toolbar\"},\"toolbar_location\":null,\"x_range\":{\"id\":\"1287\",\"type\":\"DataRange1d\"},\"x_scale\":{\"id\":\"1291\",\"type\":\"LinearScale\"},\"y_range\":{\"id\":\"1289\",\"type\":\"DataRange1d\"},\"y_scale\":{\"id\":\"1293\",\"type\":\"LinearScale\"}},\"id\":\"1284\",\"subtype\":\"Figure\",\"type\":\"Plot\"},{\"attributes\":{\"source\":{\"id\":\"1307\",\"type\":\"ColumnDataSource\"}},\"id\":\"1313\",\"type\":\"CDSView\"},{\"attributes\":{},\"id\":\"1293\",\"type\":\"LinearScale\"},{\"attributes\":{\"formatter\":{\"id\":\"1324\",\"type\":\"BasicTickFormatter\"},\"ticker\":{\"id\":\"1296\",\"type\":\"BasicTicker\"}},\"id\":\"1295\",\"type\":\"LinearAxis\"},{\"attributes\":{},\"id\":\"1322\",\"type\":\"BasicTickFormatter\"},{\"attributes\":{\"callback\":null},\"id\":\"1287\",\"type\":\"DataRange1d\"},{\"attributes\":{},\"id\":\"1296\",\"type\":\"BasicTicker\"},{\"attributes\":{},\"id\":\"1324\",\"type\":\"BasicTickFormatter\"},{\"attributes\":{},\"id\":\"1301\",\"type\":\"BasicTicker\"},{\"attributes\":{},\"id\":\"1326\",\"type\":\"Selection\"},{\"attributes\":{\"color_mapper\":{\"id\":\"1309\",\"type\":\"LinearColorMapper\"},\"dh\":{\"units\":\"data\",\"value\":16},\"dw\":{\"units\":\"data\",\"value\":16},\"image\":{\"field\":\"image\"},\"x\":{\"value\":-0.5},\"y\":{\"value\":-0.5}},\"id\":\"1308\",\"type\":\"Image\"},{\"attributes\":{\"ticker\":{\"id\":\"1296\",\"type\":\"BasicTicker\"}},\"id\":\"1299\",\"type\":\"Grid\"},{\"attributes\":{\"callback\":null,\"data\":{\"address\":[[[0,1,2,3,4,5,6,7,8,9,10,11,12,13,14,15],[16,17,18,19,20,21,22,23,24,25,26,27,28,29,30,31],[32,33,34,35,36,37,38,39,40,41,42,43,44,45,46,47],[48,49,50,51,52,53,54,55,56,57,58,59,60,61,62,63],[64,65,66,67,68,69,70,71,72,73,74,75,76,77,78,79],[80,81,82,83,84,85,86,87,88,89,90,91,92,93,94,95],[96,97,98,99,100,101,102,103,104,105,106,107,108,109,110,111],[112,113,114,115,116,117,118,119,120,121,122,123,124,125,126,127],[128,129,130,131,132,133,134,135,136,137,138,139,140,141,142,143],[144,145,146,147,148,149,150,151,152,153,154,155,156,157,158,159],[160,161,162,163,164,165,166,167,168,169,170,171,172,173,174,175],[176,177,178,179,180,181,182,183,184,185,186,187,188,189,190,191],[192,193,194,195,196,197,198,199,200,201,202,203,204,205,206,207],[208,209,210,211,212,213,214,215,216,217,218,219,220,221,222,223],[224,225,226,227,228,229,230,231,232,233,234,235,236,237,238,239],[240,241,242,243,244,245,246,247,248,249,250,251,252,253,254,255]]],\"image\":[{\"__ndarray__\":\"AAAAAAAAAAAAAAAAAAAAAAAAAAAAAAAAAAAAAAAAAAAAAAAAAAAAAAAAAAAAAAAAAAAAAAAAAAAAAAAAAAAAAAAAAAAAAAAAAAAAAAAAAAAAAAAAAAAAAAAAAAAAAAAAAAAAAAAAAAAAAAAAAAAAAAAAAAAAAAAAAAAAAAAAAAAAAAAAAAAAAAAAAAAAAAAAAAAAAAAAAAAAAAAAAAAAAAAAAAAAAAAAAAAAAAAAAAAAAAAAAAAAAAAAAAAAAAAAAAAAAAAAAAAAAAAAAAAAAAAAAAAAAAAAAAAAAAAAAAAAAAAAAAAAAAAAAAAAAAAAAAAAAAAAAAAAAAAAAAAAAAAAAAAAAAAAAAAAAAAAAAAAAAAAAAAAAAAAAAAAAAAAAAAAAAAAAAAAAAAAAAAAAAAAAAAAAAAAAAAAAAAAAAAAAAAAAAAAAAAAAAAAAAAAAAAAAAAAAAAAAAAAAAAAAAAAAAAAAAAAAAAAAAAAAAAAAAAAAAAAAAAAAAAAAAAAAAAAAAAAAAAAAAAAAAAAAAAAAAAAAAAAAAAAAAAAAAAAAAAAAAAAAAAAAAAAAAAAAAAAAAAAAAAAAAAAAAAAAAAAAAAAAAAAAAAAAAAAAAAAAAAAAAAAAAAAAAAAAAAAAAAAAAAAAAAAAAAAAAAAAAAAAAAAAAAAAAAAAAAAAAAAAAAAAAAAAAAAAAAAAAAAAAAAAAAAAAAAAAAAAAAAAAAAAAAAAAAAAAAAAAAAAAAAAAAAAAAAAAAAAAAAAAAAAAAAAAAAAAAAAAAAAAAAAAAAAAAAAAAAAAAAAAAAAAAAAAAAAAAAAAAAAAAAAAAAAAAAAAAAAAAAAAAAAAAAAAAAAAAAAAAAAAAAAAAAAAAAAAAAAAAAAAAAAAAAAAAAAAAAAAAAAAAAAAAAAAAAAAAAAAAAAAAAAAAAAAAAAAAAAAAAAAAAAAAAAAAAAAAAAAAAAAAAAAAAAAAAAAAAAAAAAAAAAAAAAAAAAAAAAAAAAAAAAAAAAAAAAAAAAAAAAAAAAAAAAAAAAAAAAAAAAAAAAAAAAAAAAAAAAAAAAAAAAAAAAAAAAAAAAAAAAAAAAAAAAAAAAAAAAAAAAAAAAAAAAAAAAAAAAAAAAAAAAAAAAAAAAAAAAAAAAAAAAAAAAAAAAAAAAAAAAAAAAAAAAAAAAAAAAAAAAAAAAAAAAAAAAAAAAAAAAAAAAAAAAAAAAAAAAAAAAAAAAAAAAAAAAAAAAAAAAAAAAAAAAAAAAAAAAAAAAAAAAAAAAAAAAAAAAAAAAAAAAAAAAAAAAAAAAAAAAAAAAAAAAAAAAAAAAAAAAAAAAAAAAAAAAAAAAAAAAAAAAAAAAAAAAAAAAAAAAAAAAAAAAAAAAAAAAAAAAAAAAAAAAAAAAAAAAAAAAAAAAAAAAAAAAAAAAAAAAAAAAAAAAAAAAAAAAAAAAAAAAAAAAAAAAAAAAAAAAAAAAAAAAAAAAAAAAAAAAAAAAAAAAAAAAAAAAAAAAAAAAAAAAAAAAAAAAAAAAAAAAAAAAAAAAAAAAAAAAAAAAAAAAAAAAAAAAAAAAAAAAAAAAAAAAAAAAAAAAAAAAAAAAAAAAAAAAAAAAAAAAAAAAAAAAAAAAAAAAAAAAAAAAAAAAAAAAAAAAAAAAAAAAAAAAAAAAAAAAAAAAAAAAAAAAAAAAAAAAAAAAAAAAAAAAAAAAAAAAAAAAAAAAAAAAAAAAAAAAAAAAAAAAAAAAAAAAAAAAAAAAAAAAAAAAAAAAAAAAAAAAAAAAAAAAAAAAAAAAAAAAAAAAAAAAAAAAAAAAAAAAAAAAAAAAAAAAAAAAAAAAAAAAAAAAAAAAAAAAAAAAAAAAAAAAAAAAAAAAAAAAAAAAAAAAAAAAAAAAAAAAAAAAAAAAAAAAAAAAAAAAAAAAAAAAAAAAAAAAAAAAAAAAAAAAAAAAAAAAAAAAAAAAAAAAAAAAAAAAAAAAAAAAAAAAAAAAAAAAAAAAAAAAAAAAAAAAAAAAAAAAAAAAAAAAAAAAAAAAAAAAAAAAAAAAAAAAAAAAAAAAAAAAAAAAAAAAAAAAAAAAAAAAAAAAAAAAAAAAAAAAAAAAAAAAAAAAAAAAAAAAAAAAAAAAAAAAAAAAAAAAAAAAAAAAAAAAAAAAAAAAAAAAAAAAAAAAAAAAAAAAAAAAAAAAAAAAAAAAAAAAAAAAAAAAAAAAAAAAAAAAAAAAAAAAAAAAAAAAAAAAAAAAAAAAAAAAAAAAAAAAAAAAAAAAAAAAAAAAAAAAAAAAAAAAAAAAAAAAAAAAAAAAAAAAAAAAAAAAAAAAAAAAAAAAAAAAAAAAAAAAAAAAAAAAAAAAAAAAAAAAAAAAAAAAAAAAAAAAAAAAAAAAAAAAAAAAAAAAAAAAAAAAAAAAAAAAAAAAAAAAAAAAAAAAAAAAAAAAAAAAAAAAAAAAAAAAAAAAAAAAAAAAAAAAAAAAAAAAAAAAAAAAAAAAAAAAAAAAAAAAAAAAAAAAAAAAAAAAAAAAAAAAAAAAAAAAAAAAAAAAAAAAAAAAAAAAAAAAAAAAAAAAAAAAAAAAAAAAAAAAAAAAAAAAAAAAAAAAAAAAAAAAAAAAAAAAAAAAAAAAAAAAAAAAAAAAAAAAAAAAAAAAAAAAAAAAAAAAAAAAAAAAAAAAAAAAAAAAAAAAAAAAAAAAAAAAAAAAAAAAAAAAAAAAAAAAAAAAAAAAAAAAAAAAAAAAAAAAAAAAAA=\",\"dtype\":\"float64\",\"shape\":[16,16]}]},\"selected\":{\"id\":\"1326\",\"type\":\"Selection\"},\"selection_policy\":{\"id\":\"1327\",\"type\":\"UnionRenderers\"}},\"id\":\"1307\",\"type\":\"ColumnDataSource\"},{\"attributes\":{},\"id\":\"1327\",\"type\":\"UnionRenderers\"},{\"attributes\":{\"formatter\":{\"id\":\"1322\",\"type\":\"BasicTickFormatter\"},\"ticker\":{\"id\":\"1301\",\"type\":\"BasicTicker\"}},\"id\":\"1300\",\"type\":\"LinearAxis\"},{\"attributes\":{\"text\":\"Bitmap of Memory\"},\"id\":\"1285\",\"type\":\"Title\"},{\"attributes\":{\"palette\":[\"#5e4fa2\",\"#3288bd\",\"#66c2a5\",\"#abdda4\",\"#e6f598\",\"#ffffbf\",\"#fee08b\",\"#fdae61\",\"#f46d43\",\"#d53e4f\",\"#9e0142\"]},\"id\":\"1309\",\"type\":\"LinearColorMapper\"},{\"attributes\":{\"color_mapper\":{\"id\":\"1311\",\"type\":\"LinearColorMapper\"},\"dh\":{\"units\":\"data\",\"value\":16},\"dw\":{\"units\":\"data\",\"value\":16},\"image\":{\"field\":\"image\"},\"x\":{\"value\":-0.5},\"y\":{\"value\":-0.5}},\"id\":\"1310\",\"type\":\"Image\"},{\"attributes\":{\"active_drag\":\"auto\",\"active_inspect\":\"auto\",\"active_multi\":null,\"active_scroll\":\"auto\",\"active_tap\":\"auto\",\"tools\":[{\"id\":\"1283\",\"type\":\"HoverTool\"}]},\"id\":\"1305\",\"type\":\"Toolbar\"},{\"attributes\":{},\"id\":\"1291\",\"type\":\"LinearScale\"},{\"attributes\":{\"dimension\":1,\"ticker\":{\"id\":\"1301\",\"type\":\"BasicTicker\"}},\"id\":\"1304\",\"type\":\"Grid\"},{\"attributes\":{\"palette\":[\"#5e4fa2\",\"#3288bd\",\"#66c2a5\",\"#abdda4\",\"#e6f598\",\"#ffffbf\",\"#fee08b\",\"#fdae61\",\"#f46d43\",\"#d53e4f\",\"#9e0142\"]},\"id\":\"1311\",\"type\":\"LinearColorMapper\"},{\"attributes\":{\"callback\":null,\"formatters\":{\"address\":\"printf\",\"image\":\"printf\"},\"tooltips\":[[\"Address\",\"@address{$%02X}\"],[\"value\",\"@image{$%02X}\"]]},\"id\":\"1283\",\"type\":\"HoverTool\"},{\"attributes\":{\"callback\":null},\"id\":\"1289\",\"type\":\"DataRange1d\"},{\"attributes\":{\"data_source\":{\"id\":\"1307\",\"type\":\"ColumnDataSource\"},\"glyph\":{\"id\":\"1308\",\"type\":\"Image\"},\"hover_glyph\":null,\"muted_glyph\":null,\"nonselection_glyph\":{\"id\":\"1310\",\"type\":\"Image\"},\"selection_glyph\":null,\"view\":{\"id\":\"1313\",\"type\":\"CDSView\"}},\"id\":\"1312\",\"type\":\"GlyphRenderer\"}],\"root_ids\":[\"1284\"]},\"title\":\"Bokeh Application\",\"version\":\"1.3.0\"}};\n",
       "  var render_items = [{\"docid\":\"27e287c1-f7af-4ef9-afc7-08f37855525b\",\"notebook_comms_target\":\"1328\",\"roots\":{\"1284\":\"b3ac8d71-e468-4439-9d49-38d81904e012\"}}];\n",
       "  root.Bokeh.embed.embed_items_notebook(docs_json, render_items);\n",
       "\n",
       "  }\n",
       "  if (root.Bokeh !== undefined) {\n",
       "    embed_document(root);\n",
       "  } else {\n",
       "    var attempts = 0;\n",
       "    var timer = setInterval(function(root) {\n",
       "      if (root.Bokeh !== undefined) {\n",
       "        embed_document(root);\n",
       "        clearInterval(timer);\n",
       "      }\n",
       "      attempts++;\n",
       "      if (attempts > 100) {\n",
       "        console.log(\"Bokeh: ERROR: Unable to run BokehJS code because BokehJS library is missing\");\n",
       "        clearInterval(timer);\n",
       "      }\n",
       "    }, 10, root)\n",
       "  }\n",
       "})(window);"
      ],
      "application/vnd.bokehjs_exec.v0+json": ""
     },
     "metadata": {
      "application/vnd.bokehjs_exec.v0+json": {
       "id": "1284"
      }
     },
     "output_type": "display_data"
    }
   ],
   "source": [
    "cpu = Computer()\n",
    "cpu.reset()\n",
    "cpu.switches.load_program(moveacross_bytes)\n",
    "setup_bokeh_gui(cpu)\n",
    "\n",
    "for i in range(400):\n",
    "    #time.sleep(.01)\n",
    "    cpu.step(instructionwise=True, debug=False)"
   ]
  },
  {
   "cell_type": "markdown",
   "metadata": {},
   "source": [
    "# Write your own program"
   ]
  },
  {
   "cell_type": "code",
   "execution_count": 61,
   "metadata": {
    "scrolled": false
   },
   "outputs": [
    {
     "name": "stdout",
     "output_type": "stream",
     "text": [
      "0x00  20 20   # LDA #$20  \n",
      "0x02  21 01   # ADD #$01  \n",
      "0x04  35 20   # STA $20   \n",
      "0x06  F7      # BAI       \n",
      "0x07  35 1C   # STA $1C   \n",
      "0x09  FD      # DMA       :loop\n",
      "0x0A  00 1C   # LDA  $1C  \n",
      "0x0C  21 01   # ADD #$01  \n",
      "0x0E  35 1C   # STA  $1C  \n",
      "0x10  00 20   # LDA $20   \n",
      "0x12  21 02   # ADD #$02  \n",
      "0x14  35 20   # STA $20   \n",
      "0x16  00 1C   # LDA $1C   \n",
      "0x18  45 20   # STA ($20) \n",
      "0x1A  34 09   # JMP  $09  \n",
      "0x1C  33 44 55 66# BYTE #33 44 55 66:colorbuffer\n",
      "0x20  FE      # NOP       :locationbuffer\n"
     ]
    },
    {
     "data": {
      "text/html": [
       "\n",
       "\n",
       "\n",
       "\n",
       "\n",
       "\n",
       "  <div class=\"bk-root\" id=\"9c9f16a6-f7c9-4314-b044-52507636f115\" data-root-id=\"5608\"></div>\n"
      ]
     },
     "metadata": {},
     "output_type": "display_data"
    },
    {
     "data": {
      "application/javascript": [
       "(function(root) {\n",
       "  function embed_document(root) {\n",
       "    \n",
       "  var docs_json = {\"5227fbdf-8207-4ccf-87c0-7ed3eccc2088\":{\"roots\":{\"references\":[{\"attributes\":{\"background_fill_color\":{\"value\":\"#efefef\"},\"below\":[{\"id\":\"5619\",\"type\":\"LinearAxis\"}],\"center\":[{\"id\":\"5623\",\"type\":\"Grid\"},{\"id\":\"5628\",\"type\":\"Grid\"}],\"left\":[{\"id\":\"5624\",\"type\":\"LinearAxis\"}],\"plot_height\":512,\"plot_width\":512,\"renderers\":[{\"id\":\"5636\",\"type\":\"GlyphRenderer\"}],\"title\":{\"id\":\"5609\",\"type\":\"Title\"},\"toolbar\":{\"id\":\"5629\",\"type\":\"Toolbar\"},\"toolbar_location\":null,\"x_range\":{\"id\":\"5611\",\"type\":\"DataRange1d\"},\"x_scale\":{\"id\":\"5615\",\"type\":\"LinearScale\"},\"y_range\":{\"id\":\"5613\",\"type\":\"DataRange1d\"},\"y_scale\":{\"id\":\"5617\",\"type\":\"LinearScale\"}},\"id\":\"5608\",\"subtype\":\"Figure\",\"type\":\"Plot\"},{\"attributes\":{\"palette\":[\"#5e4fa2\",\"#3288bd\",\"#66c2a5\",\"#abdda4\",\"#e6f598\",\"#ffffbf\",\"#fee08b\",\"#fdae61\",\"#f46d43\",\"#d53e4f\",\"#9e0142\"]},\"id\":\"5633\",\"type\":\"LinearColorMapper\"},{\"attributes\":{\"color_mapper\":{\"id\":\"5635\",\"type\":\"LinearColorMapper\"},\"dh\":{\"units\":\"data\",\"value\":16},\"dw\":{\"units\":\"data\",\"value\":16},\"image\":{\"field\":\"image\"},\"x\":{\"value\":-0.5},\"y\":{\"value\":-0.5}},\"id\":\"5634\",\"type\":\"Image\"},{\"attributes\":{\"palette\":[\"#5e4fa2\",\"#3288bd\",\"#66c2a5\",\"#abdda4\",\"#e6f598\",\"#ffffbf\",\"#fee08b\",\"#fdae61\",\"#f46d43\",\"#d53e4f\",\"#9e0142\"]},\"id\":\"5635\",\"type\":\"LinearColorMapper\"},{\"attributes\":{\"data_source\":{\"id\":\"5631\",\"type\":\"ColumnDataSource\"},\"glyph\":{\"id\":\"5632\",\"type\":\"Image\"},\"hover_glyph\":null,\"muted_glyph\":null,\"nonselection_glyph\":{\"id\":\"5634\",\"type\":\"Image\"},\"selection_glyph\":null,\"view\":{\"id\":\"5637\",\"type\":\"CDSView\"}},\"id\":\"5636\",\"type\":\"GlyphRenderer\"},{\"attributes\":{\"callback\":null,\"data\":{\"address\":[[[0,1,2,3,4,5,6,7,8,9,10,11,12,13,14,15],[16,17,18,19,20,21,22,23,24,25,26,27,28,29,30,31],[32,33,34,35,36,37,38,39,40,41,42,43,44,45,46,47],[48,49,50,51,52,53,54,55,56,57,58,59,60,61,62,63],[64,65,66,67,68,69,70,71,72,73,74,75,76,77,78,79],[80,81,82,83,84,85,86,87,88,89,90,91,92,93,94,95],[96,97,98,99,100,101,102,103,104,105,106,107,108,109,110,111],[112,113,114,115,116,117,118,119,120,121,122,123,124,125,126,127],[128,129,130,131,132,133,134,135,136,137,138,139,140,141,142,143],[144,145,146,147,148,149,150,151,152,153,154,155,156,157,158,159],[160,161,162,163,164,165,166,167,168,169,170,171,172,173,174,175],[176,177,178,179,180,181,182,183,184,185,186,187,188,189,190,191],[192,193,194,195,196,197,198,199,200,201,202,203,204,205,206,207],[208,209,210,211,212,213,214,215,216,217,218,219,220,221,222,223],[224,225,226,227,228,229,230,231,232,233,234,235,236,237,238,239],[240,241,242,243,244,245,246,247,248,249,250,251,252,253,254,255]]],\"image\":[{\"__ndarray__\":\"AAAAAAAAAAAAAAAAAAAAAAAAAAAAAAAAAAAAAAAAAAAAAAAAAAAAAAAAAAAAAAAAAAAAAAAAAAAAAAAAAAAAAAAAAAAAAAAAAAAAAAAAAAAAAAAAAAAAAAAAAAAAAAAAAAAAAAAAAAAAAAAAAAAAAAAAAAAAAAAAAAAAAAAAAAAAAAAAAAAAAAAAAAAAAAAAAAAAAAAAAAAAAAAAAAAAAAAAAAAAAAAAAAAAAAAAAAAAAAAAAAAAAAAAAAAAAAAAAAAAAAAAAAAAAAAAAAAAAAAAAAAAAAAAAAAAAAAAAAAAAAAAAAAAAAAAAAAAAAAAAAAAAAAAAAAAAAAAAAAAAAAAAAAAAAAAAAAAAAAAAAAAAAAAAAAAAAAAAAAAAAAAAAAAAAAAAAAAAAAAAAAAAAAAAAAAAAAAAAAAAAAAAAAAAAAAAAAAAAAAAAAAAAAAAAAAAAAAAAAAAAAAAAAAAAAAAAAAAAAAAAAAAAAAAAAAAAAAAAAAAAAAAAAAAAAAAAAAAAAAAAAAAAAAAAAAAAAAAAAAAAAAAAAAAAAAAAAAAAAAAAAAAAAAAAAAAAAAAAAAAAAAAAAAAAAAAAAAAAAAAAAAAAAAAAAAAAAAAAAAAAAAAAAAAAAAAAAAAAAAAAAAAAAAAAAAAAAAAAAAAAAAAAAAAAAAAAAAAAAAAAAAAAAAAAAAAAAAAAAAAAAAAAAAAAAAAAAAAAAAAAAAAAAAAAAAAAAAAAAAAAAAAAAAAAAAAAAAAAAAAAAAAAAAAAAAAAAAAAAAAAAAAAAAAAAAAAAAAAAAAAAAAAAAAAAAAAAAAAAAAAAAAAAAAAAAAAAAAAAAAAAAAAAAAAAAAAAAAAAAAAAAAAAAAAAAAAAAAAAAAAAAAAAAAAAAAAAAAAAAAAAAAAAAAAAAAAAAAAAAAAAAAAAAAAAAAAAAAAAAAAAAAAAAAAAAAAAAAAAAAAAAAAAAAAAAAAAAAAAAAAAAAAAAAAAAAAAAAAAAAAAAAAAAAAAAAAAAAAAAAAAAAAAAAAAAAAAAAAAAAAAAAAAAAAAAAAAAAAAAAAAAAAAAAAAAAAAAAAAAAAAAAAAAAAAAAAAAAAAAAAAAAAAAAAAAAAAAAAAAAAAAAAAAAAAAAAAAAAAAAAAAAAAAAAAAAAAAAAAAAAAAAAAAAAAAAAAAAAAAAAAAAAAAAAAAAAAAAAAAAAAAAAAAAAAAAAAAAAAAAAAAAAAAAAAAAAAAAAAAAAAAAAAAAAAAAAAAAAAAAAAAAAAAAAAAAAAAAAAAAAAAAAAAAAAAAAAAAAAAAAAAAAAAAAAAAAAAAAAAAAAAAAAAAAAAAAAAAAAAAAAAAAAAAAAAAAAAAAAAAAAAAAAAAAAAAAAAAAAAAAAAAAAAAAAAAAAAAAAAAAAAAAAAAAAAAAAAAAAAAAAAAAAAAAAAAAAAAAAAAAAAAAAAAAAAAAAAAAAAAAAAAAAAAAAAAAAAAAAAAAAAAAAAAAAAAAAAAAAAAAAAAAAAAAAAAAAAAAAAAAAAAAAAAAAAAAAAAAAAAAAAAAAAAAAAAAAAAAAAAAAAAAAAAAAAAAAAAAAAAAAAAAAAAAAAAAAAAAAAAAAAAAAAAAAAAAAAAAAAAAAAAAAAAAAAAAAAAAAAAAAAAAAAAAAAAAAAAAAAAAAAAAAAAAAAAAAAAAAAAAAAAAAAAAAAAAAAAAAAAAAAAAAAAAAAAAAAAAAAAAAAAAAAAAAAAAAAAAAAAAAAAAAAAAAAAAAAAAAAAAAAAAAAAAAAAAAAAAAAAAAAAAAAAAAAAAAAAAAAAAAAAAAAAAAAAAAAAAAAAAAAAAAAAAAAAAAAAAAAAAAAAAAAAAAAAAAAAAAAAAAAAAAAAAAAAAAAAAAAAAAAAAAAAAAAAAAAAAAAAAAAAAAAAAAAAAAAAAAAAAAAAAAAAAAAAAAAAAAAAAAAAAAAAAAAAAAAAAAAAAAAAAAAAAAAAAAAAAAAAAAAAAAAAAAAAAAAAAAAAAAAAAAAAAAAAAAAAAAAAAAAAAAAAAAAAAAAAAAAAAAAAAAAAAAAAAAAAAAAAAAAAAAAAAAAAAAAAAAAAAAAAAAAAAAAAAAAAAAAAAAAAAAAAAAAAAAAAAAAAAAAAAAAAAAAAAAAAAAAAAAAAAAAAAAAAAAAAAAAAAAAAAAAAAAAAAAAAAAAAAAAAAAAAAAAAAAAAAAAAAAAAAAAAAAAAAAAAAAAAAAAAAAAAAAAAAAAAAAAAAAAAAAAAAAAAAAAAAAAAAAAAAAAAAAAAAAAAAAAAAAAAAAAAAAAAAAAAAAAAAAAAAAAAAAAAAAAAAAAAAAAAAAAAAAAAAAAAAAAAAAAAAAAAAAAAAAAAAAAAAAAAAAAAAAAAAAAAAAAAAAAAAAAAAAAAAAAAAAAAAAAAAAAAAAAAAAAAAAAAAAAAAAAAAAAAAAAAAAAAAAAAAAAAAAAAAAAAAAAAAAAAAAAAAAAAAAAAAAAAAAAAAAAAAAAAAAAAAAAAAAAAAAAAAAAAAAAAAAAAAAAAAAAAAAAAAAAAAAAAAAAAAAAAAAAAAAAAAAAAAAAAAAAAAAAAAAAAAAAAAAAAAAAAAAAAAAAAAAAAAAAAAAAAAAAAAAAAAAAAAAAAAAAAAAAAAAAAAAAAAAAAAAAAAAAAAAAAAAAAAAAAAAAAAAAAAAAAAAAAAAAAAAAAAAAAAAAAAAAAAAAAAAAAAAAAAAAAAAAAAAAAAAAAAA=\",\"dtype\":\"float64\",\"shape\":[16,16]}]},\"selected\":{\"id\":\"5762\",\"type\":\"Selection\"},\"selection_policy\":{\"id\":\"5763\",\"type\":\"UnionRenderers\"}},\"id\":\"5631\",\"type\":\"ColumnDataSource\"},{\"attributes\":{\"source\":{\"id\":\"5631\",\"type\":\"ColumnDataSource\"}},\"id\":\"5637\",\"type\":\"CDSView\"},{\"attributes\":{\"text\":\"Bitmap of Memory\"},\"id\":\"5609\",\"type\":\"Title\"},{\"attributes\":{\"callback\":null},\"id\":\"5611\",\"type\":\"DataRange1d\"},{\"attributes\":{},\"id\":\"5760\",\"type\":\"BasicTickFormatter\"},{\"attributes\":{\"callback\":null},\"id\":\"5613\",\"type\":\"DataRange1d\"},{\"attributes\":{},\"id\":\"5762\",\"type\":\"Selection\"},{\"attributes\":{},\"id\":\"5758\",\"type\":\"BasicTickFormatter\"},{\"attributes\":{},\"id\":\"5615\",\"type\":\"LinearScale\"},{\"attributes\":{},\"id\":\"5763\",\"type\":\"UnionRenderers\"},{\"attributes\":{},\"id\":\"5617\",\"type\":\"LinearScale\"},{\"attributes\":{\"formatter\":{\"id\":\"5760\",\"type\":\"BasicTickFormatter\"},\"ticker\":{\"id\":\"5620\",\"type\":\"BasicTicker\"}},\"id\":\"5619\",\"type\":\"LinearAxis\"},{\"attributes\":{},\"id\":\"5620\",\"type\":\"BasicTicker\"},{\"attributes\":{\"callback\":null,\"formatters\":{\"address\":\"printf\",\"image\":\"printf\"},\"tooltips\":[[\"Address\",\"@address{$%02X}\"],[\"value\",\"@image{$%02X}\"]]},\"id\":\"5607\",\"type\":\"HoverTool\"},{\"attributes\":{\"ticker\":{\"id\":\"5620\",\"type\":\"BasicTicker\"}},\"id\":\"5623\",\"type\":\"Grid\"},{\"attributes\":{\"formatter\":{\"id\":\"5758\",\"type\":\"BasicTickFormatter\"},\"ticker\":{\"id\":\"5625\",\"type\":\"BasicTicker\"}},\"id\":\"5624\",\"type\":\"LinearAxis\"},{\"attributes\":{},\"id\":\"5625\",\"type\":\"BasicTicker\"},{\"attributes\":{\"dimension\":1,\"ticker\":{\"id\":\"5625\",\"type\":\"BasicTicker\"}},\"id\":\"5628\",\"type\":\"Grid\"},{\"attributes\":{\"active_drag\":\"auto\",\"active_inspect\":\"auto\",\"active_multi\":null,\"active_scroll\":\"auto\",\"active_tap\":\"auto\",\"tools\":[{\"id\":\"5607\",\"type\":\"HoverTool\"}]},\"id\":\"5629\",\"type\":\"Toolbar\"},{\"attributes\":{\"color_mapper\":{\"id\":\"5633\",\"type\":\"LinearColorMapper\"},\"dh\":{\"units\":\"data\",\"value\":16},\"dw\":{\"units\":\"data\",\"value\":16},\"image\":{\"field\":\"image\"},\"x\":{\"value\":-0.5},\"y\":{\"value\":-0.5}},\"id\":\"5632\",\"type\":\"Image\"}],\"root_ids\":[\"5608\"]},\"title\":\"Bokeh Application\",\"version\":\"1.3.0\"}};\n",
       "  var render_items = [{\"docid\":\"5227fbdf-8207-4ccf-87c0-7ed3eccc2088\",\"notebook_comms_target\":\"5764\",\"roots\":{\"5608\":\"9c9f16a6-f7c9-4314-b044-52507636f115\"}}];\n",
       "  root.Bokeh.embed.embed_items_notebook(docs_json, render_items);\n",
       "\n",
       "  }\n",
       "  if (root.Bokeh !== undefined) {\n",
       "    embed_document(root);\n",
       "  } else {\n",
       "    var attempts = 0;\n",
       "    var timer = setInterval(function(root) {\n",
       "      if (root.Bokeh !== undefined) {\n",
       "        embed_document(root);\n",
       "        clearInterval(timer);\n",
       "      }\n",
       "      attempts++;\n",
       "      if (attempts > 100) {\n",
       "        console.log(\"Bokeh: ERROR: Unable to run BokehJS code because BokehJS library is missing\");\n",
       "        clearInterval(timer);\n",
       "      }\n",
       "    }, 10, root)\n",
       "  }\n",
       "})(window);"
      ],
      "application/vnd.bokehjs_exec.v0+json": ""
     },
     "metadata": {
      "application/vnd.bokehjs_exec.v0+json": {
       "id": "5608"
      }
     },
     "output_type": "display_data"
    },
    {
     "name": "stdout",
     "output_type": "stream",
     "text": [
      "Enter a Hexadecimal number 00 <= x <= FF:\n",
      "33\n"
     ]
    }
   ],
   "source": [
    "program = \"\"\"\n",
    "    LDA #locationbuffer\n",
    "    ADD #$01\n",
    "    STA locationbuffer\n",
    "    BAI\n",
    "    STA colorbuffer\n",
    "loop:\n",
    "    DMA\n",
    "    LDA  colorbuffer\n",
    "    ADD #$01\n",
    "    STA  colorbuffer\n",
    "    \n",
    "    LDA locationbuffer\n",
    "    ADD #$02\n",
    "    STA locationbuffer\n",
    "    \n",
    "    LDA colorbuffer\n",
    "    STA (locationbuffer)\n",
    "    JMP  loop\n",
    "colorbuffer:\n",
    "    BYTE #33 44 55 66\n",
    "locationbuffer:\n",
    "    NOP\n",
    "\"\"\"\n",
    "\n",
    "program_bytes = assemble(program)\n",
    "\n",
    "cpu = Computer()\n",
    "cpu.reset()\n",
    "cpu.switches.load_program(program_bytes)\n",
    "setup_bokeh_gui(cpu)\n",
    "\n",
    "for i in range(999):\n",
    "    time.sleep(.01)\n",
    "    cpu.step(instructionwise=True, debug=False)"
   ]
  },
  {
   "cell_type": "code",
   "execution_count": 110,
   "metadata": {},
   "outputs": [],
   "source": [
    "import IPython\n",
    "ipython = IPython.get_ipython()\n",
    "\n",
    "def setup_ipywidget_input_reg(cpu):\n",
    "    slider = widgets.IntSlider(value=0x90, min=0x00, max=0xFF, step=1)\n",
    "    display(slider)\n",
    "    def update_input_reg():\n",
    "        ipython.kernel.do_one_iteration()\n",
    "        return slider.value\n",
    "    cpu.reg_c.input_function = update_input_reg"
   ]
  },
  {
   "cell_type": "code",
   "execution_count": 116,
   "metadata": {
    "scrolled": false
   },
   "outputs": [
    {
     "name": "stdout",
     "output_type": "stream",
     "text": [
      "Trying to execute a non-existant opcode\n",
      "Trying to execute a non-existant opcode\n",
      "0x00  20 16   # LDA #$16  \n",
      "0x02  21 01   # ADD #$01  \n",
      "0x04  35 16   # STA $16   \n",
      "0x06  FD      # DMA       :loop\n",
      "0x07  00 16   # LDA $16   \n",
      "0x09  21 02   # ADD #$02  \n",
      "0x0B  35 16   # STA $16   \n",
      "0x0D  F7      # BAI       \n",
      "0x0E  45 16   # STA ($16) \n",
      "0x10  34 06   # JMP  $06  \n",
      "0x12  33 44 55 66# BYTE #33 44 55 66:colorbuffer\n",
      "0x16  FE      # NOP       :locationbuffer\n",
      "ERROR! Session/line number was not unique in database. History logging moved to new session 134\n"
     ]
    },
    {
     "data": {
      "text/html": [
       "\n",
       "\n",
       "\n",
       "\n",
       "\n",
       "\n",
       "  <div class=\"bk-root\" id=\"754655d9-bd7e-4678-bca0-12fb81a201f1\" data-root-id=\"15081\"></div>\n"
      ]
     },
     "metadata": {},
     "output_type": "display_data"
    },
    {
     "data": {
      "application/javascript": [
       "(function(root) {\n",
       "  function embed_document(root) {\n",
       "    \n",
       "  var docs_json = {\"4a9ba69f-dc2b-4fa5-a5c5-9b5e967b8fcd\":{\"roots\":{\"references\":[{\"attributes\":{\"background_fill_color\":{\"value\":\"#efefef\"},\"below\":[{\"id\":\"15092\",\"type\":\"LinearAxis\"}],\"center\":[{\"id\":\"15096\",\"type\":\"Grid\"},{\"id\":\"15101\",\"type\":\"Grid\"}],\"left\":[{\"id\":\"15097\",\"type\":\"LinearAxis\"}],\"plot_height\":512,\"plot_width\":512,\"renderers\":[{\"id\":\"15109\",\"type\":\"GlyphRenderer\"}],\"title\":{\"id\":\"15082\",\"type\":\"Title\"},\"toolbar\":{\"id\":\"15102\",\"type\":\"Toolbar\"},\"toolbar_location\":null,\"x_range\":{\"id\":\"15084\",\"type\":\"DataRange1d\"},\"x_scale\":{\"id\":\"15088\",\"type\":\"LinearScale\"},\"y_range\":{\"id\":\"15086\",\"type\":\"DataRange1d\"},\"y_scale\":{\"id\":\"15090\",\"type\":\"LinearScale\"}},\"id\":\"15081\",\"subtype\":\"Figure\",\"type\":\"Plot\"},{\"attributes\":{},\"id\":\"15382\",\"type\":\"Selection\"},{\"attributes\":{},\"id\":\"15088\",\"type\":\"LinearScale\"},{\"attributes\":{},\"id\":\"15098\",\"type\":\"BasicTicker\"},{\"attributes\":{\"callback\":null,\"data\":{\"address\":[[[0,1,2,3,4,5,6,7,8,9,10,11,12,13,14,15],[16,17,18,19,20,21,22,23,24,25,26,27,28,29,30,31],[32,33,34,35,36,37,38,39,40,41,42,43,44,45,46,47],[48,49,50,51,52,53,54,55,56,57,58,59,60,61,62,63],[64,65,66,67,68,69,70,71,72,73,74,75,76,77,78,79],[80,81,82,83,84,85,86,87,88,89,90,91,92,93,94,95],[96,97,98,99,100,101,102,103,104,105,106,107,108,109,110,111],[112,113,114,115,116,117,118,119,120,121,122,123,124,125,126,127],[128,129,130,131,132,133,134,135,136,137,138,139,140,141,142,143],[144,145,146,147,148,149,150,151,152,153,154,155,156,157,158,159],[160,161,162,163,164,165,166,167,168,169,170,171,172,173,174,175],[176,177,178,179,180,181,182,183,184,185,186,187,188,189,190,191],[192,193,194,195,196,197,198,199,200,201,202,203,204,205,206,207],[208,209,210,211,212,213,214,215,216,217,218,219,220,221,222,223],[224,225,226,227,228,229,230,231,232,233,234,235,236,237,238,239],[240,241,242,243,244,245,246,247,248,249,250,251,252,253,254,255]]],\"image\":[{\"__ndarray__\":\"AAAAAAAAAAAAAAAAAAAAAAAAAAAAAAAAAAAAAAAAAAAAAAAAAAAAAAAAAAAAAAAAAAAAAAAAAAAAAAAAAAAAAAAAAAAAAAAAAAAAAAAAAAAAAAAAAAAAAAAAAAAAAAAAAAAAAAAAAAAAAAAAAAAAAAAAAAAAAAAAAAAAAAAAAAAAAAAAAAAAAAAAAAAAAAAAAAAAAAAAAAAAAAAAAAAAAAAAAAAAAAAAAAAAAAAAAAAAAAAAAAAAAAAAAAAAAAAAAAAAAAAAAAAAAAAAAAAAAAAAAAAAAAAAAAAAAAAAAAAAAAAAAAAAAAAAAAAAAAAAAAAAAAAAAAAAAAAAAAAAAAAAAAAAAAAAAAAAAAAAAAAAAAAAAAAAAAAAAAAAAAAAAAAAAAAAAAAAAAAAAAAAAAAAAAAAAAAAAAAAAAAAAAAAAAAAAAAAAAAAAAAAAAAAAAAAAAAAAAAAAAAAAAAAAAAAAAAAAAAAAAAAAAAAAAAAAAAAAAAAAAAAAAAAAAAAAAAAAAAAAAAAAAAAAAAAAAAAAAAAAAAAAAAAAAAAAAAAAAAAAAAAAAAAAAAAAAAAAAAAAAAAAAAAAAAAAAAAAAAAAAAAAAAAAAAAAAAAAAAAAAAAAAAAAAAAAAAAAAAAAAAAAAAAAAAAAAAAAAAAAAAAAAAAAAAAAAAAAAAAAAAAAAAAAAAAAAAAAAAAAAAAAAAAAAAAAAAAAAAAAAAAAAAAAAAAAAAAAAAAAAAAAAAAAAAAAAAAAAAAAAAAAAAAAAAAAAAAAAAAAAAAAAAAAAAAAAAAAAAAAAAAAAAAAAAAAAAAAAAAAAAAAAAAAAAAAAAAAAAAAAAAAAAAAAAAAAAAAAAAAAAAAAAAAAAAAAAAAAAAAAAAAAAAAAAAAAAAAAAAAAAAAAAAAAAAAAAAAAAAAAAAAAAAAAAAAAAAAAAAAAAAAAAAAAAAAAAAAAAAAAAAAAAAAAAAAAAAAAAAAAAAAAAAAAAAAAAAAAAAAAAAAAAAAAAAAAAAAAAAAAAAAAAAAAAAAAAAAAAAAAAAAAAAAAAAAAAAAAAAAAAAAAAAAAAAAAAAAAAAAAAAAAAAAAAAAAAAAAAAAAAAAAAAAAAAAAAAAAAAAAAAAAAAAAAAAAAAAAAAAAAAAAAAAAAAAAAAAAAAAAAAAAAAAAAAAAAAAAAAAAAAAAAAAAAAAAAAAAAAAAAAAAAAAAAAAAAAAAAAAAAAAAAAAAAAAAAAAAAAAAAAAAAAAAAAAAAAAAAAAAAAAAAAAAAAAAAAAAAAAAAAAAAAAAAAAAAAAAAAAAAAAAAAAAAAAAAAAAAAAAAAAAAAAAAAAAAAAAAAAAAAAAAAAAAAAAAAAAAAAAAAAAAAAAAAAAAAAAAAAAAAAAAAAAAAAAAAAAAAAAAAAAAAAAAAAAAAAAAAAAAAAAAAAAAAAAAAAAAAAAAAAAAAAAAAAAAAAAAAAAAAAAAAAAAAAAAAAAAAAAAAAAAAAAAAAAAAAAAAAAAAAAAAAAAAAAAAAAAAAAAAAAAAAAAAAAAAAAAAAAAAAAAAAAAAAAAAAAAAAAAAAAAAAAAAAAAAAAAAAAAAAAAAAAAAAAAAAAAAAAAAAAAAAAAAAAAAAAAAAAAAAAAAAAAAAAAAAAAAAAAAAAAAAAAAAAAAAAAAAAAAAAAAAAAAAAAAAAAAAAAAAAAAAAAAAAAAAAAAAAAAAAAAAAAAAAAAAAAAAAAAAAAAAAAAAAAAAAAAAAAAAAAAAAAAAAAAAAAAAAAAAAAAAAAAAAAAAAAAAAAAAAAAAAAAAAAAAAAAAAAAAAAAAAAAAAAAAAAAAAAAAAAAAAAAAAAAAAAAAAAAAAAAAAAAAAAAAAAAAAAAAAAAAAAAAAAAAAAAAAAAAAAAAAAAAAAAAAAAAAAAAAAAAAAAAAAAAAAAAAAAAAAAAAAAAAAAAAAAAAAAAAAAAAAAAAAAAAAAAAAAAAAAAAAAAAAAAAAAAAAAAAAAAAAAAAAAAAAAAAAAAAAAAAAAAAAAAAAAAAAAAAAAAAAAAAAAAAAAAAAAAAAAAAAAAAAAAAAAAAAAAAAAAAAAAAAAAAAAAAAAAAAAAAAAAAAAAAAAAAAAAAAAAAAAAAAAAAAAAAAAAAAAAAAAAAAAAAAAAAAAAAAAAAAAAAAAAAAAAAAAAAAAAAAAAAAAAAAAAAAAAAAAAAAAAAAAAAAAAAAAAAAAAAAAAAAAAAAAAAAAAAAAAAAAAAAAAAAAAAAAAAAAAAAAAAAAAAAAAAAAAAAAAAAAAAAAAAAAAAAAAAAAAAAAAAAAAAAAAAAAAAAAAAAAAAAAAAAAAAAAAAAAAAAAAAAAAAAAAAAAAAAAAAAAAAAAAAAAAAAAAAAAAAAAAAAAAAAAAAAAAAAAAAAAAAAAAAAAAAAAAAAAAAAAAAAAAAAAAAAAAAAAAAAAAAAAAAAAAAAAAAAAAAAAAAAAAAAAAAAAAAAAAAAAAAAAAAAAAAAAAAAAAAAAAAAAAAAAAAAAAAAAAAAAAAAAAAAAAAAAAAAAAAAAAAAAAAAAAAAAAAAAAAAAAAAAAAAAAAAAAAAAAAAAAAAAAAAAAAAAAAAAAAAAAAAAAAAAAAAAAAAAAAAAAAAAAAAAAAAAAAAAAAAAAAAAAAAAAAAAAAAAAAAAAAAAAAAAAAAAAAAAAAAAAAAAAAAAAAAAAAAAAAAAAAAAAAAAAAAAAAAAAAAAAAAAAAAAAAAAAAAAAAA=\",\"dtype\":\"float64\",\"shape\":[16,16]}]},\"selected\":{\"id\":\"15382\",\"type\":\"Selection\"},\"selection_policy\":{\"id\":\"15383\",\"type\":\"UnionRenderers\"}},\"id\":\"15104\",\"type\":\"ColumnDataSource\"},{\"attributes\":{\"palette\":[\"#5e4fa2\",\"#3288bd\",\"#66c2a5\",\"#abdda4\",\"#e6f598\",\"#ffffbf\",\"#fee08b\",\"#fdae61\",\"#f46d43\",\"#d53e4f\",\"#9e0142\"]},\"id\":\"15108\",\"type\":\"LinearColorMapper\"},{\"attributes\":{\"formatter\":{\"id\":\"15378\",\"type\":\"BasicTickFormatter\"},\"ticker\":{\"id\":\"15098\",\"type\":\"BasicTicker\"}},\"id\":\"15097\",\"type\":\"LinearAxis\"},{\"attributes\":{\"callback\":null},\"id\":\"15084\",\"type\":\"DataRange1d\"},{\"attributes\":{\"formatter\":{\"id\":\"15380\",\"type\":\"BasicTickFormatter\"},\"ticker\":{\"id\":\"15093\",\"type\":\"BasicTicker\"}},\"id\":\"15092\",\"type\":\"LinearAxis\"},{\"attributes\":{\"text\":\"Bitmap of Memory\"},\"id\":\"15082\",\"type\":\"Title\"},{\"attributes\":{\"ticker\":{\"id\":\"15093\",\"type\":\"BasicTicker\"}},\"id\":\"15096\",\"type\":\"Grid\"},{\"attributes\":{\"data_source\":{\"id\":\"15104\",\"type\":\"ColumnDataSource\"},\"glyph\":{\"id\":\"15105\",\"type\":\"Image\"},\"hover_glyph\":null,\"muted_glyph\":null,\"nonselection_glyph\":{\"id\":\"15107\",\"type\":\"Image\"},\"selection_glyph\":null,\"view\":{\"id\":\"15110\",\"type\":\"CDSView\"}},\"id\":\"15109\",\"type\":\"GlyphRenderer\"},{\"attributes\":{},\"id\":\"15380\",\"type\":\"BasicTickFormatter\"},{\"attributes\":{\"color_mapper\":{\"id\":\"15106\",\"type\":\"LinearColorMapper\"},\"dh\":{\"units\":\"data\",\"value\":16},\"dw\":{\"units\":\"data\",\"value\":16},\"image\":{\"field\":\"image\"},\"x\":{\"value\":-0.5},\"y\":{\"value\":-0.5}},\"id\":\"15105\",\"type\":\"Image\"},{\"attributes\":{\"palette\":[\"#5e4fa2\",\"#3288bd\",\"#66c2a5\",\"#abdda4\",\"#e6f598\",\"#ffffbf\",\"#fee08b\",\"#fdae61\",\"#f46d43\",\"#d53e4f\",\"#9e0142\"]},\"id\":\"15106\",\"type\":\"LinearColorMapper\"},{\"attributes\":{\"color_mapper\":{\"id\":\"15108\",\"type\":\"LinearColorMapper\"},\"dh\":{\"units\":\"data\",\"value\":16},\"dw\":{\"units\":\"data\",\"value\":16},\"image\":{\"field\":\"image\"},\"x\":{\"value\":-0.5},\"y\":{\"value\":-0.5}},\"id\":\"15107\",\"type\":\"Image\"},{\"attributes\":{\"callback\":null},\"id\":\"15086\",\"type\":\"DataRange1d\"},{\"attributes\":{},\"id\":\"15383\",\"type\":\"UnionRenderers\"},{\"attributes\":{\"dimension\":1,\"ticker\":{\"id\":\"15098\",\"type\":\"BasicTicker\"}},\"id\":\"15101\",\"type\":\"Grid\"},{\"attributes\":{},\"id\":\"15093\",\"type\":\"BasicTicker\"},{\"attributes\":{\"active_drag\":\"auto\",\"active_inspect\":\"auto\",\"active_multi\":null,\"active_scroll\":\"auto\",\"active_tap\":\"auto\",\"tools\":[{\"id\":\"15080\",\"type\":\"HoverTool\"}]},\"id\":\"15102\",\"type\":\"Toolbar\"},{\"attributes\":{\"source\":{\"id\":\"15104\",\"type\":\"ColumnDataSource\"}},\"id\":\"15110\",\"type\":\"CDSView\"},{\"attributes\":{\"callback\":null,\"formatters\":{\"address\":\"printf\",\"image\":\"printf\"},\"tooltips\":[[\"Address\",\"@address{$%02X}\"],[\"value\",\"@image{$%02X}\"]]},\"id\":\"15080\",\"type\":\"HoverTool\"},{\"attributes\":{},\"id\":\"15378\",\"type\":\"BasicTickFormatter\"},{\"attributes\":{},\"id\":\"15090\",\"type\":\"LinearScale\"}],\"root_ids\":[\"15081\"]},\"title\":\"Bokeh Application\",\"version\":\"1.3.0\"}};\n",
       "  var render_items = [{\"docid\":\"4a9ba69f-dc2b-4fa5-a5c5-9b5e967b8fcd\",\"notebook_comms_target\":\"15384\",\"roots\":{\"15081\":\"754655d9-bd7e-4678-bca0-12fb81a201f1\"}}];\n",
       "  root.Bokeh.embed.embed_items_notebook(docs_json, render_items);\n",
       "\n",
       "  }\n",
       "  if (root.Bokeh !== undefined) {\n",
       "    embed_document(root);\n",
       "  } else {\n",
       "    var attempts = 0;\n",
       "    var timer = setInterval(function(root) {\n",
       "      if (root.Bokeh !== undefined) {\n",
       "        embed_document(root);\n",
       "        clearInterval(timer);\n",
       "      }\n",
       "      attempts++;\n",
       "      if (attempts > 100) {\n",
       "        console.log(\"Bokeh: ERROR: Unable to run BokehJS code because BokehJS library is missing\");\n",
       "        clearInterval(timer);\n",
       "      }\n",
       "    }, 10, root)\n",
       "  }\n",
       "})(window);"
      ],
      "application/vnd.bokehjs_exec.v0+json": ""
     },
     "metadata": {
      "application/vnd.bokehjs_exec.v0+json": {
       "id": "15081"
      }
     },
     "output_type": "display_data"
    },
    {
     "data": {
      "application/vnd.jupyter.widget-view+json": {
       "model_id": "1568c9c6619d40aa8cc19d8737427f0a",
       "version_major": 2,
       "version_minor": 0
      },
      "text/plain": [
       "IntSlider(value=144, max=255)"
      ]
     },
     "metadata": {},
     "output_type": "display_data"
    }
   ],
   "source": [
    "program = \"\"\"\n",
    "    ;Start the drawing after the last buffer\n",
    "    LDA #locationbuffer\n",
    "    ADD #$01\n",
    "    STA locationbuffer\n",
    "loop:\n",
    "    DMA\n",
    "    \n",
    "    LDA locationbuffer\n",
    "    ADD #$02\n",
    "    STA locationbuffer\n",
    "    \n",
    "    BAI\n",
    "    STA (locationbuffer)\n",
    "    JMP  loop\n",
    "colorbuffer:\n",
    "    BYTE #33 44 55 66\n",
    "locationbuffer:\n",
    "    NOP\n",
    "\"\"\"\n",
    "\n",
    "program_bytes = assemble(program)\n",
    "\n",
    "cpu = Computer()\n",
    "cpu.reset()\n",
    "cpu.switches.load_program(program_bytes)\n",
    "setup_bokeh_gui(cpu)\n",
    "setup_ipywidget_input_reg(cpu)\n"
   ]
  },
  {
   "cell_type": "code",
   "execution_count": 117,
   "metadata": {
    "scrolled": false
   },
   "outputs": [
    {
     "name": "stdout",
     "output_type": "stream",
     "text": [
      "Trying to execute a non-existant opcode\n",
      "Trying to execute a non-existant opcode\n",
      "Trying to execute a non-existant opcode\n",
      "Trying to execute a non-existant opcode\n",
      "Trying to execute a non-existant opcode\n",
      "Trying to execute a non-existant opcode\n",
      "Trying to execute a non-existant opcode\n",
      "Trying to execute a non-existant opcode\n",
      "Trying to execute a non-existant opcode\n",
      "Trying to execute a non-existant opcode\n",
      "Trying to execute a non-existant opcode\n",
      "Trying to execute a non-existant opcode\n",
      "Trying to execute a non-existant opcode\n",
      "Trying to execute a non-existant opcode\n",
      "Trying to execute a non-existant opcode\n",
      "Trying to execute a non-existant opcode\n",
      "Trying to execute a non-existant opcode\n",
      "Trying to execute a non-existant opcode\n",
      "Trying to execute a non-existant opcode\n",
      "Trying to execute a non-existant opcode\n",
      "Trying to execute a non-existant opcode\n",
      "Trying to execute a non-existant opcode\n",
      "Trying to execute a non-existant opcode\n",
      "Trying to execute a non-existant opcode\n",
      "Trying to execute a non-existant opcode\n",
      "Trying to execute a non-existant opcode\n",
      "Trying to execute a non-existant opcode\n",
      "Trying to execute a non-existant opcode\n",
      "Trying to execute a non-existant opcode\n",
      "Trying to execute a non-existant opcode\n",
      "Trying to execute a non-existant opcode\n",
      "Trying to execute a non-existant opcode\n",
      "Trying to execute a non-existant opcode\n",
      "Trying to execute a non-existant opcode\n",
      "Trying to execute a non-existant opcode\n",
      "Trying to execute a non-existant opcode\n",
      "Trying to execute a non-existant opcode\n",
      "Trying to execute a non-existant opcode\n",
      "Trying to execute a non-existant opcode\n",
      "Trying to execute a non-existant opcode\n",
      "Trying to execute a non-existant opcode\n",
      "Trying to execute a non-existant opcode\n",
      "Trying to execute a non-existant opcode\n",
      "Trying to execute a non-existant opcode\n",
      "Trying to execute a non-existant opcode\n",
      "Trying to execute a non-existant opcode\n",
      "Trying to execute a non-existant opcode\n",
      "Trying to execute a non-existant opcode\n",
      "Trying to execute a non-existant opcode\n",
      "Trying to execute a non-existant opcode\n",
      "Trying to execute a non-existant opcode\n",
      "Trying to execute a non-existant opcode\n",
      "Trying to execute a non-existant opcode\n",
      "Trying to execute a non-existant opcode\n",
      "Trying to execute a non-existant opcode\n",
      "Trying to execute a non-existant opcode\n",
      "Trying to execute a non-existant opcode\n",
      "Trying to execute a non-existant opcode\n",
      "Trying to execute a non-existant opcode\n",
      "Trying to execute a non-existant opcode\n"
     ]
    }
   ],
   "source": [
    "for i in range(819):\n",
    "    time.sleep(.02)\n",
    "    cpu.step(instructionwise=True, debug=False)"
   ]
  },
  {
   "cell_type": "code",
   "execution_count": null,
   "metadata": {},
   "outputs": [],
   "source": []
  }
 ],
 "metadata": {
  "kernelspec": {
   "display_name": "Python 3",
   "language": "python",
   "name": "python3"
  },
  "language_info": {
   "codemirror_mode": {
    "name": "ipython",
    "version": 3
   },
   "file_extension": ".py",
   "mimetype": "text/x-python",
   "name": "python",
   "nbconvert_exporter": "python",
   "pygments_lexer": "ipython3",
   "version": "3.7.3"
  }
 },
 "nbformat": 4,
 "nbformat_minor": 2
}
