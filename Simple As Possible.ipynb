{
 "cells": [
  {
   "cell_type": "code",
   "execution_count": 1,
   "metadata": {},
   "outputs": [],
   "source": [
    "%load_ext autoreload\n",
    "%autoreload 2\n"
   ]
  },
  {
   "cell_type": "code",
   "execution_count": 2,
   "metadata": {},
   "outputs": [],
   "source": [
    "import time\n",
    "from sapy.components import Clock, ProgramCounter, MemoryAddressRegister, \\\n",
    "    RandomAccessMemory, SwitchBoard, RegisterA, RegisterB, \\\n",
    "    RegisterOutput, ArithmeticUnit, RegisterInstruction, Computer\n"
   ]
  },
  {
   "cell_type": "markdown",
   "metadata": {},
   "source": [
    "# Hex and Binary Literals in Python"
   ]
  },
  {
   "cell_type": "code",
   "execution_count": 3,
   "metadata": {},
   "outputs": [
    {
     "data": {
      "text/plain": [
       "15"
      ]
     },
     "execution_count": 3,
     "metadata": {},
     "output_type": "execute_result"
    }
   ],
   "source": [
    "0xF"
   ]
  },
  {
   "cell_type": "code",
   "execution_count": 4,
   "metadata": {},
   "outputs": [
    {
     "data": {
      "text/plain": [
       "255"
      ]
     },
     "execution_count": 4,
     "metadata": {},
     "output_type": "execute_result"
    }
   ],
   "source": [
    "0xFF"
   ]
  },
  {
   "cell_type": "code",
   "execution_count": 5,
   "metadata": {},
   "outputs": [
    {
     "name": "stdout",
     "output_type": "stream",
     "text": [
      "15000\n",
      "255\n"
     ]
    }
   ],
   "source": [
    "print(15_000) # underscore as separators are allowed\n",
    "print(0b1111_1111)"
   ]
  },
  {
   "cell_type": "markdown",
   "metadata": {},
   "source": [
    "You can also format integers to HEX using X"
   ]
  },
  {
   "cell_type": "code",
   "execution_count": 6,
   "metadata": {},
   "outputs": [
    {
     "data": {
      "text/plain": [
       "'E8'"
      ]
     },
     "execution_count": 6,
     "metadata": {},
     "output_type": "execute_result"
    }
   ],
   "source": [
    "f\"{232:X}\""
   ]
  },
  {
   "cell_type": "markdown",
   "metadata": {},
   "source": [
    "# Clocking Signals"
   ]
  },
  {
   "cell_type": "code",
   "execution_count": 28,
   "metadata": {},
   "outputs": [],
   "source": [
    "clk = Clock()\n",
    "class DummyComponent():\n",
    "    def data(self, con=tuple()):\n",
    "        print(\"data accessed\")\n",
    "        return 42\n",
    "    def clock(self, data, con=tuple()):\n",
    "        print(\"clock stepped\")\n",
    "\n",
    "dc = DummyComponent()\n",
    "clk.add_component(dc)"
   ]
  },
  {
   "cell_type": "code",
   "execution_count": 29,
   "metadata": {},
   "outputs": [
    {
     "name": "stdout",
     "output_type": "stream",
     "text": [
      "step 1: ---------\n",
      "data accessed\n",
      "------------------------------------------\n",
      "PCADDRESS: $2A\n",
      "T0: Data: $2A, Control Word: ('ep', 'lm', 'cp')\n",
      "clock stepped\n",
      "step 2: ---------\n",
      "data accessed\n",
      "T1: Data: $2A, Control Word: ('er', 'li')\n",
      "clock stepped\n"
     ]
    }
   ],
   "source": [
    "print(\"step 1: ---------\")\n",
    "clk.step()\n",
    "print(\"step 2: ---------\")\n",
    "clk.step()"
   ]
  },
  {
   "cell_type": "markdown",
   "metadata": {},
   "source": [
    "# Program Counter"
   ]
  },
  {
   "cell_type": "markdown",
   "metadata": {},
   "source": [
    "To enable a component to take an action on a clock, you pass in the correct control bit as a keyword argument. To enable the PC to output to the data but, use the \"ep\" control bit."
   ]
  },
  {
   "cell_type": "code",
   "execution_count": 30,
   "metadata": {},
   "outputs": [],
   "source": [
    "pc = ProgramCounter()"
   ]
  },
  {
   "cell_type": "code",
   "execution_count": 31,
   "metadata": {},
   "outputs": [],
   "source": [
    "pc.clock()\n",
    "pc.data()"
   ]
  },
  {
   "cell_type": "code",
   "execution_count": 35,
   "metadata": {},
   "outputs": [
    {
     "data": {
      "text/plain": [
       "0"
      ]
     },
     "execution_count": 35,
     "metadata": {},
     "output_type": "execute_result"
    }
   ],
   "source": [
    "pc.clock()\n",
    "pc.data(con=['ep'])"
   ]
  },
  {
   "cell_type": "code",
   "execution_count": 37,
   "metadata": {},
   "outputs": [
    {
     "data": {
      "text/plain": [
       "0"
      ]
     },
     "execution_count": 37,
     "metadata": {},
     "output_type": "execute_result"
    }
   ],
   "source": [
    "pc.clock()\n",
    "pc.data(con=['ep'])"
   ]
  },
  {
   "cell_type": "markdown",
   "metadata": {},
   "source": [
    "To increment the program counter, the control bit is \"cp\"."
   ]
  },
  {
   "cell_type": "code",
   "execution_count": 46,
   "metadata": {},
   "outputs": [
    {
     "data": {
      "text/plain": [
       "1"
      ]
     },
     "execution_count": 46,
     "metadata": {},
     "output_type": "execute_result"
    }
   ],
   "source": [
    "pc.clock(con=['cp'])\n",
    "pc.data(con=['ep'])"
   ]
  },
  {
   "cell_type": "code",
   "execution_count": 47,
   "metadata": {},
   "outputs": [
    {
     "data": {
      "text/plain": [
       "2"
      ]
     },
     "execution_count": 47,
     "metadata": {},
     "output_type": "execute_result"
    }
   ],
   "source": [
    "pc.clock(con=['cp'])\n",
    "pc.data(con=['ep'])"
   ]
  },
  {
   "cell_type": "code",
   "execution_count": 52,
   "metadata": {},
   "outputs": [
    {
     "data": {
      "text/plain": [
       "14"
      ]
     },
     "execution_count": 52,
     "metadata": {},
     "output_type": "execute_result"
    }
   ],
   "source": [
    "pc.clock(con=['cp'])\n",
    "pc.data(con=['ep'])"
   ]
  },
  {
   "cell_type": "markdown",
   "metadata": {},
   "source": [
    "For jump instructions you set the program counter directly. This is done with the \"lp\" control bit."
   ]
  },
  {
   "cell_type": "code",
   "execution_count": 58,
   "metadata": {
    "scrolled": true
   },
   "outputs": [
    {
     "name": "stdout",
     "output_type": "stream",
     "text": [
      "0x0D\n",
      "13\n"
     ]
    }
   ],
   "source": [
    "pc.clock(data=0xD, con=['lp'])\n",
    "print(f\"0x{pc.data(con=['ep']):02X}\")\n",
    "print(f\"{pc.data(con=['ep'])}\")"
   ]
  },
  {
   "cell_type": "markdown",
   "metadata": {},
   "source": [
    "# Accumulator (Register A)"
   ]
  },
  {
   "cell_type": "code",
   "execution_count": 60,
   "metadata": {},
   "outputs": [
    {
     "name": "stdout",
     "output_type": "stream",
     "text": [
      "The register value on reset is: 0x0\n",
      "The register has latched a value: 0xAB\n"
     ]
    }
   ],
   "source": [
    "reg_a = RegisterA()\n",
    "print(f\"The register value on reset is: 0x{reg_a.data(con=['ea']):0X}\")\n",
    "\n",
    "reg_a.clock(data=0xAB, con=['la'])\n",
    "reg_a.data(con=['ea'])\n",
    "print(f\"The register has latched a value: 0x{reg_a.data(con=['ea']):0X}\")\n"
   ]
  },
  {
   "cell_type": "markdown",
   "metadata": {},
   "source": [
    "# ALU\n",
    "## Arithmatic Logic Unit"
   ]
  },
  {
   "cell_type": "markdown",
   "metadata": {},
   "source": [
    "Some components have extra attributes that allow it to communicate directly to other components outside of the bus. \n",
    "\n",
    "The ALU is not clocked, it doesn't even have state. The data output from the ALU is alway the instantaneous sum (or difference) of Reg A + Reg B"
   ]
  },
  {
   "cell_type": "code",
   "execution_count": 99,
   "metadata": {},
   "outputs": [
    {
     "name": "stdout",
     "output_type": "stream",
     "text": [
      "\t0x04\n",
      "+\t0x03\n",
      "------------\n",
      "\t0x07\n"
     ]
    }
   ],
   "source": [
    "reg_a = RegisterA()\n",
    "reg_a.clock(data=4, con=['la'])\n",
    "\n",
    "reg_b = RegisterB()\n",
    "reg_b.clock(data=3, con=['lb'])\n",
    "\n",
    "alu = ArithmeticUnit(reg_a, reg_b)\n",
    "\n",
    "alu.data(con=['eu'])\n",
    "\n",
    "print(f\"\\t0x{reg_a.value:02X}\")\n",
    "print(f\"+\\t0x{reg_b.value:02X}\")\n",
    "print('-' * 12)\n",
    "print(f\"\\t0x{alu.data(con=['eu']):02X}\")"
   ]
  },
  {
   "cell_type": "code",
   "execution_count": 100,
   "metadata": {},
   "outputs": [
    {
     "name": "stdout",
     "output_type": "stream",
     "text": [
      "\t0x04\n",
      "+\t0x01\n",
      "------------\n",
      "\t0x05\n"
     ]
    }
   ],
   "source": [
    "# change the value of the register feeding the alu\n",
    "reg_b.clock(data=1, con=['lb'])\n",
    "alu.data(con=['eu'])\n",
    "\n",
    "print(f\"\\t0x{reg_a.value:02X}\")\n",
    "print(f\"+\\t0x{reg_b.value:02X}\")\n",
    "print('-' * 12)\n",
    "print(f\"\\t0x{alu.data(con=['eu']):02X}\")"
   ]
  },
  {
   "cell_type": "markdown",
   "metadata": {},
   "source": [
    "Subtraction"
   ]
  },
  {
   "cell_type": "code",
   "execution_count": 101,
   "metadata": {},
   "outputs": [
    {
     "name": "stdout",
     "output_type": "stream",
     "text": [
      "\t0x04\n",
      "-\t0x01\n",
      "------------\n",
      "\t0x03\n"
     ]
    }
   ],
   "source": [
    "\n",
    "print(f\"\\t0x{reg_a.value:02X}\")\n",
    "print(f\"-\\t0x{reg_b.value:02X}\")\n",
    "print('-' * 12)\n",
    "print(f\"\\t0x{alu.data(con=['eu', 'su']):02X}\")"
   ]
  },
  {
   "cell_type": "markdown",
   "metadata": {},
   "source": [
    "# Memory"
   ]
  },
  {
   "cell_type": "markdown",
   "metadata": {},
   "source": [
    "Ram is another example of a system that has communication outside the bus, it always access the RAM value stored at the address latched in the Memory Address Register."
   ]
  },
  {
   "cell_type": "code",
   "execution_count": 113,
   "metadata": {},
   "outputs": [
    {
     "name": "stdout",
     "output_type": "stream",
     "text": [
      "Memory Address: 0x0F\n",
      "Memory at address: 0x0F is 0xAB\n",
      "Memory at address: 15 is 171\n"
     ]
    }
   ],
   "source": [
    "mar = MemoryAddressRegister()\n",
    "ram = RandomAccessMemory(mar)\n",
    "\n",
    "# store address for ram in register\n",
    "mar.clock(data=0x0F, con=['lm'])\n",
    "print(f\"Memory Address: 0x{mar.value:02X}\")\n",
    "\n",
    "\n",
    "# clock data into ram at the address set above\n",
    "ram.clock(data=0xAB, con=['lr'])\n",
    "assert ram.data() == None\n",
    "print(f\"Memory at address: 0x{mar.value:02X} is 0x{ram.data(con=['er']):02X}\") # should be 0xAB\n",
    "print(f\"Memory at address: {mar.value} is {ram.data(con=['er'])}\") # just to demystify hex.."
   ]
  },
  {
   "cell_type": "markdown",
   "metadata": {},
   "source": [
    "# Controller: Sequencer + Decoder + Clock"
   ]
  },
  {
   "cell_type": "code",
   "execution_count": null,
   "metadata": {},
   "outputs": [],
   "source": [
    "reg_i = RegisterInstruction()\n",
    "instruction = 0xFF # both opcode and argument, 8bits\n",
    "reg_i.clock(data=instruction, con=['li'])\n"
   ]
  },
  {
   "cell_type": "code",
   "execution_count": null,
   "metadata": {},
   "outputs": [],
   "source": [
    "print(f\"The opcode is {reg_i.opcode():X}\")"
   ]
  },
  {
   "cell_type": "markdown",
   "metadata": {},
   "source": [
    "# Example Sequencing: LDA"
   ]
  },
  {
   "cell_type": "code",
   "execution_count": null,
   "metadata": {},
   "outputs": [],
   "source": [
    "from sapy import Computer\n",
    "\n",
    "cpu = Computer()\n",
    "rom = [\n",
    "    0x00, 0x09, # 0x0 LDA 09H\n",
    "    ]\n",
    "cpu.switches.load_program(rom)\n",
    "\n",
    "for _ in range(7):\n",
    "    cpu.step(debug=True) "
   ]
  },
  {
   "cell_type": "code",
   "execution_count": null,
   "metadata": {
    "scrolled": true
   },
   "outputs": [],
   "source": [
    "cpu.step(debug=True)"
   ]
  },
  {
   "cell_type": "markdown",
   "metadata": {},
   "source": [
    "# Output (Register O)"
   ]
  },
  {
   "cell_type": "code",
   "execution_count": null,
   "metadata": {},
   "outputs": [],
   "source": [
    "reg_o = RegisterOutput()\n",
    "reg_o.clock(data=0x90, con=['lo'])"
   ]
  },
  {
   "cell_type": "code",
   "execution_count": null,
   "metadata": {},
   "outputs": [],
   "source": [
    "# monkey patch output function for fancy display\n",
    "def display_number(x):\n",
    "    print(f\"***### {x} ###***\")\n",
    "reg_o.output_function = display_number"
   ]
  },
  {
   "cell_type": "code",
   "execution_count": null,
   "metadata": {},
   "outputs": [],
   "source": [
    "reg_o.clock(data=0x90, con=['lo'])"
   ]
  },
  {
   "cell_type": "markdown",
   "metadata": {},
   "source": [
    "# Full Computer with ROM"
   ]
  },
  {
   "cell_type": "code",
   "execution_count": 2,
   "metadata": {},
   "outputs": [],
   "source": [
    "from sapy.assembler import assemble"
   ]
  },
  {
   "cell_type": "code",
   "execution_count": 102,
   "metadata": {},
   "outputs": [],
   "source": [
    "cpu = Computer()\n",
    "rom = [\n",
    "    0x00, 0x07, # 0x00 LDA 07H\n",
    "    0x01, 0x08, # 0x02 ADD 08H\n",
    "    0xF6,       # 0x04 OTA\n",
    "    0x04, 0x02, # 0x05 JMP 02H\n",
    "    0x00,       # 0x07 A1H\n",
    "    0x03,       # 0x08 22H\n",
    "    ]\n",
    "cpu.switches.load_program(rom)"
   ]
  },
  {
   "cell_type": "code",
   "execution_count": 103,
   "metadata": {},
   "outputs": [
    {
     "name": "stdout",
     "output_type": "stream",
     "text": [
      "------------------------------------------\n",
      "PCADDRESS: $00\n",
      "T0: Data: $00, Control Word: ('ep', 'lm', 'cp')\n",
      "T1: Data: $00, Control Word: ('er', 'li')\n",
      "OPCODE: $00, MNE: LDA\n",
      "T2: Data: $01, Control Word: ('ep', 'lm', 'cp')\n",
      "T3: Data: $07, Control Word: ('er', 'lm')\n",
      "T4: Data: $00, Control Word: ('er', 'la')\n",
      "------------------------------------------\n",
      "PCADDRESS: $02\n",
      "T0: Data: $02, Control Word: ('ep', 'lm', 'cp')\n",
      "T1: Data: $01, Control Word: ('er', 'li')\n",
      "OPCODE: $01, MNE: ADD\n",
      "T2: Data: $03, Control Word: ('ep', 'lm', 'cp')\n",
      "T3: Data: $08, Control Word: ('er', 'lm')\n",
      "T4: Data: $03, Control Word: ('er', 'lb')\n",
      "T5: Data: $03, Control Word: ('eu', 'la')\n",
      "------------------------------------------\n",
      "PCADDRESS: $04\n",
      "T0: Data: $04, Control Word: ('ep', 'lm', 'cp')\n",
      "T1: Data: $F6, Control Word: ('er', 'li')\n",
      "OPCODE: $F6, MNE: OTA\n",
      "T2: Data: $03, Control Word: ('ea', 'lo')\n",
      "Output Display: 3\n",
      "------------------------------------------\n",
      "PCADDRESS: $05\n",
      "T0: Data: $05, Control Word: ('ep', 'lm', 'cp')\n",
      "T1: Data: $04, Control Word: ('er', 'li')\n",
      "Trying to execute a non-existant opcode\n"
     ]
    },
    {
     "ename": "KeyError",
     "evalue": "4",
     "output_type": "error",
     "traceback": [
      "\u001b[0;31m---------------------------------------------------------------------------\u001b[0m",
      "\u001b[0;31mKeyError\u001b[0m                                  Traceback (most recent call last)",
      "\u001b[0;32m<ipython-input-103-b35fb8ca390f>\u001b[0m in \u001b[0;36m<module>\u001b[0;34m\u001b[0m\n\u001b[1;32m      1\u001b[0m \u001b[0;32mfor\u001b[0m \u001b[0m_\u001b[0m \u001b[0;32min\u001b[0m \u001b[0mrange\u001b[0m\u001b[0;34m(\u001b[0m\u001b[0;36m9\u001b[0m\u001b[0;34m)\u001b[0m\u001b[0;34m:\u001b[0m\u001b[0;34m\u001b[0m\u001b[0;34m\u001b[0m\u001b[0m\n\u001b[0;32m----> 2\u001b[0;31m     \u001b[0mcpu\u001b[0m\u001b[0;34m.\u001b[0m\u001b[0mstep\u001b[0m\u001b[0;34m(\u001b[0m\u001b[0minstructionwise\u001b[0m\u001b[0;34m=\u001b[0m\u001b[0;32mTrue\u001b[0m\u001b[0;34m)\u001b[0m\u001b[0;34m\u001b[0m\u001b[0;34m\u001b[0m\u001b[0m\n\u001b[0m",
      "\u001b[0;32m~/devel/SAPy/sapy/sapy.py\u001b[0m in \u001b[0;36mstep\u001b[0;34m(self, *args, **kwargs)\u001b[0m\n\u001b[1;32m    506\u001b[0m \u001b[0;34m\u001b[0m\u001b[0m\n\u001b[1;32m    507\u001b[0m     \u001b[0;32mdef\u001b[0m \u001b[0mstep\u001b[0m\u001b[0;34m(\u001b[0m\u001b[0mself\u001b[0m\u001b[0;34m,\u001b[0m \u001b[0;34m*\u001b[0m\u001b[0margs\u001b[0m\u001b[0;34m,\u001b[0m \u001b[0;34m**\u001b[0m\u001b[0mkwargs\u001b[0m\u001b[0;34m)\u001b[0m\u001b[0;34m:\u001b[0m\u001b[0;34m\u001b[0m\u001b[0;34m\u001b[0m\u001b[0m\n\u001b[0;32m--> 508\u001b[0;31m         \u001b[0mself\u001b[0m\u001b[0;34m.\u001b[0m\u001b[0m_clock\u001b[0m\u001b[0;34m.\u001b[0m\u001b[0mstep\u001b[0m\u001b[0;34m(\u001b[0m\u001b[0;34m*\u001b[0m\u001b[0margs\u001b[0m\u001b[0;34m,\u001b[0m \u001b[0;34m**\u001b[0m\u001b[0mkwargs\u001b[0m\u001b[0;34m)\u001b[0m\u001b[0;34m\u001b[0m\u001b[0;34m\u001b[0m\u001b[0m\n\u001b[0m\u001b[1;32m    509\u001b[0m \u001b[0;34m\u001b[0m\u001b[0m\n",
      "\u001b[0;32m~/devel/SAPy/sapy/sapy.py\u001b[0m in \u001b[0;36mstep\u001b[0;34m(self, instructionwise, debug)\u001b[0m\n\u001b[1;32m    457\u001b[0m         \u001b[0;31m# run until back to 0\u001b[0m\u001b[0;34m\u001b[0m\u001b[0;34m\u001b[0m\u001b[0;34m\u001b[0m\u001b[0m\n\u001b[1;32m    458\u001b[0m         \u001b[0;32mif\u001b[0m \u001b[0minstructionwise\u001b[0m\u001b[0;34m:\u001b[0m\u001b[0;34m\u001b[0m\u001b[0;34m\u001b[0m\u001b[0m\n\u001b[0;32m--> 459\u001b[0;31m             \u001b[0mself\u001b[0m\u001b[0;34m.\u001b[0m\u001b[0mstep\u001b[0m\u001b[0;34m(\u001b[0m\u001b[0minstructionwise\u001b[0m\u001b[0;34m=\u001b[0m\u001b[0;32mTrue\u001b[0m\u001b[0;34m,\u001b[0m \u001b[0mdebug\u001b[0m\u001b[0;34m=\u001b[0m\u001b[0mdebug\u001b[0m\u001b[0;34m)\u001b[0m\u001b[0;34m\u001b[0m\u001b[0;34m\u001b[0m\u001b[0m\n\u001b[0m\u001b[1;32m    460\u001b[0m \u001b[0;34m\u001b[0m\u001b[0m\n\u001b[1;32m    461\u001b[0m     \u001b[0;32mdef\u001b[0m \u001b[0mdecode\u001b[0m\u001b[0;34m(\u001b[0m\u001b[0mself\u001b[0m\u001b[0;34m,\u001b[0m \u001b[0mopcode\u001b[0m\u001b[0;34m)\u001b[0m\u001b[0;34m:\u001b[0m\u001b[0;34m\u001b[0m\u001b[0;34m\u001b[0m\u001b[0m\n",
      "\u001b[0;32m~/devel/SAPy/sapy/sapy.py\u001b[0m in \u001b[0;36mstep\u001b[0;34m(self, instructionwise, debug)\u001b[0m\n\u001b[1;32m    451\u001b[0m             \u001b[0mself\u001b[0m\u001b[0;34m.\u001b[0m\u001b[0mdecode\u001b[0m\u001b[0;34m(\u001b[0m\u001b[0mself\u001b[0m\u001b[0;34m.\u001b[0m\u001b[0mreg_i\u001b[0m\u001b[0;34m.\u001b[0m\u001b[0mvalue\u001b[0m\u001b[0;34m)\u001b[0m\u001b[0;34m\u001b[0m\u001b[0;34m\u001b[0m\u001b[0m\n\u001b[1;32m    452\u001b[0m             \u001b[0;32mif\u001b[0m \u001b[0mdebug\u001b[0m\u001b[0;34m:\u001b[0m\u001b[0;34m\u001b[0m\u001b[0;34m\u001b[0m\u001b[0m\n\u001b[0;32m--> 453\u001b[0;31m                 \u001b[0mprint\u001b[0m\u001b[0;34m(\u001b[0m\u001b[0;34mf\"OPCODE: ${self.reg_i.value:02X}, MNE: {opcode_map[self.reg_i.value].mne.mnemonic}\"\u001b[0m\u001b[0;34m)\u001b[0m\u001b[0;34m\u001b[0m\u001b[0;34m\u001b[0m\u001b[0m\n\u001b[0m\u001b[1;32m    454\u001b[0m \u001b[0;34m\u001b[0m\u001b[0m\n\u001b[1;32m    455\u001b[0m         \u001b[0mself\u001b[0m\u001b[0;34m.\u001b[0m\u001b[0mt_state\u001b[0m \u001b[0;34m+=\u001b[0m \u001b[0;36m1\u001b[0m\u001b[0;34m\u001b[0m\u001b[0;34m\u001b[0m\u001b[0m\n",
      "\u001b[0;31mKeyError\u001b[0m: 4"
     ]
    }
   ],
   "source": [
    "for _ in range(9):\n",
    "    cpu.step(instructionwise=True)"
   ]
  },
  {
   "cell_type": "code",
   "execution_count": 104,
   "metadata": {},
   "outputs": [
    {
     "name": "stdout",
     "output_type": "stream",
     "text": [
      "T1: Data: $04, Control Word: ('er', 'li')\n",
      "Trying to execute a non-existant opcode\n"
     ]
    },
    {
     "ename": "KeyError",
     "evalue": "4",
     "output_type": "error",
     "traceback": [
      "\u001b[0;31m---------------------------------------------------------------------------\u001b[0m",
      "\u001b[0;31mKeyError\u001b[0m                                  Traceback (most recent call last)",
      "\u001b[0;32m<ipython-input-104-224410c373c9>\u001b[0m in \u001b[0;36m<module>\u001b[0;34m\u001b[0m\n\u001b[1;32m      1\u001b[0m \u001b[0;32mfor\u001b[0m \u001b[0m_\u001b[0m \u001b[0;32min\u001b[0m \u001b[0mrange\u001b[0m\u001b[0;34m(\u001b[0m\u001b[0;36m3\u001b[0m\u001b[0;34m)\u001b[0m\u001b[0;34m:\u001b[0m\u001b[0;34m\u001b[0m\u001b[0;34m\u001b[0m\u001b[0m\n\u001b[0;32m----> 2\u001b[0;31m     \u001b[0mcpu\u001b[0m\u001b[0;34m.\u001b[0m\u001b[0mstep\u001b[0m\u001b[0;34m(\u001b[0m\u001b[0minstructionwise\u001b[0m\u001b[0;34m=\u001b[0m\u001b[0;32mTrue\u001b[0m\u001b[0;34m,\u001b[0m \u001b[0mdebug\u001b[0m\u001b[0;34m=\u001b[0m\u001b[0;32mTrue\u001b[0m\u001b[0;34m)\u001b[0m\u001b[0;34m\u001b[0m\u001b[0;34m\u001b[0m\u001b[0m\n\u001b[0m",
      "\u001b[0;32m~/devel/SAPy/sapy/sapy.py\u001b[0m in \u001b[0;36mstep\u001b[0;34m(self, *args, **kwargs)\u001b[0m\n\u001b[1;32m    506\u001b[0m \u001b[0;34m\u001b[0m\u001b[0m\n\u001b[1;32m    507\u001b[0m     \u001b[0;32mdef\u001b[0m \u001b[0mstep\u001b[0m\u001b[0;34m(\u001b[0m\u001b[0mself\u001b[0m\u001b[0;34m,\u001b[0m \u001b[0;34m*\u001b[0m\u001b[0margs\u001b[0m\u001b[0;34m,\u001b[0m \u001b[0;34m**\u001b[0m\u001b[0mkwargs\u001b[0m\u001b[0;34m)\u001b[0m\u001b[0;34m:\u001b[0m\u001b[0;34m\u001b[0m\u001b[0;34m\u001b[0m\u001b[0m\n\u001b[0;32m--> 508\u001b[0;31m         \u001b[0mself\u001b[0m\u001b[0;34m.\u001b[0m\u001b[0m_clock\u001b[0m\u001b[0;34m.\u001b[0m\u001b[0mstep\u001b[0m\u001b[0;34m(\u001b[0m\u001b[0;34m*\u001b[0m\u001b[0margs\u001b[0m\u001b[0;34m,\u001b[0m \u001b[0;34m**\u001b[0m\u001b[0mkwargs\u001b[0m\u001b[0;34m)\u001b[0m\u001b[0;34m\u001b[0m\u001b[0;34m\u001b[0m\u001b[0m\n\u001b[0m\u001b[1;32m    509\u001b[0m \u001b[0;34m\u001b[0m\u001b[0m\n",
      "\u001b[0;32m~/devel/SAPy/sapy/sapy.py\u001b[0m in \u001b[0;36mstep\u001b[0;34m(self, instructionwise, debug)\u001b[0m\n\u001b[1;32m    451\u001b[0m             \u001b[0mself\u001b[0m\u001b[0;34m.\u001b[0m\u001b[0mdecode\u001b[0m\u001b[0;34m(\u001b[0m\u001b[0mself\u001b[0m\u001b[0;34m.\u001b[0m\u001b[0mreg_i\u001b[0m\u001b[0;34m.\u001b[0m\u001b[0mvalue\u001b[0m\u001b[0;34m)\u001b[0m\u001b[0;34m\u001b[0m\u001b[0;34m\u001b[0m\u001b[0m\n\u001b[1;32m    452\u001b[0m             \u001b[0;32mif\u001b[0m \u001b[0mdebug\u001b[0m\u001b[0;34m:\u001b[0m\u001b[0;34m\u001b[0m\u001b[0;34m\u001b[0m\u001b[0m\n\u001b[0;32m--> 453\u001b[0;31m                 \u001b[0mprint\u001b[0m\u001b[0;34m(\u001b[0m\u001b[0;34mf\"OPCODE: ${self.reg_i.value:02X}, MNE: {opcode_map[self.reg_i.value].mne.mnemonic}\"\u001b[0m\u001b[0;34m)\u001b[0m\u001b[0;34m\u001b[0m\u001b[0;34m\u001b[0m\u001b[0m\n\u001b[0m\u001b[1;32m    454\u001b[0m \u001b[0;34m\u001b[0m\u001b[0m\n\u001b[1;32m    455\u001b[0m         \u001b[0mself\u001b[0m\u001b[0;34m.\u001b[0m\u001b[0mt_state\u001b[0m \u001b[0;34m+=\u001b[0m \u001b[0;36m1\u001b[0m\u001b[0;34m\u001b[0m\u001b[0;34m\u001b[0m\u001b[0m\n",
      "\u001b[0;31mKeyError\u001b[0m: 4"
     ]
    }
   ],
   "source": [
    "for _ in range(3):\n",
    "    cpu.step(instructionwise=True, debug=True)"
   ]
  },
  {
   "cell_type": "code",
   "execution_count": null,
   "metadata": {},
   "outputs": [],
   "source": [
    "import ipywidgets as widgets\n",
    "from IPython.display import display\n",
    "gui_output_display = widgets.FloatText()\n",
    "display(gui_output_display)\n",
    "\n",
    "# monkey patch output function\n",
    "def display_number(x):\n",
    "    gui_output_display.value = x\n",
    "\n",
    "cpu.reg_o.output_function = display_number"
   ]
  },
  {
   "cell_type": "code",
   "execution_count": null,
   "metadata": {},
   "outputs": [],
   "source": [
    "for _ in range(3):\n",
    "    time.sleep(.2)\n",
    "    cpu.step(instructionwise=True, debug=False)"
   ]
  },
  {
   "cell_type": "code",
   "execution_count": null,
   "metadata": {},
   "outputs": [],
   "source": [
    "for _ in range(27):\n",
    "    time.sleep(.03)\n",
    "    cpu.step(instructionwise=True, debug=False)"
   ]
  },
  {
   "cell_type": "code",
   "execution_count": null,
   "metadata": {},
   "outputs": [],
   "source": [
    "while True:\n",
    "    time.sleep(.03)\n",
    "    cpu.step(instructionwise=True, debug=False)"
   ]
  },
  {
   "cell_type": "code",
   "execution_count": null,
   "metadata": {},
   "outputs": [],
   "source": [
    "cpu = Computer()\n",
    "rom = [\n",
    "    0x00, 0x09, # 0x00 LDA   09H\n",
    "    0x01, 0x0A, # 0x20 ADD  0AH\n",
    "    0xF6,       # 0x04 OTA\n",
    "    0x05, 0x0A, # 0x05 STA  0AH\n",
    "    0x04, 0x02, # 0x07 JMP $02H\n",
    "    0x01,       # 0x09 01H\n",
    "    0x02,       # 0x0A 02H\n",
    "    ]\n",
    "\n",
    "cpu.switches.load_program(rom)\n",
    "#cpu.reset()"
   ]
  },
  {
   "cell_type": "code",
   "execution_count": null,
   "metadata": {},
   "outputs": [],
   "source": [
    "import ipywidgets as widgets\n",
    "from IPython.display import display\n",
    "gui_output_display = widgets.FloatText()\n",
    "display(gui_output_display)\n",
    "\n",
    "# monkey patch output function\n",
    "def display_number(x):\n",
    "    gui_output_display.value = x\n",
    "\n",
    "cpu.reg_o.output_function = display_number"
   ]
  },
  {
   "cell_type": "code",
   "execution_count": null,
   "metadata": {},
   "outputs": [],
   "source": [
    "while True:\n",
    "    time.sleep(.2)\n",
    "    cpu.step(instructionwise=True, debug=True)"
   ]
  },
  {
   "cell_type": "code",
   "execution_count": null,
   "metadata": {},
   "outputs": [],
   "source": [
    "cpu.step(instructionwise=True, debug=True)"
   ]
  },
  {
   "cell_type": "code",
   "execution_count": null,
   "metadata": {},
   "outputs": [],
   "source": []
  },
  {
   "cell_type": "markdown",
   "metadata": {},
   "source": [
    "# DMA"
   ]
  },
  {
   "cell_type": "code",
   "execution_count": 38,
   "metadata": {},
   "outputs": [],
   "source": [
    "%matplotlib notebook"
   ]
  },
  {
   "cell_type": "code",
   "execution_count": 39,
   "metadata": {},
   "outputs": [],
   "source": [
    "import matplotlib\n",
    "import numpy as np\n",
    "import matplotlib.pyplot as plt"
   ]
  },
  {
   "cell_type": "code",
   "execution_count": 40,
   "metadata": {},
   "outputs": [],
   "source": []
  },
  {
   "cell_type": "code",
   "execution_count": 43,
   "metadata": {},
   "outputs": [
    {
     "name": "stdout",
     "output_type": "stream",
     "text": [
      "0x00\t$20\n",
      "0x01\t$10\n",
      "0x02\t$21\n",
      "0x03\t$03\n",
      "0x04\t$FD\n",
      "0x05\t$35\n",
      "0x06\t$0B\n",
      "0x07\t$45\n",
      "0x08\t$0B\n",
      "0x09\t$34\n",
      "0x0A\t$02\n"
     ]
    }
   ],
   "source": [
    "cpu = Computer()\n",
    "countup = [\n",
    "    0x20, 0x99, # 0x00 LDA #$99\n",
    "    0x21, 0x09, # 0x20 ADD #$0A\n",
    "    0xFD,       # 0x04 DMA\n",
    "    0x05, 0x4A, # 0x05 STA  $4A\n",
    "    0x34, 0x02, # 0x07 JMP  $02\n",
    "    ]\n",
    "moveacross = [\n",
    "    0x20, 0x10, # 0x00 LDA #$10\n",
    "    0x21, 0x03, # 0x20 ADD #$03\n",
    "    0xFD,       # 0x04 DMA\n",
    "    0x35, 0x0B, # 0x05 STA  $0B\n",
    "    0x45, 0x0B, # 0x07 STA ($0B)\n",
    "    0x34, 0x02, # 0x09 JMP  $02\n",
    "    ]\n",
    "moveacross = \"\"\"\n",
    "    LDA #$10\n",
    "    ADD #$03\n",
    "    DMA\n",
    "    STA  $0B\n",
    "    STA ($0B)\n",
    "    JMP  $02\n",
    "    \"\"\"\n",
    "instructions = [i.strip() for i in moveacross.split('\\n') if i.strip() != '']\n",
    "moveacross_bytes = assemble(instructions)\n",
    "for address, byte in enumerate(moveacross_bytes):\n",
    "    print(f\"0x{address:02X}\\t${byte:02X}\")\n",
    "cpu.switches.load_program(moveacross_bytes)"
   ]
  },
  {
   "cell_type": "code",
   "execution_count": 44,
   "metadata": {
    "scrolled": false
   },
   "outputs": [
    {
     "data": {
      "application/javascript": [
       "/* Put everything inside the global mpl namespace */\n",
       "window.mpl = {};\n",
       "\n",
       "\n",
       "mpl.get_websocket_type = function() {\n",
       "    if (typeof(WebSocket) !== 'undefined') {\n",
       "        return WebSocket;\n",
       "    } else if (typeof(MozWebSocket) !== 'undefined') {\n",
       "        return MozWebSocket;\n",
       "    } else {\n",
       "        alert('Your browser does not have WebSocket support.' +\n",
       "              'Please try Chrome, Safari or Firefox ≥ 6. ' +\n",
       "              'Firefox 4 and 5 are also supported but you ' +\n",
       "              'have to enable WebSockets in about:config.');\n",
       "    };\n",
       "}\n",
       "\n",
       "mpl.figure = function(figure_id, websocket, ondownload, parent_element) {\n",
       "    this.id = figure_id;\n",
       "\n",
       "    this.ws = websocket;\n",
       "\n",
       "    this.supports_binary = (this.ws.binaryType != undefined);\n",
       "\n",
       "    if (!this.supports_binary) {\n",
       "        var warnings = document.getElementById(\"mpl-warnings\");\n",
       "        if (warnings) {\n",
       "            warnings.style.display = 'block';\n",
       "            warnings.textContent = (\n",
       "                \"This browser does not support binary websocket messages. \" +\n",
       "                    \"Performance may be slow.\");\n",
       "        }\n",
       "    }\n",
       "\n",
       "    this.imageObj = new Image();\n",
       "\n",
       "    this.context = undefined;\n",
       "    this.message = undefined;\n",
       "    this.canvas = undefined;\n",
       "    this.rubberband_canvas = undefined;\n",
       "    this.rubberband_context = undefined;\n",
       "    this.format_dropdown = undefined;\n",
       "\n",
       "    this.image_mode = 'full';\n",
       "\n",
       "    this.root = $('<div/>');\n",
       "    this._root_extra_style(this.root)\n",
       "    this.root.attr('style', 'display: inline-block');\n",
       "\n",
       "    $(parent_element).append(this.root);\n",
       "\n",
       "    this._init_header(this);\n",
       "    this._init_canvas(this);\n",
       "    this._init_toolbar(this);\n",
       "\n",
       "    var fig = this;\n",
       "\n",
       "    this.waiting = false;\n",
       "\n",
       "    this.ws.onopen =  function () {\n",
       "            fig.send_message(\"supports_binary\", {value: fig.supports_binary});\n",
       "            fig.send_message(\"send_image_mode\", {});\n",
       "            if (mpl.ratio != 1) {\n",
       "                fig.send_message(\"set_dpi_ratio\", {'dpi_ratio': mpl.ratio});\n",
       "            }\n",
       "            fig.send_message(\"refresh\", {});\n",
       "        }\n",
       "\n",
       "    this.imageObj.onload = function() {\n",
       "            if (fig.image_mode == 'full') {\n",
       "                // Full images could contain transparency (where diff images\n",
       "                // almost always do), so we need to clear the canvas so that\n",
       "                // there is no ghosting.\n",
       "                fig.context.clearRect(0, 0, fig.canvas.width, fig.canvas.height);\n",
       "            }\n",
       "            fig.context.drawImage(fig.imageObj, 0, 0);\n",
       "        };\n",
       "\n",
       "    this.imageObj.onunload = function() {\n",
       "        fig.ws.close();\n",
       "    }\n",
       "\n",
       "    this.ws.onmessage = this._make_on_message_function(this);\n",
       "\n",
       "    this.ondownload = ondownload;\n",
       "}\n",
       "\n",
       "mpl.figure.prototype._init_header = function() {\n",
       "    var titlebar = $(\n",
       "        '<div class=\"ui-dialog-titlebar ui-widget-header ui-corner-all ' +\n",
       "        'ui-helper-clearfix\"/>');\n",
       "    var titletext = $(\n",
       "        '<div class=\"ui-dialog-title\" style=\"width: 100%; ' +\n",
       "        'text-align: center; padding: 3px;\"/>');\n",
       "    titlebar.append(titletext)\n",
       "    this.root.append(titlebar);\n",
       "    this.header = titletext[0];\n",
       "}\n",
       "\n",
       "\n",
       "\n",
       "mpl.figure.prototype._canvas_extra_style = function(canvas_div) {\n",
       "\n",
       "}\n",
       "\n",
       "\n",
       "mpl.figure.prototype._root_extra_style = function(canvas_div) {\n",
       "\n",
       "}\n",
       "\n",
       "mpl.figure.prototype._init_canvas = function() {\n",
       "    var fig = this;\n",
       "\n",
       "    var canvas_div = $('<div/>');\n",
       "\n",
       "    canvas_div.attr('style', 'position: relative; clear: both; outline: 0');\n",
       "\n",
       "    function canvas_keyboard_event(event) {\n",
       "        return fig.key_event(event, event['data']);\n",
       "    }\n",
       "\n",
       "    canvas_div.keydown('key_press', canvas_keyboard_event);\n",
       "    canvas_div.keyup('key_release', canvas_keyboard_event);\n",
       "    this.canvas_div = canvas_div\n",
       "    this._canvas_extra_style(canvas_div)\n",
       "    this.root.append(canvas_div);\n",
       "\n",
       "    var canvas = $('<canvas/>');\n",
       "    canvas.addClass('mpl-canvas');\n",
       "    canvas.attr('style', \"left: 0; top: 0; z-index: 0; outline: 0\")\n",
       "\n",
       "    this.canvas = canvas[0];\n",
       "    this.context = canvas[0].getContext(\"2d\");\n",
       "\n",
       "    var backingStore = this.context.backingStorePixelRatio ||\n",
       "\tthis.context.webkitBackingStorePixelRatio ||\n",
       "\tthis.context.mozBackingStorePixelRatio ||\n",
       "\tthis.context.msBackingStorePixelRatio ||\n",
       "\tthis.context.oBackingStorePixelRatio ||\n",
       "\tthis.context.backingStorePixelRatio || 1;\n",
       "\n",
       "    mpl.ratio = (window.devicePixelRatio || 1) / backingStore;\n",
       "\n",
       "    var rubberband = $('<canvas/>');\n",
       "    rubberband.attr('style', \"position: absolute; left: 0; top: 0; z-index: 1;\")\n",
       "\n",
       "    var pass_mouse_events = true;\n",
       "\n",
       "    canvas_div.resizable({\n",
       "        start: function(event, ui) {\n",
       "            pass_mouse_events = false;\n",
       "        },\n",
       "        resize: function(event, ui) {\n",
       "            fig.request_resize(ui.size.width, ui.size.height);\n",
       "        },\n",
       "        stop: function(event, ui) {\n",
       "            pass_mouse_events = true;\n",
       "            fig.request_resize(ui.size.width, ui.size.height);\n",
       "        },\n",
       "    });\n",
       "\n",
       "    function mouse_event_fn(event) {\n",
       "        if (pass_mouse_events)\n",
       "            return fig.mouse_event(event, event['data']);\n",
       "    }\n",
       "\n",
       "    rubberband.mousedown('button_press', mouse_event_fn);\n",
       "    rubberband.mouseup('button_release', mouse_event_fn);\n",
       "    // Throttle sequential mouse events to 1 every 20ms.\n",
       "    rubberband.mousemove('motion_notify', mouse_event_fn);\n",
       "\n",
       "    rubberband.mouseenter('figure_enter', mouse_event_fn);\n",
       "    rubberband.mouseleave('figure_leave', mouse_event_fn);\n",
       "\n",
       "    canvas_div.on(\"wheel\", function (event) {\n",
       "        event = event.originalEvent;\n",
       "        event['data'] = 'scroll'\n",
       "        if (event.deltaY < 0) {\n",
       "            event.step = 1;\n",
       "        } else {\n",
       "            event.step = -1;\n",
       "        }\n",
       "        mouse_event_fn(event);\n",
       "    });\n",
       "\n",
       "    canvas_div.append(canvas);\n",
       "    canvas_div.append(rubberband);\n",
       "\n",
       "    this.rubberband = rubberband;\n",
       "    this.rubberband_canvas = rubberband[0];\n",
       "    this.rubberband_context = rubberband[0].getContext(\"2d\");\n",
       "    this.rubberband_context.strokeStyle = \"#000000\";\n",
       "\n",
       "    this._resize_canvas = function(width, height) {\n",
       "        // Keep the size of the canvas, canvas container, and rubber band\n",
       "        // canvas in synch.\n",
       "        canvas_div.css('width', width)\n",
       "        canvas_div.css('height', height)\n",
       "\n",
       "        canvas.attr('width', width * mpl.ratio);\n",
       "        canvas.attr('height', height * mpl.ratio);\n",
       "        canvas.attr('style', 'width: ' + width + 'px; height: ' + height + 'px;');\n",
       "\n",
       "        rubberband.attr('width', width);\n",
       "        rubberband.attr('height', height);\n",
       "    }\n",
       "\n",
       "    // Set the figure to an initial 600x600px, this will subsequently be updated\n",
       "    // upon first draw.\n",
       "    this._resize_canvas(600, 600);\n",
       "\n",
       "    // Disable right mouse context menu.\n",
       "    $(this.rubberband_canvas).bind(\"contextmenu\",function(e){\n",
       "        return false;\n",
       "    });\n",
       "\n",
       "    function set_focus () {\n",
       "        canvas.focus();\n",
       "        canvas_div.focus();\n",
       "    }\n",
       "\n",
       "    window.setTimeout(set_focus, 100);\n",
       "}\n",
       "\n",
       "mpl.figure.prototype._init_toolbar = function() {\n",
       "    var fig = this;\n",
       "\n",
       "    var nav_element = $('<div/>')\n",
       "    nav_element.attr('style', 'width: 100%');\n",
       "    this.root.append(nav_element);\n",
       "\n",
       "    // Define a callback function for later on.\n",
       "    function toolbar_event(event) {\n",
       "        return fig.toolbar_button_onclick(event['data']);\n",
       "    }\n",
       "    function toolbar_mouse_event(event) {\n",
       "        return fig.toolbar_button_onmouseover(event['data']);\n",
       "    }\n",
       "\n",
       "    for(var toolbar_ind in mpl.toolbar_items) {\n",
       "        var name = mpl.toolbar_items[toolbar_ind][0];\n",
       "        var tooltip = mpl.toolbar_items[toolbar_ind][1];\n",
       "        var image = mpl.toolbar_items[toolbar_ind][2];\n",
       "        var method_name = mpl.toolbar_items[toolbar_ind][3];\n",
       "\n",
       "        if (!name) {\n",
       "            // put a spacer in here.\n",
       "            continue;\n",
       "        }\n",
       "        var button = $('<button/>');\n",
       "        button.addClass('ui-button ui-widget ui-state-default ui-corner-all ' +\n",
       "                        'ui-button-icon-only');\n",
       "        button.attr('role', 'button');\n",
       "        button.attr('aria-disabled', 'false');\n",
       "        button.click(method_name, toolbar_event);\n",
       "        button.mouseover(tooltip, toolbar_mouse_event);\n",
       "\n",
       "        var icon_img = $('<span/>');\n",
       "        icon_img.addClass('ui-button-icon-primary ui-icon');\n",
       "        icon_img.addClass(image);\n",
       "        icon_img.addClass('ui-corner-all');\n",
       "\n",
       "        var tooltip_span = $('<span/>');\n",
       "        tooltip_span.addClass('ui-button-text');\n",
       "        tooltip_span.html(tooltip);\n",
       "\n",
       "        button.append(icon_img);\n",
       "        button.append(tooltip_span);\n",
       "\n",
       "        nav_element.append(button);\n",
       "    }\n",
       "\n",
       "    var fmt_picker_span = $('<span/>');\n",
       "\n",
       "    var fmt_picker = $('<select/>');\n",
       "    fmt_picker.addClass('mpl-toolbar-option ui-widget ui-widget-content');\n",
       "    fmt_picker_span.append(fmt_picker);\n",
       "    nav_element.append(fmt_picker_span);\n",
       "    this.format_dropdown = fmt_picker[0];\n",
       "\n",
       "    for (var ind in mpl.extensions) {\n",
       "        var fmt = mpl.extensions[ind];\n",
       "        var option = $(\n",
       "            '<option/>', {selected: fmt === mpl.default_extension}).html(fmt);\n",
       "        fmt_picker.append(option)\n",
       "    }\n",
       "\n",
       "    // Add hover states to the ui-buttons\n",
       "    $( \".ui-button\" ).hover(\n",
       "        function() { $(this).addClass(\"ui-state-hover\");},\n",
       "        function() { $(this).removeClass(\"ui-state-hover\");}\n",
       "    );\n",
       "\n",
       "    var status_bar = $('<span class=\"mpl-message\"/>');\n",
       "    nav_element.append(status_bar);\n",
       "    this.message = status_bar[0];\n",
       "}\n",
       "\n",
       "mpl.figure.prototype.request_resize = function(x_pixels, y_pixels) {\n",
       "    // Request matplotlib to resize the figure. Matplotlib will then trigger a resize in the client,\n",
       "    // which will in turn request a refresh of the image.\n",
       "    this.send_message('resize', {'width': x_pixels, 'height': y_pixels});\n",
       "}\n",
       "\n",
       "mpl.figure.prototype.send_message = function(type, properties) {\n",
       "    properties['type'] = type;\n",
       "    properties['figure_id'] = this.id;\n",
       "    this.ws.send(JSON.stringify(properties));\n",
       "}\n",
       "\n",
       "mpl.figure.prototype.send_draw_message = function() {\n",
       "    if (!this.waiting) {\n",
       "        this.waiting = true;\n",
       "        this.ws.send(JSON.stringify({type: \"draw\", figure_id: this.id}));\n",
       "    }\n",
       "}\n",
       "\n",
       "\n",
       "mpl.figure.prototype.handle_save = function(fig, msg) {\n",
       "    var format_dropdown = fig.format_dropdown;\n",
       "    var format = format_dropdown.options[format_dropdown.selectedIndex].value;\n",
       "    fig.ondownload(fig, format);\n",
       "}\n",
       "\n",
       "\n",
       "mpl.figure.prototype.handle_resize = function(fig, msg) {\n",
       "    var size = msg['size'];\n",
       "    if (size[0] != fig.canvas.width || size[1] != fig.canvas.height) {\n",
       "        fig._resize_canvas(size[0], size[1]);\n",
       "        fig.send_message(\"refresh\", {});\n",
       "    };\n",
       "}\n",
       "\n",
       "mpl.figure.prototype.handle_rubberband = function(fig, msg) {\n",
       "    var x0 = msg['x0'] / mpl.ratio;\n",
       "    var y0 = (fig.canvas.height - msg['y0']) / mpl.ratio;\n",
       "    var x1 = msg['x1'] / mpl.ratio;\n",
       "    var y1 = (fig.canvas.height - msg['y1']) / mpl.ratio;\n",
       "    x0 = Math.floor(x0) + 0.5;\n",
       "    y0 = Math.floor(y0) + 0.5;\n",
       "    x1 = Math.floor(x1) + 0.5;\n",
       "    y1 = Math.floor(y1) + 0.5;\n",
       "    var min_x = Math.min(x0, x1);\n",
       "    var min_y = Math.min(y0, y1);\n",
       "    var width = Math.abs(x1 - x0);\n",
       "    var height = Math.abs(y1 - y0);\n",
       "\n",
       "    fig.rubberband_context.clearRect(\n",
       "        0, 0, fig.canvas.width, fig.canvas.height);\n",
       "\n",
       "    fig.rubberband_context.strokeRect(min_x, min_y, width, height);\n",
       "}\n",
       "\n",
       "mpl.figure.prototype.handle_figure_label = function(fig, msg) {\n",
       "    // Updates the figure title.\n",
       "    fig.header.textContent = msg['label'];\n",
       "}\n",
       "\n",
       "mpl.figure.prototype.handle_cursor = function(fig, msg) {\n",
       "    var cursor = msg['cursor'];\n",
       "    switch(cursor)\n",
       "    {\n",
       "    case 0:\n",
       "        cursor = 'pointer';\n",
       "        break;\n",
       "    case 1:\n",
       "        cursor = 'default';\n",
       "        break;\n",
       "    case 2:\n",
       "        cursor = 'crosshair';\n",
       "        break;\n",
       "    case 3:\n",
       "        cursor = 'move';\n",
       "        break;\n",
       "    }\n",
       "    fig.rubberband_canvas.style.cursor = cursor;\n",
       "}\n",
       "\n",
       "mpl.figure.prototype.handle_message = function(fig, msg) {\n",
       "    fig.message.textContent = msg['message'];\n",
       "}\n",
       "\n",
       "mpl.figure.prototype.handle_draw = function(fig, msg) {\n",
       "    // Request the server to send over a new figure.\n",
       "    fig.send_draw_message();\n",
       "}\n",
       "\n",
       "mpl.figure.prototype.handle_image_mode = function(fig, msg) {\n",
       "    fig.image_mode = msg['mode'];\n",
       "}\n",
       "\n",
       "mpl.figure.prototype.updated_canvas_event = function() {\n",
       "    // Called whenever the canvas gets updated.\n",
       "    this.send_message(\"ack\", {});\n",
       "}\n",
       "\n",
       "// A function to construct a web socket function for onmessage handling.\n",
       "// Called in the figure constructor.\n",
       "mpl.figure.prototype._make_on_message_function = function(fig) {\n",
       "    return function socket_on_message(evt) {\n",
       "        if (evt.data instanceof Blob) {\n",
       "            /* FIXME: We get \"Resource interpreted as Image but\n",
       "             * transferred with MIME type text/plain:\" errors on\n",
       "             * Chrome.  But how to set the MIME type?  It doesn't seem\n",
       "             * to be part of the websocket stream */\n",
       "            evt.data.type = \"image/png\";\n",
       "\n",
       "            /* Free the memory for the previous frames */\n",
       "            if (fig.imageObj.src) {\n",
       "                (window.URL || window.webkitURL).revokeObjectURL(\n",
       "                    fig.imageObj.src);\n",
       "            }\n",
       "\n",
       "            fig.imageObj.src = (window.URL || window.webkitURL).createObjectURL(\n",
       "                evt.data);\n",
       "            fig.updated_canvas_event();\n",
       "            fig.waiting = false;\n",
       "            return;\n",
       "        }\n",
       "        else if (typeof evt.data === 'string' && evt.data.slice(0, 21) == \"data:image/png;base64\") {\n",
       "            fig.imageObj.src = evt.data;\n",
       "            fig.updated_canvas_event();\n",
       "            fig.waiting = false;\n",
       "            return;\n",
       "        }\n",
       "\n",
       "        var msg = JSON.parse(evt.data);\n",
       "        var msg_type = msg['type'];\n",
       "\n",
       "        // Call the  \"handle_{type}\" callback, which takes\n",
       "        // the figure and JSON message as its only arguments.\n",
       "        try {\n",
       "            var callback = fig[\"handle_\" + msg_type];\n",
       "        } catch (e) {\n",
       "            console.log(\"No handler for the '\" + msg_type + \"' message type: \", msg);\n",
       "            return;\n",
       "        }\n",
       "\n",
       "        if (callback) {\n",
       "            try {\n",
       "                // console.log(\"Handling '\" + msg_type + \"' message: \", msg);\n",
       "                callback(fig, msg);\n",
       "            } catch (e) {\n",
       "                console.log(\"Exception inside the 'handler_\" + msg_type + \"' callback:\", e, e.stack, msg);\n",
       "            }\n",
       "        }\n",
       "    };\n",
       "}\n",
       "\n",
       "// from http://stackoverflow.com/questions/1114465/getting-mouse-location-in-canvas\n",
       "mpl.findpos = function(e) {\n",
       "    //this section is from http://www.quirksmode.org/js/events_properties.html\n",
       "    var targ;\n",
       "    if (!e)\n",
       "        e = window.event;\n",
       "    if (e.target)\n",
       "        targ = e.target;\n",
       "    else if (e.srcElement)\n",
       "        targ = e.srcElement;\n",
       "    if (targ.nodeType == 3) // defeat Safari bug\n",
       "        targ = targ.parentNode;\n",
       "\n",
       "    // jQuery normalizes the pageX and pageY\n",
       "    // pageX,Y are the mouse positions relative to the document\n",
       "    // offset() returns the position of the element relative to the document\n",
       "    var x = e.pageX - $(targ).offset().left;\n",
       "    var y = e.pageY - $(targ).offset().top;\n",
       "\n",
       "    return {\"x\": x, \"y\": y};\n",
       "};\n",
       "\n",
       "/*\n",
       " * return a copy of an object with only non-object keys\n",
       " * we need this to avoid circular references\n",
       " * http://stackoverflow.com/a/24161582/3208463\n",
       " */\n",
       "function simpleKeys (original) {\n",
       "  return Object.keys(original).reduce(function (obj, key) {\n",
       "    if (typeof original[key] !== 'object')\n",
       "        obj[key] = original[key]\n",
       "    return obj;\n",
       "  }, {});\n",
       "}\n",
       "\n",
       "mpl.figure.prototype.mouse_event = function(event, name) {\n",
       "    var canvas_pos = mpl.findpos(event)\n",
       "\n",
       "    if (name === 'button_press')\n",
       "    {\n",
       "        this.canvas.focus();\n",
       "        this.canvas_div.focus();\n",
       "    }\n",
       "\n",
       "    var x = canvas_pos.x * mpl.ratio;\n",
       "    var y = canvas_pos.y * mpl.ratio;\n",
       "\n",
       "    this.send_message(name, {x: x, y: y, button: event.button,\n",
       "                             step: event.step,\n",
       "                             guiEvent: simpleKeys(event)});\n",
       "\n",
       "    /* This prevents the web browser from automatically changing to\n",
       "     * the text insertion cursor when the button is pressed.  We want\n",
       "     * to control all of the cursor setting manually through the\n",
       "     * 'cursor' event from matplotlib */\n",
       "    event.preventDefault();\n",
       "    return false;\n",
       "}\n",
       "\n",
       "mpl.figure.prototype._key_event_extra = function(event, name) {\n",
       "    // Handle any extra behaviour associated with a key event\n",
       "}\n",
       "\n",
       "mpl.figure.prototype.key_event = function(event, name) {\n",
       "\n",
       "    // Prevent repeat events\n",
       "    if (name == 'key_press')\n",
       "    {\n",
       "        if (event.which === this._key)\n",
       "            return;\n",
       "        else\n",
       "            this._key = event.which;\n",
       "    }\n",
       "    if (name == 'key_release')\n",
       "        this._key = null;\n",
       "\n",
       "    var value = '';\n",
       "    if (event.ctrlKey && event.which != 17)\n",
       "        value += \"ctrl+\";\n",
       "    if (event.altKey && event.which != 18)\n",
       "        value += \"alt+\";\n",
       "    if (event.shiftKey && event.which != 16)\n",
       "        value += \"shift+\";\n",
       "\n",
       "    value += 'k';\n",
       "    value += event.which.toString();\n",
       "\n",
       "    this._key_event_extra(event, name);\n",
       "\n",
       "    this.send_message(name, {key: value,\n",
       "                             guiEvent: simpleKeys(event)});\n",
       "    return false;\n",
       "}\n",
       "\n",
       "mpl.figure.prototype.toolbar_button_onclick = function(name) {\n",
       "    if (name == 'download') {\n",
       "        this.handle_save(this, null);\n",
       "    } else {\n",
       "        this.send_message(\"toolbar_button\", {name: name});\n",
       "    }\n",
       "};\n",
       "\n",
       "mpl.figure.prototype.toolbar_button_onmouseover = function(tooltip) {\n",
       "    this.message.textContent = tooltip;\n",
       "};\n",
       "mpl.toolbar_items = [[\"Home\", \"Reset original view\", \"fa fa-home icon-home\", \"home\"], [\"Back\", \"Back to previous view\", \"fa fa-arrow-left icon-arrow-left\", \"back\"], [\"Forward\", \"Forward to next view\", \"fa fa-arrow-right icon-arrow-right\", \"forward\"], [\"\", \"\", \"\", \"\"], [\"Pan\", \"Pan axes with left mouse, zoom with right\", \"fa fa-arrows icon-move\", \"pan\"], [\"Zoom\", \"Zoom to rectangle\", \"fa fa-square-o icon-check-empty\", \"zoom\"], [\"\", \"\", \"\", \"\"], [\"Download\", \"Download plot\", \"fa fa-floppy-o icon-save\", \"download\"]];\n",
       "\n",
       "mpl.extensions = [\"eps\", \"pdf\", \"png\", \"ps\", \"raw\", \"svg\"];\n",
       "\n",
       "mpl.default_extension = \"png\";var comm_websocket_adapter = function(comm) {\n",
       "    // Create a \"websocket\"-like object which calls the given IPython comm\n",
       "    // object with the appropriate methods. Currently this is a non binary\n",
       "    // socket, so there is still some room for performance tuning.\n",
       "    var ws = {};\n",
       "\n",
       "    ws.close = function() {\n",
       "        comm.close()\n",
       "    };\n",
       "    ws.send = function(m) {\n",
       "        //console.log('sending', m);\n",
       "        comm.send(m);\n",
       "    };\n",
       "    // Register the callback with on_msg.\n",
       "    comm.on_msg(function(msg) {\n",
       "        //console.log('receiving', msg['content']['data'], msg);\n",
       "        // Pass the mpl event to the overridden (by mpl) onmessage function.\n",
       "        ws.onmessage(msg['content']['data'])\n",
       "    });\n",
       "    return ws;\n",
       "}\n",
       "\n",
       "mpl.mpl_figure_comm = function(comm, msg) {\n",
       "    // This is the function which gets called when the mpl process\n",
       "    // starts-up an IPython Comm through the \"matplotlib\" channel.\n",
       "\n",
       "    var id = msg.content.data.id;\n",
       "    // Get hold of the div created by the display call when the Comm\n",
       "    // socket was opened in Python.\n",
       "    var element = $(\"#\" + id);\n",
       "    var ws_proxy = comm_websocket_adapter(comm)\n",
       "\n",
       "    function ondownload(figure, format) {\n",
       "        window.open(figure.imageObj.src);\n",
       "    }\n",
       "\n",
       "    var fig = new mpl.figure(id, ws_proxy,\n",
       "                           ondownload,\n",
       "                           element.get(0));\n",
       "\n",
       "    // Call onopen now - mpl needs it, as it is assuming we've passed it a real\n",
       "    // web socket which is closed, not our websocket->open comm proxy.\n",
       "    ws_proxy.onopen();\n",
       "\n",
       "    fig.parent_element = element.get(0);\n",
       "    fig.cell_info = mpl.find_output_cell(\"<div id='\" + id + \"'></div>\");\n",
       "    if (!fig.cell_info) {\n",
       "        console.error(\"Failed to find cell for figure\", id, fig);\n",
       "        return;\n",
       "    }\n",
       "\n",
       "    var output_index = fig.cell_info[2]\n",
       "    var cell = fig.cell_info[0];\n",
       "\n",
       "};\n",
       "\n",
       "mpl.figure.prototype.handle_close = function(fig, msg) {\n",
       "    var width = fig.canvas.width/mpl.ratio\n",
       "    fig.root.unbind('remove')\n",
       "\n",
       "    // Update the output cell to use the data from the current canvas.\n",
       "    fig.push_to_output();\n",
       "    var dataURL = fig.canvas.toDataURL();\n",
       "    // Re-enable the keyboard manager in IPython - without this line, in FF,\n",
       "    // the notebook keyboard shortcuts fail.\n",
       "    IPython.keyboard_manager.enable()\n",
       "    $(fig.parent_element).html('<img src=\"' + dataURL + '\" width=\"' + width + '\">');\n",
       "    fig.close_ws(fig, msg);\n",
       "}\n",
       "\n",
       "mpl.figure.prototype.close_ws = function(fig, msg){\n",
       "    fig.send_message('closing', msg);\n",
       "    // fig.ws.close()\n",
       "}\n",
       "\n",
       "mpl.figure.prototype.push_to_output = function(remove_interactive) {\n",
       "    // Turn the data on the canvas into data in the output cell.\n",
       "    var width = this.canvas.width/mpl.ratio\n",
       "    var dataURL = this.canvas.toDataURL();\n",
       "    this.cell_info[1]['text/html'] = '<img src=\"' + dataURL + '\" width=\"' + width + '\">';\n",
       "}\n",
       "\n",
       "mpl.figure.prototype.updated_canvas_event = function() {\n",
       "    // Tell IPython that the notebook contents must change.\n",
       "    IPython.notebook.set_dirty(true);\n",
       "    this.send_message(\"ack\", {});\n",
       "    var fig = this;\n",
       "    // Wait a second, then push the new image to the DOM so\n",
       "    // that it is saved nicely (might be nice to debounce this).\n",
       "    setTimeout(function () { fig.push_to_output() }, 1000);\n",
       "}\n",
       "\n",
       "mpl.figure.prototype._init_toolbar = function() {\n",
       "    var fig = this;\n",
       "\n",
       "    var nav_element = $('<div/>')\n",
       "    nav_element.attr('style', 'width: 100%');\n",
       "    this.root.append(nav_element);\n",
       "\n",
       "    // Define a callback function for later on.\n",
       "    function toolbar_event(event) {\n",
       "        return fig.toolbar_button_onclick(event['data']);\n",
       "    }\n",
       "    function toolbar_mouse_event(event) {\n",
       "        return fig.toolbar_button_onmouseover(event['data']);\n",
       "    }\n",
       "\n",
       "    for(var toolbar_ind in mpl.toolbar_items){\n",
       "        var name = mpl.toolbar_items[toolbar_ind][0];\n",
       "        var tooltip = mpl.toolbar_items[toolbar_ind][1];\n",
       "        var image = mpl.toolbar_items[toolbar_ind][2];\n",
       "        var method_name = mpl.toolbar_items[toolbar_ind][3];\n",
       "\n",
       "        if (!name) { continue; };\n",
       "\n",
       "        var button = $('<button class=\"btn btn-default\" href=\"#\" title=\"' + name + '\"><i class=\"fa ' + image + ' fa-lg\"></i></button>');\n",
       "        button.click(method_name, toolbar_event);\n",
       "        button.mouseover(tooltip, toolbar_mouse_event);\n",
       "        nav_element.append(button);\n",
       "    }\n",
       "\n",
       "    // Add the status bar.\n",
       "    var status_bar = $('<span class=\"mpl-message\" style=\"text-align:right; float: right;\"/>');\n",
       "    nav_element.append(status_bar);\n",
       "    this.message = status_bar[0];\n",
       "\n",
       "    // Add the close button to the window.\n",
       "    var buttongrp = $('<div class=\"btn-group inline pull-right\"></div>');\n",
       "    var button = $('<button class=\"btn btn-mini btn-primary\" href=\"#\" title=\"Stop Interaction\"><i class=\"fa fa-power-off icon-remove icon-large\"></i></button>');\n",
       "    button.click(function (evt) { fig.handle_close(fig, {}); } );\n",
       "    button.mouseover('Stop Interaction', toolbar_mouse_event);\n",
       "    buttongrp.append(button);\n",
       "    var titlebar = this.root.find($('.ui-dialog-titlebar'));\n",
       "    titlebar.prepend(buttongrp);\n",
       "}\n",
       "\n",
       "mpl.figure.prototype._root_extra_style = function(el){\n",
       "    var fig = this\n",
       "    el.on(\"remove\", function(){\n",
       "\tfig.close_ws(fig, {});\n",
       "    });\n",
       "}\n",
       "\n",
       "mpl.figure.prototype._canvas_extra_style = function(el){\n",
       "    // this is important to make the div 'focusable\n",
       "    el.attr('tabindex', 0)\n",
       "    // reach out to IPython and tell the keyboard manager to turn it's self\n",
       "    // off when our div gets focus\n",
       "\n",
       "    // location in version 3\n",
       "    if (IPython.notebook.keyboard_manager) {\n",
       "        IPython.notebook.keyboard_manager.register_events(el);\n",
       "    }\n",
       "    else {\n",
       "        // location in version 2\n",
       "        IPython.keyboard_manager.register_events(el);\n",
       "    }\n",
       "\n",
       "}\n",
       "\n",
       "mpl.figure.prototype._key_event_extra = function(event, name) {\n",
       "    var manager = IPython.notebook.keyboard_manager;\n",
       "    if (!manager)\n",
       "        manager = IPython.keyboard_manager;\n",
       "\n",
       "    // Check for shift+enter\n",
       "    if (event.shiftKey && event.which == 13) {\n",
       "        this.canvas_div.blur();\n",
       "        event.shiftKey = false;\n",
       "        // Send a \"J\" for go to next cell\n",
       "        event.which = 74;\n",
       "        event.keyCode = 74;\n",
       "        manager.command_mode();\n",
       "        manager.handle_keydown(event);\n",
       "    }\n",
       "}\n",
       "\n",
       "mpl.figure.prototype.handle_save = function(fig, msg) {\n",
       "    fig.ondownload(fig, null);\n",
       "}\n",
       "\n",
       "\n",
       "mpl.find_output_cell = function(html_output) {\n",
       "    // Return the cell and output element which can be found *uniquely* in the notebook.\n",
       "    // Note - this is a bit hacky, but it is done because the \"notebook_saving.Notebook\"\n",
       "    // IPython event is triggered only after the cells have been serialised, which for\n",
       "    // our purposes (turning an active figure into a static one), is too late.\n",
       "    var cells = IPython.notebook.get_cells();\n",
       "    var ncells = cells.length;\n",
       "    for (var i=0; i<ncells; i++) {\n",
       "        var cell = cells[i];\n",
       "        if (cell.cell_type === 'code'){\n",
       "            for (var j=0; j<cell.output_area.outputs.length; j++) {\n",
       "                var data = cell.output_area.outputs[j];\n",
       "                if (data.data) {\n",
       "                    // IPython >= 3 moved mimebundle to data attribute of output\n",
       "                    data = data.data;\n",
       "                }\n",
       "                if (data['text/html'] == html_output) {\n",
       "                    return [cell, data, j];\n",
       "                }\n",
       "            }\n",
       "        }\n",
       "    }\n",
       "}\n",
       "\n",
       "// Register the function which deals with the matplotlib target/channel.\n",
       "// The kernel may be null if the page has been refreshed.\n",
       "if (IPython.notebook.kernel != null) {\n",
       "    IPython.notebook.kernel.comm_manager.register_target('matplotlib', mpl.mpl_figure_comm);\n",
       "}\n"
      ],
      "text/plain": [
       "<IPython.core.display.Javascript object>"
      ]
     },
     "metadata": {},
     "output_type": "display_data"
    },
    {
     "data": {
      "text/html": [
       "<img src=\"data:image/png;base64,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\" width=\"640\">"
      ],
      "text/plain": [
       "<IPython.core.display.HTML object>"
      ]
     },
     "metadata": {},
     "output_type": "display_data"
    }
   ],
   "source": [
    "plt.ion()\n",
    "fig, ax = plt.subplots(1,1)\n",
    "initial_bitmap = np.zeros((0xF + 1, 0xF + 1))\n",
    "initial_bitmap[0,0] = 0xFF # get the color map set\n",
    "heatmap = ax.imshow(initial_bitmap)\n",
    "plt.show()\n",
    "\n",
    "def plt_memory(bitmap):\n",
    "    heatmap.set_data(bitmap)\n",
    "    fig.canvas.draw()\n",
    "    \n",
    "cpu.dma.connect_dma_handler(plt_memory)"
   ]
  },
  {
   "cell_type": "code",
   "execution_count": 19,
   "metadata": {
    "scrolled": true
   },
   "outputs": [
    {
     "name": "stdout",
     "output_type": "stream",
     "text": [
      "------------------------------------------\n",
      "PCADDRESS: $00\n",
      "T0: Data: $00, Control Word: ('ep', 'lm', 'cp')\n",
      "T1: Data: $20, Control Word: ('er', 'li')\n",
      "OPCODE: $20, MNE: LDA\n",
      "T2: Data: $01, Control Word: ('ep', 'lm', 'cp')\n",
      "T3: Data: $10, Control Word: ('er', 'la')\n"
     ]
    }
   ],
   "source": [
    "cpu.step(instructionwise=True, debug=True)"
   ]
  },
  {
   "cell_type": "code",
   "execution_count": 45,
   "metadata": {
    "scrolled": true
   },
   "outputs": [
    {
     "name": "stdout",
     "output_type": "stream",
     "text": [
      "50\n",
      "100\n",
      "150\n",
      "200\n",
      "250\n",
      "300\n",
      "350\n"
     ]
    }
   ],
   "source": [
    "n = 0\n",
    "for i in range(363):\n",
    "#while True:\n",
    "    #time.sleep(0.001)\n",
    "    n += 1\n",
    "    if n % 50 == 0:\n",
    "        print(n)\n",
    "    cpu.step(instructionwise=True, debug=False)"
   ]
  },
  {
   "cell_type": "code",
   "execution_count": null,
   "metadata": {},
   "outputs": [],
   "source": [
    "plt.show()"
   ]
  },
  {
   "cell_type": "code",
   "execution_count": null,
   "metadata": {},
   "outputs": [],
   "source": [
    "while True:\n",
    "    time.sleep(0.001)\n",
    "    n += 1\n",
    "    if n % 100 == 0:\n",
    "        print(n)\n",
    "    cpu.step(instructionwise=True, debug=False)"
   ]
  },
  {
   "cell_type": "code",
   "execution_count": null,
   "metadata": {},
   "outputs": [],
   "source": []
  },
  {
   "cell_type": "code",
   "execution_count": null,
   "metadata": {},
   "outputs": [],
   "source": []
  },
  {
   "cell_type": "code",
   "execution_count": null,
   "metadata": {},
   "outputs": [],
   "source": []
  },
  {
   "cell_type": "code",
   "execution_count": null,
   "metadata": {},
   "outputs": [],
   "source": [
    "#var name test\n",
    "LDA"
   ]
  },
  {
   "cell_type": "code",
   "execution_count": null,
   "metadata": {},
   "outputs": [],
   "source": [
    "0xF3 >> 4"
   ]
  },
  {
   "cell_type": "code",
   "execution_count": null,
   "metadata": {},
   "outputs": [],
   "source": []
  },
  {
   "cell_type": "code",
   "execution_count": null,
   "metadata": {},
   "outputs": [],
   "source": []
  }
 ],
 "metadata": {
  "kernelspec": {
   "display_name": "Python 3",
   "language": "python",
   "name": "python3"
  },
  "language_info": {
   "codemirror_mode": {
    "name": "ipython",
    "version": 3
   },
   "file_extension": ".py",
   "mimetype": "text/x-python",
   "name": "python",
   "nbconvert_exporter": "python",
   "pygments_lexer": "ipython3",
   "version": "3.7.1"
  }
 },
 "nbformat": 4,
 "nbformat_minor": 2
}
