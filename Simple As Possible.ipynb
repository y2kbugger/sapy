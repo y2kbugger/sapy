{
 "cells": [
  {
   "cell_type": "code",
   "execution_count": null,
   "metadata": {},
   "outputs": [],
   "source": [
    "%load_ext autoreload\n",
    "%autoreload 2"
   ]
  },
  {
   "cell_type": "code",
   "execution_count": null,
   "metadata": {},
   "outputs": [],
   "source": [
    "import time\n",
    "from sapy.components import Clock, ProgramCounter, MemoryAddressRegister, \\\n",
    "    RandomAccessMemory, SwitchBoard, RegisterA, RegisterB, \\\n",
    "    RegisterOutput, ArithmeticUnit, RegisterInstruction, Computer, opcode_map\n",
    "from sapy.assembler import assemble"
   ]
  },
  {
   "cell_type": "markdown",
   "metadata": {},
   "source": [
    "# Hex and Binary Literals in Python"
   ]
  },
  {
   "cell_type": "code",
   "execution_count": null,
   "metadata": {},
   "outputs": [],
   "source": [
    "0xF"
   ]
  },
  {
   "cell_type": "code",
   "execution_count": null,
   "metadata": {},
   "outputs": [],
   "source": [
    "0xFF"
   ]
  },
  {
   "cell_type": "code",
   "execution_count": null,
   "metadata": {},
   "outputs": [],
   "source": [
    "print(15_000) # underscore as separators are allowed\n",
    "print(0b1111_1111)"
   ]
  },
  {
   "cell_type": "markdown",
   "metadata": {},
   "source": [
    "You can also format integers to HEX using X"
   ]
  },
  {
   "cell_type": "code",
   "execution_count": null,
   "metadata": {},
   "outputs": [],
   "source": [
    "f\"0x{232:02X}\""
   ]
  },
  {
   "cell_type": "markdown",
   "metadata": {},
   "source": [
    "# Assembly Language"
   ]
  },
  {
   "cell_type": "code",
   "execution_count": null,
   "metadata": {},
   "outputs": [],
   "source": [
    "assemble(\"LDA #$07\")"
   ]
  },
  {
   "cell_type": "markdown",
   "metadata": {},
   "source": [
    "# Clocking Signals"
   ]
  },
  {
   "cell_type": "code",
   "execution_count": null,
   "metadata": {},
   "outputs": [],
   "source": [
    "clk = Clock()\n",
    "class DummyComponent():\n",
    "    def data(self, con=tuple()):\n",
    "        print(\"data accessed\")\n",
    "        return 42\n",
    "    def clock(self, data, con=tuple()):\n",
    "        print(\"clock stepped\")\n",
    "\n",
    "dc = DummyComponent()\n",
    "clk.add_component(dc)"
   ]
  },
  {
   "cell_type": "code",
   "execution_count": null,
   "metadata": {},
   "outputs": [],
   "source": [
    "print(\"step 1: ---------\")\n",
    "clk.step()\n",
    "print(\"step 2: ---------\")\n",
    "clk.step()"
   ]
  },
  {
   "cell_type": "markdown",
   "metadata": {},
   "source": [
    "# Program Counter"
   ]
  },
  {
   "cell_type": "markdown",
   "metadata": {},
   "source": [
    "To enable a component to take an action on a clock, you pass in the correct control bit as a keyword argument. To enable the PC to output to the data but, use the \"ep\" control bit."
   ]
  },
  {
   "cell_type": "code",
   "execution_count": null,
   "metadata": {},
   "outputs": [],
   "source": [
    "pc = ProgramCounter()"
   ]
  },
  {
   "cell_type": "code",
   "execution_count": null,
   "metadata": {},
   "outputs": [],
   "source": [
    "pc.clock()\n",
    "pc.data()"
   ]
  },
  {
   "cell_type": "code",
   "execution_count": null,
   "metadata": {},
   "outputs": [],
   "source": [
    "pc.clock()\n",
    "pc.data(con=['ep'])"
   ]
  },
  {
   "cell_type": "code",
   "execution_count": null,
   "metadata": {},
   "outputs": [],
   "source": [
    "pc.clock()\n",
    "pc.data(con=['ep'])"
   ]
  },
  {
   "cell_type": "markdown",
   "metadata": {},
   "source": [
    "To increment the program counter, the control bit is \"cp\"."
   ]
  },
  {
   "cell_type": "code",
   "execution_count": null,
   "metadata": {},
   "outputs": [],
   "source": [
    "pc.clock(con=['cp'])\n",
    "pc.data(con=['ep'])"
   ]
  },
  {
   "cell_type": "code",
   "execution_count": null,
   "metadata": {},
   "outputs": [],
   "source": [
    "pc.clock(con=['cp'])\n",
    "pc.data(con=['ep'])"
   ]
  },
  {
   "cell_type": "code",
   "execution_count": null,
   "metadata": {},
   "outputs": [],
   "source": [
    "pc.clock(con=['cp'])\n",
    "pc.data(con=['ep'])"
   ]
  },
  {
   "cell_type": "markdown",
   "metadata": {},
   "source": [
    "For jump instructions you set the program counter directly. This is done with the \"lp\" control bit."
   ]
  },
  {
   "cell_type": "code",
   "execution_count": null,
   "metadata": {
    "scrolled": true
   },
   "outputs": [],
   "source": [
    "pc.clock(data=0xD, con=['lp'])\n",
    "print(f\"0x{pc.data(con=['ep']):02X}\")\n",
    "print(f\"{pc.data(con=['ep'])}\")"
   ]
  },
  {
   "cell_type": "markdown",
   "metadata": {},
   "source": [
    "# Accumulator (Register A)"
   ]
  },
  {
   "cell_type": "code",
   "execution_count": null,
   "metadata": {},
   "outputs": [],
   "source": [
    "reg_a = RegisterA()\n",
    "print(f\"The register value on reset is: 0x{reg_a.data(con=['ea']):0X}\")\n",
    "\n",
    "reg_a.clock(data=0xAB, con=['la'])\n",
    "reg_a.data(con=['ea'])\n",
    "print(f\"The register has latched a value: 0x{reg_a.data(con=['ea']):0X}\")\n"
   ]
  },
  {
   "cell_type": "markdown",
   "metadata": {},
   "source": [
    "# ALU\n",
    "## Arithmatic Logic Unit"
   ]
  },
  {
   "cell_type": "markdown",
   "metadata": {},
   "source": [
    "Some components have extra attributes that allow it to communicate directly to other components outside of the bus. \n",
    "\n",
    "The ALU is not clocked, it doesn't even have state. The data output from the ALU is alway the instantaneous sum (or difference) of Reg A + Reg B"
   ]
  },
  {
   "cell_type": "code",
   "execution_count": null,
   "metadata": {},
   "outputs": [],
   "source": [
    "reg_a = RegisterA()\n",
    "reg_a.clock(data=4, con=['la'])\n",
    "\n",
    "reg_b = RegisterB()\n",
    "reg_b.clock(data=3, con=['lb'])\n",
    "\n",
    "alu = ArithmeticUnit(reg_a, reg_b)\n",
    "\n",
    "alu.data(con=['eu'])\n",
    "\n",
    "print(f\"\\t0x{reg_a.value:02X}\")\n",
    "print(f\"+\\t0x{reg_b.value:02X}\")\n",
    "print('-' * 12)\n",
    "print(f\"\\t0x{alu.data(con=['eu']):02X}\")"
   ]
  },
  {
   "cell_type": "code",
   "execution_count": null,
   "metadata": {},
   "outputs": [],
   "source": [
    "# change the value of the register feeding the alu\n",
    "reg_b.clock(data=1, con=['lb'])\n",
    "alu.data(con=['eu'])\n",
    "\n",
    "print(f\"\\t0x{reg_a.value:02X}\")\n",
    "print(f\"+\\t0x{reg_b.value:02X}\")\n",
    "print('-' * 12)\n",
    "print(f\"\\t0x{alu.data(con=['eu']):02X}\")"
   ]
  },
  {
   "cell_type": "markdown",
   "metadata": {},
   "source": [
    "Subtraction"
   ]
  },
  {
   "cell_type": "code",
   "execution_count": null,
   "metadata": {},
   "outputs": [],
   "source": [
    "\n",
    "print(f\"\\t0x{reg_a.value:02X}\")\n",
    "print(f\"-\\t0x{reg_b.value:02X}\")\n",
    "print('-' * 12)\n",
    "print(f\"\\t0x{alu.data(con=['eu', 'su']):02X}\")"
   ]
  },
  {
   "cell_type": "markdown",
   "metadata": {},
   "source": [
    "# Memory"
   ]
  },
  {
   "cell_type": "markdown",
   "metadata": {},
   "source": [
    "Ram is another example of a system that has communication outside the bus, it always access the RAM value stored at the address latched in the Memory Address Register."
   ]
  },
  {
   "cell_type": "code",
   "execution_count": null,
   "metadata": {},
   "outputs": [],
   "source": [
    "mar = MemoryAddressRegister()\n",
    "ram = RandomAccessMemory(mar)\n",
    "\n",
    "# store address for ram in register\n",
    "mar.clock(data=0x0F, con=['lm'])\n",
    "print(f\"Memory Address: 0x{mar.value:02X}\")\n",
    "\n",
    "\n",
    "# clock data into ram at the address set above\n",
    "ram.clock(data=0xAB, con=['lr'])\n",
    "assert ram.data() == None\n",
    "print(f\"Memory at address: 0x{mar.value:02X} is 0x{ram.data(con=['er']):02X}\") # should be 0xAB\n",
    "print(f\"Memory at address: {mar.value} is {ram.data(con=['er'])}\") # just to demystify hex.."
   ]
  },
  {
   "cell_type": "markdown",
   "metadata": {},
   "source": [
    "# Controller: Sequencer + Decoder + Clock"
   ]
  },
  {
   "cell_type": "code",
   "execution_count": null,
   "metadata": {},
   "outputs": [],
   "source": [
    "reg_i = RegisterInstruction()\n",
    "instruction = 0xFF # both opcode and argument, 8bits\n",
    "reg_i.clock(data=instruction, con=['li'])\n"
   ]
  },
  {
   "cell_type": "code",
   "execution_count": null,
   "metadata": {},
   "outputs": [],
   "source": [
    "print(f\"The opcode is {reg_i.value:X}\")"
   ]
  },
  {
   "cell_type": "markdown",
   "metadata": {},
   "source": [
    "# Example Sequencing: LDA"
   ]
  },
  {
   "cell_type": "code",
   "execution_count": null,
   "metadata": {},
   "outputs": [],
   "source": [
    "from sapy.components import Computer\n",
    "\n",
    "cpu = Computer()\n",
    "rom = [\n",
    "    0x00, 0x09, # 0x0 LDA 09H\n",
    "    ]\n",
    "cpu.switches.load_program(rom)\n",
    "\n",
    "for _ in range(7):\n",
    "    cpu.step(debug=True) "
   ]
  },
  {
   "cell_type": "code",
   "execution_count": null,
   "metadata": {
    "scrolled": true
   },
   "outputs": [],
   "source": [
    "cpu.step(debug=True)"
   ]
  },
  {
   "cell_type": "markdown",
   "metadata": {},
   "source": [
    "# Output (Register O)"
   ]
  },
  {
   "cell_type": "code",
   "execution_count": null,
   "metadata": {},
   "outputs": [],
   "source": [
    "reg_o = RegisterOutput()\n",
    "reg_o.clock(data=0x90, con=['lo'])"
   ]
  },
  {
   "cell_type": "code",
   "execution_count": null,
   "metadata": {},
   "outputs": [],
   "source": [
    "# monkey patch output function for fancy display\n",
    "def display_number(x):\n",
    "    print(f\"***### {x} ###***\")\n",
    "reg_o.output_function = display_number"
   ]
  },
  {
   "cell_type": "code",
   "execution_count": null,
   "metadata": {},
   "outputs": [],
   "source": [
    "reg_o.clock(data=0x90, con=['lo'])"
   ]
  },
  {
   "cell_type": "markdown",
   "metadata": {},
   "source": [
    "# Full Computer with ROM"
   ]
  },
  {
   "cell_type": "code",
   "execution_count": null,
   "metadata": {},
   "outputs": [],
   "source": [
    "cpu = Computer()\n",
    "rom = [\n",
    "    0x00, 0x07, # 0x00 LDA 07H\n",
    "    0x01, 0x08, # 0x02 ADD 08H\n",
    "    0xF6,       # 0x04 OTA\n",
    "    0x34, 0x02, # 0x05 JMP 02H\n",
    "    0x00,       # 0x07 A1H\n",
    "    0x03,       # 0x08 22H\n",
    "    ]\n",
    "cpu.switches.load_program(rom)"
   ]
  },
  {
   "cell_type": "code",
   "execution_count": null,
   "metadata": {},
   "outputs": [],
   "source": [
    "for _ in range(5):\n",
    "    cpu.step(instructionwise=True)"
   ]
  },
  {
   "cell_type": "code",
   "execution_count": null,
   "metadata": {},
   "outputs": [],
   "source": [
    "for _ in range(3):\n",
    "    cpu.step(instructionwise=True, debug=True)"
   ]
  },
  {
   "cell_type": "code",
   "execution_count": null,
   "metadata": {},
   "outputs": [],
   "source": [
    "import ipywidgets as widgets\n",
    "from IPython.display import display\n",
    "gui_output_display = widgets.FloatText()\n",
    "display(gui_output_display)\n",
    "\n",
    "# monkey patch output function\n",
    "def display_number(x):\n",
    "    gui_output_display.value = x\n",
    "\n",
    "cpu.reg_o.output_function = display_number"
   ]
  },
  {
   "cell_type": "code",
   "execution_count": null,
   "metadata": {},
   "outputs": [],
   "source": [
    "for _ in range(3):\n",
    "    time.sleep(.2)\n",
    "    cpu.step(instructionwise=True, debug=False)"
   ]
  },
  {
   "cell_type": "code",
   "execution_count": null,
   "metadata": {},
   "outputs": [],
   "source": [
    "for _ in range(27):\n",
    "    time.sleep(.03)\n",
    "    cpu.step(instructionwise=True, debug=False)"
   ]
  },
  {
   "cell_type": "code",
   "execution_count": null,
   "metadata": {},
   "outputs": [],
   "source": [
    "for _ in range(133):\n",
    "    time.sleep(.03)\n",
    "    cpu.step(instructionwise=True, debug=False)"
   ]
  },
  {
   "cell_type": "markdown",
   "metadata": {},
   "source": [
    "# DMA"
   ]
  },
  {
   "cell_type": "code",
   "execution_count": null,
   "metadata": {},
   "outputs": [],
   "source": [
    "import numpy as np\n",
    "import ipywidgets as widgets\n",
    "from bokeh.io import push_notebook, show, output_notebook\n",
    "from bokeh.models import HoverTool\n",
    "from bokeh.plotting import figure\n",
    "output_notebook()"
   ]
  },
  {
   "cell_type": "code",
   "execution_count": null,
   "metadata": {},
   "outputs": [],
   "source": [
    "def setup_bokeh_gui(cpu):\n",
    "    # Zeroed-out memory map for initializing the display\n",
    "    initial_bitmap = np.zeros((0x10, 0x10))\n",
    "    \n",
    "    # store the actual address for use in hovertool\n",
    "    address_bitmap = np.ndarray((0x10, 0x10), dtype='int')\n",
    "    for i in range(initial_bitmap.shape[0]):\n",
    "        for j in range(initial_bitmap.shape[1]):\n",
    "            address_bitmap[i, j] = i * 0x10 + j\n",
    "            \n",
    "    hover = HoverTool(\n",
    "        tooltips=[(\"Address\", \"@address{$%02X}\"),\n",
    "                  (\"value\", \"@image{$%02X}\"),\n",
    "                 ],\n",
    "        formatters={\n",
    "            'address' : 'printf',\n",
    "            'image' : 'printf',\n",
    "            },\n",
    "    )\n",
    "\n",
    "    p = figure(\n",
    "        title=\"Bitmap of Memory\",\n",
    "        plot_height=350,\n",
    "        plot_width=350,\n",
    "        tools=\"\",\n",
    "        background_fill_color='#efefef',\n",
    "        )\n",
    "    \n",
    "\n",
    "    p.add_tools(hover)\n",
    "    p.toolbar_location = None\n",
    "\n",
    "    i = p.image(image=[initial_bitmap],\n",
    "                x=-0.5, y=-0.5, dw=0xF+1, dh=0xF+1, \n",
    "                palette=\"Spectral11\",\n",
    "               )\n",
    "    i.data_source.data['address'] = [address_bitmap]\n",
    "    show(p, notebook_handle=True)\n",
    "    \n",
    "    \n",
    "    def plt_memory(bitmap):\n",
    "        \"\"\"Refresh the bokeh plot with new bitmap\"\"\"\n",
    "        i.data_source.data['image'] = [bitmap]\n",
    "        push_notebook()\n",
    "        \n",
    "    cpu.dma.connect_dma_handler(plt_memory)"
   ]
  },
  {
   "cell_type": "code",
   "execution_count": null,
   "metadata": {},
   "outputs": [],
   "source": [
    "cpu = Computer()"
   ]
  },
  {
   "cell_type": "code",
   "execution_count": null,
   "metadata": {},
   "outputs": [],
   "source": [
    "countup = \"\"\"\n",
    "    LDA #$99\n",
    "    ADD #$0E\n",
    "    DMA\n",
    "    STA  $4A\n",
    "    JMP  $02\n",
    "    \"\"\"\n",
    "\n",
    "countup_bytes = assemble(countup)"
   ]
  },
  {
   "cell_type": "code",
   "execution_count": null,
   "metadata": {},
   "outputs": [],
   "source": [
    "moveacross = \"\"\"\n",
    "    LDA #$10\n",
    "    loop:\n",
    "    ADD #$03\n",
    "    DMA\n",
    "    STA  colorbuffer\n",
    "    STA (colorbuffer)\n",
    "    JMP  loop\n",
    "    colorbuffer:\n",
    "    \"\"\"\n",
    "moveacross_bytes = assemble(moveacross)"
   ]
  },
  {
   "cell_type": "code",
   "execution_count": null,
   "metadata": {
    "scrolled": false
   },
   "outputs": [],
   "source": [
    "cpu.reset()\n",
    "cpu.switches.load_program(countup_bytes)\n",
    "setup_bokeh_gui(cpu)\n",
    "\n",
    "for i in range(400):\n",
    "    time.sleep(.01)\n",
    "    if i % 50 == 0:\n",
    "        print(i)\n",
    "    cpu.step(instructionwise=True, debug=False)"
   ]
  },
  {
   "cell_type": "code",
   "execution_count": null,
   "metadata": {
    "scrolled": false
   },
   "outputs": [],
   "source": [
    "cpu = Computer()\n",
    "cpu.reset()\n",
    "cpu.switches.load_program(moveacross_bytes)\n",
    "setup_bokeh_gui(cpu)\n",
    "\n",
    "for i in range(400):\n",
    "    #time.sleep(.01)\n",
    "    cpu.step(instructionwise=True, debug=False)"
   ]
  },
  {
   "cell_type": "markdown",
   "metadata": {},
   "source": [
    "# Write your own program"
   ]
  },
  {
   "cell_type": "code",
   "execution_count": null,
   "metadata": {
    "scrolled": false
   },
   "outputs": [],
   "source": [
    "program = \"\"\"\n",
    "    LDA #locationbuffer\n",
    "    ADD #$01\n",
    "    STA locationbuffer\n",
    "    ;BAI\n",
    "    STA colorbuffer\n",
    "loop:\n",
    "    DMA\n",
    "    LDA  colorbuffer\n",
    "    ADD #$01\n",
    "    STA  colorbuffer\n",
    "    \n",
    "    LDA locationbuffer\n",
    "    ADD #$02\n",
    "    STA locationbuffer\n",
    "    \n",
    "    LDA colorbuffer\n",
    "    STA (locationbuffer)\n",
    "    JMP  loop\n",
    "colorbuffer:\n",
    "    BYTE #33 44 55 66\n",
    "locationbuffer:\n",
    "    NOP\n",
    "\"\"\"\n",
    "\n",
    "program_bytes = assemble(program)\n",
    "\n",
    "cpu = Computer()\n",
    "cpu.reset()\n",
    "cpu.switches.load_program(program_bytes)\n",
    "setup_bokeh_gui(cpu)\n",
    "\n",
    "for i in range(999):\n",
    "    time.sleep(.003)\n",
    "    cpu.step(instructionwise=True, debug=False)"
   ]
  },
  {
   "cell_type": "code",
   "execution_count": null,
   "metadata": {},
   "outputs": [],
   "source": [
    "import IPython\n",
    "ipython = IPython.get_ipython()\n",
    "\n",
    "def setup_ipywidget_input_reg(cpu):\n",
    "    slider = widgets.IntSlider(value=0x90, min=0x00, max=0xFF, step=1)\n",
    "    display(slider)\n",
    "    def update_input_reg():\n",
    "        ipython.kernel.do_one_iteration()\n",
    "        return slider.value\n",
    "    cpu.reg_c.input_function = update_input_reg"
   ]
  },
  {
   "cell_type": "code",
   "execution_count": null,
   "metadata": {
    "scrolled": false
   },
   "outputs": [],
   "source": [
    "program = \"\"\"\n",
    "    ;Start the drawing after the last buffer\n",
    "start:\n",
    "    LDA #locationbuffer\n",
    "    ADD #$01\n",
    "    STA locationbuffer\n",
    "loop:\n",
    "    BAI\n",
    "    STA (locationbuffer)\n",
    "\n",
    "    \n",
    "    DMA\n",
    "    \n",
    "    LDA locationbuffer\n",
    "    ADD #$01\n",
    "    STA locationbuffer\n",
    "    \n",
    "    BNZ  loop\n",
    "    JMP  start\n",
    "colorbuffer:\n",
    "    BYTE #33 44 55 66\n",
    "locationbuffer:\n",
    "    NOP\n",
    "\"\"\"\n",
    "\n",
    "program_bytes = assemble(program)\n",
    "\n",
    "cpu = Computer()\n",
    "cpu.reset()\n",
    "cpu.switches.load_program(program_bytes)\n",
    "setup_bokeh_gui(cpu)\n",
    "setup_ipywidget_input_reg(cpu)\n",
    "\n",
    "for i in range(9819):\n",
    "    time.sleep(.005)\n",
    "    cpu.step(instructionwise=True, debug=False)"
   ]
  },
  {
   "cell_type": "code",
   "execution_count": null,
   "metadata": {},
   "outputs": [],
   "source": []
  },
  {
   "cell_type": "code",
   "execution_count": null,
   "metadata": {},
   "outputs": [],
   "source": []
  },
  {
   "cell_type": "code",
   "execution_count": null,
   "metadata": {},
   "outputs": [],
   "source": []
  }
 ],
 "metadata": {
  "kernelspec": {
   "display_name": "Python 3",
   "language": "python",
   "name": "python3"
  },
  "language_info": {
   "codemirror_mode": {
    "name": "ipython",
    "version": 3
   },
   "file_extension": ".py",
   "mimetype": "text/x-python",
   "name": "python",
   "nbconvert_exporter": "python",
   "pygments_lexer": "ipython3",
   "version": "3.7.3"
  }
 },
 "nbformat": 4,
 "nbformat_minor": 2
}
